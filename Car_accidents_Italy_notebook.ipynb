{
 "cells": [
  {
   "cell_type": "markdown",
   "metadata": {},
   "source": [
    "# Car Accidents Italy\n",
    "\n",
    "Notebook for data analysis for car accidents in Italy."
   ]
  },
  {
   "cell_type": "code",
   "execution_count": 1,
   "metadata": {},
   "outputs": [],
   "source": [
    "dati_general_retrospective <- read.csv(\"dataset/2018_tav4_01.csv\", header=T, sep=';', skip = 7)"
   ]
  },
  {
   "cell_type": "code",
   "execution_count": 2,
   "metadata": {},
   "outputs": [
    {
     "data": {
      "text/html": [
       "<table>\n",
       "<thead><tr><th scope=col>X</th><th scope=col>Incidenti</th><th scope=col>Morti</th><th scope=col>Feriti</th><th scope=col>Incidenti.1</th><th scope=col>Morti.1</th><th scope=col>Feriti.1</th></tr></thead>\n",
       "<tbody>\n",
       "\t<tr><td>1986  </td><td>155427</td><td>7076  </td><td>213159</td><td>6330  </td><td>7076  </td><td>5355  </td></tr>\n",
       "\t<tr><td>1987  </td><td>158208</td><td>6784  </td><td>217511</td><td>6065  </td><td>6784  </td><td>5059  </td></tr>\n",
       "\t<tr><td>1988  </td><td>166033</td><td>6939  </td><td>228186</td><td>6273  </td><td>6939  </td><td>5289  </td></tr>\n",
       "\t<tr><td>1989  </td><td>160828</td><td>6410  </td><td>216329</td><td>5766  </td><td>6410  </td><td>4669  </td></tr>\n",
       "\t<tr><td>1990  </td><td>161782</td><td>6621  </td><td>221024</td><td>5880  </td><td>6621  </td><td>4866  </td></tr>\n",
       "\t<tr><td>1991  </td><td>170702</td><td>7498  </td><td>240688</td><td>6633  </td><td>7498  </td><td>5944  </td></tr>\n",
       "\t<tr><td>1992  </td><td>170814</td><td>7434  </td><td>241094</td><td>6578  </td><td>7434  </td><td>5771  </td></tr>\n",
       "\t<tr><td>1993  </td><td>153393</td><td>6645  </td><td>216100</td><td>5893  </td><td>6645  </td><td>5171  </td></tr>\n",
       "\t<tr><td>1994  </td><td>170679</td><td>6578  </td><td>239184</td><td>5924  </td><td>6578  </td><td>4857  </td></tr>\n",
       "\t<tr><td>1995  </td><td>182761</td><td>6512  </td><td>259571</td><td>5819  </td><td>6512  </td><td>5200  </td></tr>\n",
       "\t<tr><td>1996  </td><td>190068</td><td>6193  </td><td>272115</td><td>5590  </td><td>6193  </td><td>4879  </td></tr>\n",
       "\t<tr><td>1997  </td><td>190031</td><td>6226  </td><td>270962</td><td>5605  </td><td>6226  </td><td>4837  </td></tr>\n",
       "\t<tr><td>1998  </td><td>204615</td><td>6342  </td><td>293842</td><td>5788  </td><td>6342  </td><td>5283  </td></tr>\n",
       "\t<tr><td>1999  </td><td>225646</td><td>6688  </td><td>322999</td><td>6022  </td><td>6688  </td><td>5241  </td></tr>\n",
       "\t<tr><td>2000  </td><td>256546</td><td>7061  </td><td>360013</td><td>6435  </td><td>7061  </td><td>5342  </td></tr>\n",
       "\t<tr><td>2001  </td><td>263100</td><td>7096  </td><td>373286</td><td>6455  </td><td>7096  </td><td>5449  </td></tr>\n",
       "\t<tr><td>2002  </td><td>265402</td><td>6980  </td><td>378492</td><td>6332  </td><td>6980  </td><td>5255  </td></tr>\n",
       "\t<tr><td>2003  </td><td>252271</td><td>6563  </td><td>356475</td><td>5929  </td><td>6563  </td><td>5129  </td></tr>\n",
       "\t<tr><td>2004  </td><td>243490</td><td>6122  </td><td>343179</td><td>5548  </td><td>6122  </td><td>4710  </td></tr>\n",
       "\t<tr><td>2005  </td><td>240011</td><td>5818  </td><td>334858</td><td>5271  </td><td>5818  </td><td>4096  </td></tr>\n",
       "\t<tr><td>2006  </td><td>238124</td><td>5669  </td><td>332955</td><td>5178  </td><td>5669  </td><td>4189  </td></tr>\n",
       "\t<tr><td>2007  </td><td>230871</td><td>5131  </td><td>325850</td><td>4718  </td><td>5131  </td><td>3741  </td></tr>\n",
       "\t<tr><td>2008  </td><td>218963</td><td>4725  </td><td>310745</td><td>4358  </td><td>4725  </td><td>3373  </td></tr>\n",
       "\t<tr><td>2009  </td><td>215405</td><td>4237  </td><td>307258</td><td>3973  </td><td>4237  </td><td>3032  </td></tr>\n",
       "\t<tr><td>2010  </td><td>212997</td><td>4114  </td><td>304720</td><td>3871  </td><td>4114  </td><td>2975  </td></tr>\n",
       "\t<tr><td>2011  </td><td>205638</td><td>3860  </td><td>292019</td><td>3616  </td><td>3860  </td><td>2609  </td></tr>\n",
       "\t<tr><td>2012  </td><td>188228</td><td>3753  </td><td>266864</td><td>3515  </td><td>3753  </td><td>2672  </td></tr>\n",
       "\t<tr><td>2013  </td><td>181660</td><td>3401  </td><td>258093</td><td>3161  </td><td>3401  </td><td>2274  </td></tr>\n",
       "\t<tr><td>2014  </td><td>177031</td><td>3381  </td><td>251147</td><td>3175  </td><td>3381  </td><td>2355  </td></tr>\n",
       "\t<tr><td>2015  </td><td>174539</td><td>3428  </td><td>246920</td><td>3236  </td><td>3428  </td><td>2273  </td></tr>\n",
       "\t<tr><td>2016  </td><td>175791</td><td>3283  </td><td>249175</td><td>3105  </td><td>3283  </td><td>2242  </td></tr>\n",
       "\t<tr><td>2017  </td><td>174933</td><td>3378  </td><td>246750</td><td>3178  </td><td>3378  </td><td>2281  </td></tr>\n",
       "\t<tr><td>2018  </td><td>172553</td><td>3334  </td><td>242919</td><td>3086  </td><td>3334  </td><td>2208  </td></tr>\n",
       "</tbody>\n",
       "</table>\n"
      ],
      "text/latex": [
       "\\begin{tabular}{r|lllllll}\n",
       " X & Incidenti & Morti & Feriti & Incidenti.1 & Morti.1 & Feriti.1\\\\\n",
       "\\hline\n",
       "\t 1986   & 155427 & 7076   & 213159 & 6330   & 7076   & 5355  \\\\\n",
       "\t 1987   & 158208 & 6784   & 217511 & 6065   & 6784   & 5059  \\\\\n",
       "\t 1988   & 166033 & 6939   & 228186 & 6273   & 6939   & 5289  \\\\\n",
       "\t 1989   & 160828 & 6410   & 216329 & 5766   & 6410   & 4669  \\\\\n",
       "\t 1990   & 161782 & 6621   & 221024 & 5880   & 6621   & 4866  \\\\\n",
       "\t 1991   & 170702 & 7498   & 240688 & 6633   & 7498   & 5944  \\\\\n",
       "\t 1992   & 170814 & 7434   & 241094 & 6578   & 7434   & 5771  \\\\\n",
       "\t 1993   & 153393 & 6645   & 216100 & 5893   & 6645   & 5171  \\\\\n",
       "\t 1994   & 170679 & 6578   & 239184 & 5924   & 6578   & 4857  \\\\\n",
       "\t 1995   & 182761 & 6512   & 259571 & 5819   & 6512   & 5200  \\\\\n",
       "\t 1996   & 190068 & 6193   & 272115 & 5590   & 6193   & 4879  \\\\\n",
       "\t 1997   & 190031 & 6226   & 270962 & 5605   & 6226   & 4837  \\\\\n",
       "\t 1998   & 204615 & 6342   & 293842 & 5788   & 6342   & 5283  \\\\\n",
       "\t 1999   & 225646 & 6688   & 322999 & 6022   & 6688   & 5241  \\\\\n",
       "\t 2000   & 256546 & 7061   & 360013 & 6435   & 7061   & 5342  \\\\\n",
       "\t 2001   & 263100 & 7096   & 373286 & 6455   & 7096   & 5449  \\\\\n",
       "\t 2002   & 265402 & 6980   & 378492 & 6332   & 6980   & 5255  \\\\\n",
       "\t 2003   & 252271 & 6563   & 356475 & 5929   & 6563   & 5129  \\\\\n",
       "\t 2004   & 243490 & 6122   & 343179 & 5548   & 6122   & 4710  \\\\\n",
       "\t 2005   & 240011 & 5818   & 334858 & 5271   & 5818   & 4096  \\\\\n",
       "\t 2006   & 238124 & 5669   & 332955 & 5178   & 5669   & 4189  \\\\\n",
       "\t 2007   & 230871 & 5131   & 325850 & 4718   & 5131   & 3741  \\\\\n",
       "\t 2008   & 218963 & 4725   & 310745 & 4358   & 4725   & 3373  \\\\\n",
       "\t 2009   & 215405 & 4237   & 307258 & 3973   & 4237   & 3032  \\\\\n",
       "\t 2010   & 212997 & 4114   & 304720 & 3871   & 4114   & 2975  \\\\\n",
       "\t 2011   & 205638 & 3860   & 292019 & 3616   & 3860   & 2609  \\\\\n",
       "\t 2012   & 188228 & 3753   & 266864 & 3515   & 3753   & 2672  \\\\\n",
       "\t 2013   & 181660 & 3401   & 258093 & 3161   & 3401   & 2274  \\\\\n",
       "\t 2014   & 177031 & 3381   & 251147 & 3175   & 3381   & 2355  \\\\\n",
       "\t 2015   & 174539 & 3428   & 246920 & 3236   & 3428   & 2273  \\\\\n",
       "\t 2016   & 175791 & 3283   & 249175 & 3105   & 3283   & 2242  \\\\\n",
       "\t 2017   & 174933 & 3378   & 246750 & 3178   & 3378   & 2281  \\\\\n",
       "\t 2018   & 172553 & 3334   & 242919 & 3086   & 3334   & 2208  \\\\\n",
       "\\end{tabular}\n"
      ],
      "text/markdown": [
       "\n",
       "| X | Incidenti | Morti | Feriti | Incidenti.1 | Morti.1 | Feriti.1 |\n",
       "|---|---|---|---|---|---|---|\n",
       "| 1986   | 155427 | 7076   | 213159 | 6330   | 7076   | 5355   |\n",
       "| 1987   | 158208 | 6784   | 217511 | 6065   | 6784   | 5059   |\n",
       "| 1988   | 166033 | 6939   | 228186 | 6273   | 6939   | 5289   |\n",
       "| 1989   | 160828 | 6410   | 216329 | 5766   | 6410   | 4669   |\n",
       "| 1990   | 161782 | 6621   | 221024 | 5880   | 6621   | 4866   |\n",
       "| 1991   | 170702 | 7498   | 240688 | 6633   | 7498   | 5944   |\n",
       "| 1992   | 170814 | 7434   | 241094 | 6578   | 7434   | 5771   |\n",
       "| 1993   | 153393 | 6645   | 216100 | 5893   | 6645   | 5171   |\n",
       "| 1994   | 170679 | 6578   | 239184 | 5924   | 6578   | 4857   |\n",
       "| 1995   | 182761 | 6512   | 259571 | 5819   | 6512   | 5200   |\n",
       "| 1996   | 190068 | 6193   | 272115 | 5590   | 6193   | 4879   |\n",
       "| 1997   | 190031 | 6226   | 270962 | 5605   | 6226   | 4837   |\n",
       "| 1998   | 204615 | 6342   | 293842 | 5788   | 6342   | 5283   |\n",
       "| 1999   | 225646 | 6688   | 322999 | 6022   | 6688   | 5241   |\n",
       "| 2000   | 256546 | 7061   | 360013 | 6435   | 7061   | 5342   |\n",
       "| 2001   | 263100 | 7096   | 373286 | 6455   | 7096   | 5449   |\n",
       "| 2002   | 265402 | 6980   | 378492 | 6332   | 6980   | 5255   |\n",
       "| 2003   | 252271 | 6563   | 356475 | 5929   | 6563   | 5129   |\n",
       "| 2004   | 243490 | 6122   | 343179 | 5548   | 6122   | 4710   |\n",
       "| 2005   | 240011 | 5818   | 334858 | 5271   | 5818   | 4096   |\n",
       "| 2006   | 238124 | 5669   | 332955 | 5178   | 5669   | 4189   |\n",
       "| 2007   | 230871 | 5131   | 325850 | 4718   | 5131   | 3741   |\n",
       "| 2008   | 218963 | 4725   | 310745 | 4358   | 4725   | 3373   |\n",
       "| 2009   | 215405 | 4237   | 307258 | 3973   | 4237   | 3032   |\n",
       "| 2010   | 212997 | 4114   | 304720 | 3871   | 4114   | 2975   |\n",
       "| 2011   | 205638 | 3860   | 292019 | 3616   | 3860   | 2609   |\n",
       "| 2012   | 188228 | 3753   | 266864 | 3515   | 3753   | 2672   |\n",
       "| 2013   | 181660 | 3401   | 258093 | 3161   | 3401   | 2274   |\n",
       "| 2014   | 177031 | 3381   | 251147 | 3175   | 3381   | 2355   |\n",
       "| 2015   | 174539 | 3428   | 246920 | 3236   | 3428   | 2273   |\n",
       "| 2016   | 175791 | 3283   | 249175 | 3105   | 3283   | 2242   |\n",
       "| 2017   | 174933 | 3378   | 246750 | 3178   | 3378   | 2281   |\n",
       "| 2018   | 172553 | 3334   | 242919 | 3086   | 3334   | 2208   |\n",
       "\n"
      ],
      "text/plain": [
       "   X    Incidenti Morti Feriti Incidenti.1 Morti.1 Feriti.1\n",
       "1  1986 155427    7076  213159 6330        7076    5355    \n",
       "2  1987 158208    6784  217511 6065        6784    5059    \n",
       "3  1988 166033    6939  228186 6273        6939    5289    \n",
       "4  1989 160828    6410  216329 5766        6410    4669    \n",
       "5  1990 161782    6621  221024 5880        6621    4866    \n",
       "6  1991 170702    7498  240688 6633        7498    5944    \n",
       "7  1992 170814    7434  241094 6578        7434    5771    \n",
       "8  1993 153393    6645  216100 5893        6645    5171    \n",
       "9  1994 170679    6578  239184 5924        6578    4857    \n",
       "10 1995 182761    6512  259571 5819        6512    5200    \n",
       "11 1996 190068    6193  272115 5590        6193    4879    \n",
       "12 1997 190031    6226  270962 5605        6226    4837    \n",
       "13 1998 204615    6342  293842 5788        6342    5283    \n",
       "14 1999 225646    6688  322999 6022        6688    5241    \n",
       "15 2000 256546    7061  360013 6435        7061    5342    \n",
       "16 2001 263100    7096  373286 6455        7096    5449    \n",
       "17 2002 265402    6980  378492 6332        6980    5255    \n",
       "18 2003 252271    6563  356475 5929        6563    5129    \n",
       "19 2004 243490    6122  343179 5548        6122    4710    \n",
       "20 2005 240011    5818  334858 5271        5818    4096    \n",
       "21 2006 238124    5669  332955 5178        5669    4189    \n",
       "22 2007 230871    5131  325850 4718        5131    3741    \n",
       "23 2008 218963    4725  310745 4358        4725    3373    \n",
       "24 2009 215405    4237  307258 3973        4237    3032    \n",
       "25 2010 212997    4114  304720 3871        4114    2975    \n",
       "26 2011 205638    3860  292019 3616        3860    2609    \n",
       "27 2012 188228    3753  266864 3515        3753    2672    \n",
       "28 2013 181660    3401  258093 3161        3401    2274    \n",
       "29 2014 177031    3381  251147 3175        3381    2355    \n",
       "30 2015 174539    3428  246920 3236        3428    2273    \n",
       "31 2016 175791    3283  249175 3105        3283    2242    \n",
       "32 2017 174933    3378  246750 3178        3378    2281    \n",
       "33 2018 172553    3334  242919 3086        3334    2208    "
      ]
     },
     "metadata": {},
     "output_type": "display_data"
    }
   ],
   "source": [
    "dati_general_retrospective  <-  dati_general_retrospective[c(1,2,3,4,6,7,8)]\n",
    "dati_general_retrospective"
   ]
  },
  {
   "cell_type": "code",
   "execution_count": 3,
   "metadata": {},
   "outputs": [],
   "source": [
    "attach(dati_general_retrospective)"
   ]
  },
  {
   "cell_type": "code",
   "execution_count": 4,
   "metadata": {},
   "outputs": [],
   "source": [
    "names(dati_general_retrospective)[names(dati_general_retrospective)==\"X\"]  <- \"Anni\" "
   ]
  },
  {
   "cell_type": "code",
   "execution_count": 27,
   "metadata": {
    "scrolled": false
   },
   "outputs": [
    {
     "data": {
      "text/html": [
       "<strong>pdf:</strong> 2"
      ],
      "text/latex": [
       "\\textbf{pdf:} 2"
      ],
      "text/markdown": [
       "**pdf:** 2"
      ],
      "text/plain": [
       "pdf \n",
       "  2 "
      ]
     },
     "metadata": {},
     "output_type": "display_data"
    }
   ],
   "source": [
    "pdf(\"Accidents.pdf\")\n",
    "plot(X,Incidenti, type='l', main=\"Total Accidents per year in Italy\", xlab = \"Years\", ylab=\"\")\n",
    "par(new=TRUE)\n",
    "plot(X,Morti, col=\"red\", type='l',xlab=\"\", ylab='',axes=F, lty=2)\n",
    "axis(4,col=2,col.axis=2, labels=T)\n",
    "legend(\"topright\",legend=c(\"Incidents\", \"Deaths\"),\n",
    "       col=c(\"black\", \"red\"), lty=1:2, cex=0.8)\n",
    "dev.off()"
   ]
  },
  {
   "cell_type": "code",
   "execution_count": 6,
   "metadata": {},
   "outputs": [
    {
     "data": {
      "image/png": "[encoded data removed]",
      "text/plain": [
       "Plot with title “Boxplot for Incidents from 1985 to 2018”"
      ]
     },
     "metadata": {},
     "output_type": "display_data"
    }
   ],
   "source": [
    "boxplot(Incidenti, main=\"Boxplot for Incidents from 1985 to 2018\")"
   ]
  },
  {
   "cell_type": "code",
   "execution_count": 7,
   "metadata": {},
   "outputs": [
    {
     "data": {
      "text/html": [
       "<dl class=dl-horizontal>\n",
       "\t<dt>0%</dt>\n",
       "\t\t<dd>153393</dd>\n",
       "\t<dt>25%</dt>\n",
       "\t\t<dd>170814</dd>\n",
       "\t<dt>50%</dt>\n",
       "\t\t<dd>188228</dd>\n",
       "\t<dt>75%</dt>\n",
       "\t\t<dd>225646</dd>\n",
       "\t<dt>100%</dt>\n",
       "\t\t<dd>265402</dd>\n",
       "</dl>\n"
      ],
      "text/latex": [
       "\\begin{description*}\n",
       "\\item[0\\textbackslash{}\\%] 153393\n",
       "\\item[25\\textbackslash{}\\%] 170814\n",
       "\\item[50\\textbackslash{}\\%] 188228\n",
       "\\item[75\\textbackslash{}\\%] 225646\n",
       "\\item[100\\textbackslash{}\\%] 265402\n",
       "\\end{description*}\n"
      ],
      "text/markdown": [
       "0%\n",
       ":   15339325%\n",
       ":   17081450%\n",
       ":   18822875%\n",
       ":   225646100%\n",
       ":   265402\n",
       "\n"
      ],
      "text/plain": [
       "    0%    25%    50%    75%   100% \n",
       "153393 170814 188228 225646 265402 "
      ]
     },
     "metadata": {},
     "output_type": "display_data"
    }
   ],
   "source": [
    "quantile(Incidenti)"
   ]
  },
  {
   "cell_type": "code",
   "execution_count": 8,
   "metadata": {},
   "outputs": [],
   "source": [
    "max_incidenti= max(Incidenti)"
   ]
  },
  {
   "cell_type": "code",
   "execution_count": 9,
   "metadata": {},
   "outputs": [],
   "source": [
    "anno_max = dati_general_retrospective[which(Incidenti==max_incidenti),1]"
   ]
  },
  {
   "cell_type": "code",
   "execution_count": 10,
   "metadata": {},
   "outputs": [
    {
     "name": "stdout",
     "output_type": "stream",
     "text": [
      "L'anno con il maggior numero di incidenti è stato il 2002"
     ]
    }
   ],
   "source": [
    "cat(\"L'anno con il maggior numero di incidenti è stato il\",anno_max)"
   ]
  },
  {
   "cell_type": "code",
   "execution_count": 11,
   "metadata": {},
   "outputs": [
    {
     "name": "stdout",
     "output_type": "stream",
     "text": [
      "L'anno con il minor numero di incidenti è stato il 1993"
     ]
    }
   ],
   "source": [
    "cat(\"L'anno con il minor numero di incidenti è stato il\", \n",
    "    dati_general_retrospective[which(Incidenti==min(Incidenti)),1])"
   ]
  }
 ],
 "metadata": {
  "kernelspec": {
   "display_name": "R",
   "language": "R",
   "name": "ir"
  },
  "language_info": {
   "codemirror_mode": "r",
   "file_extension": ".r",
   "mimetype": "text/x-r-source",
   "name": "R",
   "pygments_lexer": "r",
   "version": "3.6.1"
  }
 },
 "nbformat": 4,
 "nbformat_minor": 2
}
