{
 "cells": [
  {
   "cell_type": "markdown",
   "metadata": {},
   "source": [
    "# Car Accidents Italy\n",
    "\n",
    "Notebook for data analysis for car accidents in Italy.\n",
    "\n",
    "**note** \n",
    "- Il dataset che avevamo trovato era delle _tabelle_, ovvero dei dati già analizzati. Si mostra quindi con dei metadati.\n",
    "- Il dataset è troppo pesante per GitHub. È stato quindi messo in `.gitignore`.\n",
    "\n",
    "**cose da fare**\n",
    "- Calcolare indici di eterogeneità di Gini\n",
    "- Controllare se sotto Natale ci sono più incidenti\n",
    "- Dimostrare che le donne **non** sono più pericolose al volante degli uomini\n",
    "- Morti su tipo di incidente, anche per età. \n",
    "- Stabilire il sesso con più morti.\n",
    "- Maschi, femmine che si schiantano da soli.\n"
   ]
  },
  {
   "cell_type": "code",
   "execution_count": 1,
   "metadata": {},
   "outputs": [],
   "source": [
    "dataset_proj <- read.csv(\"dataset/dataset progetto.csv\", sep=';')"
   ]
  },
  {
   "cell_type": "code",
   "execution_count": 2,
   "metadata": {
    "scrolled": true
   },
   "outputs": [
    {
     "data": {
      "text/html": [
       "<table>\n",
       "<caption>A data.frame: 174933 × 117</caption>\n",
       "<thead>\n",
       "\t<tr><th scope=col>anno</th><th scope=col>provincia</th><th scope=col>comune</th><th scope=col>giorno</th><th scope=col>organo_di_rilevazione</th><th scope=col>localizzazione_incidente</th><th scope=col>denominazione_della_strada</th><th scope=col>tronco_di_strada_o_autostrada</th><th scope=col>tipo_di_strada</th><th scope=col>pavimentazione</th><th scope=col>⋯</th><th scope=col>feriti_maschi_coinvolti_su97</th><th scope=col>feriti_femmine_coinvolti_s98</th><th scope=col>morti_entro_24_ore</th><th scope=col>morti_entro_30_giorni</th><th scope=col>feriti</th><th scope=col>descrizione_strada</th><th scope=col>Ora</th><th scope=col>chilometri</th><th scope=col>ettometrica</th><th scope=col>trimestre</th></tr>\n",
       "\t<tr><th scope=col>&lt;int&gt;</th><th scope=col>&lt;int&gt;</th><th scope=col>&lt;int&gt;</th><th scope=col>&lt;int&gt;</th><th scope=col>&lt;int&gt;</th><th scope=col>&lt;int&gt;</th><th scope=col>&lt;fct&gt;</th><th scope=col>&lt;int&gt;</th><th scope=col>&lt;int&gt;</th><th scope=col>&lt;int&gt;</th><th scope=col>⋯</th><th scope=col>&lt;int&gt;</th><th scope=col>&lt;int&gt;</th><th scope=col>&lt;int&gt;</th><th scope=col>&lt;int&gt;</th><th scope=col>&lt;int&gt;</th><th scope=col>&lt;lgl&gt;</th><th scope=col>&lt;int&gt;</th><th scope=col>&lt;fct&gt;</th><th scope=col>&lt;fct&gt;</th><th scope=col>&lt;int&gt;</th></tr>\n",
       "</thead>\n",
       "<tbody>\n",
       "\t<tr><td>17</td><td>7</td><td>30</td><td>6</td><td>2</td><td>6</td><td>27 </td><td>12</td><td>2</td><td>1</td><td>⋯</td><td>0</td><td>0</td><td>0</td><td>0</td><td>6</td><td>NA</td><td> 6</td><td>12 </td><td>900</td><td>2</td></tr>\n",
       "\t<tr><td>17</td><td>7</td><td>66</td><td>1</td><td>2</td><td>3</td><td>26 </td><td>12</td><td>2</td><td>1</td><td>⋯</td><td>0</td><td>0</td><td>0</td><td>0</td><td>1</td><td>NA</td><td>13</td><td>0  </td><td>0  </td><td>3</td></tr>\n",
       "\t<tr><td>17</td><td>7</td><td>43</td><td>3</td><td>2</td><td>6</td><td>26 </td><td>12</td><td>2</td><td>1</td><td>⋯</td><td>0</td><td>0</td><td>0</td><td>0</td><td>1</td><td>NA</td><td>15</td><td>69 </td><td>100</td><td>4</td></tr>\n",
       "\t<tr><td>17</td><td>7</td><td>24</td><td>1</td><td>2</td><td>8</td><td>0  </td><td>12</td><td>2</td><td>1</td><td>⋯</td><td>0</td><td>0</td><td>0</td><td>0</td><td>1</td><td>NA</td><td>17</td><td>0  </td><td>0  </td><td>4</td></tr>\n",
       "\t<tr><td>17</td><td>7</td><td>65</td><td>1</td><td>2</td><td>1</td><td>0  </td><td>12</td><td>2</td><td>1</td><td>⋯</td><td>0</td><td>0</td><td>0</td><td>0</td><td>1</td><td>NA</td><td>10</td><td>0  </td><td>0  </td><td>4</td></tr>\n",
       "\t<tr><td>17</td><td>7</td><td>73</td><td>7</td><td>2</td><td>6</td><td>26 </td><td>12</td><td>2</td><td>1</td><td>⋯</td><td>0</td><td>0</td><td>0</td><td>0</td><td>2</td><td>NA</td><td>19</td><td>0  </td><td>0  </td><td>3</td></tr>\n",
       "\t<tr><td>17</td><td>7</td><td> 3</td><td>5</td><td>2</td><td>1</td><td>0  </td><td>12</td><td>2</td><td>1</td><td>⋯</td><td>0</td><td>0</td><td>0</td><td>0</td><td>1</td><td>NA</td><td>15</td><td>0  </td><td>0  </td><td>1</td></tr>\n",
       "\t<tr><td>17</td><td>7</td><td>65</td><td>4</td><td>2</td><td>1</td><td>0  </td><td>12</td><td>2</td><td>1</td><td>⋯</td><td>0</td><td>0</td><td>0</td><td>0</td><td>1</td><td>NA</td><td>20</td><td>0  </td><td>0  </td><td>2</td></tr>\n",
       "\t<tr><td>17</td><td>7</td><td> 3</td><td>5</td><td>2</td><td>1</td><td>0  </td><td>12</td><td>1</td><td>1</td><td>⋯</td><td>0</td><td>0</td><td>0</td><td>0</td><td>1</td><td>NA</td><td>16</td><td>0  </td><td>0  </td><td>2</td></tr>\n",
       "\t<tr><td>17</td><td>7</td><td>58</td><td>1</td><td>2</td><td>6</td><td>26 </td><td>12</td><td>2</td><td>1</td><td>⋯</td><td>0</td><td>0</td><td>0</td><td>0</td><td>1</td><td>NA</td><td>10</td><td>98 </td><td>400</td><td>2</td></tr>\n",
       "\t<tr><td>17</td><td>7</td><td>72</td><td>4</td><td>2</td><td>4</td><td>0  </td><td>12</td><td>2</td><td>1</td><td>⋯</td><td>0</td><td>0</td><td>0</td><td>0</td><td>1</td><td>NA</td><td>21</td><td>0  </td><td>0  </td><td>3</td></tr>\n",
       "\t<tr><td>17</td><td>7</td><td>65</td><td>7</td><td>2</td><td>6</td><td>26 </td><td>12</td><td>2</td><td>1</td><td>⋯</td><td>0</td><td>0</td><td>0</td><td>0</td><td>1</td><td>NA</td><td>19</td><td>72 </td><td>700</td><td>2</td></tr>\n",
       "\t<tr><td>17</td><td>7</td><td>57</td><td>2</td><td>2</td><td>0</td><td>17 </td><td>12</td><td>2</td><td>1</td><td>⋯</td><td>0</td><td>0</td><td>0</td><td>0</td><td>2</td><td>NA</td><td> 7</td><td>0  </td><td>0  </td><td>3</td></tr>\n",
       "\t<tr><td>17</td><td>7</td><td>59</td><td>4</td><td>2</td><td>9</td><td>12 </td><td>12</td><td>2</td><td>1</td><td>⋯</td><td>0</td><td>0</td><td>0</td><td>0</td><td>4</td><td>NA</td><td>24</td><td>2  </td><td>540</td><td>2</td></tr>\n",
       "\t<tr><td>17</td><td>7</td><td>63</td><td>4</td><td>2</td><td>1</td><td>0  </td><td>12</td><td>2</td><td>1</td><td>⋯</td><td>0</td><td>0</td><td>0</td><td>0</td><td>1</td><td>NA</td><td> 9</td><td>0  </td><td>0  </td><td>1</td></tr>\n",
       "\t<tr><td>17</td><td>7</td><td> 9</td><td>1</td><td>2</td><td>6</td><td>26 </td><td>12</td><td>2</td><td>1</td><td>⋯</td><td>0</td><td>0</td><td>0</td><td>0</td><td>2</td><td>NA</td><td>16</td><td>55 </td><td>850</td><td>4</td></tr>\n",
       "\t<tr><td>17</td><td>7</td><td> 3</td><td>6</td><td>2</td><td>1</td><td>0  </td><td>12</td><td>2</td><td>1</td><td>⋯</td><td>0</td><td>0</td><td>0</td><td>0</td><td>1</td><td>NA</td><td>20</td><td>0  </td><td>0  </td><td>4</td></tr>\n",
       "\t<tr><td>17</td><td>7</td><td>73</td><td>3</td><td>2</td><td>6</td><td>26 </td><td>12</td><td>2</td><td>1</td><td>⋯</td><td>0</td><td>0</td><td>0</td><td>0</td><td>3</td><td>NA</td><td>22</td><td>62 </td><td>200</td><td>3</td></tr>\n",
       "\t<tr><td>17</td><td>7</td><td>73</td><td>1</td><td>2</td><td>3</td><td>26 </td><td>12</td><td>2</td><td>1</td><td>⋯</td><td>0</td><td>0</td><td>0</td><td>0</td><td>1</td><td>NA</td><td> 7</td><td>0  </td><td>0  </td><td>2</td></tr>\n",
       "\t<tr><td>17</td><td>7</td><td> 3</td><td>6</td><td>2</td><td>1</td><td>26 </td><td>12</td><td>2</td><td>1</td><td>⋯</td><td>0</td><td>0</td><td>0</td><td>0</td><td>1</td><td>NA</td><td>11</td><td>102</td><td>100</td><td>2</td></tr>\n",
       "\t<tr><td>17</td><td>7</td><td>44</td><td>5</td><td>2</td><td>3</td><td>26 </td><td>12</td><td>2</td><td>1</td><td>⋯</td><td>0</td><td>0</td><td>0</td><td>0</td><td>1</td><td>NA</td><td>19</td><td>128</td><td>750</td><td>1</td></tr>\n",
       "\t<tr><td>17</td><td>7</td><td>43</td><td>7</td><td>2</td><td>3</td><td>26 </td><td>12</td><td>2</td><td>1</td><td>⋯</td><td>0</td><td>0</td><td>0</td><td>0</td><td>1</td><td>NA</td><td>16</td><td>67 </td><td>800</td><td>1</td></tr>\n",
       "\t<tr><td>17</td><td>7</td><td>48</td><td>7</td><td>2</td><td>9</td><td>505</td><td>12</td><td>2</td><td>1</td><td>⋯</td><td>0</td><td>0</td><td>0</td><td>0</td><td>3</td><td>NA</td><td>11</td><td>4  </td><td>700</td><td>3</td></tr>\n",
       "\t<tr><td>17</td><td>7</td><td> 2</td><td>4</td><td>2</td><td>9</td><td>406</td><td>12</td><td>2</td><td>1</td><td>⋯</td><td>0</td><td>0</td><td>2</td><td>0</td><td>3</td><td>NA</td><td> 8</td><td>3  </td><td>100</td><td>1</td></tr>\n",
       "\t<tr><td>17</td><td>7</td><td>22</td><td>7</td><td>2</td><td>1</td><td>0  </td><td>12</td><td>2</td><td>1</td><td>⋯</td><td>0</td><td>0</td><td>0</td><td>0</td><td>1</td><td>NA</td><td>13</td><td>0  </td><td>0  </td><td>1</td></tr>\n",
       "\t<tr><td>17</td><td>7</td><td>13</td><td>7</td><td>2</td><td>9</td><td>506</td><td>12</td><td>2</td><td>1</td><td>⋯</td><td>0</td><td>0</td><td>0</td><td>0</td><td>2</td><td>NA</td><td>22</td><td>10 </td><td>0  </td><td>4</td></tr>\n",
       "\t<tr><td>17</td><td>7</td><td>44</td><td>6</td><td>2</td><td>3</td><td>26 </td><td>12</td><td>2</td><td>1</td><td>⋯</td><td>0</td><td>0</td><td>0</td><td>0</td><td>1</td><td>NA</td><td>14</td><td>0  </td><td>0  </td><td>4</td></tr>\n",
       "\t<tr><td>17</td><td>7</td><td>40</td><td>6</td><td>2</td><td>6</td><td>26 </td><td>12</td><td>2</td><td>1</td><td>⋯</td><td>0</td><td>0</td><td>0</td><td>0</td><td>1</td><td>NA</td><td>13</td><td>0  </td><td>0  </td><td>2</td></tr>\n",
       "\t<tr><td>17</td><td>7</td><td>40</td><td>6</td><td>2</td><td>6</td><td>26 </td><td>12</td><td>2</td><td>1</td><td>⋯</td><td>0</td><td>0</td><td>0</td><td>0</td><td>1</td><td>NA</td><td>17</td><td>123</td><td>300</td><td>3</td></tr>\n",
       "\t<tr><td>17</td><td>7</td><td>22</td><td>4</td><td>2</td><td>1</td><td>0  </td><td>12</td><td>2</td><td>1</td><td>⋯</td><td>0</td><td>0</td><td>0</td><td>0</td><td>1</td><td>NA</td><td>19</td><td>0  </td><td>0  </td><td>3</td></tr>\n",
       "\t<tr><td>⋮</td><td>⋮</td><td>⋮</td><td>⋮</td><td>⋮</td><td>⋮</td><td>⋮</td><td>⋮</td><td>⋮</td><td>⋮</td><td>⋱</td><td>⋮</td><td>⋮</td><td>⋮</td><td>⋮</td><td>⋮</td><td>⋮</td><td>⋮</td><td>⋮</td><td>⋮</td><td>⋮</td></tr>\n",
       "\t<tr><td>17</td><td> 95</td><td>38</td><td>7</td><td>4</td><td>1</td><td>0</td><td>12</td><td>2</td><td>1</td><td>⋯</td><td>0</td><td>0</td><td>0</td><td>0</td><td>1</td><td>NA</td><td> 8</td><td>    </td><td>   </td><td>3</td></tr>\n",
       "\t<tr><td>17</td><td> 95</td><td>38</td><td>2</td><td>4</td><td>1</td><td>0</td><td>12</td><td>2</td><td>1</td><td>⋯</td><td>0</td><td>0</td><td>0</td><td>0</td><td>2</td><td>NA</td><td>14</td><td>    </td><td>   </td><td>3</td></tr>\n",
       "\t<tr><td>17</td><td> 95</td><td>38</td><td>3</td><td>4</td><td>1</td><td>0</td><td>12</td><td>3</td><td>1</td><td>⋯</td><td>0</td><td>0</td><td>0</td><td>0</td><td>1</td><td>NA</td><td>20</td><td>    </td><td>   </td><td>3</td></tr>\n",
       "\t<tr><td>17</td><td>111</td><td>35</td><td>6</td><td>4</td><td>1</td><td>0</td><td>12</td><td>2</td><td>1</td><td>⋯</td><td>0</td><td>0</td><td>0</td><td>0</td><td>1</td><td>NA</td><td> 8</td><td>    </td><td>   </td><td>1</td></tr>\n",
       "\t<tr><td>17</td><td>111</td><td>35</td><td>3</td><td>4</td><td>1</td><td>0</td><td>12</td><td>2</td><td>1</td><td>⋯</td><td>0</td><td>0</td><td>0</td><td>0</td><td>1</td><td>NA</td><td>12</td><td>    </td><td>   </td><td>1</td></tr>\n",
       "\t<tr><td>17</td><td>111</td><td>35</td><td>6</td><td>4</td><td>1</td><td>0</td><td>12</td><td>2</td><td>1</td><td>⋯</td><td>0</td><td>0</td><td>0</td><td>0</td><td>1</td><td>NA</td><td>13</td><td>    </td><td>   </td><td>1</td></tr>\n",
       "\t<tr><td>17</td><td>111</td><td>35</td><td>5</td><td>4</td><td>1</td><td>0</td><td>12</td><td>2</td><td>1</td><td>⋯</td><td>0</td><td>0</td><td>0</td><td>0</td><td>2</td><td>NA</td><td>19</td><td>    </td><td>   </td><td>1</td></tr>\n",
       "\t<tr><td>17</td><td>111</td><td>35</td><td>5</td><td>4</td><td>1</td><td>0</td><td>12</td><td>2</td><td>1</td><td>⋯</td><td>0</td><td>0</td><td>0</td><td>0</td><td>1</td><td>NA</td><td>13</td><td>    </td><td>   </td><td>1</td></tr>\n",
       "\t<tr><td>17</td><td>111</td><td>35</td><td>1</td><td>4</td><td>1</td><td>0</td><td>12</td><td>2</td><td>1</td><td>⋯</td><td>0</td><td>0</td><td>0</td><td>0</td><td>2</td><td>NA</td><td>15</td><td>    </td><td>   </td><td>1</td></tr>\n",
       "\t<tr><td>17</td><td>111</td><td>35</td><td>4</td><td>4</td><td>1</td><td>0</td><td>12</td><td>2</td><td>1</td><td>⋯</td><td>0</td><td>0</td><td>0</td><td>0</td><td>1</td><td>NA</td><td> 9</td><td>    </td><td>   </td><td>1</td></tr>\n",
       "\t<tr><td>17</td><td>111</td><td>35</td><td>2</td><td>4</td><td>1</td><td>0</td><td>12</td><td>2</td><td>1</td><td>⋯</td><td>0</td><td>0</td><td>0</td><td>0</td><td>5</td><td>NA</td><td>11</td><td>    </td><td>   </td><td>1</td></tr>\n",
       "\t<tr><td>17</td><td>111</td><td>35</td><td>1</td><td>4</td><td>1</td><td>0</td><td>12</td><td>2</td><td>1</td><td>⋯</td><td>0</td><td>0</td><td>0</td><td>0</td><td>1</td><td>NA</td><td>14</td><td>    </td><td>   </td><td>2</td></tr>\n",
       "\t<tr><td>17</td><td>111</td><td>35</td><td>7</td><td>4</td><td>1</td><td>0</td><td>12</td><td>1</td><td>1</td><td>⋯</td><td>0</td><td>0</td><td>0</td><td>0</td><td>1</td><td>NA</td><td>10</td><td>    </td><td>   </td><td>2</td></tr>\n",
       "\t<tr><td>17</td><td>111</td><td>35</td><td>1</td><td>4</td><td>1</td><td>0</td><td>12</td><td>1</td><td>1</td><td>⋯</td><td>0</td><td>0</td><td>0</td><td>0</td><td>1</td><td>NA</td><td>13</td><td>    </td><td>   </td><td>2</td></tr>\n",
       "\t<tr><td>17</td><td>111</td><td>35</td><td>5</td><td>4</td><td>1</td><td>0</td><td>12</td><td>1</td><td>1</td><td>⋯</td><td>0</td><td>0</td><td>0</td><td>0</td><td>1</td><td>NA</td><td>16</td><td>    </td><td>   </td><td>2</td></tr>\n",
       "\t<tr><td>17</td><td>111</td><td>35</td><td>3</td><td>4</td><td>1</td><td>0</td><td>12</td><td>2</td><td>1</td><td>⋯</td><td>0</td><td>0</td><td>0</td><td>0</td><td>1</td><td>NA</td><td>11</td><td>    </td><td>   </td><td>2</td></tr>\n",
       "\t<tr><td>17</td><td>111</td><td>35</td><td>4</td><td>4</td><td>1</td><td>0</td><td>12</td><td>2</td><td>1</td><td>⋯</td><td>0</td><td>0</td><td>0</td><td>0</td><td>1</td><td>NA</td><td> 8</td><td>    </td><td>   </td><td>2</td></tr>\n",
       "\t<tr><td>17</td><td>111</td><td>35</td><td>3</td><td>4</td><td>1</td><td>0</td><td>12</td><td>2</td><td>1</td><td>⋯</td><td>0</td><td>0</td><td>0</td><td>0</td><td>1</td><td>NA</td><td>11</td><td>    </td><td>   </td><td>2</td></tr>\n",
       "\t<tr><td>17</td><td>111</td><td>35</td><td>4</td><td>4</td><td>1</td><td>0</td><td>12</td><td>2</td><td>1</td><td>⋯</td><td>0</td><td>0</td><td>0</td><td>0</td><td>2</td><td>NA</td><td> 9</td><td>    </td><td>   </td><td>2</td></tr>\n",
       "\t<tr><td>17</td><td>111</td><td>35</td><td>3</td><td>4</td><td>1</td><td>0</td><td>12</td><td>2</td><td>1</td><td>⋯</td><td>0</td><td>0</td><td>0</td><td>0</td><td>1</td><td>NA</td><td> 9</td><td>    </td><td>   </td><td>3</td></tr>\n",
       "\t<tr><td>17</td><td>111</td><td>35</td><td>1</td><td>4</td><td>1</td><td>0</td><td>12</td><td>2</td><td>1</td><td>⋯</td><td>0</td><td>0</td><td>0</td><td>0</td><td>1</td><td>NA</td><td>12</td><td>    </td><td>   </td><td>3</td></tr>\n",
       "\t<tr><td>17</td><td>111</td><td>35</td><td>6</td><td>4</td><td>1</td><td>0</td><td>12</td><td>2</td><td>1</td><td>⋯</td><td>0</td><td>0</td><td>0</td><td>0</td><td>1</td><td>NA</td><td>21</td><td>    </td><td>   </td><td>3</td></tr>\n",
       "\t<tr><td>17</td><td>111</td><td>35</td><td>6</td><td>4</td><td>1</td><td>0</td><td>12</td><td>2</td><td>1</td><td>⋯</td><td>0</td><td>0</td><td>0</td><td>0</td><td>2</td><td>NA</td><td>18</td><td>    </td><td>   </td><td>3</td></tr>\n",
       "\t<tr><td>17</td><td>111</td><td>35</td><td>4</td><td>4</td><td>1</td><td>0</td><td>51</td><td>2</td><td>1</td><td>⋯</td><td>0</td><td>0</td><td>0</td><td>0</td><td>1</td><td>NA</td><td>11</td><td>    </td><td>   </td><td>4</td></tr>\n",
       "\t<tr><td>17</td><td>111</td><td>35</td><td>1</td><td>4</td><td>1</td><td>0</td><td>12</td><td>1</td><td>1</td><td>⋯</td><td>0</td><td>0</td><td>0</td><td>0</td><td>2</td><td>NA</td><td>16</td><td>    </td><td>   </td><td>4</td></tr>\n",
       "\t<tr><td>17</td><td>111</td><td>35</td><td>4</td><td>4</td><td>1</td><td>0</td><td>12</td><td>1</td><td>1</td><td>⋯</td><td>0</td><td>0</td><td>0</td><td>0</td><td>1</td><td>NA</td><td>17</td><td>    </td><td>   </td><td>4</td></tr>\n",
       "\t<tr><td>17</td><td>111</td><td>35</td><td>6</td><td>4</td><td>1</td><td>0</td><td>34</td><td>2</td><td>1</td><td>⋯</td><td>0</td><td>0</td><td>0</td><td>0</td><td>1</td><td>NA</td><td>16</td><td>    </td><td>   </td><td>4</td></tr>\n",
       "\t<tr><td>17</td><td>111</td><td>35</td><td>1</td><td>4</td><td>1</td><td>0</td><td>12</td><td>2</td><td>1</td><td>⋯</td><td>0</td><td>0</td><td>0</td><td>0</td><td>1</td><td>NA</td><td>21</td><td>    </td><td>   </td><td>4</td></tr>\n",
       "\t<tr><td>17</td><td>111</td><td>35</td><td>5</td><td>4</td><td>1</td><td>0</td><td>12</td><td>2</td><td>1</td><td>⋯</td><td>0</td><td>0</td><td>0</td><td>0</td><td>1</td><td>NA</td><td>22</td><td>    </td><td>   </td><td>4</td></tr>\n",
       "\t<tr><td>17</td><td>111</td><td>35</td><td>2</td><td>4</td><td>1</td><td>0</td><td>12</td><td>3</td><td>1</td><td>⋯</td><td>0</td><td>0</td><td>0</td><td>0</td><td>2</td><td>NA</td><td>19</td><td>    </td><td>   </td><td>4</td></tr>\n",
       "</tbody>\n",
       "</table>\n"
      ],
      "text/latex": [
       "A data.frame: 174933 × 117\n",
       "\\begin{tabular}{r|lllllllllllllllllllllllllllllllllllllllllllllllllllllllllllllllllllllllllllllllllllllllllllllllllllllllllllllllllllll}\n",
       " anno & provincia & comune & giorno & organo\\_di\\_rilevazione & localizzazione\\_incidente & denominazione\\_della\\_strada & tronco\\_di\\_strada\\_o\\_autostrada & tipo\\_di\\_strada & pavimentazione & intersezione\\_o\\_non\\_interse3 & fondo\\_stradale & segnaletica & condizioni\\_meteorologiche & natura\\_incidente & tipo\\_veicolo\\_a & tipo\\_veicoli\\_\\_b\\_ & tipo\\_veicolo\\_\\_c\\_ & veicolo\\_\\_a\\_\\_\\_\\_circostanze\\_10 & veicolo\\_\\_a\\_\\_\\_\\_circostanze\\_11 & veicolo\\_\\_b\\_\\_\\_\\_circostanze\\_13 & veicolo\\_\\_b\\_\\_\\_\\_circostanze\\_14 & veicolo\\_\\_a\\_\\_\\_anno\\_immatric18 & immatricolazione\\_veicolo\\_\\_b\\_ & immatricolazione\\_veicolo\\_\\_c\\_ & veicolo\\_\\_a\\_\\_\\_et\\_\\_conducente & veicolo\\_\\_a\\_\\_\\_sesso\\_conducente & veicolo\\_\\_a\\_\\_\\_esito\\_conducente & veicolo\\_\\_a\\_\\_\\_patente\\_condu29 & veicolo\\_\\_a\\_\\_\\_anno\\_rilascio30 & veicolo\\_\\_a\\_\\_\\_passeggeri\\_an35 & veicolo\\_\\_a\\_\\_\\_et\\_\\_passegger36 & veicolo\\_\\_a\\_\\_\\_sesso\\_passegg37 & veicolo\\_\\_a\\_\\_\\_esito\\_passegg38 & veicolo\\_\\_a\\_\\_\\_et\\_\\_passegger39 & veicolo\\_\\_a\\_\\_\\_sesso\\_passegg40 & veicolo\\_\\_a\\_\\_\\_esito\\_passegg41 & veicolo\\_\\_a\\_\\_\\_et\\_\\_passegger42 & veicolo\\_\\_a\\_\\_\\_sesso\\_passegg43 & veicolo\\_\\_a\\_\\_\\_esito\\_passegg44 & veicolo\\_\\_a\\_\\_\\_et\\_\\_passegger45 & veicolo\\_\\_a\\_\\_\\_sesso\\_passegg46 & veicolo\\_\\_a\\_\\_\\_altri\\_passegg47 & veicolo\\_\\_a\\_\\_\\_altri\\_passegg48 & veicolo\\_\\_a\\_\\_\\_altri\\_passegg49 & veicolo\\_\\_a\\_\\_\\_altri\\_passegg50 & veicolo\\_\\_b\\_\\_\\_et\\_\\_conducente & veicolo\\_\\_b\\_\\_\\_sesso\\_conducente & veicolo\\_\\_b\\_\\_\\_esito\\_conducente & veicolo\\_\\_b\\_\\_\\_patente\\_condu51 & veicolo\\_\\_b\\_\\_\\_anno\\_rilascio52 & veicolo\\_\\_b\\_\\_\\_passeggeri\\_an57 & veicolo\\_\\_b\\_\\_\\_et\\_\\_passegger58 & veicolo\\_\\_b\\_\\_\\_sesso\\_passegg59 & veicolo\\_\\_b\\_\\_\\_esito\\_passegg60 & veicolo\\_\\_b\\_\\_\\_et\\_\\_passegger61 & veicolo\\_\\_b\\_\\_\\_sesso\\_passegg62 & veicolo\\_\\_b\\_\\_\\_esito\\_passegg63 & veicolo\\_\\_b\\_\\_\\_et\\_\\_passegger64 & veicolo\\_\\_b\\_\\_\\_sesso\\_passegg65 & veicolo\\_\\_b\\_\\_\\_esito\\_passegg66 & veicolo\\_\\_b\\_\\_\\_et\\_\\_passegger67 & veicolo\\_\\_b\\_\\_\\_sesso\\_passegg68 & veicolo\\_\\_b\\_\\_\\_altri\\_passegg69 & veicolo\\_\\_b\\_\\_\\_altri\\_passegg70 & veicolo\\_\\_b\\_\\_\\_altri\\_passegg71 & veicolo\\_\\_b\\_\\_\\_altri\\_passegg72 & veicolo\\_\\_c\\_\\_\\_et\\_\\_conducente & veicolo\\_\\_c\\_\\_\\_sesso\\_conducente & veicolo\\_\\_c\\_\\_\\_esito\\_conducente & veicolo\\_\\_c\\_\\_\\_patente\\_condu73 & veicolo\\_\\_c\\_\\_\\_anno\\_rilascio74 & veicolo\\_\\_c\\_\\_\\_passeggeri\\_an79 & veicolo\\_\\_c\\_\\_\\_et\\_\\_passegger80 & veicolo\\_\\_c\\_\\_\\_sesso\\_passegg81 & veicolo\\_\\_c\\_\\_\\_esito\\_passegg82 & veicolo\\_\\_c\\_\\_\\_et\\_\\_passegger83 & veicolo\\_\\_c\\_\\_\\_sesso\\_passegg84 & veicolo\\_\\_c\\_\\_\\_esito\\_passegg85 & veicolo\\_\\_c\\_\\_\\_et\\_\\_passegger86 & veicolo\\_\\_c\\_\\_\\_sesso\\_passegg87 & veicolo\\_\\_c\\_\\_\\_esito\\_passegg88 & veicolo\\_\\_c\\_\\_\\_et\\_\\_passegger89 & veicolo\\_\\_c\\_\\_\\_sesso\\_passegg90 & veicolo\\_\\_c\\_\\_\\_altri\\_passegg91 & veicolo\\_\\_c\\_\\_\\_altri\\_passegg92 & veicolo\\_\\_c\\_\\_\\_altri\\_passegg93 & veicolo\\_\\_c\\_\\_\\_altri\\_passegg94 & pedone\\_morto\\_1\\_\\_sesso & pedone\\_morto\\_1\\_\\_et\\_ & pedone\\_ferito\\_1\\_\\_sesso & pedone\\_ferito\\_1\\_\\_et\\_ & pedone\\_morto\\_2\\_\\_sesso & pedone\\_morto\\_2\\_\\_et\\_ & pedone\\_ferito\\_2\\_\\_sesso & pedone\\_ferito\\_2\\_\\_et\\_ & pedone\\_morto\\_3\\_\\_sesso & pedone\\_morto\\_3\\_\\_et\\_ & pedone\\_ferito\\_3\\_\\_sesso & pedone\\_ferito\\_3\\_\\_et\\_ & pedone\\_morto\\_4\\_\\_sesso & pedone\\_morto\\_4\\_\\_et\\_ & pedone\\_ferito\\_4\\_\\_sesso & pedone\\_ferito\\_4\\_\\_et\\_ & altri\\_veicoli\\_coinvolti & morti\\_maschi\\_coinvolti\\_su\\_95 & morti\\_femmine\\_coinvolti\\_su96 & feriti\\_maschi\\_coinvolti\\_su97 & feriti\\_femmine\\_coinvolti\\_s98 & morti\\_entro\\_24\\_ore & morti\\_entro\\_30\\_giorni & feriti & descrizione\\_strada & Ora & chilometri & ettometrica & trimestre\\\\\n",
       " <int> & <int> & <int> & <int> & <int> & <int> & <fct> & <int> & <int> & <int> & <int> & <int> & <int> & <int> & <int> & <int> & <int> & <int> & <int> & <int> & <int> & <int> & <fct> & <fct> & <fct> & <fct> & <int> & <int> & <int> & <fct> & <int> & <fct> & <int> & <int> & <fct> & <int> & <int> & <fct> & <int> & <int> & <fct> & <int> & <int> & <int> & <int> & <int> & <fct> & <int> & <int> & <int> & <fct> & <int> & <fct> & <int> & <int> & <fct> & <int> & <int> & <fct> & <int> & <int> & <fct> & <int> & <int> & <int> & <int> & <int> & <fct> & <int> & <int> & <int> & <fct> & <int> & <fct> & <int> & <int> & <fct> & <int> & <int> & <fct> & <int> & <int> & <fct> & <int> & <int> & <int> & <int> & <int> & <int> & <fct> & <int> & <fct> & <int> & <fct> & <int> & <fct> & <lgl> & <lgl> & <int> & <fct> & <lgl> & <lgl> & <int> & <fct> & <int> & <int> & <int> & <int> & <int> & <int> & <int> & <int> & <lgl> & <int> & <fct> & <fct> & <int>\\\\\n",
       "\\hline\n",
       "\t 17 & 7 & 30 & 6 & 2 & 6 & 27  & 12 & 2 & 1 & 7 & 1 & 4 & 1 &  2 &  1 &  1 & NA &  0 & NA &  0 & NA & 2015        & 2012        &             & 30-44 & 1 & 2 &  5 & (1997,2007{]} &  2 & 30-44 &  4 &  2 & 06-Sep &  4 &  2 & 0-5   &  4 &  2 & 0-5   &  3 & 0 & 0 & 0 & 0 & 18-29 &  1 &  2 &  2 & (1997,2007{]} & NA &       & NA & NA &       & NA & NA &       & NA & NA &       & NA & 0 & 0 & 0 & 0 &       & NA & NA & NA &             & NA &       & NA & NA &       & NA & NA &       & NA & NA &       & NA & 0 & 0 & 0 & 0 & NA &       & NA &       & NA &       & NA &       & NA & NA & NA &       & NA & NA & NA &       & 0 & 0 & 0 & 0 & 0 & 0 & 0 & 6 & NA &  6 & 12  & 900 & 2\\\\\n",
       "\t 17 & 7 & 66 & 1 & 2 & 3 & 26  & 12 & 2 & 1 & 7 & 1 & 4 & 1 &  4 &  1 &  1 &  1 & 22 & NA & 20 & NA &             &             &             & n.i.  & 1 & 1 & NA &             & NA &       & NA & NA &        & NA & NA &       & NA & NA &       & NA & 0 & 0 & 0 & 0 & 55-64 &  1 &  2 &  2 & 2016        & NA &       & NA & NA &       & NA & NA &       & NA & NA &       & NA & 0 & 0 & 0 & 0 & 30-44 &  1 &  1 &  2 & (1987,1997{]} & NA &       & NA & NA &       & NA & NA &       & NA & NA &       & NA & 0 & 0 & 0 & 0 & NA &       & NA &       & NA &       & NA &       & NA & NA & NA &       & NA & NA & NA &       & 0 & 0 & 0 & 0 & 0 & 0 & 0 & 1 & NA & 13 & 0   & 0   & 3\\\\\n",
       "\t 17 & 7 & 43 & 3 & 2 & 6 & 26  & 12 & 2 & 1 & 7 & 1 & 4 & 1 & 10 & 16 & NA & NA & 71 & NA & 75 & NA & 2010        &             &             & 30-44 & 1 & 2 &  2 & 2011        & NA &       & NA & NA &        & NA & NA &       & NA & NA &       & NA & 0 & 0 & 0 & 0 &       & NA & NA & NA &             & NA &       & NA & NA &       & NA & NA &       & NA & NA &       & NA & 0 & 0 & 0 & 0 &       & NA & NA & NA &             & NA &       & NA & NA &       & NA & NA &       & NA & NA &       & NA & 0 & 0 & 0 & 0 & NA &       & NA &       & NA &       & NA &       & NA & NA & NA &       & NA & NA & NA &       & 0 & 0 & 0 & 0 & 0 & 0 & 0 & 1 & NA & 15 & 69  & 100 & 4\\\\\n",
       "\t 17 & 7 & 24 & 1 & 2 & 8 & 0   & 12 & 2 & 1 & 8 & 5 & 1 & 5 &  3 & 11 &  1 & NA & 36 & NA & 20 & NA & (1997,2007{]} & 2016        &             & 30-44 & 1 & 1 &  5 & 2015        & NA &       & NA & NA &        & NA & NA &       & NA & NA &       & NA & 0 & 0 & 0 & 0 & 30-44 &  1 &  2 &  2 & (1997,2007{]} & NA &       & NA & NA &       & NA & NA &       & NA & NA &       & NA & 0 & 0 & 0 & 0 &       & NA & NA & NA &             & NA &       & NA & NA &       & NA & NA &       & NA & NA &       & NA & 0 & 0 & 0 & 0 & NA &       & NA &       & NA &       & NA &       & NA & NA & NA &       & NA & NA & NA &       & 0 & 0 & 0 & 0 & 0 & 0 & 0 & 1 & NA & 17 & 0   & 0   & 4\\\\\n",
       "\t 17 & 7 & 65 & 1 & 2 & 1 & 0   & 12 & 2 & 1 & 7 & 2 & 1 & 1 &  4 &  8 & 15 & NA & 22 & NA & 20 & NA & (1987,1997{]} & 2017        &             & 45-54 & 1 & 1 &  3 & 2015        & NA &       & NA & NA &        & NA & NA &       & NA & NA &       & NA & 0 & 0 & 0 & 0 & 30-44 &  1 &  2 &  0 & 2014        & NA &       & NA & NA &       & NA & NA &       & NA & NA &       & NA & 0 & 0 & 0 & 0 &       & NA & NA & NA &             & NA &       & NA & NA &       & NA & NA &       & NA & NA &       & NA & 0 & 0 & 0 & 0 & NA &       & NA &       & NA &       & NA &       & NA & NA & NA &       & NA & NA & NA &       & 0 & 0 & 0 & 0 & 0 & 0 & 0 & 1 & NA & 10 & 0   & 0   & 4\\\\\n",
       "\t 17 & 7 & 73 & 7 & 2 & 6 & 26  & 12 & 2 & 1 & 3 & 2 & 4 & 1 &  1 &  1 & 17 & NA & 17 & NA &  1 & NA & (1987,1997{]} & (1997,2007{]} &             & 18-29 & 1 & 1 &  2 & 2011        & NA &       & NA & NA &        & NA & NA &       & NA & NA &       & NA & 0 & 0 & 0 & 0 & 45-54 &  1 &  2 &  2 & 2014        & NA &       & NA &  2 & 45-54 &  4 & NA &       & NA & NA &       & NA & 0 & 0 & 0 & 0 &       & NA & NA & NA &             & NA &       & NA & NA &       & NA & NA &       & NA & NA &       & NA & 0 & 0 & 0 & 0 & NA &       & NA &       & NA &       & NA &       & NA & NA & NA &       & NA & NA & NA &       & 0 & 0 & 0 & 0 & 0 & 0 & 0 & 2 & NA & 19 & 0   & 0   & 3\\\\\n",
       "\t 17 & 7 &  3 & 5 & 2 & 1 & 0   & 12 & 2 & 1 & 7 & 1 & 4 & 1 &  2 &  1 &  1 & NA & 20 & NA & 34 & NA & (1987,1997{]} & 2012        &             & 45-54 & 2 & 1 &  2 & (1997,2007{]} & NA &       & NA & NA &        & NA & NA &       & NA & NA &       & NA & 0 & 0 & 0 & 0 & 30-44 &  1 &  1 &  2 & 2009        &  2 & 30-44 &  4 & NA &       & NA & NA &       & NA & NA &       & NA & 0 & 0 & 0 & 0 &       & NA & NA & NA &             & NA &       & NA & NA &       & NA & NA &       & NA & NA &       & NA & 0 & 0 & 0 & 0 & NA &       & NA &       & NA &       & NA &       & NA & NA & NA &       & NA & NA & NA &       & 0 & 0 & 0 & 0 & 0 & 0 & 0 & 1 & NA & 15 & 0   & 0   & 1\\\\\n",
       "\t 17 & 7 & 65 & 4 & 2 & 1 & 0   & 12 & 2 & 1 & 7 & 1 & 4 & 1 & 10 &  1 & NA & NA & 71 & 81 & 73 & NA & (1987,1997{]} &             &             & 65+   & 2 & 2 &  2 & 2016        & NA &       & NA & NA &        & NA & NA &       & NA & NA &       & NA & 0 & 0 & 0 & 0 &       & NA & NA & NA &             & NA &       & NA & NA &       & NA & NA &       & NA & NA &       & NA & 0 & 0 & 0 & 0 &       & NA & NA & NA &             & NA &       & NA & NA &       & NA & NA &       & NA & NA &       & NA & 0 & 0 & 0 & 0 & NA &       & NA &       & NA &       & NA &       & NA & NA & NA &       & NA & NA & NA &       & 0 & 0 & 0 & 0 & 0 & 0 & 0 & 1 & NA & 20 & 0   & 0   & 2\\\\\n",
       "\t 17 & 7 &  3 & 5 & 2 & 1 & 0   & 12 & 1 & 1 & 7 & 1 & 4 & 1 &  2 &  1 & 14 & NA & 20 & NA & 27 & NA & (1987,1997{]} &             &             & 65+   & 1 & 1 &  2 & 2015        & NA &       & NA & NA &        & NA & NA &       & NA & NA &       & NA & 0 & 0 & 0 & 0 & 65+   &  1 &  2 &  7 &             & NA &       & NA & NA &       & NA & NA &       & NA & NA &       & NA & 0 & 0 & 0 & 0 &       & NA & NA & NA &             & NA &       & NA & NA &       & NA & NA &       & NA & NA &       & NA & 0 & 0 & 0 & 0 & NA &       & NA &       & NA &       & NA &       & NA & NA & NA &       & NA & NA & NA &       & 0 & 0 & 0 & 0 & 0 & 0 & 0 & 1 & NA & 16 & 0   & 0   & 2\\\\\n",
       "\t 17 & 7 & 58 & 1 & 2 & 6 & 26  & 12 & 2 & 1 & 7 & 1 & 4 & 1 &  4 & 16 &  1 & NA & 20 & NA & 26 & NA & (1977,1987{]} & 2009        &             & 15-17 & 1 & 2 &  8 & 2016        & NA &       & NA & NA &        & NA & NA &       & NA & NA &       & NA & 0 & 0 & 0 & 0 & 30-44 &  2 &  1 &  2 & 2008        & NA &       & NA & NA &       & NA & NA &       & NA & NA &       & NA & 0 & 0 & 0 & 0 &       & NA & NA & NA &             & NA &       & NA & NA &       & NA & NA &       & NA & NA &       & NA & 0 & 0 & 0 & 0 & NA &       & NA &       & NA &       & NA &       & NA & NA & NA &       & NA & NA & NA &       & 0 & 0 & 0 & 0 & 0 & 0 & 0 & 1 & NA & 10 & 98  & 400 & 2\\\\\n",
       "\t 17 & 7 & 72 & 4 & 2 & 4 & 0   & 12 & 2 & 1 & 7 & 1 & 4 & 1 &  8 & 13 & NA & NA & 64 & NA & 65 & NA & 2011        &             &             & 45-54 & 1 & 2 &  9 &             & NA &       & NA & NA &        & NA & NA &       & NA & NA &       & NA & 0 & 0 & 0 & 0 &       & NA & NA & NA &             & NA &       & NA & NA &       & NA & NA &       & NA & NA &       & NA & 0 & 0 & 0 & 0 &       & NA & NA & NA &             & NA &       & NA & NA &       & NA & NA &       & NA & NA &       & NA & 0 & 0 & 0 & 0 & NA &       & NA &       & NA &       & NA &       & NA & NA & NA &       & NA & NA & NA &       & 0 & 0 & 0 & 0 & 0 & 0 & 0 & 1 & NA & 21 & 0   & 0   & 3\\\\\n",
       "\t 17 & 7 & 65 & 7 & 2 & 6 & 26  & 12 & 2 & 1 & 8 & 1 & 2 & 1 &  8 & 16 & NA & NA & 61 & NA & 65 & NA & (1997,2007{]} &             &             & 18-29 & 1 & 2 &  2 & 2016        & NA &       & NA & NA &        & NA & NA &       & NA & NA &       & NA & 0 & 0 & 0 & 0 &       & NA & NA & NA &             & NA &       & NA & NA &       & NA & NA &       & NA & NA &       & NA & 0 & 0 & 0 & 0 &       & NA & NA & NA &             & NA &       & NA & NA &       & NA & NA &       & NA & NA &       & NA & 0 & 0 & 0 & 0 & NA &       & NA &       & NA &       & NA &       & NA & NA & NA &       & NA & NA & NA &       & 0 & 0 & 0 & 0 & 0 & 0 & 0 & 1 & NA & 19 & 72  & 700 & 2\\\\\n",
       "\t 17 & 7 & 57 & 2 & 2 & 0 & 17  & 12 & 2 & 1 & 8 & 1 & 4 & 1 &  3 &  1 &  1 & NA & 26 & NA & 20 & NA & (1997,2007{]} & 2013        &             & 55-64 & 1 & 2 &  2 & 2015        & NA &       & NA & NA &        & NA & NA &       & NA & NA &       & NA & 0 & 0 & 0 & 0 & 55-64 &  1 &  2 &  2 & 2017        & NA &       & NA & NA &       & NA & NA &       & NA & NA &       & NA & 0 & 0 & 0 & 0 &       & NA & NA & NA &             & NA &       & NA & NA &       & NA & NA &       & NA & NA &       & NA & 0 & 0 & 0 & 0 & NA &       & NA &       & NA &       & NA &       & NA & NA & NA &       & NA & NA & NA &       & 0 & 0 & 0 & 0 & 0 & 0 & 0 & 2 & NA &  7 & 0   & 0   & 3\\\\\n",
       "\t 17 & 7 & 59 & 4 & 2 & 9 & 12  & 12 & 2 & 1 & 8 & 1 & 4 & 1 &  2 &  1 &  1 & NA & 20 & NA & 36 & NA & (1997,2007{]} & (1997,2007{]} &             & 45-54 & 1 & 2 &  2 & (1987,1997{]} &  2 & 18-29 &  3 & NA &        & NA & NA &       & NA & NA &       & NA & 0 & 0 & 0 & 0 & 18-29 &  1 &  1 &  2 & 2008        &  2 & 18-29 &  3 &  2 & 30-44 &  4 & NA &       & NA & NA &       & NA & 0 & 0 & 0 & 0 &       & NA & NA & NA &             & NA &       & NA & NA &       & NA & NA &       & NA & NA &       & NA & 0 & 0 & 0 & 0 & NA &       & NA &       & NA &       & NA &       & NA & NA & NA &       & NA & NA & NA &       & 0 & 0 & 0 & 0 & 0 & 0 & 0 & 4 & NA & 24 & 2   & 540 & 2\\\\\n",
       "\t 17 & 7 & 63 & 4 & 2 & 1 & 0   & 12 & 2 & 1 & 7 & 1 & 3 & 1 &  2 &  1 &  1 & NA & 27 & NA & 20 & NA & (1997,2007{]} & 2012        &             & 18-29 & 2 & 1 &  2 & 2016        & NA &       & NA & NA &        & NA & NA &       & NA & NA &       & NA & 0 & 0 & 0 & 0 & 30-44 &  1 &  2 &  2 & (1987,1997{]} & NA &       & NA & NA &       & NA & NA &       & NA & NA &       & NA & 0 & 0 & 0 & 0 &       & NA & NA & NA &             & NA &       & NA & NA &       & NA & NA &       & NA & NA &       & NA & 0 & 0 & 0 & 0 & NA &       & NA &       & NA &       & NA &       & NA & NA & NA &       & NA & NA & NA &       & 0 & 0 & 0 & 0 & 0 & 0 & 0 & 1 & NA &  9 & 0   & 0   & 1\\\\\n",
       "\t 17 & 7 &  9 & 1 & 2 & 6 & 26  & 12 & 2 & 1 & 8 & 1 & 4 & 1 &  8 &  1 & NA & NA & 60 & NA & 60 & NA & (1997,2007{]} &             &             & 55-64 & 1 & 2 &  2 & 2016        &  2 & 65+   &  4 & NA &        & NA & NA &       & NA & NA &       & NA & 0 & 0 & 0 & 0 &       & NA & NA & NA &             & NA &       & NA & NA &       & NA & NA &       & NA & NA &       & NA & 0 & 0 & 0 & 0 &       & NA & NA & NA &             & NA &       & NA & NA &       & NA & NA &       & NA & NA &       & NA & 0 & 0 & 0 & 0 & NA &       & NA &       & NA &       & NA &       & NA & NA & NA &       & NA & NA & NA &       & 0 & 0 & 0 & 0 & 0 & 0 & 0 & 2 & NA & 16 & 55  & 850 & 4\\\\\n",
       "\t 17 & 7 &  3 & 6 & 2 & 1 & 0   & 12 & 2 & 1 & 7 & 1 & 1 & 1 &  6 &  8 &  1 & NA & 60 & 88 & 62 & NA & (1997,2007{]} & 2013        &             & 45-54 & 1 & 1 &  2 & 2015        & NA &       & NA & NA &        & NA & NA &       & NA & NA &       & NA & 0 & 0 & 0 & 0 & n.i.  &  2 &  1 & NA &             & NA &       & NA &  2 & 30-44 &  4 & NA &       & NA & NA &       & NA & 0 & 0 & 0 & 0 &       & NA & NA & NA &             & NA &       & NA & NA &       & NA & NA &       & NA & NA &       & NA & 0 & 0 & 0 & 0 & NA &       & NA &       & NA &       & NA &       & NA & NA & NA &       & NA & NA & NA &       & 0 & 0 & 0 & 0 & 0 & 0 & 0 & 1 & NA & 20 & 0   & 0   & 4\\\\\n",
       "\t 17 & 7 & 73 & 3 & 2 & 6 & 26  & 12 & 2 & 1 & 7 & 1 & 4 & 1 &  4 &  1 &  1 & NA & 22 & NA & 20 & NA & (1997,2007{]} & (1997,2007{]} &             & 18-29 & 1 & 2 &  9 &             & NA &       & NA & NA &        & NA & NA &       & NA & NA &       & NA & 0 & 0 & 0 & 0 & 18-29 &  1 &  1 &  2 & 2014        &  2 & 18-29 &  4 &  2 & 0-5   &  3 & NA &       & NA & NA &       & NA & 0 & 0 & 0 & 0 &       & NA & NA & NA &             & NA &       & NA & NA &       & NA & NA &       & NA & NA &       & NA & 0 & 0 & 0 & 0 & NA &       & NA &       & NA &       & NA &       & NA & NA & NA &       & NA & NA & NA &       & 0 & 0 & 0 & 0 & 0 & 0 & 0 & 3 & NA & 22 & 62  & 200 & 3\\\\\n",
       "\t 17 & 7 & 73 & 1 & 2 & 3 & 26  & 12 & 2 & 1 & 7 & 1 & 4 & 1 &  2 &  1 &  1 & NA & 21 & NA & 20 & NA & (1997,2007{]} & (1997,2007{]} &             & 18-29 & 1 & 2 &  2 & 2016        & NA &       & NA & NA &        & NA & NA &       & NA & NA &       & NA & 0 & 0 & 0 & 0 & 30-44 &  1 &  1 &  2 & 2014        & NA &       & NA & NA &       & NA & NA &       & NA & NA &       & NA & 0 & 0 & 0 & 0 &       & NA & NA & NA &             & NA &       & NA & NA &       & NA & NA &       & NA & NA &       & NA & 0 & 0 & 0 & 0 & NA &       & NA &       & NA &       & NA &       & NA & NA & NA &       & NA & NA & NA &       & 0 & 0 & 0 & 0 & 0 & 0 & 0 & 1 & NA &  7 & 0   & 0   & 2\\\\\n",
       "\t 17 & 7 &  3 & 6 & 2 & 1 & 26  & 12 & 2 & 1 & 7 & 1 & 4 & 1 &  4 &  1 &  1 & NA & 20 & NA & 22 & NA & (1997,2007{]} & 2012        &             & 55-64 & 1 & 1 &  3 & 2015        &  2 & 18-29 &  4 & NA &        & NA & NA &       & NA & NA &       & NA & 0 & 0 & 0 & 0 & 30-44 &  1 &  1 &  2 & 2017        & NA &       & NA & NA &       & NA & NA &       & NA & NA &       & NA & 0 & 0 & 0 & 0 &       & NA & NA & NA &             & NA &       & NA & NA &       & NA & NA &       & NA & NA &       & NA & 0 & 0 & 0 & 0 & NA &       & NA &       & NA &       & NA &       & NA & NA & NA &       & NA & NA & NA &       & 0 & 0 & 0 & 0 & 0 & 0 & 0 & 1 & NA & 11 & 102 & 100 & 2\\\\\n",
       "\t 17 & 7 & 44 & 5 & 2 & 3 & 26  & 12 & 2 & 1 & 7 & 1 & 4 & 1 &  2 &  1 & 18 & NA & 20 & NA & 36 & NA & (1997,2007{]} & (1987,1997{]} &             & 30-44 & 2 & 1 &  2 & 2016        & NA &       & NA & NA &        & NA & NA &       & NA & NA &       & NA & 0 & 0 & 0 & 0 & 55-64 &  1 &  2 &  3 & 2014        & NA &       & NA & NA &       & NA & NA &       & NA & NA &       & NA & 0 & 0 & 0 & 0 &       & NA & NA & NA &             & NA &       & NA & NA &       & NA & NA &       & NA & NA &       & NA & 0 & 0 & 0 & 0 & NA &       & NA &       & NA &       & NA &       & NA & NA & NA &       & NA & NA & NA &       & 0 & 0 & 0 & 0 & 0 & 0 & 0 & 1 & NA & 19 & 128 & 750 & 1\\\\\n",
       "\t 17 & 7 & 43 & 7 & 2 & 3 & 26  & 12 & 2 & 1 & 7 & 1 & 4 & 1 &  4 &  1 & 16 & NA & 22 & NA & 20 & NA & (1997,2007{]} & 2010        &             & 65+   & 1 & 1 &  2 & 2014        & NA &       & NA & NA &        & NA & NA &       & NA & NA &       & NA & 0 & 0 & 0 & 0 & 45-54 &  1 &  2 &  2 & 2013        & NA &       & NA & NA &       & NA & NA &       & NA & NA &       & NA & 0 & 0 & 0 & 0 &       & NA & NA & NA &             & NA &       & NA & NA &       & NA & NA &       & NA & NA &       & NA & 0 & 0 & 0 & 0 & NA &       & NA &       & NA &       & NA &       & NA & NA & NA &       & NA & NA & NA &       & 0 & 0 & 0 & 0 & 0 & 0 & 0 & 1 & NA & 16 & 67  & 800 & 1\\\\\n",
       "\t 17 & 7 & 48 & 7 & 2 & 9 & 505 & 12 & 2 & 1 & 8 & 1 & 4 & 1 &  8 &  1 & NA & NA & 64 & NA & 65 & NA & (1997,2007{]} &             &             & 65+   & 1 & 2 &  2 & 2017        &  2 & 45-54 &  3 &  2 & 65+    &  3 & NA &       & NA & NA &       & NA & 0 & 0 & 0 & 0 &       & NA & NA & NA &             & NA &       & NA & NA &       & NA & NA &       & NA & NA &       & NA & 0 & 0 & 0 & 0 &       & NA & NA & NA &             & NA &       & NA & NA &       & NA & NA &       & NA & NA &       & NA & 0 & 0 & 0 & 0 & NA &       & NA &       & NA &       & NA &       & NA & NA & NA &       & NA & NA & NA &       & 0 & 0 & 0 & 0 & 0 & 0 & 0 & 3 & NA & 11 & 4   & 700 & 3\\\\\n",
       "\t 17 & 7 &  2 & 4 & 2 & 9 & 406 & 12 & 2 & 1 & 8 & 4 & 3 & 1 &  2 &  1 &  1 & NA & 23 & NA & 20 & NA & (1997,2007{]} & 2008        &             & 18-29 & 1 & 3 &  2 & 2016        &  1 & 15-17 &  3 &  2 & 18-29  &  4 & NA &       & NA & NA &       & NA & 0 & 0 & 0 & 0 & 55-64 &  1 &  2 &  3 & 2016        &  2 & 30-44 &  3 & NA &       & NA & NA &       & NA & NA &       & NA & 0 & 0 & 0 & 0 &       & NA & NA & NA &             & NA &       & NA & NA &       & NA & NA &       & NA & NA &       & NA & 0 & 0 & 0 & 0 & NA &       & NA &       & NA &       & NA &       & NA & NA & NA &       & NA & NA & NA &       & 0 & 0 & 0 & 0 & 0 & 2 & 0 & 3 & NA &  8 & 3   & 100 & 1\\\\\n",
       "\t 17 & 7 & 22 & 7 & 2 & 1 & 0   & 12 & 2 & 1 & 7 & 1 & 2 & 1 &  5 &  1 & NA & NA & 45 & NA & 43 & NA & 2012        &             &             & 55-64 & 1 & 1 &  2 & 2013        & NA &       & NA & NA &        & NA & NA &       & NA & NA &       & NA & 0 & 0 & 0 & 0 &       & NA & NA & NA &             & NA &       & NA & NA &       & NA & NA &       & NA & NA &       & NA & 0 & 0 & 0 & 0 &       & NA & NA & NA &             & NA &       & NA & NA &       & NA & NA &       & NA & NA &       & NA & 0 & 0 & 0 & 0 & NA &       &  4 & 55-64 & NA &       & NA &       & NA & NA & NA &       & NA & NA & NA &       & 0 & 0 & 0 & 0 & 0 & 0 & 0 & 1 & NA & 13 & 0   & 0   & 1\\\\\n",
       "\t 17 & 7 & 13 & 7 & 2 & 9 & 506 & 12 & 2 & 1 & 8 & 1 & 4 & 1 &  2 &  1 &  1 & NA & 36 & NA & 20 & NA & (1997,2007{]} & 2010        &             & 18-29 & 1 & 2 &  2 & 2017        & NA &       & NA & NA &        & NA & NA &       & NA & NA &       & NA & 0 & 0 & 0 & 0 & 30-44 &  2 &  2 &  2 & 2016        & NA &       & NA & NA &       & NA & NA &       & NA & NA &       & NA & 0 & 0 & 0 & 0 &       & NA & NA & NA &             & NA &       & NA & NA &       & NA & NA &       & NA & NA &       & NA & 0 & 0 & 0 & 0 & NA &       & NA &       & NA &       & NA &       & NA & NA & NA &       & NA & NA & NA &       & 0 & 0 & 0 & 0 & 0 & 0 & 0 & 2 & NA & 22 & 10  & 0   & 4\\\\\n",
       "\t 17 & 7 & 44 & 6 & 2 & 3 & 26  & 12 & 2 & 1 & 2 & 2 & 4 & 1 &  2 &  1 &  1 & NA &  6 & NA & 14 & NA & (1997,2007{]} & (1997,2007{]} &             & 30-44 & 1 & 1 &  5 & 2014        & NA &       & NA & NA &        & NA & NA &       & NA & NA &       & NA & 0 & 0 & 0 & 0 & 30-44 &  1 &  2 &  2 & 2015        & NA &       & NA & NA &       & NA & NA &       & NA & NA &       & NA & 0 & 0 & 0 & 0 &       & NA & NA & NA &             & NA &       & NA & NA &       & NA & NA &       & NA & NA &       & NA & 0 & 0 & 0 & 0 & NA &       & NA &       & NA &       & NA &       & NA & NA & NA &       & NA & NA & NA &       & 0 & 0 & 0 & 0 & 0 & 0 & 0 & 1 & NA & 14 & 0   & 0   & 4\\\\\n",
       "\t 17 & 7 & 40 & 6 & 2 & 6 & 26  & 12 & 2 & 1 & 7 & 1 & 4 & 1 &  4 &  1 &  1 & NA & 34 & NA & 20 & NA & (1997,2007{]} & 2010        &             & 45-54 & 2 & 2 &  2 & 2015        & NA &       & NA & NA &        & NA & NA &       & NA & NA &       & NA & 0 & 0 & 0 & 0 & 55-64 &  1 &  1 &  2 & 2016        & NA &       & NA & NA &       & NA & NA &       & NA & NA &       & NA & 0 & 0 & 0 & 0 &       & NA & NA & NA &             & NA &       & NA & NA &       & NA & NA &       & NA & NA &       & NA & 0 & 0 & 0 & 0 & NA &       & NA &       & NA &       & NA &       & NA & NA & NA &       & NA & NA & NA &       & 0 & 0 & 0 & 0 & 0 & 0 & 0 & 1 & NA & 13 & 0   & 0   & 2\\\\\n",
       "\t 17 & 7 & 40 & 6 & 2 & 6 & 26  & 12 & 2 & 1 & 7 & 1 & 4 & 1 & 10 &  1 & NA & NA & 71 & NA & 75 & NA & (1997,2007{]} &             &             & 18-29 & 1 & 2 &  2 & 2017        & NA &       & NA & NA &        & NA & NA &       & NA & NA &       & NA & 0 & 0 & 0 & 0 &       & NA & NA & NA &             & NA &       & NA & NA &       & NA & NA &       & NA & NA &       & NA & 0 & 0 & 0 & 0 &       & NA & NA & NA &             & NA &       & NA & NA &       & NA & NA &       & NA & NA &       & NA & 0 & 0 & 0 & 0 & NA &       & NA &       & NA &       & NA &       & NA & NA & NA &       & NA & NA & NA &       & 0 & 0 & 0 & 0 & 0 & 0 & 0 & 1 & NA & 17 & 123 & 300 & 3\\\\\n",
       "\t 17 & 7 & 22 & 4 & 2 & 1 & 0   & 12 & 2 & 1 & 1 & 1 & 4 & 1 &  3 &  1 & 16 & NA &  8 & NA &  1 & NA & (1997,2007{]} &             &             & 55-64 & 1 & 1 &  2 & 2014        & NA &       & NA & NA &        & NA & NA &       & NA & NA &       & NA & 0 & 0 & 0 & 0 & 15-17 &  1 &  2 & NA & 2016        & NA &       & NA & NA &       & NA & NA &       & NA & NA &       & NA & 0 & 0 & 0 & 0 &       & NA & NA & NA &             & NA &       & NA & NA &       & NA & NA &       & NA & NA &       & NA & 0 & 0 & 0 & 0 & NA &       & NA &       & NA &       & NA &       & NA & NA & NA &       & NA & NA & NA &       & 0 & 0 & 0 & 0 & 0 & 0 & 0 & 1 & NA & 19 & 0   & 0   & 3\\\\\n",
       "\t ⋮ & ⋮ & ⋮ & ⋮ & ⋮ & ⋮ & ⋮ & ⋮ & ⋮ & ⋮ & ⋮ & ⋮ & ⋮ & ⋮ & ⋮ & ⋮ & ⋮ & ⋮ & ⋮ & ⋮ & ⋮ & ⋮ & ⋮ & ⋮ & ⋮ & ⋮ & ⋮ & ⋮ & ⋮ & ⋮ & ⋮ & ⋮ & ⋮ & ⋮ & ⋮ & ⋮ & ⋮ & ⋮ & ⋮ & ⋮ & ⋮ & ⋮ & ⋮ & ⋮ & ⋮ & ⋮ & ⋮ & ⋮ & ⋮ & ⋮ & ⋮ & ⋮ & ⋮ & ⋮ & ⋮ & ⋮ & ⋮ & ⋮ & ⋮ & ⋮ & ⋮ & ⋮ & ⋮ & ⋮ & ⋮ & ⋮ & ⋮ & ⋮ & ⋮ & ⋮ & ⋮ & ⋮ & ⋮ & ⋮ & ⋮ & ⋮ & ⋮ & ⋮ & ⋮ & ⋮ & ⋮ & ⋮ & ⋮ & ⋮ & ⋮ & ⋮ & ⋮ & ⋮ & ⋮ & ⋮ & ⋮ & ⋮ & ⋮ & ⋮ & ⋮ & ⋮ & ⋮ & ⋮ & ⋮ & ⋮ & ⋮ & ⋮ & ⋮ & ⋮ & ⋮ & ⋮ & ⋮ & ⋮ & ⋮ & ⋮ & ⋮ & ⋮ & ⋮ & ⋮ & ⋮ & ⋮ & ⋮\\\\\n",
       "\t 17 &  95 & 38 & 7 & 4 & 1 & 0 & 12 & 2 & 1 & 3 & 1 & 4 & 2 &  2 &  1 & 16 & NA &  4 & NA &  1 & NA &             &             &             & 30-44 & 1 & 1 &  2 &             & NA &       & NA & NA &       & NA & NA &       & NA & NA &       & NA & 0 & 0 & 0 & 0 & 45-54 &  1 &  2 &  2 &             & NA &       & NA & NA &       & NA & NA &       & NA & NA &       & NA & 0 & 0 & 0 & 0 &       & NA & NA & NA &             & NA &       & NA & NA &        & NA & NA &       & NA & NA &       & NA & 0 & 0 & 0 & 0 & NA &       & NA &       & NA &       & NA &       & NA & NA & NA &       & NA & NA & NA &       & 0 & 0 & 0 & 0 & 0 & 0 & 0 & 1 & NA &  8 &      &     & 3\\\\\n",
       "\t 17 &  95 & 38 & 2 & 4 & 1 & 0 & 12 & 2 & 1 & 7 & 1 & 3 & 1 &  4 &  1 &  1 &  1 & 22 & NA & 20 & NA &             &             &             & 30-44 & 1 & 1 &  2 &             & NA &       & NA & NA &       & NA & NA &       & NA & NA &       & NA & 0 & 0 & 0 & 0 & 45-54 &  2 &  2 &  2 &             & NA &       & NA & NA &       & NA & NA &       & NA & NA &       & NA & 0 & 0 & 0 & 0 & 18-29 &  1 &  2 &  2 &             & NA &       & NA & NA &        & NA & NA &       & NA & NA &       & NA & 0 & 0 & 0 & 0 & NA &       & NA &       & NA &       & NA &       & NA & NA & NA &       & NA & NA & NA &       & 1 & 0 & 0 & 0 & 0 & 0 & 0 & 2 & NA & 14 &      &     & 3\\\\\n",
       "\t 17 &  95 & 38 & 3 & 4 & 1 & 0 & 12 & 3 & 1 & 7 & 1 & 4 & 1 &  6 &  1 &  1 & NA & 61 & NA & 61 & NA &             &             &             & 55-64 & 1 & 1 &  2 &             & NA &       & NA & NA &       & NA & NA &       & NA & NA &       & NA & 0 & 0 & 0 & 0 & 18-29 &  2 &  2 &  2 &             & NA &       & NA & NA &       & NA & NA &       & NA & NA &       & NA & 0 & 0 & 0 & 0 &       & NA & NA & NA &             & NA &       & NA & NA &        & NA & NA &       & NA & NA &       & NA & 0 & 0 & 0 & 0 & NA &       & NA &       & NA &       & NA &       & NA & NA & NA &       & NA & NA & NA &       & 0 & 0 & 0 & 0 & 0 & 0 & 0 & 1 & NA & 20 &      &     & 3\\\\\n",
       "\t 17 & 111 & 35 & 6 & 4 & 1 & 0 & 12 & 2 & 1 & 3 & 2 & 4 & 1 &  2 &  1 & 14 & NA & 11 & NA &  1 & NA &             &             &             & 18-29 & 1 & 1 &  2 &             & NA &       & NA & NA &       & NA & NA &       & NA & NA &       & NA & 0 & 0 & 0 & 0 & 30-44 &  1 &  2 &  7 &             & NA &       & NA & NA &       & NA & NA &       & NA & NA &       & NA & 0 & 0 & 0 & 0 &       & NA & NA & NA &             & NA &       & NA & NA &        & NA & NA &       & NA & NA &       & NA & 0 & 0 & 0 & 0 & NA &       & NA &       & NA &       & NA &       & NA & NA & NA &       & NA & NA & NA &       & 0 & 0 & 0 & 0 & 0 & 0 & 0 & 1 & NA &  8 &      &     & 1\\\\\n",
       "\t 17 & 111 & 35 & 3 & 4 & 1 & 0 & 12 & 2 & 1 & 8 & 1 & 3 & 7 &  4 &  1 &  8 & NA & 23 & NA & 20 & NA &             &             &             & 65+   & 1 & 1 &  2 &             & NA &       & NA & NA &       & NA & NA &       & NA & NA &       & NA & 0 & 0 & 0 & 0 & 55-64 &  1 &  2 &  2 &             & NA &       & NA & NA &       & NA & NA &       & NA & NA &       & NA & 0 & 0 & 0 & 0 &       & NA & NA & NA &             & NA &       & NA & NA &        & NA & NA &       & NA & NA &       & NA & 0 & 0 & 0 & 0 & NA &       & NA &       & NA &       & NA &       & NA & NA & NA &       & NA & NA & NA &       & 0 & 0 & 0 & 0 & 0 & 0 & 0 & 1 & NA & 12 &      &     & 1\\\\\n",
       "\t 17 & 111 & 35 & 6 & 4 & 1 & 0 & 12 & 2 & 1 & 7 & 1 & 4 & 1 &  3 &  1 &  1 & NA & 23 & NA & 20 & NA &             &             &             & 65+   & 1 & 1 &  2 &             & NA &       & NA & NA &       & NA & NA &       & NA & NA &       & NA & 0 & 0 & 0 & 0 & 45-54 &  1 &  2 &  3 &             & NA &       & NA & NA &       & NA & NA &       & NA & NA &       & NA & 0 & 0 & 0 & 0 &       & NA & NA & NA &             & NA &       & NA & NA &        & NA & NA &       & NA & NA &       & NA & 0 & 0 & 0 & 0 & NA &       & NA &       & NA &       & NA &       & NA & NA & NA &       & NA & NA & NA &       & 0 & 0 & 0 & 0 & 0 & 0 & 0 & 1 & NA & 13 &      &     & 1\\\\\n",
       "\t 17 & 111 & 35 & 5 & 4 & 1 & 0 & 12 & 2 & 1 & 7 & 1 & 4 & 1 & 10 &  1 & NA & NA & 71 & NA & 75 & NA &             &             &             & 30-44 & 2 & 2 &  2 &             &  2 & 15-17 &  4 & NA &       & NA & NA &       & NA & NA &       & NA & 0 & 0 & 0 & 0 &       & NA & NA & NA &             & NA &       & NA & NA &       & NA & NA &       & NA & NA &       & NA & 0 & 0 & 0 & 0 &       & NA & NA & NA &             & NA &       & NA & NA &        & NA & NA &       & NA & NA &       & NA & 0 & 0 & 0 & 0 & NA &       & NA &       & NA &       & NA &       & NA & NA & NA &       & NA & NA & NA &       & 0 & 0 & 0 & 0 & 0 & 0 & 0 & 2 & NA & 19 &      &     & 1\\\\\n",
       "\t 17 & 111 & 35 & 5 & 4 & 1 & 0 & 12 & 2 & 1 & 1 & 1 & 4 & 1 &  2 &  1 & 16 & NA &  6 & NA &  1 & NA &             &             &             & 30-44 & 1 & 1 &  2 &             & NA &       & NA & NA &       & NA & NA &       & NA & NA &       & NA & 0 & 0 & 0 & 0 & 30-44 &  1 &  2 &  2 &             & NA &       & NA & NA &       & NA & NA &       & NA & NA &       & NA & 0 & 0 & 0 & 0 &       & NA & NA & NA &             & NA &       & NA & NA &        & NA & NA &       & NA & NA &       & NA & 0 & 0 & 0 & 0 & NA &       & NA &       & NA &       & NA &       & NA & NA & NA &       & NA & NA & NA &       & 0 & 0 & 0 & 0 & 0 & 0 & 0 & 1 & NA & 13 &      &     & 1\\\\\n",
       "\t 17 & 111 & 35 & 1 & 4 & 1 & 0 & 12 & 2 & 1 & 7 & 1 & 3 & 1 &  4 &  8 &  1 &  1 & 23 & NA & 20 & NA &             &             &             & 45-54 & 1 & 1 &  3 &             & NA &       & NA & NA &       & NA & NA &       & NA & NA &       & NA & 0 & 0 & 0 & 0 & 55-64 &  1 &  2 &  2 &             & NA &       & NA & NA &       & NA & NA &       & NA & NA &       & NA & 0 & 0 & 0 & 0 & 30-44 &  2 &  2 &  2 &             & NA &       & NA & NA &        & NA & NA &       & NA & NA &       & NA & 0 & 0 & 0 & 0 & NA &       & NA &       & NA &       & NA &       & NA & NA & NA &       & NA & NA & NA &       & 0 & 0 & 0 & 0 & 0 & 0 & 0 & 2 & NA & 15 &      &     & 1\\\\\n",
       "\t 17 & 111 & 35 & 4 & 4 & 1 & 0 & 12 & 2 & 1 & 8 & 3 & 3 & 1 &  2 &  1 & 15 & NA & 26 & NA & 20 & NA &             &             &             & 30-44 & 2 & 1 &  2 &             & NA &       & NA & NA &       & NA & NA &       & NA & NA &       & NA & 0 & 0 & 0 & 0 & 55-64 &  1 &  2 &  0 &             & NA &       & NA & NA &       & NA & NA &       & NA & NA &       & NA & 0 & 0 & 0 & 0 &       & NA & NA & NA &             & NA &       & NA & NA &        & NA & NA &       & NA & NA &       & NA & 0 & 0 & 0 & 0 & NA &       & NA &       & NA &       & NA &       & NA & NA & NA &       & NA & NA & NA &       & 0 & 0 & 0 & 0 & 0 & 0 & 0 & 1 & NA &  9 &      &     & 1\\\\\n",
       "\t 17 & 111 & 35 & 2 & 4 & 1 & 0 & 12 & 2 & 1 & 7 & 1 & 1 & 1 &  4 &  1 &  1 & NA & 21 & NA & 20 & NA &             &             &             & 18-29 & 1 & 1 &  2 &             &  2 & 18-29 &  3 &  2 & 18-29 &  4 &  2 & 30-44 &  4 & NA &       & NA & 0 & 0 & 0 & 0 & 18-29 &  1 &  2 &  2 &             &  2 & 18-29 &  4 & NA &       & NA & NA &       & NA & NA &       & NA & 0 & 0 & 0 & 0 &       & NA & NA & NA &             & NA &       & NA & NA &        & NA & NA &       & NA & NA &       & NA & 0 & 0 & 0 & 0 & NA &       & NA &       & NA &       & NA &       & NA & NA & NA &       & NA & NA & NA &       & 0 & 0 & 0 & 0 & 0 & 0 & 0 & 5 & NA & 11 &      &     & 1\\\\\n",
       "\t 17 & 111 & 35 & 1 & 4 & 1 & 0 & 12 & 2 & 1 & 7 & 1 & 4 & 1 &  2 &  1 & 16 & NA & 29 & NA & 36 & NA &             &             &             & 45-54 & 2 & 1 &  2 &             & NA &       & NA & NA &       & NA & NA &       & NA & NA &       & NA & 0 & 0 & 0 & 0 & 18-29 &  1 &  2 &  0 &             & NA &       & NA & NA &       & NA & NA &       & NA & NA &       & NA & 0 & 0 & 0 & 0 &       & NA & NA & NA &             & NA &       & NA & NA &        & NA & NA &       & NA & NA &       & NA & 0 & 0 & 0 & 0 & NA &       & NA &       & NA &       & NA &       & NA & NA & NA &       & NA & NA & NA &       & 0 & 0 & 0 & 0 & 0 & 0 & 0 & 1 & NA & 14 &      &     & 2\\\\\n",
       "\t 17 & 111 & 35 & 7 & 4 & 1 & 0 & 12 & 1 & 1 & 3 & 1 & 4 & 1 &  2 &  8 &  1 & NA &  1 & NA &  5 & NA &             &             &             & 45-54 & 1 & 1 &  3 &             & NA &       & NA & NA &       & NA & NA &       & NA & NA &       & NA & 0 & 0 & 0 & 0 & 18-29 &  1 &  2 &  2 &             & NA &       & NA & NA &       & NA & NA &       & NA & NA &       & NA & 0 & 0 & 0 & 0 &       & NA & NA & NA &             & NA &       & NA & NA &        & NA & NA &       & NA & NA &       & NA & 0 & 0 & 0 & 0 & NA &       & NA &       & NA &       & NA &       & NA & NA & NA &       & NA & NA & NA &       & 0 & 0 & 0 & 0 & 0 & 0 & 0 & 1 & NA & 10 &      &     & 2\\\\\n",
       "\t 17 & 111 & 35 & 1 & 4 & 1 & 0 & 12 & 1 & 1 & 1 & 1 & 3 & 1 &  6 &  1 & 15 & NA & 64 & NA & 61 & NA &             &             &             & 30-44 & 2 & 1 &  2 &             & NA &       & NA & NA &       & NA & NA &       & NA & NA &       & NA & 0 & 0 & 0 & 0 & 30-44 &  2 &  2 & NA &             & NA &       & NA & NA &       & NA & NA &       & NA & NA &       & NA & 0 & 0 & 0 & 0 &       & NA & NA & NA &             & NA &       & NA & NA &        & NA & NA &       & NA & NA &       & NA & 0 & 0 & 0 & 0 & NA &       & NA &       & NA &       & NA &       & NA & NA & NA &       & NA & NA & NA &       & 0 & 0 & 0 & 0 & 0 & 0 & 0 & 1 & NA & 13 &      &     & 2\\\\\n",
       "\t 17 & 111 & 35 & 5 & 4 & 1 & 0 & 12 & 1 & 1 & 1 & 1 & 4 & 1 &  4 &  1 &  1 & NA &  3 & NA &  1 & NA &             &             &             & 45-54 & 1 & 1 &  2 &             & NA &       & NA & NA &       & NA & NA &       & NA & NA &       & NA & 0 & 0 & 0 & 0 & 30-44 &  1 &  1 &  2 &             &  2 & 65+   &  4 & NA &       & NA & NA &       & NA & NA &       & NA & 0 & 0 & 0 & 0 &       & NA & NA & NA &             & NA &       & NA & NA &        & NA & NA &       & NA & NA &       & NA & 0 & 0 & 0 & 0 & NA &       & NA &       & NA &       & NA &       & NA & NA & NA &       & NA & NA & NA &       & 0 & 0 & 0 & 0 & 0 & 0 & 0 & 1 & NA & 16 &      &     & 2\\\\\n",
       "\t 17 & 111 & 35 & 3 & 4 & 1 & 0 & 12 & 2 & 1 & 1 & 2 & 4 & 3 & 10 &  1 & NA & NA & 71 & NA & 75 & NA &             &             &             & 30-44 & 2 & 2 &  2 &             & NA &       & NA & NA &       & NA & NA &       & NA & NA &       & NA & 0 & 0 & 0 & 0 &       & NA & NA & NA &             & NA &       & NA & NA &       & NA & NA &       & NA & NA &       & NA & 0 & 0 & 0 & 0 &       & NA & NA & NA &             & NA &       & NA & NA &        & NA & NA &       & NA & NA &       & NA & 0 & 0 & 0 & 0 & NA &       & NA &       & NA &       & NA &       & NA & NA & NA &       & NA & NA & NA &       & 0 & 0 & 0 & 0 & 0 & 0 & 0 & 1 & NA & 11 &      &     & 2\\\\\n",
       "\t 17 & 111 & 35 & 4 & 4 & 1 & 0 & 12 & 2 & 1 & 7 & 1 & 4 & 1 &  5 &  8 & NA & NA & 49 & NA & 49 & NA &             &             &             & 30-44 & 1 & 1 & NA &             & NA &       & NA & NA &       & NA & NA &       & NA & NA &       & NA & 0 & 0 & 0 & 0 &       & NA & NA & NA &             & NA &       & NA & NA &       & NA & NA &       & NA & NA &       & NA & 0 & 0 & 0 & 0 &       & NA & NA & NA &             & NA &       & NA & NA &        & NA & NA &       & NA & NA &       & NA & 0 & 0 & 0 & 0 & NA &       &  4 & 30-44 & NA &       & NA &       & NA & NA & NA &       & NA & NA & NA &       & 0 & 0 & 0 & 0 & 0 & 0 & 0 & 1 & NA &  8 &      &     & 2\\\\\n",
       "\t 17 & 111 & 35 & 3 & 4 & 1 & 0 & 12 & 2 & 1 & 7 & 1 & 4 & 1 &  2 &  1 & 16 &  1 & 20 & NA & 23 & NA &             &             &             & 65+   & 1 & 1 &  2 &             & NA &       & NA & NA &       & NA & NA &       & NA & NA &       & NA & 0 & 0 & 0 & 0 & 18-29 &  1 &  2 &  2 &             & NA &       & NA & NA &       & NA & NA &       & NA & NA &       & NA & 0 & 0 & 0 & 0 & 55-64 &  1 &  1 &  2 &             & NA &       & NA & NA &        & NA & NA &       & NA & NA &       & NA & 0 & 0 & 0 & 0 & NA &       & NA &       & NA &       & NA &       & NA & NA & NA &       & NA & NA & NA &       & 0 & 0 & 0 & 0 & 0 & 0 & 0 & 1 & NA & 11 &      &     & 2\\\\\n",
       "\t 17 & 111 & 35 & 4 & 4 & 1 & 0 & 12 & 2 & 1 & 5 & 1 & 1 & 7 &  2 &  1 &  1 &  1 &  1 & NA & 18 & NA &             &             &             & 30-44 & 2 & 2 &  2 &             & NA &       & NA & NA &       & NA & NA &       & NA & NA &       & NA & 0 & 0 & 0 & 0 & 18-29 &  1 &  1 &  2 &             & NA &       & NA & NA &       & NA & NA &       & NA & NA &       & NA & 0 & 0 & 0 & 0 & 45-54 &  2 &  1 &  2 &             & NA &       & NA &  2 & 06-Sep &  4 & NA &       & NA & NA &       & NA & 0 & 0 & 0 & 0 & NA &       & NA &       & NA &       & NA &       & NA & NA & NA &       & NA & NA & NA &       & 0 & 0 & 0 & 0 & 0 & 0 & 0 & 2 & NA &  9 &      &     & 2\\\\\n",
       "\t 17 & 111 & 35 & 3 & 4 & 1 & 0 & 12 & 2 & 1 & 2 & 1 & 4 & 1 &  4 &  1 & 14 & NA &  0 & NA &  0 & NA &             &             &             & 18-29 & 1 & 1 &  2 &             & NA &       & NA & NA &       & NA & NA &       & NA & NA &       & NA & 0 & 0 & 0 & 0 & 65+   &  2 &  2 &  7 &             & NA &       & NA & NA &       & NA & NA &       & NA & NA &       & NA & 0 & 0 & 0 & 0 &       & NA & NA & NA &             & NA &       & NA & NA &        & NA & NA &       & NA & NA &       & NA & 0 & 0 & 0 & 0 & NA &       & NA &       & NA &       & NA &       & NA & NA & NA &       & NA & NA & NA &       & 0 & 0 & 0 & 0 & 0 & 0 & 0 & 1 & NA &  9 &      &     & 3\\\\\n",
       "\t 17 & 111 & 35 & 1 & 4 & 1 & 0 & 12 & 2 & 1 & 1 & 1 & 4 & 1 &  2 &  1 & 15 & NA &  4 & NA &  1 & NA &             &             &             & 30-44 & 2 & 1 &  2 &             & NA &       & NA & NA &       & NA & NA &       & NA & NA &       & NA & 0 & 0 & 0 & 0 & 45-54 &  2 &  2 &  0 &             & NA &       & NA & NA &       & NA & NA &       & NA & NA &       & NA & 0 & 0 & 0 & 0 &       & NA & NA & NA &             & NA &       & NA & NA &        & NA & NA &       & NA & NA &       & NA & 0 & 0 & 0 & 0 & NA &       & NA &       & NA &       & NA &       & NA & NA & NA &       & NA & NA & NA &       & 0 & 0 & 0 & 0 & 0 & 0 & 0 & 1 & NA & 12 &      &     & 3\\\\\n",
       "\t 17 & 111 & 35 & 6 & 4 & 1 & 0 & 12 & 2 & 1 & 7 & 1 & 4 & 1 &  8 &  1 & NA & NA & 65 & NA & 65 & NA &             &             &             & 30-44 & 1 & 2 &  2 &             & NA &       & NA & NA &       & NA & NA &       & NA & NA &       & NA & 0 & 0 & 0 & 0 &       & NA & NA & NA &             & NA &       & NA & NA &       & NA & NA &       & NA & NA &       & NA & 0 & 0 & 0 & 0 &       & NA & NA & NA &             & NA &       & NA & NA &        & NA & NA &       & NA & NA &       & NA & 0 & 0 & 0 & 0 & NA &       & NA &       & NA &       & NA &       & NA & NA & NA &       & NA & NA & NA &       & 0 & 0 & 0 & 0 & 0 & 0 & 0 & 1 & NA & 21 &      &     & 3\\\\\n",
       "\t 17 & 111 & 35 & 6 & 4 & 1 & 0 & 12 & 2 & 1 & 1 & 1 & 4 & 1 &  2 &  1 & 17 & NA &  1 & NA &  6 & NA &             &             &             & 65+   & 1 & 1 &  2 &             & NA &       & NA & NA &       & NA & NA &       & NA & NA &       & NA & 0 & 0 & 0 & 0 & 55-64 &  1 &  2 &  1 &             & NA &       & NA &  2 & 18-29 &  4 & NA &       & NA & NA &       & NA & 0 & 0 & 0 & 0 &       & NA & NA & NA &             & NA &       & NA & NA &        & NA & NA &       & NA & NA &       & NA & 0 & 0 & 0 & 0 & NA &       & NA &       & NA &       & NA &       & NA & NA & NA &       & NA & NA & NA &       & 0 & 0 & 0 & 0 & 0 & 0 & 0 & 2 & NA & 18 &      &     & 3\\\\\n",
       "\t 17 & 111 & 35 & 4 & 4 & 1 & 0 & 51 & 2 & 1 & 7 & 1 & 3 & 2 &  2 &  1 & 13 & NA & 20 & NA & 35 & NA &             &             &             & 18-29 & 1 & 2 &  2 &             & NA &       & NA & NA &       & NA & NA &       & NA & NA &       & NA & 0 & 0 & 0 & 0 & 30-44 &  1 &  1 &  5 &             & NA &       & NA & NA &       & NA & NA &       & NA & NA &       & NA & 0 & 0 & 0 & 0 &       & NA & NA & NA &             & NA &       & NA & NA &        & NA & NA &       & NA & NA &       & NA & 0 & 0 & 0 & 0 & NA &       & NA &       & NA &       & NA &       & NA & NA & NA &       & NA & NA & NA &       & 0 & 0 & 0 & 0 & 0 & 0 & 0 & 1 & NA & 11 &      &     & 4\\\\\n",
       "\t 17 & 111 & 35 & 1 & 4 & 1 & 0 & 12 & 1 & 1 & 7 & 1 & 1 & 1 &  3 &  1 & 17 & NA & 21 & NA & 20 & NA &             &             &             & 30-44 & 2 & 1 &  2 &             & NA &       & NA & NA &       & NA & NA &       & NA & NA &       & NA & 0 & 0 & 0 & 0 & 18-29 &  1 &  2 &  1 &             & NA &       & NA &  2 & 45-54 &  4 & NA &       & NA & NA &       & NA & 0 & 0 & 0 & 0 &       & NA & NA & NA &             & NA &       & NA & NA &        & NA & NA &       & NA & NA &       & NA & 0 & 0 & 0 & 0 & NA &       & NA &       & NA &       & NA &       & NA & NA & NA &       & NA & NA & NA &       & 0 & 0 & 0 & 0 & 0 & 0 & 0 & 2 & NA & 16 &      &     & 4\\\\\n",
       "\t 17 & 111 & 35 & 4 & 4 & 1 & 0 & 12 & 1 & 1 & 1 & 1 & 2 & 1 &  1 & 14 &  1 & NA &  0 & NA &  0 & NA &             &             &             & 18-29 & 1 & 2 & NA &             & NA &       & NA & NA &       & NA & NA &       & NA & NA &       & NA & 0 & 0 & 0 & 0 & 30-44 &  2 &  1 &  2 &             & NA &       & NA & NA &       & NA & NA &       & NA & NA &       & NA & 0 & 0 & 0 & 0 &       & NA & NA & NA &             & NA &       & NA & NA &        & NA & NA &       & NA & NA &       & NA & 0 & 0 & 0 & 0 & NA &       & NA &       & NA &       & NA &       & NA & NA & NA &       & NA & NA & NA &       & 0 & 0 & 0 & 0 & 0 & 0 & 0 & 1 & NA & 17 &      &     & 4\\\\\n",
       "\t 17 & 111 & 35 & 6 & 4 & 1 & 0 & 34 & 2 & 1 & 7 & 1 & 4 & 1 &  5 & 16 & NA & NA & 49 & NA & 53 & NA &             &             &             & 15-17 & 1 & 1 &  9 &             & NA &       & NA & NA &       & NA & NA &       & NA & NA &       & NA & 0 & 0 & 0 & 0 &       & NA & NA & NA &             & NA &       & NA & NA &       & NA & NA &       & NA & NA &       & NA & 0 & 0 & 0 & 0 &       & NA & NA & NA &             & NA &       & NA & NA &        & NA & NA &       & NA & NA &       & NA & 0 & 0 & 0 & 0 & NA &       &  3 & 65+   & NA &       & NA &       & NA & NA & NA &       & NA & NA & NA &       & 0 & 0 & 0 & 0 & 0 & 0 & 0 & 1 & NA & 16 &      &     & 4\\\\\n",
       "\t 17 & 111 & 35 & 1 & 4 & 1 & 0 & 12 & 2 & 1 & 7 & 1 & 2 & 1 & 12 & 16 & NA & NA & 75 & NA & 75 & NA &             &             &             & 30-44 & 1 & 2 & NA &             & NA &       & NA & NA &       & NA & NA &       & NA & NA &       & NA & 0 & 0 & 0 & 0 &       & NA & NA & NA &             & NA &       & NA & NA &       & NA & NA &       & NA & NA &       & NA & 0 & 0 & 0 & 0 &       & NA & NA & NA &             & NA &       & NA & NA &        & NA & NA &       & NA & NA &       & NA & 0 & 0 & 0 & 0 & NA &       & NA &       & NA &       & NA &       & NA & NA & NA &       & NA & NA & NA &       & 0 & 0 & 0 & 0 & 0 & 0 & 0 & 1 & NA & 21 &      &     & 4\\\\\n",
       "\t 17 & 111 & 35 & 5 & 4 & 1 & 0 & 12 & 2 & 1 & 7 & 1 & 2 & 1 & 10 & 15 & NA & NA &  0 & NA &  0 & NA &             &             &             & 45-54 & 1 & 2 & NA &             & NA &       & NA & NA &       & NA & NA &       & NA & NA &       & NA & 0 & 0 & 0 & 0 &       & NA & NA & NA &             & NA &       & NA & NA &       & NA & NA &       & NA & NA &       & NA & 0 & 0 & 0 & 0 &       & NA & NA & NA &             & NA &       & NA & NA &        & NA & NA &       & NA & NA &       & NA & 0 & 0 & 0 & 0 & NA &       & NA &       & NA &       & NA &       & NA & NA & NA &       & NA & NA & NA &       & 0 & 0 & 0 & 0 & 0 & 0 & 0 & 1 & NA & 22 &      &     & 4\\\\\n",
       "\t 17 & 111 & 35 & 2 & 4 & 1 & 0 & 12 & 3 & 1 & 7 & 1 & 1 & 1 &  4 &  1 &  1 &  1 & 22 & NA & 22 & NA &             &             &             & 30-44 & 2 & 2 &  2 &             & NA &       & NA & NA &       & NA & NA &       & NA & NA &       & NA & 0 & 0 & 0 & 0 & 30-44 &  1 &  1 &  5 &             & NA &       & NA & NA &       & NA & NA &       & NA & NA &       & NA & 0 & 0 & 0 & 0 & 45-54 &  1 &  2 &  3 &             & NA &       & NA & NA &        & NA & NA &       & NA & NA &       & NA & 0 & 0 & 0 & 0 & NA &       & NA &       & NA &       & NA &       & NA & NA & NA &       & NA & NA & NA &       & 0 & 0 & 0 & 0 & 0 & 0 & 0 & 2 & NA & 19 &      &     & 4\\\\\n",
       "\\end{tabular}\n"
      ],
      "text/markdown": [
       "\n",
       "A data.frame: 174933 × 117\n",
       "\n",
       "| anno &lt;int&gt; | provincia &lt;int&gt; | comune &lt;int&gt; | giorno &lt;int&gt; | organo_di_rilevazione &lt;int&gt; | localizzazione_incidente &lt;int&gt; | denominazione_della_strada &lt;fct&gt; | tronco_di_strada_o_autostrada &lt;int&gt; | tipo_di_strada &lt;int&gt; | pavimentazione &lt;int&gt; | ⋯ ⋯ | feriti_maschi_coinvolti_su97 &lt;int&gt; | feriti_femmine_coinvolti_s98 &lt;int&gt; | morti_entro_24_ore &lt;int&gt; | morti_entro_30_giorni &lt;int&gt; | feriti &lt;int&gt; | descrizione_strada &lt;lgl&gt; | Ora &lt;int&gt; | chilometri &lt;fct&gt; | ettometrica &lt;fct&gt; | trimestre &lt;int&gt; |\n",
       "|---|---|---|---|---|---|---|---|---|---|---|---|---|---|---|---|---|---|---|---|---|\n",
       "| 17 | 7 | 30 | 6 | 2 | 6 | 27  | 12 | 2 | 1 | ⋯ | 0 | 0 | 0 | 0 | 6 | NA |  6 | 12  | 900 | 2 |\n",
       "| 17 | 7 | 66 | 1 | 2 | 3 | 26  | 12 | 2 | 1 | ⋯ | 0 | 0 | 0 | 0 | 1 | NA | 13 | 0   | 0   | 3 |\n",
       "| 17 | 7 | 43 | 3 | 2 | 6 | 26  | 12 | 2 | 1 | ⋯ | 0 | 0 | 0 | 0 | 1 | NA | 15 | 69  | 100 | 4 |\n",
       "| 17 | 7 | 24 | 1 | 2 | 8 | 0   | 12 | 2 | 1 | ⋯ | 0 | 0 | 0 | 0 | 1 | NA | 17 | 0   | 0   | 4 |\n",
       "| 17 | 7 | 65 | 1 | 2 | 1 | 0   | 12 | 2 | 1 | ⋯ | 0 | 0 | 0 | 0 | 1 | NA | 10 | 0   | 0   | 4 |\n",
       "| 17 | 7 | 73 | 7 | 2 | 6 | 26  | 12 | 2 | 1 | ⋯ | 0 | 0 | 0 | 0 | 2 | NA | 19 | 0   | 0   | 3 |\n",
       "| 17 | 7 |  3 | 5 | 2 | 1 | 0   | 12 | 2 | 1 | ⋯ | 0 | 0 | 0 | 0 | 1 | NA | 15 | 0   | 0   | 1 |\n",
       "| 17 | 7 | 65 | 4 | 2 | 1 | 0   | 12 | 2 | 1 | ⋯ | 0 | 0 | 0 | 0 | 1 | NA | 20 | 0   | 0   | 2 |\n",
       "| 17 | 7 |  3 | 5 | 2 | 1 | 0   | 12 | 1 | 1 | ⋯ | 0 | 0 | 0 | 0 | 1 | NA | 16 | 0   | 0   | 2 |\n",
       "| 17 | 7 | 58 | 1 | 2 | 6 | 26  | 12 | 2 | 1 | ⋯ | 0 | 0 | 0 | 0 | 1 | NA | 10 | 98  | 400 | 2 |\n",
       "| 17 | 7 | 72 | 4 | 2 | 4 | 0   | 12 | 2 | 1 | ⋯ | 0 | 0 | 0 | 0 | 1 | NA | 21 | 0   | 0   | 3 |\n",
       "| 17 | 7 | 65 | 7 | 2 | 6 | 26  | 12 | 2 | 1 | ⋯ | 0 | 0 | 0 | 0 | 1 | NA | 19 | 72  | 700 | 2 |\n",
       "| 17 | 7 | 57 | 2 | 2 | 0 | 17  | 12 | 2 | 1 | ⋯ | 0 | 0 | 0 | 0 | 2 | NA |  7 | 0   | 0   | 3 |\n",
       "| 17 | 7 | 59 | 4 | 2 | 9 | 12  | 12 | 2 | 1 | ⋯ | 0 | 0 | 0 | 0 | 4 | NA | 24 | 2   | 540 | 2 |\n",
       "| 17 | 7 | 63 | 4 | 2 | 1 | 0   | 12 | 2 | 1 | ⋯ | 0 | 0 | 0 | 0 | 1 | NA |  9 | 0   | 0   | 1 |\n",
       "| 17 | 7 |  9 | 1 | 2 | 6 | 26  | 12 | 2 | 1 | ⋯ | 0 | 0 | 0 | 0 | 2 | NA | 16 | 55  | 850 | 4 |\n",
       "| 17 | 7 |  3 | 6 | 2 | 1 | 0   | 12 | 2 | 1 | ⋯ | 0 | 0 | 0 | 0 | 1 | NA | 20 | 0   | 0   | 4 |\n",
       "| 17 | 7 | 73 | 3 | 2 | 6 | 26  | 12 | 2 | 1 | ⋯ | 0 | 0 | 0 | 0 | 3 | NA | 22 | 62  | 200 | 3 |\n",
       "| 17 | 7 | 73 | 1 | 2 | 3 | 26  | 12 | 2 | 1 | ⋯ | 0 | 0 | 0 | 0 | 1 | NA |  7 | 0   | 0   | 2 |\n",
       "| 17 | 7 |  3 | 6 | 2 | 1 | 26  | 12 | 2 | 1 | ⋯ | 0 | 0 | 0 | 0 | 1 | NA | 11 | 102 | 100 | 2 |\n",
       "| 17 | 7 | 44 | 5 | 2 | 3 | 26  | 12 | 2 | 1 | ⋯ | 0 | 0 | 0 | 0 | 1 | NA | 19 | 128 | 750 | 1 |\n",
       "| 17 | 7 | 43 | 7 | 2 | 3 | 26  | 12 | 2 | 1 | ⋯ | 0 | 0 | 0 | 0 | 1 | NA | 16 | 67  | 800 | 1 |\n",
       "| 17 | 7 | 48 | 7 | 2 | 9 | 505 | 12 | 2 | 1 | ⋯ | 0 | 0 | 0 | 0 | 3 | NA | 11 | 4   | 700 | 3 |\n",
       "| 17 | 7 |  2 | 4 | 2 | 9 | 406 | 12 | 2 | 1 | ⋯ | 0 | 0 | 2 | 0 | 3 | NA |  8 | 3   | 100 | 1 |\n",
       "| 17 | 7 | 22 | 7 | 2 | 1 | 0   | 12 | 2 | 1 | ⋯ | 0 | 0 | 0 | 0 | 1 | NA | 13 | 0   | 0   | 1 |\n",
       "| 17 | 7 | 13 | 7 | 2 | 9 | 506 | 12 | 2 | 1 | ⋯ | 0 | 0 | 0 | 0 | 2 | NA | 22 | 10  | 0   | 4 |\n",
       "| 17 | 7 | 44 | 6 | 2 | 3 | 26  | 12 | 2 | 1 | ⋯ | 0 | 0 | 0 | 0 | 1 | NA | 14 | 0   | 0   | 4 |\n",
       "| 17 | 7 | 40 | 6 | 2 | 6 | 26  | 12 | 2 | 1 | ⋯ | 0 | 0 | 0 | 0 | 1 | NA | 13 | 0   | 0   | 2 |\n",
       "| 17 | 7 | 40 | 6 | 2 | 6 | 26  | 12 | 2 | 1 | ⋯ | 0 | 0 | 0 | 0 | 1 | NA | 17 | 123 | 300 | 3 |\n",
       "| 17 | 7 | 22 | 4 | 2 | 1 | 0   | 12 | 2 | 1 | ⋯ | 0 | 0 | 0 | 0 | 1 | NA | 19 | 0   | 0   | 3 |\n",
       "| ⋮ | ⋮ | ⋮ | ⋮ | ⋮ | ⋮ | ⋮ | ⋮ | ⋮ | ⋮ | ⋱ | ⋮ | ⋮ | ⋮ | ⋮ | ⋮ | ⋮ | ⋮ | ⋮ | ⋮ | ⋮ |\n",
       "| 17 |  95 | 38 | 7 | 4 | 1 | 0 | 12 | 2 | 1 | ⋯ | 0 | 0 | 0 | 0 | 1 | NA |  8 | <!----> | <!----> | 3 |\n",
       "| 17 |  95 | 38 | 2 | 4 | 1 | 0 | 12 | 2 | 1 | ⋯ | 0 | 0 | 0 | 0 | 2 | NA | 14 | <!----> | <!----> | 3 |\n",
       "| 17 |  95 | 38 | 3 | 4 | 1 | 0 | 12 | 3 | 1 | ⋯ | 0 | 0 | 0 | 0 | 1 | NA | 20 | <!----> | <!----> | 3 |\n",
       "| 17 | 111 | 35 | 6 | 4 | 1 | 0 | 12 | 2 | 1 | ⋯ | 0 | 0 | 0 | 0 | 1 | NA |  8 | <!----> | <!----> | 1 |\n",
       "| 17 | 111 | 35 | 3 | 4 | 1 | 0 | 12 | 2 | 1 | ⋯ | 0 | 0 | 0 | 0 | 1 | NA | 12 | <!----> | <!----> | 1 |\n",
       "| 17 | 111 | 35 | 6 | 4 | 1 | 0 | 12 | 2 | 1 | ⋯ | 0 | 0 | 0 | 0 | 1 | NA | 13 | <!----> | <!----> | 1 |\n",
       "| 17 | 111 | 35 | 5 | 4 | 1 | 0 | 12 | 2 | 1 | ⋯ | 0 | 0 | 0 | 0 | 2 | NA | 19 | <!----> | <!----> | 1 |\n",
       "| 17 | 111 | 35 | 5 | 4 | 1 | 0 | 12 | 2 | 1 | ⋯ | 0 | 0 | 0 | 0 | 1 | NA | 13 | <!----> | <!----> | 1 |\n",
       "| 17 | 111 | 35 | 1 | 4 | 1 | 0 | 12 | 2 | 1 | ⋯ | 0 | 0 | 0 | 0 | 2 | NA | 15 | <!----> | <!----> | 1 |\n",
       "| 17 | 111 | 35 | 4 | 4 | 1 | 0 | 12 | 2 | 1 | ⋯ | 0 | 0 | 0 | 0 | 1 | NA |  9 | <!----> | <!----> | 1 |\n",
       "| 17 | 111 | 35 | 2 | 4 | 1 | 0 | 12 | 2 | 1 | ⋯ | 0 | 0 | 0 | 0 | 5 | NA | 11 | <!----> | <!----> | 1 |\n",
       "| 17 | 111 | 35 | 1 | 4 | 1 | 0 | 12 | 2 | 1 | ⋯ | 0 | 0 | 0 | 0 | 1 | NA | 14 | <!----> | <!----> | 2 |\n",
       "| 17 | 111 | 35 | 7 | 4 | 1 | 0 | 12 | 1 | 1 | ⋯ | 0 | 0 | 0 | 0 | 1 | NA | 10 | <!----> | <!----> | 2 |\n",
       "| 17 | 111 | 35 | 1 | 4 | 1 | 0 | 12 | 1 | 1 | ⋯ | 0 | 0 | 0 | 0 | 1 | NA | 13 | <!----> | <!----> | 2 |\n",
       "| 17 | 111 | 35 | 5 | 4 | 1 | 0 | 12 | 1 | 1 | ⋯ | 0 | 0 | 0 | 0 | 1 | NA | 16 | <!----> | <!----> | 2 |\n",
       "| 17 | 111 | 35 | 3 | 4 | 1 | 0 | 12 | 2 | 1 | ⋯ | 0 | 0 | 0 | 0 | 1 | NA | 11 | <!----> | <!----> | 2 |\n",
       "| 17 | 111 | 35 | 4 | 4 | 1 | 0 | 12 | 2 | 1 | ⋯ | 0 | 0 | 0 | 0 | 1 | NA |  8 | <!----> | <!----> | 2 |\n",
       "| 17 | 111 | 35 | 3 | 4 | 1 | 0 | 12 | 2 | 1 | ⋯ | 0 | 0 | 0 | 0 | 1 | NA | 11 | <!----> | <!----> | 2 |\n",
       "| 17 | 111 | 35 | 4 | 4 | 1 | 0 | 12 | 2 | 1 | ⋯ | 0 | 0 | 0 | 0 | 2 | NA |  9 | <!----> | <!----> | 2 |\n",
       "| 17 | 111 | 35 | 3 | 4 | 1 | 0 | 12 | 2 | 1 | ⋯ | 0 | 0 | 0 | 0 | 1 | NA |  9 | <!----> | <!----> | 3 |\n",
       "| 17 | 111 | 35 | 1 | 4 | 1 | 0 | 12 | 2 | 1 | ⋯ | 0 | 0 | 0 | 0 | 1 | NA | 12 | <!----> | <!----> | 3 |\n",
       "| 17 | 111 | 35 | 6 | 4 | 1 | 0 | 12 | 2 | 1 | ⋯ | 0 | 0 | 0 | 0 | 1 | NA | 21 | <!----> | <!----> | 3 |\n",
       "| 17 | 111 | 35 | 6 | 4 | 1 | 0 | 12 | 2 | 1 | ⋯ | 0 | 0 | 0 | 0 | 2 | NA | 18 | <!----> | <!----> | 3 |\n",
       "| 17 | 111 | 35 | 4 | 4 | 1 | 0 | 51 | 2 | 1 | ⋯ | 0 | 0 | 0 | 0 | 1 | NA | 11 | <!----> | <!----> | 4 |\n",
       "| 17 | 111 | 35 | 1 | 4 | 1 | 0 | 12 | 1 | 1 | ⋯ | 0 | 0 | 0 | 0 | 2 | NA | 16 | <!----> | <!----> | 4 |\n",
       "| 17 | 111 | 35 | 4 | 4 | 1 | 0 | 12 | 1 | 1 | ⋯ | 0 | 0 | 0 | 0 | 1 | NA | 17 | <!----> | <!----> | 4 |\n",
       "| 17 | 111 | 35 | 6 | 4 | 1 | 0 | 34 | 2 | 1 | ⋯ | 0 | 0 | 0 | 0 | 1 | NA | 16 | <!----> | <!----> | 4 |\n",
       "| 17 | 111 | 35 | 1 | 4 | 1 | 0 | 12 | 2 | 1 | ⋯ | 0 | 0 | 0 | 0 | 1 | NA | 21 | <!----> | <!----> | 4 |\n",
       "| 17 | 111 | 35 | 5 | 4 | 1 | 0 | 12 | 2 | 1 | ⋯ | 0 | 0 | 0 | 0 | 1 | NA | 22 | <!----> | <!----> | 4 |\n",
       "| 17 | 111 | 35 | 2 | 4 | 1 | 0 | 12 | 3 | 1 | ⋯ | 0 | 0 | 0 | 0 | 2 | NA | 19 | <!----> | <!----> | 4 |\n",
       "\n"
      ],
      "text/plain": [
       "       anno provincia comune giorno organo_di_rilevazione\n",
       "1      17   7         30     6      2                    \n",
       "2      17   7         66     1      2                    \n",
       "3      17   7         43     3      2                    \n",
       "4      17   7         24     1      2                    \n",
       "5      17   7         65     1      2                    \n",
       "6      17   7         73     7      2                    \n",
       "7      17   7          3     5      2                    \n",
       "8      17   7         65     4      2                    \n",
       "9      17   7          3     5      2                    \n",
       "10     17   7         58     1      2                    \n",
       "11     17   7         72     4      2                    \n",
       "12     17   7         65     7      2                    \n",
       "13     17   7         57     2      2                    \n",
       "14     17   7         59     4      2                    \n",
       "15     17   7         63     4      2                    \n",
       "16     17   7          9     1      2                    \n",
       "17     17   7          3     6      2                    \n",
       "18     17   7         73     3      2                    \n",
       "19     17   7         73     1      2                    \n",
       "20     17   7          3     6      2                    \n",
       "21     17   7         44     5      2                    \n",
       "22     17   7         43     7      2                    \n",
       "23     17   7         48     7      2                    \n",
       "24     17   7          2     4      2                    \n",
       "25     17   7         22     7      2                    \n",
       "26     17   7         13     7      2                    \n",
       "27     17   7         44     6      2                    \n",
       "28     17   7         40     6      2                    \n",
       "29     17   7         40     6      2                    \n",
       "30     17   7         22     4      2                    \n",
       "⋮      ⋮    ⋮         ⋮      ⋮      ⋮                    \n",
       "174904 17    95       38     7      4                    \n",
       "174905 17    95       38     2      4                    \n",
       "174906 17    95       38     3      4                    \n",
       "174907 17   111       35     6      4                    \n",
       "174908 17   111       35     3      4                    \n",
       "174909 17   111       35     6      4                    \n",
       "174910 17   111       35     5      4                    \n",
       "174911 17   111       35     5      4                    \n",
       "174912 17   111       35     1      4                    \n",
       "174913 17   111       35     4      4                    \n",
       "174914 17   111       35     2      4                    \n",
       "174915 17   111       35     1      4                    \n",
       "174916 17   111       35     7      4                    \n",
       "174917 17   111       35     1      4                    \n",
       "174918 17   111       35     5      4                    \n",
       "174919 17   111       35     3      4                    \n",
       "174920 17   111       35     4      4                    \n",
       "174921 17   111       35     3      4                    \n",
       "174922 17   111       35     4      4                    \n",
       "174923 17   111       35     3      4                    \n",
       "174924 17   111       35     1      4                    \n",
       "174925 17   111       35     6      4                    \n",
       "174926 17   111       35     6      4                    \n",
       "174927 17   111       35     4      4                    \n",
       "174928 17   111       35     1      4                    \n",
       "174929 17   111       35     4      4                    \n",
       "174930 17   111       35     6      4                    \n",
       "174931 17   111       35     1      4                    \n",
       "174932 17   111       35     5      4                    \n",
       "174933 17   111       35     2      4                    \n",
       "       localizzazione_incidente denominazione_della_strada\n",
       "1      6                        27                        \n",
       "2      3                        26                        \n",
       "3      6                        26                        \n",
       "4      8                        0                         \n",
       "5      1                        0                         \n",
       "6      6                        26                        \n",
       "7      1                        0                         \n",
       "8      1                        0                         \n",
       "9      1                        0                         \n",
       "10     6                        26                        \n",
       "11     4                        0                         \n",
       "12     6                        26                        \n",
       "13     0                        17                        \n",
       "14     9                        12                        \n",
       "15     1                        0                         \n",
       "16     6                        26                        \n",
       "17     1                        0                         \n",
       "18     6                        26                        \n",
       "19     3                        26                        \n",
       "20     1                        26                        \n",
       "21     3                        26                        \n",
       "22     3                        26                        \n",
       "23     9                        505                       \n",
       "24     9                        406                       \n",
       "25     1                        0                         \n",
       "26     9                        506                       \n",
       "27     3                        26                        \n",
       "28     6                        26                        \n",
       "29     6                        26                        \n",
       "30     1                        0                         \n",
       "⋮      ⋮                        ⋮                         \n",
       "174904 1                        0                         \n",
       "174905 1                        0                         \n",
       "174906 1                        0                         \n",
       "174907 1                        0                         \n",
       "174908 1                        0                         \n",
       "174909 1                        0                         \n",
       "174910 1                        0                         \n",
       "174911 1                        0                         \n",
       "174912 1                        0                         \n",
       "174913 1                        0                         \n",
       "174914 1                        0                         \n",
       "174915 1                        0                         \n",
       "174916 1                        0                         \n",
       "174917 1                        0                         \n",
       "174918 1                        0                         \n",
       "174919 1                        0                         \n",
       "174920 1                        0                         \n",
       "174921 1                        0                         \n",
       "174922 1                        0                         \n",
       "174923 1                        0                         \n",
       "174924 1                        0                         \n",
       "174925 1                        0                         \n",
       "174926 1                        0                         \n",
       "174927 1                        0                         \n",
       "174928 1                        0                         \n",
       "174929 1                        0                         \n",
       "174930 1                        0                         \n",
       "174931 1                        0                         \n",
       "174932 1                        0                         \n",
       "174933 1                        0                         \n",
       "       tronco_di_strada_o_autostrada tipo_di_strada pavimentazione ⋯\n",
       "1      12                            2              1              ⋯\n",
       "2      12                            2              1              ⋯\n",
       "3      12                            2              1              ⋯\n",
       "4      12                            2              1              ⋯\n",
       "5      12                            2              1              ⋯\n",
       "6      12                            2              1              ⋯\n",
       "7      12                            2              1              ⋯\n",
       "8      12                            2              1              ⋯\n",
       "9      12                            1              1              ⋯\n",
       "10     12                            2              1              ⋯\n",
       "11     12                            2              1              ⋯\n",
       "12     12                            2              1              ⋯\n",
       "13     12                            2              1              ⋯\n",
       "14     12                            2              1              ⋯\n",
       "15     12                            2              1              ⋯\n",
       "16     12                            2              1              ⋯\n",
       "17     12                            2              1              ⋯\n",
       "18     12                            2              1              ⋯\n",
       "19     12                            2              1              ⋯\n",
       "20     12                            2              1              ⋯\n",
       "21     12                            2              1              ⋯\n",
       "22     12                            2              1              ⋯\n",
       "23     12                            2              1              ⋯\n",
       "24     12                            2              1              ⋯\n",
       "25     12                            2              1              ⋯\n",
       "26     12                            2              1              ⋯\n",
       "27     12                            2              1              ⋯\n",
       "28     12                            2              1              ⋯\n",
       "29     12                            2              1              ⋯\n",
       "30     12                            2              1              ⋯\n",
       "⋮      ⋮                             ⋮              ⋮              ⋱\n",
       "174904 12                            2              1              ⋯\n",
       "174905 12                            2              1              ⋯\n",
       "174906 12                            3              1              ⋯\n",
       "174907 12                            2              1              ⋯\n",
       "174908 12                            2              1              ⋯\n",
       "174909 12                            2              1              ⋯\n",
       "174910 12                            2              1              ⋯\n",
       "174911 12                            2              1              ⋯\n",
       "174912 12                            2              1              ⋯\n",
       "174913 12                            2              1              ⋯\n",
       "174914 12                            2              1              ⋯\n",
       "174915 12                            2              1              ⋯\n",
       "174916 12                            1              1              ⋯\n",
       "174917 12                            1              1              ⋯\n",
       "174918 12                            1              1              ⋯\n",
       "174919 12                            2              1              ⋯\n",
       "174920 12                            2              1              ⋯\n",
       "174921 12                            2              1              ⋯\n",
       "174922 12                            2              1              ⋯\n",
       "174923 12                            2              1              ⋯\n",
       "174924 12                            2              1              ⋯\n",
       "174925 12                            2              1              ⋯\n",
       "174926 12                            2              1              ⋯\n",
       "174927 51                            2              1              ⋯\n",
       "174928 12                            1              1              ⋯\n",
       "174929 12                            1              1              ⋯\n",
       "174930 34                            2              1              ⋯\n",
       "174931 12                            2              1              ⋯\n",
       "174932 12                            2              1              ⋯\n",
       "174933 12                            3              1              ⋯\n",
       "       feriti_maschi_coinvolti_su97 feriti_femmine_coinvolti_s98\n",
       "1      0                            0                           \n",
       "2      0                            0                           \n",
       "3      0                            0                           \n",
       "4      0                            0                           \n",
       "5      0                            0                           \n",
       "6      0                            0                           \n",
       "7      0                            0                           \n",
       "8      0                            0                           \n",
       "9      0                            0                           \n",
       "10     0                            0                           \n",
       "11     0                            0                           \n",
       "12     0                            0                           \n",
       "13     0                            0                           \n",
       "14     0                            0                           \n",
       "15     0                            0                           \n",
       "16     0                            0                           \n",
       "17     0                            0                           \n",
       "18     0                            0                           \n",
       "19     0                            0                           \n",
       "20     0                            0                           \n",
       "21     0                            0                           \n",
       "22     0                            0                           \n",
       "23     0                            0                           \n",
       "24     0                            0                           \n",
       "25     0                            0                           \n",
       "26     0                            0                           \n",
       "27     0                            0                           \n",
       "28     0                            0                           \n",
       "29     0                            0                           \n",
       "30     0                            0                           \n",
       "⋮      ⋮                            ⋮                           \n",
       "174904 0                            0                           \n",
       "174905 0                            0                           \n",
       "174906 0                            0                           \n",
       "174907 0                            0                           \n",
       "174908 0                            0                           \n",
       "174909 0                            0                           \n",
       "174910 0                            0                           \n",
       "174911 0                            0                           \n",
       "174912 0                            0                           \n",
       "174913 0                            0                           \n",
       "174914 0                            0                           \n",
       "174915 0                            0                           \n",
       "174916 0                            0                           \n",
       "174917 0                            0                           \n",
       "174918 0                            0                           \n",
       "174919 0                            0                           \n",
       "174920 0                            0                           \n",
       "174921 0                            0                           \n",
       "174922 0                            0                           \n",
       "174923 0                            0                           \n",
       "174924 0                            0                           \n",
       "174925 0                            0                           \n",
       "174926 0                            0                           \n",
       "174927 0                            0                           \n",
       "174928 0                            0                           \n",
       "174929 0                            0                           \n",
       "174930 0                            0                           \n",
       "174931 0                            0                           \n",
       "174932 0                            0                           \n",
       "174933 0                            0                           \n",
       "       morti_entro_24_ore morti_entro_30_giorni feriti descrizione_strada Ora\n",
       "1      0                  0                     6      NA                  6 \n",
       "2      0                  0                     1      NA                 13 \n",
       "3      0                  0                     1      NA                 15 \n",
       "4      0                  0                     1      NA                 17 \n",
       "5      0                  0                     1      NA                 10 \n",
       "6      0                  0                     2      NA                 19 \n",
       "7      0                  0                     1      NA                 15 \n",
       "8      0                  0                     1      NA                 20 \n",
       "9      0                  0                     1      NA                 16 \n",
       "10     0                  0                     1      NA                 10 \n",
       "11     0                  0                     1      NA                 21 \n",
       "12     0                  0                     1      NA                 19 \n",
       "13     0                  0                     2      NA                  7 \n",
       "14     0                  0                     4      NA                 24 \n",
       "15     0                  0                     1      NA                  9 \n",
       "16     0                  0                     2      NA                 16 \n",
       "17     0                  0                     1      NA                 20 \n",
       "18     0                  0                     3      NA                 22 \n",
       "19     0                  0                     1      NA                  7 \n",
       "20     0                  0                     1      NA                 11 \n",
       "21     0                  0                     1      NA                 19 \n",
       "22     0                  0                     1      NA                 16 \n",
       "23     0                  0                     3      NA                 11 \n",
       "24     2                  0                     3      NA                  8 \n",
       "25     0                  0                     1      NA                 13 \n",
       "26     0                  0                     2      NA                 22 \n",
       "27     0                  0                     1      NA                 14 \n",
       "28     0                  0                     1      NA                 13 \n",
       "29     0                  0                     1      NA                 17 \n",
       "30     0                  0                     1      NA                 19 \n",
       "⋮      ⋮                  ⋮                     ⋮      ⋮                  ⋮  \n",
       "174904 0                  0                     1      NA                  8 \n",
       "174905 0                  0                     2      NA                 14 \n",
       "174906 0                  0                     1      NA                 20 \n",
       "174907 0                  0                     1      NA                  8 \n",
       "174908 0                  0                     1      NA                 12 \n",
       "174909 0                  0                     1      NA                 13 \n",
       "174910 0                  0                     2      NA                 19 \n",
       "174911 0                  0                     1      NA                 13 \n",
       "174912 0                  0                     2      NA                 15 \n",
       "174913 0                  0                     1      NA                  9 \n",
       "174914 0                  0                     5      NA                 11 \n",
       "174915 0                  0                     1      NA                 14 \n",
       "174916 0                  0                     1      NA                 10 \n",
       "174917 0                  0                     1      NA                 13 \n",
       "174918 0                  0                     1      NA                 16 \n",
       "174919 0                  0                     1      NA                 11 \n",
       "174920 0                  0                     1      NA                  8 \n",
       "174921 0                  0                     1      NA                 11 \n",
       "174922 0                  0                     2      NA                  9 \n",
       "174923 0                  0                     1      NA                  9 \n",
       "174924 0                  0                     1      NA                 12 \n",
       "174925 0                  0                     1      NA                 21 \n",
       "174926 0                  0                     2      NA                 18 \n",
       "174927 0                  0                     1      NA                 11 \n",
       "174928 0                  0                     2      NA                 16 \n",
       "174929 0                  0                     1      NA                 17 \n",
       "174930 0                  0                     1      NA                 16 \n",
       "174931 0                  0                     1      NA                 21 \n",
       "174932 0                  0                     1      NA                 22 \n",
       "174933 0                  0                     2      NA                 19 \n",
       "       chilometri ettometrica trimestre\n",
       "1      12         900         2        \n",
       "2      0          0           3        \n",
       "3      69         100         4        \n",
       "4      0          0           4        \n",
       "5      0          0           4        \n",
       "6      0          0           3        \n",
       "7      0          0           1        \n",
       "8      0          0           2        \n",
       "9      0          0           2        \n",
       "10     98         400         2        \n",
       "11     0          0           3        \n",
       "12     72         700         2        \n",
       "13     0          0           3        \n",
       "14     2          540         2        \n",
       "15     0          0           1        \n",
       "16     55         850         4        \n",
       "17     0          0           4        \n",
       "18     62         200         3        \n",
       "19     0          0           2        \n",
       "20     102        100         2        \n",
       "21     128        750         1        \n",
       "22     67         800         1        \n",
       "23     4          700         3        \n",
       "24     3          100         1        \n",
       "25     0          0           1        \n",
       "26     10         0           4        \n",
       "27     0          0           4        \n",
       "28     0          0           2        \n",
       "29     123        300         3        \n",
       "30     0          0           3        \n",
       "⋮      ⋮          ⋮           ⋮        \n",
       "174904                        3        \n",
       "174905                        3        \n",
       "174906                        3        \n",
       "174907                        1        \n",
       "174908                        1        \n",
       "174909                        1        \n",
       "174910                        1        \n",
       "174911                        1        \n",
       "174912                        1        \n",
       "174913                        1        \n",
       "174914                        1        \n",
       "174915                        2        \n",
       "174916                        2        \n",
       "174917                        2        \n",
       "174918                        2        \n",
       "174919                        2        \n",
       "174920                        2        \n",
       "174921                        2        \n",
       "174922                        2        \n",
       "174923                        3        \n",
       "174924                        3        \n",
       "174925                        3        \n",
       "174926                        3        \n",
       "174927                        4        \n",
       "174928                        4        \n",
       "174929                        4        \n",
       "174930                        4        \n",
       "174931                        4        \n",
       "174932                        4        \n",
       "174933                        4        "
      ]
     },
     "metadata": {},
     "output_type": "display_data"
    }
   ],
   "source": [
    "dataset_proj"
   ]
  },
  {
   "cell_type": "code",
   "execution_count": 3,
   "metadata": {},
   "outputs": [
    {
     "name": "stdout",
     "output_type": "stream",
     "text": [
      "Grandezza del dataset: 117 x 174933"
     ]
    }
   ],
   "source": [
    "cat(\"Grandezza del dataset:\",ncol(dataset_proj),\"x\",nrow(dataset_proj))"
   ]
  },
  {
   "cell_type": "markdown",
   "metadata": {},
   "source": [
    "Andiamo a prendere un campione di dal dataset che viene fornito. Per modificare la grandezza del campione, si cambi `SAMPLE_SIZE`."
   ]
  },
  {
   "cell_type": "code",
   "execution_count": 4,
   "metadata": {},
   "outputs": [],
   "source": [
    "SAMPLE_SIZE = 20000"
   ]
  },
  {
   "cell_type": "code",
   "execution_count": 5,
   "metadata": {},
   "outputs": [],
   "source": [
    "sample_rows <- sample(nrow(dataset_proj), SAMPLE_SIZE)"
   ]
  },
  {
   "cell_type": "raw",
   "metadata": {},
   "source": [
    "for(i in 1:(SAMPLE_SIZE-1))\n",
    "{\n",
    "for(j in (i+1):SAMPLE_SIZE)\n",
    "{\n",
    "if(sample_rows[i] == sample_rows[j]) \n",
    "                    {\n",
    "                    print(\"errore\")\n",
    "                    }\n",
    "}\n",
    "}\n"
   ]
  },
  {
   "cell_type": "code",
   "execution_count": 6,
   "metadata": {},
   "outputs": [],
   "source": [
    "sample_data = dataset_proj[sample_rows,]"
   ]
  },
  {
   "cell_type": "code",
   "execution_count": 7,
   "metadata": {
    "scrolled": false
   },
   "outputs": [
    {
     "data": {
      "text/html": [
       "<ol class=list-inline>\n",
       "\t<li>'anno'</li>\n",
       "\t<li>'provincia'</li>\n",
       "\t<li>'comune'</li>\n",
       "\t<li>'giorno'</li>\n",
       "\t<li>'organo_di_rilevazione'</li>\n",
       "\t<li>'localizzazione_incidente'</li>\n",
       "\t<li>'denominazione_della_strada'</li>\n",
       "\t<li>'tronco_di_strada_o_autostrada'</li>\n",
       "\t<li>'tipo_di_strada'</li>\n",
       "\t<li>'pavimentazione'</li>\n",
       "\t<li>'intersezione_o_non_interse3'</li>\n",
       "\t<li>'fondo_stradale'</li>\n",
       "\t<li>'segnaletica'</li>\n",
       "\t<li>'condizioni_meteorologiche'</li>\n",
       "\t<li>'natura_incidente'</li>\n",
       "\t<li>'tipo_veicolo_a'</li>\n",
       "\t<li>'tipo_veicoli__b_'</li>\n",
       "\t<li>'tipo_veicolo__c_'</li>\n",
       "\t<li>'veicolo__a____circostanze_10'</li>\n",
       "\t<li>'veicolo__a____circostanze_11'</li>\n",
       "\t<li>'veicolo__b____circostanze_13'</li>\n",
       "\t<li>'veicolo__b____circostanze_14'</li>\n",
       "\t<li>'veicolo__a___anno_immatric18'</li>\n",
       "\t<li>'immatricolazione_veicolo__b_'</li>\n",
       "\t<li>'immatricolazione_veicolo__c_'</li>\n",
       "\t<li>'veicolo__a___et__conducente'</li>\n",
       "\t<li>'veicolo__a___sesso_conducente'</li>\n",
       "\t<li>'veicolo__a___esito_conducente'</li>\n",
       "\t<li>'veicolo__a___patente_condu29'</li>\n",
       "\t<li>'veicolo__a___anno_rilascio30'</li>\n",
       "\t<li>'veicolo__a___passeggeri_an35'</li>\n",
       "\t<li>'veicolo__a___et__passegger36'</li>\n",
       "\t<li>'veicolo__a___sesso_passegg37'</li>\n",
       "\t<li>'veicolo__a___esito_passegg38'</li>\n",
       "\t<li>'veicolo__a___et__passegger39'</li>\n",
       "\t<li>'veicolo__a___sesso_passegg40'</li>\n",
       "\t<li>'veicolo__a___esito_passegg41'</li>\n",
       "\t<li>'veicolo__a___et__passegger42'</li>\n",
       "\t<li>'veicolo__a___sesso_passegg43'</li>\n",
       "\t<li>'veicolo__a___esito_passegg44'</li>\n",
       "\t<li>'veicolo__a___et__passegger45'</li>\n",
       "\t<li>'veicolo__a___sesso_passegg46'</li>\n",
       "\t<li>'veicolo__a___altri_passegg47'</li>\n",
       "\t<li>'veicolo__a___altri_passegg48'</li>\n",
       "\t<li>'veicolo__a___altri_passegg49'</li>\n",
       "\t<li>'veicolo__a___altri_passegg50'</li>\n",
       "\t<li>'veicolo__b___et__conducente'</li>\n",
       "\t<li>'veicolo__b___sesso_conducente'</li>\n",
       "\t<li>'veicolo__b___esito_conducente'</li>\n",
       "\t<li>'veicolo__b___patente_condu51'</li>\n",
       "\t<li>'veicolo__b___anno_rilascio52'</li>\n",
       "\t<li>'veicolo__b___passeggeri_an57'</li>\n",
       "\t<li>'veicolo__b___et__passegger58'</li>\n",
       "\t<li>'veicolo__b___sesso_passegg59'</li>\n",
       "\t<li>'veicolo__b___esito_passegg60'</li>\n",
       "\t<li>'veicolo__b___et__passegger61'</li>\n",
       "\t<li>'veicolo__b___sesso_passegg62'</li>\n",
       "\t<li>'veicolo__b___esito_passegg63'</li>\n",
       "\t<li>'veicolo__b___et__passegger64'</li>\n",
       "\t<li>'veicolo__b___sesso_passegg65'</li>\n",
       "\t<li>'veicolo__b___esito_passegg66'</li>\n",
       "\t<li>'veicolo__b___et__passegger67'</li>\n",
       "\t<li>'veicolo__b___sesso_passegg68'</li>\n",
       "\t<li>'veicolo__b___altri_passegg69'</li>\n",
       "\t<li>'veicolo__b___altri_passegg70'</li>\n",
       "\t<li>'veicolo__b___altri_passegg71'</li>\n",
       "\t<li>'veicolo__b___altri_passegg72'</li>\n",
       "\t<li>'veicolo__c___et__conducente'</li>\n",
       "\t<li>'veicolo__c___sesso_conducente'</li>\n",
       "\t<li>'veicolo__c___esito_conducente'</li>\n",
       "\t<li>'veicolo__c___patente_condu73'</li>\n",
       "\t<li>'veicolo__c___anno_rilascio74'</li>\n",
       "\t<li>'veicolo__c___passeggeri_an79'</li>\n",
       "\t<li>'veicolo__c___et__passegger80'</li>\n",
       "\t<li>'veicolo__c___sesso_passegg81'</li>\n",
       "\t<li>'veicolo__c___esito_passegg82'</li>\n",
       "\t<li>'veicolo__c___et__passegger83'</li>\n",
       "\t<li>'veicolo__c___sesso_passegg84'</li>\n",
       "\t<li>'veicolo__c___esito_passegg85'</li>\n",
       "\t<li>'veicolo__c___et__passegger86'</li>\n",
       "\t<li>'veicolo__c___sesso_passegg87'</li>\n",
       "\t<li>'veicolo__c___esito_passegg88'</li>\n",
       "\t<li>'veicolo__c___et__passegger89'</li>\n",
       "\t<li>'veicolo__c___sesso_passegg90'</li>\n",
       "\t<li>'veicolo__c___altri_passegg91'</li>\n",
       "\t<li>'veicolo__c___altri_passegg92'</li>\n",
       "\t<li>'veicolo__c___altri_passegg93'</li>\n",
       "\t<li>'veicolo__c___altri_passegg94'</li>\n",
       "\t<li>'pedone_morto_1__sesso'</li>\n",
       "\t<li>'pedone_morto_1__et_'</li>\n",
       "\t<li>'pedone_ferito_1__sesso'</li>\n",
       "\t<li>'pedone_ferito_1__et_'</li>\n",
       "\t<li>'pedone_morto_2__sesso'</li>\n",
       "\t<li>'pedone_morto_2__et_'</li>\n",
       "\t<li>'pedone_ferito_2__sesso'</li>\n",
       "\t<li>'pedone_ferito_2__et_'</li>\n",
       "\t<li>'pedone_morto_3__sesso'</li>\n",
       "\t<li>'pedone_morto_3__et_'</li>\n",
       "\t<li>'pedone_ferito_3__sesso'</li>\n",
       "\t<li>'pedone_ferito_3__et_'</li>\n",
       "\t<li>'pedone_morto_4__sesso'</li>\n",
       "\t<li>'pedone_morto_4__et_'</li>\n",
       "\t<li>'pedone_ferito_4__sesso'</li>\n",
       "\t<li>'pedone_ferito_4__et_'</li>\n",
       "\t<li>'altri_veicoli_coinvolti'</li>\n",
       "\t<li>'morti_maschi_coinvolti_su_95'</li>\n",
       "\t<li>'morti_femmine_coinvolti_su96'</li>\n",
       "\t<li>'feriti_maschi_coinvolti_su97'</li>\n",
       "\t<li>'feriti_femmine_coinvolti_s98'</li>\n",
       "\t<li>'morti_entro_24_ore'</li>\n",
       "\t<li>'morti_entro_30_giorni'</li>\n",
       "\t<li>'feriti'</li>\n",
       "\t<li>'descrizione_strada'</li>\n",
       "\t<li>'Ora'</li>\n",
       "\t<li>'chilometri'</li>\n",
       "\t<li>'ettometrica'</li>\n",
       "\t<li>'trimestre'</li>\n",
       "</ol>\n"
      ],
      "text/latex": [
       "\\begin{enumerate*}\n",
       "\\item 'anno'\n",
       "\\item 'provincia'\n",
       "\\item 'comune'\n",
       "\\item 'giorno'\n",
       "\\item 'organo\\_di\\_rilevazione'\n",
       "\\item 'localizzazione\\_incidente'\n",
       "\\item 'denominazione\\_della\\_strada'\n",
       "\\item 'tronco\\_di\\_strada\\_o\\_autostrada'\n",
       "\\item 'tipo\\_di\\_strada'\n",
       "\\item 'pavimentazione'\n",
       "\\item 'intersezione\\_o\\_non\\_interse3'\n",
       "\\item 'fondo\\_stradale'\n",
       "\\item 'segnaletica'\n",
       "\\item 'condizioni\\_meteorologiche'\n",
       "\\item 'natura\\_incidente'\n",
       "\\item 'tipo\\_veicolo\\_a'\n",
       "\\item 'tipo\\_veicoli\\_\\_b\\_'\n",
       "\\item 'tipo\\_veicolo\\_\\_c\\_'\n",
       "\\item 'veicolo\\_\\_a\\_\\_\\_\\_circostanze\\_10'\n",
       "\\item 'veicolo\\_\\_a\\_\\_\\_\\_circostanze\\_11'\n",
       "\\item 'veicolo\\_\\_b\\_\\_\\_\\_circostanze\\_13'\n",
       "\\item 'veicolo\\_\\_b\\_\\_\\_\\_circostanze\\_14'\n",
       "\\item 'veicolo\\_\\_a\\_\\_\\_anno\\_immatric18'\n",
       "\\item 'immatricolazione\\_veicolo\\_\\_b\\_'\n",
       "\\item 'immatricolazione\\_veicolo\\_\\_c\\_'\n",
       "\\item 'veicolo\\_\\_a\\_\\_\\_et\\_\\_conducente'\n",
       "\\item 'veicolo\\_\\_a\\_\\_\\_sesso\\_conducente'\n",
       "\\item 'veicolo\\_\\_a\\_\\_\\_esito\\_conducente'\n",
       "\\item 'veicolo\\_\\_a\\_\\_\\_patente\\_condu29'\n",
       "\\item 'veicolo\\_\\_a\\_\\_\\_anno\\_rilascio30'\n",
       "\\item 'veicolo\\_\\_a\\_\\_\\_passeggeri\\_an35'\n",
       "\\item 'veicolo\\_\\_a\\_\\_\\_et\\_\\_passegger36'\n",
       "\\item 'veicolo\\_\\_a\\_\\_\\_sesso\\_passegg37'\n",
       "\\item 'veicolo\\_\\_a\\_\\_\\_esito\\_passegg38'\n",
       "\\item 'veicolo\\_\\_a\\_\\_\\_et\\_\\_passegger39'\n",
       "\\item 'veicolo\\_\\_a\\_\\_\\_sesso\\_passegg40'\n",
       "\\item 'veicolo\\_\\_a\\_\\_\\_esito\\_passegg41'\n",
       "\\item 'veicolo\\_\\_a\\_\\_\\_et\\_\\_passegger42'\n",
       "\\item 'veicolo\\_\\_a\\_\\_\\_sesso\\_passegg43'\n",
       "\\item 'veicolo\\_\\_a\\_\\_\\_esito\\_passegg44'\n",
       "\\item 'veicolo\\_\\_a\\_\\_\\_et\\_\\_passegger45'\n",
       "\\item 'veicolo\\_\\_a\\_\\_\\_sesso\\_passegg46'\n",
       "\\item 'veicolo\\_\\_a\\_\\_\\_altri\\_passegg47'\n",
       "\\item 'veicolo\\_\\_a\\_\\_\\_altri\\_passegg48'\n",
       "\\item 'veicolo\\_\\_a\\_\\_\\_altri\\_passegg49'\n",
       "\\item 'veicolo\\_\\_a\\_\\_\\_altri\\_passegg50'\n",
       "\\item 'veicolo\\_\\_b\\_\\_\\_et\\_\\_conducente'\n",
       "\\item 'veicolo\\_\\_b\\_\\_\\_sesso\\_conducente'\n",
       "\\item 'veicolo\\_\\_b\\_\\_\\_esito\\_conducente'\n",
       "\\item 'veicolo\\_\\_b\\_\\_\\_patente\\_condu51'\n",
       "\\item 'veicolo\\_\\_b\\_\\_\\_anno\\_rilascio52'\n",
       "\\item 'veicolo\\_\\_b\\_\\_\\_passeggeri\\_an57'\n",
       "\\item 'veicolo\\_\\_b\\_\\_\\_et\\_\\_passegger58'\n",
       "\\item 'veicolo\\_\\_b\\_\\_\\_sesso\\_passegg59'\n",
       "\\item 'veicolo\\_\\_b\\_\\_\\_esito\\_passegg60'\n",
       "\\item 'veicolo\\_\\_b\\_\\_\\_et\\_\\_passegger61'\n",
       "\\item 'veicolo\\_\\_b\\_\\_\\_sesso\\_passegg62'\n",
       "\\item 'veicolo\\_\\_b\\_\\_\\_esito\\_passegg63'\n",
       "\\item 'veicolo\\_\\_b\\_\\_\\_et\\_\\_passegger64'\n",
       "\\item 'veicolo\\_\\_b\\_\\_\\_sesso\\_passegg65'\n",
       "\\item 'veicolo\\_\\_b\\_\\_\\_esito\\_passegg66'\n",
       "\\item 'veicolo\\_\\_b\\_\\_\\_et\\_\\_passegger67'\n",
       "\\item 'veicolo\\_\\_b\\_\\_\\_sesso\\_passegg68'\n",
       "\\item 'veicolo\\_\\_b\\_\\_\\_altri\\_passegg69'\n",
       "\\item 'veicolo\\_\\_b\\_\\_\\_altri\\_passegg70'\n",
       "\\item 'veicolo\\_\\_b\\_\\_\\_altri\\_passegg71'\n",
       "\\item 'veicolo\\_\\_b\\_\\_\\_altri\\_passegg72'\n",
       "\\item 'veicolo\\_\\_c\\_\\_\\_et\\_\\_conducente'\n",
       "\\item 'veicolo\\_\\_c\\_\\_\\_sesso\\_conducente'\n",
       "\\item 'veicolo\\_\\_c\\_\\_\\_esito\\_conducente'\n",
       "\\item 'veicolo\\_\\_c\\_\\_\\_patente\\_condu73'\n",
       "\\item 'veicolo\\_\\_c\\_\\_\\_anno\\_rilascio74'\n",
       "\\item 'veicolo\\_\\_c\\_\\_\\_passeggeri\\_an79'\n",
       "\\item 'veicolo\\_\\_c\\_\\_\\_et\\_\\_passegger80'\n",
       "\\item 'veicolo\\_\\_c\\_\\_\\_sesso\\_passegg81'\n",
       "\\item 'veicolo\\_\\_c\\_\\_\\_esito\\_passegg82'\n",
       "\\item 'veicolo\\_\\_c\\_\\_\\_et\\_\\_passegger83'\n",
       "\\item 'veicolo\\_\\_c\\_\\_\\_sesso\\_passegg84'\n",
       "\\item 'veicolo\\_\\_c\\_\\_\\_esito\\_passegg85'\n",
       "\\item 'veicolo\\_\\_c\\_\\_\\_et\\_\\_passegger86'\n",
       "\\item 'veicolo\\_\\_c\\_\\_\\_sesso\\_passegg87'\n",
       "\\item 'veicolo\\_\\_c\\_\\_\\_esito\\_passegg88'\n",
       "\\item 'veicolo\\_\\_c\\_\\_\\_et\\_\\_passegger89'\n",
       "\\item 'veicolo\\_\\_c\\_\\_\\_sesso\\_passegg90'\n",
       "\\item 'veicolo\\_\\_c\\_\\_\\_altri\\_passegg91'\n",
       "\\item 'veicolo\\_\\_c\\_\\_\\_altri\\_passegg92'\n",
       "\\item 'veicolo\\_\\_c\\_\\_\\_altri\\_passegg93'\n",
       "\\item 'veicolo\\_\\_c\\_\\_\\_altri\\_passegg94'\n",
       "\\item 'pedone\\_morto\\_1\\_\\_sesso'\n",
       "\\item 'pedone\\_morto\\_1\\_\\_et\\_'\n",
       "\\item 'pedone\\_ferito\\_1\\_\\_sesso'\n",
       "\\item 'pedone\\_ferito\\_1\\_\\_et\\_'\n",
       "\\item 'pedone\\_morto\\_2\\_\\_sesso'\n",
       "\\item 'pedone\\_morto\\_2\\_\\_et\\_'\n",
       "\\item 'pedone\\_ferito\\_2\\_\\_sesso'\n",
       "\\item 'pedone\\_ferito\\_2\\_\\_et\\_'\n",
       "\\item 'pedone\\_morto\\_3\\_\\_sesso'\n",
       "\\item 'pedone\\_morto\\_3\\_\\_et\\_'\n",
       "\\item 'pedone\\_ferito\\_3\\_\\_sesso'\n",
       "\\item 'pedone\\_ferito\\_3\\_\\_et\\_'\n",
       "\\item 'pedone\\_morto\\_4\\_\\_sesso'\n",
       "\\item 'pedone\\_morto\\_4\\_\\_et\\_'\n",
       "\\item 'pedone\\_ferito\\_4\\_\\_sesso'\n",
       "\\item 'pedone\\_ferito\\_4\\_\\_et\\_'\n",
       "\\item 'altri\\_veicoli\\_coinvolti'\n",
       "\\item 'morti\\_maschi\\_coinvolti\\_su\\_95'\n",
       "\\item 'morti\\_femmine\\_coinvolti\\_su96'\n",
       "\\item 'feriti\\_maschi\\_coinvolti\\_su97'\n",
       "\\item 'feriti\\_femmine\\_coinvolti\\_s98'\n",
       "\\item 'morti\\_entro\\_24\\_ore'\n",
       "\\item 'morti\\_entro\\_30\\_giorni'\n",
       "\\item 'feriti'\n",
       "\\item 'descrizione\\_strada'\n",
       "\\item 'Ora'\n",
       "\\item 'chilometri'\n",
       "\\item 'ettometrica'\n",
       "\\item 'trimestre'\n",
       "\\end{enumerate*}\n"
      ],
      "text/markdown": [
       "1. 'anno'\n",
       "2. 'provincia'\n",
       "3. 'comune'\n",
       "4. 'giorno'\n",
       "5. 'organo_di_rilevazione'\n",
       "6. 'localizzazione_incidente'\n",
       "7. 'denominazione_della_strada'\n",
       "8. 'tronco_di_strada_o_autostrada'\n",
       "9. 'tipo_di_strada'\n",
       "10. 'pavimentazione'\n",
       "11. 'intersezione_o_non_interse3'\n",
       "12. 'fondo_stradale'\n",
       "13. 'segnaletica'\n",
       "14. 'condizioni_meteorologiche'\n",
       "15. 'natura_incidente'\n",
       "16. 'tipo_veicolo_a'\n",
       "17. 'tipo_veicoli__b_'\n",
       "18. 'tipo_veicolo__c_'\n",
       "19. 'veicolo__a____circostanze_10'\n",
       "20. 'veicolo__a____circostanze_11'\n",
       "21. 'veicolo__b____circostanze_13'\n",
       "22. 'veicolo__b____circostanze_14'\n",
       "23. 'veicolo__a___anno_immatric18'\n",
       "24. 'immatricolazione_veicolo__b_'\n",
       "25. 'immatricolazione_veicolo__c_'\n",
       "26. 'veicolo__a___et__conducente'\n",
       "27. 'veicolo__a___sesso_conducente'\n",
       "28. 'veicolo__a___esito_conducente'\n",
       "29. 'veicolo__a___patente_condu29'\n",
       "30. 'veicolo__a___anno_rilascio30'\n",
       "31. 'veicolo__a___passeggeri_an35'\n",
       "32. 'veicolo__a___et__passegger36'\n",
       "33. 'veicolo__a___sesso_passegg37'\n",
       "34. 'veicolo__a___esito_passegg38'\n",
       "35. 'veicolo__a___et__passegger39'\n",
       "36. 'veicolo__a___sesso_passegg40'\n",
       "37. 'veicolo__a___esito_passegg41'\n",
       "38. 'veicolo__a___et__passegger42'\n",
       "39. 'veicolo__a___sesso_passegg43'\n",
       "40. 'veicolo__a___esito_passegg44'\n",
       "41. 'veicolo__a___et__passegger45'\n",
       "42. 'veicolo__a___sesso_passegg46'\n",
       "43. 'veicolo__a___altri_passegg47'\n",
       "44. 'veicolo__a___altri_passegg48'\n",
       "45. 'veicolo__a___altri_passegg49'\n",
       "46. 'veicolo__a___altri_passegg50'\n",
       "47. 'veicolo__b___et__conducente'\n",
       "48. 'veicolo__b___sesso_conducente'\n",
       "49. 'veicolo__b___esito_conducente'\n",
       "50. 'veicolo__b___patente_condu51'\n",
       "51. 'veicolo__b___anno_rilascio52'\n",
       "52. 'veicolo__b___passeggeri_an57'\n",
       "53. 'veicolo__b___et__passegger58'\n",
       "54. 'veicolo__b___sesso_passegg59'\n",
       "55. 'veicolo__b___esito_passegg60'\n",
       "56. 'veicolo__b___et__passegger61'\n",
       "57. 'veicolo__b___sesso_passegg62'\n",
       "58. 'veicolo__b___esito_passegg63'\n",
       "59. 'veicolo__b___et__passegger64'\n",
       "60. 'veicolo__b___sesso_passegg65'\n",
       "61. 'veicolo__b___esito_passegg66'\n",
       "62. 'veicolo__b___et__passegger67'\n",
       "63. 'veicolo__b___sesso_passegg68'\n",
       "64. 'veicolo__b___altri_passegg69'\n",
       "65. 'veicolo__b___altri_passegg70'\n",
       "66. 'veicolo__b___altri_passegg71'\n",
       "67. 'veicolo__b___altri_passegg72'\n",
       "68. 'veicolo__c___et__conducente'\n",
       "69. 'veicolo__c___sesso_conducente'\n",
       "70. 'veicolo__c___esito_conducente'\n",
       "71. 'veicolo__c___patente_condu73'\n",
       "72. 'veicolo__c___anno_rilascio74'\n",
       "73. 'veicolo__c___passeggeri_an79'\n",
       "74. 'veicolo__c___et__passegger80'\n",
       "75. 'veicolo__c___sesso_passegg81'\n",
       "76. 'veicolo__c___esito_passegg82'\n",
       "77. 'veicolo__c___et__passegger83'\n",
       "78. 'veicolo__c___sesso_passegg84'\n",
       "79. 'veicolo__c___esito_passegg85'\n",
       "80. 'veicolo__c___et__passegger86'\n",
       "81. 'veicolo__c___sesso_passegg87'\n",
       "82. 'veicolo__c___esito_passegg88'\n",
       "83. 'veicolo__c___et__passegger89'\n",
       "84. 'veicolo__c___sesso_passegg90'\n",
       "85. 'veicolo__c___altri_passegg91'\n",
       "86. 'veicolo__c___altri_passegg92'\n",
       "87. 'veicolo__c___altri_passegg93'\n",
       "88. 'veicolo__c___altri_passegg94'\n",
       "89. 'pedone_morto_1__sesso'\n",
       "90. 'pedone_morto_1__et_'\n",
       "91. 'pedone_ferito_1__sesso'\n",
       "92. 'pedone_ferito_1__et_'\n",
       "93. 'pedone_morto_2__sesso'\n",
       "94. 'pedone_morto_2__et_'\n",
       "95. 'pedone_ferito_2__sesso'\n",
       "96. 'pedone_ferito_2__et_'\n",
       "97. 'pedone_morto_3__sesso'\n",
       "98. 'pedone_morto_3__et_'\n",
       "99. 'pedone_ferito_3__sesso'\n",
       "100. 'pedone_ferito_3__et_'\n",
       "101. 'pedone_morto_4__sesso'\n",
       "102. 'pedone_morto_4__et_'\n",
       "103. 'pedone_ferito_4__sesso'\n",
       "104. 'pedone_ferito_4__et_'\n",
       "105. 'altri_veicoli_coinvolti'\n",
       "106. 'morti_maschi_coinvolti_su_95'\n",
       "107. 'morti_femmine_coinvolti_su96'\n",
       "108. 'feriti_maschi_coinvolti_su97'\n",
       "109. 'feriti_femmine_coinvolti_s98'\n",
       "110. 'morti_entro_24_ore'\n",
       "111. 'morti_entro_30_giorni'\n",
       "112. 'feriti'\n",
       "113. 'descrizione_strada'\n",
       "114. 'Ora'\n",
       "115. 'chilometri'\n",
       "116. 'ettometrica'\n",
       "117. 'trimestre'\n",
       "\n",
       "\n"
      ],
      "text/plain": [
       "  [1] \"anno\"                          \"provincia\"                    \n",
       "  [3] \"comune\"                        \"giorno\"                       \n",
       "  [5] \"organo_di_rilevazione\"         \"localizzazione_incidente\"     \n",
       "  [7] \"denominazione_della_strada\"    \"tronco_di_strada_o_autostrada\"\n",
       "  [9] \"tipo_di_strada\"                \"pavimentazione\"               \n",
       " [11] \"intersezione_o_non_interse3\"   \"fondo_stradale\"               \n",
       " [13] \"segnaletica\"                   \"condizioni_meteorologiche\"    \n",
       " [15] \"natura_incidente\"              \"tipo_veicolo_a\"               \n",
       " [17] \"tipo_veicoli__b_\"              \"tipo_veicolo__c_\"             \n",
       " [19] \"veicolo__a____circostanze_10\"  \"veicolo__a____circostanze_11\" \n",
       " [21] \"veicolo__b____circostanze_13\"  \"veicolo__b____circostanze_14\" \n",
       " [23] \"veicolo__a___anno_immatric18\"  \"immatricolazione_veicolo__b_\" \n",
       " [25] \"immatricolazione_veicolo__c_\"  \"veicolo__a___et__conducente\"  \n",
       " [27] \"veicolo__a___sesso_conducente\" \"veicolo__a___esito_conducente\"\n",
       " [29] \"veicolo__a___patente_condu29\"  \"veicolo__a___anno_rilascio30\" \n",
       " [31] \"veicolo__a___passeggeri_an35\"  \"veicolo__a___et__passegger36\" \n",
       " [33] \"veicolo__a___sesso_passegg37\"  \"veicolo__a___esito_passegg38\" \n",
       " [35] \"veicolo__a___et__passegger39\"  \"veicolo__a___sesso_passegg40\" \n",
       " [37] \"veicolo__a___esito_passegg41\"  \"veicolo__a___et__passegger42\" \n",
       " [39] \"veicolo__a___sesso_passegg43\"  \"veicolo__a___esito_passegg44\" \n",
       " [41] \"veicolo__a___et__passegger45\"  \"veicolo__a___sesso_passegg46\" \n",
       " [43] \"veicolo__a___altri_passegg47\"  \"veicolo__a___altri_passegg48\" \n",
       " [45] \"veicolo__a___altri_passegg49\"  \"veicolo__a___altri_passegg50\" \n",
       " [47] \"veicolo__b___et__conducente\"   \"veicolo__b___sesso_conducente\"\n",
       " [49] \"veicolo__b___esito_conducente\" \"veicolo__b___patente_condu51\" \n",
       " [51] \"veicolo__b___anno_rilascio52\"  \"veicolo__b___passeggeri_an57\" \n",
       " [53] \"veicolo__b___et__passegger58\"  \"veicolo__b___sesso_passegg59\" \n",
       " [55] \"veicolo__b___esito_passegg60\"  \"veicolo__b___et__passegger61\" \n",
       " [57] \"veicolo__b___sesso_passegg62\"  \"veicolo__b___esito_passegg63\" \n",
       " [59] \"veicolo__b___et__passegger64\"  \"veicolo__b___sesso_passegg65\" \n",
       " [61] \"veicolo__b___esito_passegg66\"  \"veicolo__b___et__passegger67\" \n",
       " [63] \"veicolo__b___sesso_passegg68\"  \"veicolo__b___altri_passegg69\" \n",
       " [65] \"veicolo__b___altri_passegg70\"  \"veicolo__b___altri_passegg71\" \n",
       " [67] \"veicolo__b___altri_passegg72\"  \"veicolo__c___et__conducente\"  \n",
       " [69] \"veicolo__c___sesso_conducente\" \"veicolo__c___esito_conducente\"\n",
       " [71] \"veicolo__c___patente_condu73\"  \"veicolo__c___anno_rilascio74\" \n",
       " [73] \"veicolo__c___passeggeri_an79\"  \"veicolo__c___et__passegger80\" \n",
       " [75] \"veicolo__c___sesso_passegg81\"  \"veicolo__c___esito_passegg82\" \n",
       " [77] \"veicolo__c___et__passegger83\"  \"veicolo__c___sesso_passegg84\" \n",
       " [79] \"veicolo__c___esito_passegg85\"  \"veicolo__c___et__passegger86\" \n",
       " [81] \"veicolo__c___sesso_passegg87\"  \"veicolo__c___esito_passegg88\" \n",
       " [83] \"veicolo__c___et__passegger89\"  \"veicolo__c___sesso_passegg90\" \n",
       " [85] \"veicolo__c___altri_passegg91\"  \"veicolo__c___altri_passegg92\" \n",
       " [87] \"veicolo__c___altri_passegg93\"  \"veicolo__c___altri_passegg94\" \n",
       " [89] \"pedone_morto_1__sesso\"         \"pedone_morto_1__et_\"          \n",
       " [91] \"pedone_ferito_1__sesso\"        \"pedone_ferito_1__et_\"         \n",
       " [93] \"pedone_morto_2__sesso\"         \"pedone_morto_2__et_\"          \n",
       " [95] \"pedone_ferito_2__sesso\"        \"pedone_ferito_2__et_\"         \n",
       " [97] \"pedone_morto_3__sesso\"         \"pedone_morto_3__et_\"          \n",
       " [99] \"pedone_ferito_3__sesso\"        \"pedone_ferito_3__et_\"         \n",
       "[101] \"pedone_morto_4__sesso\"         \"pedone_morto_4__et_\"          \n",
       "[103] \"pedone_ferito_4__sesso\"        \"pedone_ferito_4__et_\"         \n",
       "[105] \"altri_veicoli_coinvolti\"       \"morti_maschi_coinvolti_su_95\" \n",
       "[107] \"morti_femmine_coinvolti_su96\"  \"feriti_maschi_coinvolti_su97\" \n",
       "[109] \"feriti_femmine_coinvolti_s98\"  \"morti_entro_24_ore\"           \n",
       "[111] \"morti_entro_30_giorni\"         \"feriti\"                       \n",
       "[113] \"descrizione_strada\"            \"Ora\"                          \n",
       "[115] \"chilometri\"                    \"ettometrica\"                  \n",
       "[117] \"trimestre\"                    "
      ]
     },
     "metadata": {},
     "output_type": "display_data"
    }
   ],
   "source": [
    "names(sample_data)"
   ]
  },
  {
   "cell_type": "code",
   "execution_count": 8,
   "metadata": {},
   "outputs": [],
   "source": [
    "attach(sample_data)"
   ]
  },
  {
   "cell_type": "code",
   "execution_count": 9,
   "metadata": {},
   "outputs": [],
   "source": [
    "giorno <- factor(giorno)\n",
    "levels(giorno) <- c(\"Lun\", \"Mar\", \"Mer\", \"Gio\", \"Ven\", \"Sab\", \"Dom\")\n",
    "incidenti_per_giorni = table(giorno)"
   ]
  },
  {
   "cell_type": "code",
   "execution_count": 10,
   "metadata": {},
   "outputs": [
    {
     "data": {
      "text/html": [
       "<ol class=list-inline>\n",
       "\t<li>'Lun'</li>\n",
       "\t<li>'Mar'</li>\n",
       "\t<li>'Mer'</li>\n",
       "\t<li>'Gio'</li>\n",
       "\t<li>'Ven'</li>\n",
       "\t<li>'Sab'</li>\n",
       "\t<li>'Dom'</li>\n",
       "</ol>\n"
      ],
      "text/latex": [
       "\\begin{enumerate*}\n",
       "\\item 'Lun'\n",
       "\\item 'Mar'\n",
       "\\item 'Mer'\n",
       "\\item 'Gio'\n",
       "\\item 'Ven'\n",
       "\\item 'Sab'\n",
       "\\item 'Dom'\n",
       "\\end{enumerate*}\n"
      ],
      "text/markdown": [
       "1. 'Lun'\n",
       "2. 'Mar'\n",
       "3. 'Mer'\n",
       "4. 'Gio'\n",
       "5. 'Ven'\n",
       "6. 'Sab'\n",
       "7. 'Dom'\n",
       "\n",
       "\n"
      ],
      "text/plain": [
       "[1] \"Lun\" \"Mar\" \"Mer\" \"Gio\" \"Ven\" \"Sab\" \"Dom\""
      ]
     },
     "metadata": {},
     "output_type": "display_data"
    }
   ],
   "source": [
    "levels(giorno)"
   ]
  },
  {
   "cell_type": "code",
   "execution_count": 11,
   "metadata": {},
   "outputs": [
    {
     "data": {
      "image/png": "[encoded data removed]",
      "text/plain": [
       "plot without title"
      ]
     },
     "metadata": {},
     "output_type": "display_data"
    }
   ],
   "source": [
    "barplot(incidenti_per_giorni)"
   ]
  },
  {
   "cell_type": "code",
   "execution_count": 12,
   "metadata": {
    "scrolled": false
   },
   "outputs": [
    {
     "data": {
      "image/png": "[encoded data removed]",
      "text/plain": [
       "plot without title"
      ]
     },
     "metadata": {},
     "output_type": "display_data"
    }
   ],
   "source": [
    "barplot(table(trimestre))"
   ]
  },
  {
   "cell_type": "markdown",
   "metadata": {},
   "source": [
    "-----\n",
    "\n",
    "Provo a creare una qualche tabella bivariata."
   ]
  },
  {
   "cell_type": "code",
   "execution_count": 13,
   "metadata": {},
   "outputs": [],
   "source": [
    "pavimentazione <- factor(pavimentazione)\n",
    "levels(pavimentazione) <- c(\"good\", \"bad\", \"non-pav\")"
   ]
  },
  {
   "cell_type": "markdown",
   "metadata": {},
   "source": [
    "Provo a fare una nuova variabile per la localizzazione degli incidenti, nella quale distinguo solamente tra _urbana_, _extraurbana_ e _autostrada_. In questo modo si dovrebbe vedere meglio dove si ha una maggiore incidenza del fondo stradale messo male."
   ]
  },
  {
   "cell_type": "code",
   "execution_count": 14,
   "metadata": {},
   "outputs": [],
   "source": [
    "new_localizzazione_incidente = array(10, length(localizzazione_incidente))"
   ]
  },
  {
   "cell_type": "code",
   "execution_count": 15,
   "metadata": {},
   "outputs": [],
   "source": [
    "for(i in 1:length(localizzazione_incidente))\n",
    "{\n",
    "\n",
    "    if(localizzazione_incidente[i] == 0 || localizzazione_incidente[i] == 1 || localizzazione_incidente[i] == 2 || localizzazione_incidente[i] == 3)    \n",
    "    {\n",
    "        new_localizzazione_incidente[i] = 0\n",
    "\n",
    "    }\n",
    "    if(localizzazione_incidente[i] == 4 || localizzazione_incidente[i] == 5 || localizzazione_incidente[i] == 6 || localizzazione_incidente[i] == 9)    \n",
    "    {\n",
    "        new_localizzazione_incidente[i] = 1\n",
    "    }\n",
    "    if(localizzazione_incidente[i] == 7)\n",
    "    {\n",
    "        new_localizzazione_incidente[i] = 2\n",
    "    }\n",
    "    \n",
    "}"
   ]
  },
  {
   "cell_type": "markdown",
   "metadata": {},
   "source": [
    "Controllo che effettivamente il numero di strade scartate coincida con quelle non considerate (ovvero `altro`)."
   ]
  },
  {
   "cell_type": "code",
   "execution_count": 16,
   "metadata": {},
   "outputs": [
    {
     "data": {
      "text/html": [
       "TRUE"
      ],
      "text/latex": [
       "TRUE"
      ],
      "text/markdown": [
       "TRUE"
      ],
      "text/plain": [
       "[1] TRUE"
      ]
     },
     "metadata": {},
     "output_type": "display_data"
    }
   ],
   "source": [
    "length(which(new_localizzazione_incidente == 10)) == length(which(localizzazione_incidente==8))"
   ]
  },
  {
   "cell_type": "code",
   "execution_count": 17,
   "metadata": {},
   "outputs": [
    {
     "data": {
      "image/png": "[encoded data removed]",
      "text/plain": [
       "plot without title"
      ]
     },
     "metadata": {},
     "output_type": "display_data"
    }
   ],
   "source": [
    "barplot(table(new_localizzazione_incidente))"
   ]
  },
  {
   "cell_type": "code",
   "execution_count": 18,
   "metadata": {},
   "outputs": [
    {
     "data": {
      "text/plain": [
       "              new_localizzazione_incidente\n",
       "pavimentazione     0     1     2    10\n",
       "       good    14843  3857  1089    74\n",
       "       bad        74    21     0     0\n",
       "       non-pav    25    11     0     6"
      ]
     },
     "metadata": {},
     "output_type": "display_data"
    }
   ],
   "source": [
    "tabella_pav_tipo_strada <- table(pavimentazione, new_localizzazione_incidente)\n",
    "tabella_pav_tipo_strada"
   ]
  },
  {
   "cell_type": "code",
   "execution_count": 19,
   "metadata": {
    "scrolled": true
   },
   "outputs": [
    {
     "data": {
      "text/plain": [
       "pavimentazione\n",
       "   good     bad non-pav \n",
       "  19863      95      42 "
      ]
     },
     "metadata": {},
     "output_type": "display_data"
    }
   ],
   "source": [
    "table(pavimentazione)"
   ]
  },
  {
   "cell_type": "markdown",
   "metadata": {},
   "source": [
    "**Considerazioni**: il numero di strade segnate come sdrucciolevoli è talmente basso da non rendere possibile un'analisi. Mi sembra comunque strano che sia così basso - bisognerebbe guardare esattamente alla definizione."
   ]
  },
  {
   "cell_type": "code",
   "execution_count": 20,
   "metadata": {},
   "outputs": [],
   "source": [
    "new_localizzazione_incidente <- factor(new_localizzazione_incidente)\n",
    "levels(new_localizzazione_incidente) <- c(\"urbana\", \"extraurbana\", \"autostrada\", \"altro\")"
   ]
  },
  {
   "cell_type": "code",
   "execution_count": 21,
   "metadata": {},
   "outputs": [],
   "source": [
    "fondo_stradale <- factor(fondo_stradale)\n",
    "levels(fondo_stradale) <- c(\"asciutto\", \"bagnato\", \"sdrucciolevole\", \"ghiacciato\", \"innevato\")"
   ]
  },
  {
   "cell_type": "code",
   "execution_count": 22,
   "metadata": {},
   "outputs": [
    {
     "data": {
      "text/plain": [
       "                new_localizzazione_incidente\n",
       "fondo_stradale   urbana extraurbana autostrada altro\n",
       "  asciutto        13130        3190        922    69\n",
       "  bagnato          1640         617        151     8\n",
       "  sdrucciolevole    109          30          8     2\n",
       "  ghiacciato         48          37          6     0\n",
       "  innevato           15          15          2     1"
      ]
     },
     "metadata": {},
     "output_type": "display_data"
    }
   ],
   "source": [
    "tabella_fondo_tipo_strada <- table(fondo_stradale, new_localizzazione_incidente)\n",
    "tabella_fondo_tipo_strada"
   ]
  },
  {
   "cell_type": "code",
   "execution_count": 23,
   "metadata": {},
   "outputs": [],
   "source": [
    "tot_incidenti_urbani = sum(tabella_fondo_tipo_strada[,1])\n",
    "tot_incidenti_extra_urbani = sum(tabella_fondo_tipo_strada[,2])\n",
    "tot_incidenti_autostrada = sum(tabella_fondo_tipo_strada[,3])"
   ]
  },
  {
   "cell_type": "code",
   "execution_count": 24,
   "metadata": {},
   "outputs": [],
   "source": [
    "prob_incidente = array(666, dim=c(nrow(tabella_fondo_tipo_strada), ncol(tabella_fondo_tipo_strada),3))"
   ]
  },
  {
   "cell_type": "raw",
   "metadata": {},
   "source": [
    "prob_incidente[1,,1] = \"urbana\"\n",
    "prob_incidente[2,,1] = \"extraurbana\"\n",
    "prob_incidente[3,,1] = \"autostrada\"\n",
    "prob_incidente[4,,1] = \"altro\"\n",
    "\n",
    "prob_incidente[,1,2] = \"asciutto\"\n",
    "prob_incidente[,2,2] = \"bagnato\"\n",
    "prob_incidente[,3,2] = \"sdrucciolevole\"\n",
    "prob_incidente[,4,2] = \"ghiacciato\"\n",
    "prob_incidente[,5,2] = \"innevato\""
   ]
  },
  {
   "cell_type": "code",
   "execution_count": 25,
   "metadata": {},
   "outputs": [
    {
     "name": "stdout",
     "output_type": "stream",
     "text": [
      "Probabilità incidente per fondo bagnato in strada urbana 10.97 %\n",
      "Probabilità incidente per fondo ghiacciato in strada urbana 0.32 %"
     ]
    }
   ],
   "source": [
    "prob_incidente_per_acqua_urbano = tabella_fondo_tipo_strada[2]/tot_incidenti_urbani\n",
    "cat(\"Probabilità incidente per fondo bagnato in strada urbana\", as.integer(prob_incidente_per_acqua_urbano*10000)/100, \"%\\n\")\n",
    "\n",
    "prob_incidente_per_ghiacciato_urbano = tabella_fondo_tipo_strada[4]/tot_incidenti_urbani\n",
    "cat(\"Probabilità incidente per fondo ghiacciato in strada urbana\", as.integer(prob_incidente_per_ghiacciato_urbano*10000)/100, \"%\")"
   ]
  },
  {
   "cell_type": "code",
   "execution_count": 26,
   "metadata": {},
   "outputs": [
    {
     "name": "stdout",
     "output_type": "stream",
     "text": [
      "Probabilità incidente per fondo bagnato in strada extra urbana 15.86 %\n",
      "Probabilità incidente per fondo ghiacciato in strada extra urbana 0.95 %"
     ]
    }
   ],
   "source": [
    "prob_incidente_per_acqua_extra_urbano = tabella_fondo_tipo_strada[2,2]/tot_incidenti_extra_urbani\n",
    "cat(\"Probabilità incidente per fondo bagnato in strada extra urbana\", as.integer(prob_incidente_per_acqua_extra_urbano*10000)/100, \"%\\n\")\n",
    "\n",
    "prob_incidente_per_ghiacciato_extra_urbano = tabella_fondo_tipo_strada[4,2]/tot_incidenti_extra_urbani\n",
    "cat(\"Probabilità incidente per fondo ghiacciato in strada extra urbana\", as.integer(prob_incidente_per_ghiacciato_extra_urbano*10000)/100, \"%\")"
   ]
  },
  {
   "cell_type": "markdown",
   "metadata": {},
   "source": [
    "Quello che si dovrebbe ora calcolare è di andare a vedere se effettivamente questi due fenomeno sono dovuti abbastanza diversi. Ovvero devo fare un qualche test di confronto, e.g. chi-quadro. \n",
    "\n",
    "Ci ritorno quando sarò in grado di farlo.\n",
    "\n",
    "Sarebbe carino mettere un plot in 3 dimensioni per mostrare le tabelle bivariate che sono state prodotte sopra.\n",
    "\n",
    "Calcolo gli intervalli di confidenza per le probabilità calcolate sopra."
   ]
  },
  {
   "cell_type": "markdown",
   "metadata": {},
   "source": [
    "---- \n",
    "### Confidence Intervals\n",
    "\n",
    "Con un confidence level del 95%, l'intervallo di probabilità per i vari tipi di incidente è"
   ]
  },
  {
   "cell_type": "code",
   "execution_count": 27,
   "metadata": {},
   "outputs": [],
   "source": [
    "confidence_level = 0.99"
   ]
  },
  {
   "cell_type": "code",
   "execution_count": 28,
   "metadata": {},
   "outputs": [
    {
     "name": "stdout",
     "output_type": "stream",
     "text": [
      "Intervallo di confidenza al 99 % per incidenti su fondo bagnato in strada urbana:( 10.97 ± 0.56 )%"
     ]
    }
   ],
   "source": [
    "confidence_interval_acqua_urbano =  qnorm(confidence_level+(1-confidence_level)/2) * sqrt(prob_incidente_per_acqua_urbano*(1-prob_incidente_per_acqua_urbano)/SAMPLE_SIZE)\n",
    "\n",
    "cat(\"Intervallo di confidenza al\", confidence_level*100,\"% per incidenti su fondo bagnato in strada urbana:(\", \n",
    "      as.integer(prob_incidente_per_acqua_urbano*10000)/100,\"±\",\n",
    "        as.integer(confidence_interval_acqua_urbano*10000)/100,\")%\")"
   ]
  },
  {
   "cell_type": "markdown",
   "metadata": {},
   "source": [
    "**Nota importante** La funzione `qnorm` rimanda solamente l'inverso dell'integrale sotto la Gaussiana (ovvero il valore $Z$ associato a un certo quantile) per una coda. Ovvero, per avere uno $Z$ associato a un calcolo di intervallo, come quello che dobbiamo fare, dobbiamo fare considerazioni algebriche.\n",
    "\n",
    "In particolare, se noi vogliamo il 95% su due cose, su una coda questo corrisponde a richiedere il 97.5% (infatti, le due code sono entrambe del 2.5%; ovvero aggiungo questo valore per vedere dove arrivo a \"destra\")."
   ]
  },
  {
   "cell_type": "markdown",
   "metadata": {},
   "source": [
    "-----\n",
    "### Analisi autostradale\n",
    "\n",
    "Per prima cosa vado a selezionare, all'interno del mio campione, solamente i dati relativi ad autostrada.\n",
    "\n",
    "**nota**: Tra le autostrade, configurano anche delle denominazioni tipo `R03`: sono riferiti a dei pezzi di raccordo. Cercando velocemente online si chiarisce facilmente.\n",
    "\n",
    "La funzione `droplevels` serve per escludere tutti i livelli non utilizzati, i.e. i nomi delle strade normali."
   ]
  },
  {
   "cell_type": "code",
   "execution_count": 29,
   "metadata": {},
   "outputs": [],
   "source": [
    "incidenti_in_autostrada = sample_data[which(new_localizzazione_incidente==\"autostrada\"),]"
   ]
  },
  {
   "cell_type": "code",
   "execution_count": 30,
   "metadata": {},
   "outputs": [],
   "source": [
    "tabella_incidenti_in_autostrada = table(droplevels(incidenti_in_autostrada$denominazione_della_strada))"
   ]
  },
  {
   "cell_type": "code",
   "execution_count": 31,
   "metadata": {
    "scrolled": false
   },
   "outputs": [
    {
     "data": {
      "image/png": "[encoded data removed]",
      "text/plain": [
       "Plot with title “Incidenti nelle autostrade in Italia”"
      ]
     },
     "metadata": {},
     "output_type": "display_data"
    }
   ],
   "source": [
    "barplot(tabella_incidenti_in_autostrada/nrow(incidenti_in_autostrada)*100, ylab='Frequenza percentuale', xlab='Denominazione autostrada', \n",
    "        main='Incidenti nelle autostrade in Italia')"
   ]
  },
  {
   "cell_type": "markdown",
   "metadata": {},
   "source": [
    "**Moda** degli incidenti in autostrada."
   ]
  },
  {
   "cell_type": "code",
   "execution_count": 32,
   "metadata": {},
   "outputs": [],
   "source": [
    "tabella_incidenti_in_autostrada.percfreq = tabella_incidenti_in_autostrada/nrow(incidenti_in_autostrada)*100\n",
    "tabella_incidenti_in_autostrada.mode = which(tabella_incidenti_in_autostrada.percfreq==max(tabella_incidenti_in_autostrada.percfreq))"
   ]
  },
  {
   "cell_type": "code",
   "execution_count": 33,
   "metadata": {},
   "outputs": [
    {
     "name": "stdout",
     "output_type": "stream",
     "text": [
      "L'autostrada con più incidenti in Italia nel 2017 è la A01"
     ]
    }
   ],
   "source": [
    "cat(\"L'autostrada con più incidenti in Italia nel 2017 è la\", names(tabella_incidenti_in_autostrada.mode))"
   ]
  },
  {
   "cell_type": "code",
   "execution_count": 34,
   "metadata": {},
   "outputs": [
    {
     "name": "stderr",
     "output_type": "stream",
     "text": [
      "Loading required package: sp\n",
      "rgdal: version: 1.4-7, (SVN revision 845)\n",
      " Geospatial Data Abstraction Library extensions to R successfully loaded\n",
      " Loaded GDAL runtime: GDAL 2.4.2, released 2019/06/28\n",
      " Path to GDAL shared files: /Library/Frameworks/R.framework/Versions/3.6/Resources/library/rgdal/gdal\n",
      " GDAL binary built with GEOS: FALSE \n",
      " Loaded PROJ.4 runtime: Rel. 5.2.0, September 15th, 2018, [PJ_VERSION: 520]\n",
      " Path to PROJ.4 shared files: /Library/Frameworks/R.framework/Versions/3.6/Resources/library/rgdal/proj\n",
      " Linking to sp version: 1.3-1 \n"
     ]
    }
   ],
   "source": [
    "library('rgdal')"
   ]
  },
  {
   "cell_type": "code",
   "execution_count": 46,
   "metadata": {},
   "outputs": [
    {
     "name": "stderr",
     "output_type": "stream",
     "text": [
      "Warning message in readOGR(dsn = paste0(\"../../../Downloads/GrafoANAS_dic2015/\"), :\n",
      "“Z-dimension discarded”"
     ]
    }
   ],
   "source": [
    "my_spdf <- readOGR( \n",
    "  dsn= paste0(\"../../../Downloads/GrafoANAS_dic2015/\") , \n",
    "  layer=\"grafo_Anas\",\n",
    "  verbose=FALSE\n",
    ")"
   ]
  },
  {
   "cell_type": "code",
   "execution_count": 50,
   "metadata": {},
   "outputs": [
    {
     "data": {
      "text/html": [
       "<table>\n",
       "<caption>A data.frame: 36625 × 8</caption>\n",
       "<thead>\n",
       "\t<tr><th></th><th scope=col>OBJECTID</th><th scope=col>COD_STRA</th><th scope=col>COM_SIGLA</th><th scope=col>SECONDONOM</th><th scope=col>COD_COM</th><th scope=col>AMM</th><th scope=col>COD_INT</th><th scope=col>SHAPE_LEN</th></tr>\n",
       "\t<tr><th></th><th scope=col>&lt;fct&gt;</th><th scope=col>&lt;fct&gt;</th><th scope=col>&lt;fct&gt;</th><th scope=col>&lt;fct&gt;</th><th scope=col>&lt;int&gt;</th><th scope=col>&lt;int&gt;</th><th scope=col>&lt;fct&gt;</th><th scope=col>&lt;dbl&gt;</th></tr>\n",
       "</thead>\n",
       "<tbody>\n",
       "\t<tr><th scope=row>0</th><td>151</td><td>16_1601033031</td><td>BA</td><td>SVINCOLO STADIO AEROPORTO SS7 KM 713+500</td><td>16</td><td>99</td><td>16_0000000033</td><td> 44.19727</td></tr>\n",
       "\t<tr><th scope=row>1</th><td>152</td><td>16_1601033032</td><td>BA</td><td>SVINCOLO STADIO AEROPORTO SS7 KM 713+500</td><td>16</td><td>99</td><td>16_0000000033</td><td> 64.75063</td></tr>\n",
       "\t<tr><th scope=row>2</th><td>153</td><td>16_1601033042</td><td>BA</td><td>SVINCOLO STADIO AEROPORTO SS7 KM 713+500</td><td>16</td><td>99</td><td>16_0000000033</td><td> 32.95173</td></tr>\n",
       "\t<tr><th scope=row>3</th><td>154</td><td>16_1601033050</td><td>BA</td><td>SVINCOLO STADIO AEROPORTO SS7 KM 713+500</td><td>16</td><td>99</td><td>16_0000000033</td><td>427.75246</td></tr>\n",
       "\t<tr><th scope=row>4</th><td>155</td><td>16_1601033060</td><td>BA</td><td>SVINCOLO STADIO AEROPORTO SS7 KM 713+500</td><td>16</td><td>99</td><td>16_0000000033</td><td>448.43576</td></tr>\n",
       "\t<tr><th scope=row>5</th><td>156</td><td>16_1601154011</td><td>BA</td><td>SVINCOLO SS16                           </td><td>16</td><td>99</td><td>16_0000000154</td><td> 50.21564</td></tr>\n",
       "\t<tr><th scope=row>6</th><td>157</td><td>16_1601154012</td><td>BA</td><td>SVINCOLO SS16                           </td><td>16</td><td>99</td><td>16_0000000154</td><td> 44.80815</td></tr>\n",
       "\t<tr><th scope=row>7</th><td>158</td><td>16_1601154013</td><td>BA</td><td>SVINCOLO SS16                           </td><td>16</td><td>99</td><td>16_0000000154</td><td> 39.27786</td></tr>\n",
       "\t<tr><th scope=row>8</th><td>159</td><td>16_1601154014</td><td>BA</td><td>SVINCOLO SS16                           </td><td>16</td><td>99</td><td>16_0000000154</td><td>116.62738</td></tr>\n",
       "\t<tr><th scope=row>9</th><td>160</td><td>16_1601154015</td><td>BA</td><td>SVINCOLO SS16                           </td><td>16</td><td>99</td><td>16_0000000154</td><td> 43.96184</td></tr>\n",
       "\t<tr><th scope=row>10</th><td>161</td><td>16_1601154016</td><td>BA</td><td>SVINCOLO SS16                           </td><td>16</td><td>99</td><td>16_0000000154</td><td> 46.38134</td></tr>\n",
       "\t<tr><th scope=row>11</th><td>162</td><td>16_1601154017</td><td>BA</td><td>SVINCOLO SS16                           </td><td>16</td><td>99</td><td>16_0000000154</td><td> 58.76324</td></tr>\n",
       "\t<tr><th scope=row>12</th><td>163</td><td>16_1601154021</td><td>BA</td><td>SVINCOLO SS16                           </td><td>16</td><td>99</td><td>16_0000000154</td><td> 94.04483</td></tr>\n",
       "\t<tr><th scope=row>13</th><td>164</td><td>16_1601154022</td><td>BA</td><td>SVINCOLO SS16                           </td><td>16</td><td>99</td><td>16_0000000154</td><td> 29.08069</td></tr>\n",
       "\t<tr><th scope=row>14</th><td>165</td><td>16_1601154023</td><td>BA</td><td>SVINCOLO SS16                           </td><td>16</td><td>99</td><td>16_0000000154</td><td> 20.73300</td></tr>\n",
       "\t<tr><th scope=row>15</th><td>166</td><td>16_1601154024</td><td>BA</td><td>SVINCOLO SS16                           </td><td>16</td><td>99</td><td>16_0000000154</td><td>185.12098</td></tr>\n",
       "\t<tr><th scope=row>16</th><td>167</td><td>16_1601154025</td><td>BA</td><td>SVINCOLO SS16                           </td><td>16</td><td>99</td><td>16_0000000154</td><td> 48.96418</td></tr>\n",
       "\t<tr><th scope=row>17</th><td>168</td><td>16_1601154026</td><td>BA</td><td>SVINCOLO SS16                           </td><td>16</td><td>99</td><td>16_0000000154</td><td> 26.96322</td></tr>\n",
       "\t<tr><th scope=row>18</th><td>169</td><td>16_1601154027</td><td>BA</td><td>SVINCOLO SS16                           </td><td>16</td><td>99</td><td>16_0000000154</td><td>165.52789</td></tr>\n",
       "\t<tr><th scope=row>19</th><td>170</td><td>16_1601154031</td><td>BA</td><td>SVINCOLO SS16                           </td><td>16</td><td>99</td><td>16_0000000154</td><td> 97.70119</td></tr>\n",
       "\t<tr><th scope=row>20</th><td>171</td><td>16_1601154032</td><td>BA</td><td>SVINCOLO SS16                           </td><td>16</td><td>99</td><td>16_0000000154</td><td> 62.07626</td></tr>\n",
       "\t<tr><th scope=row>21</th><td>172</td><td>16_1601154033</td><td>BA</td><td>SVINCOLO SS16                           </td><td>16</td><td>99</td><td>16_0000000154</td><td> 53.48452</td></tr>\n",
       "\t<tr><th scope=row>22</th><td>173</td><td>16_1601154034</td><td>BA</td><td>SVINCOLO SS16                           </td><td>16</td><td>99</td><td>16_0000000154</td><td>158.32206</td></tr>\n",
       "\t<tr><th scope=row>23</th><td>174</td><td>16_1601154035</td><td>BA</td><td>SVINCOLO SS16                           </td><td>16</td><td>99</td><td>16_0000000154</td><td> 73.31075</td></tr>\n",
       "\t<tr><th scope=row>24</th><td>175</td><td>16_1601154041</td><td>BA</td><td>SVINCOLO SS16                           </td><td>16</td><td>99</td><td>16_0000000154</td><td> 73.67223</td></tr>\n",
       "\t<tr><th scope=row>25</th><td>176</td><td>16_1601154051</td><td>BA</td><td>SVINCOLO SS16                           </td><td>16</td><td>99</td><td>16_0000000154</td><td> 92.09658</td></tr>\n",
       "\t<tr><th scope=row>26</th><td>177</td><td>16_1601154052</td><td>BA</td><td>SVINCOLO SS16                           </td><td>16</td><td>99</td><td>16_0000000154</td><td>109.18367</td></tr>\n",
       "\t<tr><th scope=row>27</th><td>178</td><td>16_1601154053</td><td>BA</td><td>SVINCOLO SS16                           </td><td>16</td><td>99</td><td>16_0000000154</td><td> 68.15171</td></tr>\n",
       "\t<tr><th scope=row>28</th><td>179</td><td>16_1601154061</td><td>BA</td><td>SVINCOLO SS16                           </td><td>16</td><td>99</td><td>16_0000000154</td><td> 56.40007</td></tr>\n",
       "\t<tr><th scope=row>29</th><td>180</td><td>16_1601154063</td><td>BA</td><td>SVINCOLO SS16                           </td><td>16</td><td>99</td><td>16_0000000154</td><td> 81.89045</td></tr>\n",
       "\t<tr><th scope=row>⋮</th><td>⋮</td><td>⋮</td><td>⋮</td><td>⋮</td><td>⋮</td><td>⋮</td><td>⋮</td><td>⋮</td></tr>\n",
       "\t<tr><th scope=row>36595</th><td>95307</td><td>08_1990000557</td><td>BO</td><td>VARIANTE DI ARGENTA                          </td><td> 8</td><td>99</td><td>08_1990000016</td><td>  170.255717</td></tr>\n",
       "\t<tr><th scope=row>36596</th><td>95281</td><td>08_1990000554</td><td>BO</td><td>ROTATORIE KM 111+000                         </td><td> 8</td><td>99</td><td>08_1990000018</td><td>   85.011194</td></tr>\n",
       "\t<tr><th scope=row>36597</th><td>95313</td><td>08_1990000433</td><td>BO</td><td>INTERSEZIONE                                 </td><td> 8</td><td>99</td><td>08_1990000026</td><td>  124.528806</td></tr>\n",
       "\t<tr><th scope=row>36598</th><td>95309</td><td>08_1990000442</td><td>BO</td><td>INTERSEZIONE                                 </td><td> 8</td><td>99</td><td>08_1990000026</td><td>   38.067425</td></tr>\n",
       "\t<tr><th scope=row>36599</th><td>95285</td><td>08_1990000270</td><td>BO</td><td>INTERSEZIONE                                 </td><td> 8</td><td>99</td><td>08_1990000016</td><td>   23.989204</td></tr>\n",
       "\t<tr><th scope=row>36600</th><td>95311</td><td>08_1990000441</td><td>BO</td><td>INTERSEZIONE                                 </td><td> 8</td><td>99</td><td>08_1990000026</td><td>   53.981073</td></tr>\n",
       "\t<tr><th scope=row>36601</th><td>95279</td><td>08_1990000555</td><td>BO</td><td>ROTATORIE KM 111+000                         </td><td> 8</td><td>99</td><td>08_1990000018</td><td>   85.333102</td></tr>\n",
       "\t<tr><th scope=row>36602</th><td>96100</td><td>18_2788      </td><td>CZ</td><td>SVINCOLO OSPEDALE PUGLIESE - CATANZARO CENTRO</td><td>18</td><td>99</td><td>18_0000000009</td><td>    8.384374</td></tr>\n",
       "\t<tr><th scope=row>36603</th><td>96103</td><td>18_1990000388</td><td>CZ</td><td>INTERSEZIONE TORRENTE AMATO                  </td><td>18</td><td>99</td><td>18_0000000146</td><td>   94.624954</td></tr>\n",
       "\t<tr><th scope=row>36604</th><td>96105</td><td>20_1990000358</td><td>CA</td><td>SVINCOLO DI BARI SARDO                       </td><td>20</td><td>99</td><td>20_1990000014</td><td>   91.324655</td></tr>\n",
       "\t<tr><th scope=row>36605</th><td>96088</td><td>SS710        </td><td>CB</td><td>TANGENZIALE EST DI CAMPOBASSO                </td><td>14</td><td> 3</td><td>NULL         </td><td> 2596.418812</td></tr>\n",
       "\t<tr><th scope=row>36606</th><td>96101</td><td>18_2711      </td><td>CZ</td><td>SVINCOLO OSPEDALE PUGLIESE - CATANZARO CENTRO</td><td>18</td><td>99</td><td>18_0000000009</td><td>   98.948331</td></tr>\n",
       "\t<tr><th scope=row>36607</th><td>96107</td><td>NSA371       </td><td>CA</td><td>EX S.S. N. 125 ORIENTALE SARDA               </td><td>20</td><td> 4</td><td>NULL         </td><td>35389.448293</td></tr>\n",
       "\t<tr><th scope=row>36608</th><td>96090</td><td>14_1409038012</td><td>CB</td><td>ARCO INTERSEZIONE                            </td><td>14</td><td>99</td><td>14_0000000038</td><td>   65.192405</td></tr>\n",
       "\t<tr><th scope=row>36609</th><td>21767</td><td>18_3494      </td><td>CZ</td><td>SVINCOLO OSPEDALE PUGLIESE - CATANZARO CENTRO</td><td>18</td><td>99</td><td>18_0000000009</td><td>   51.013843</td></tr>\n",
       "\t<tr><th scope=row>36610</th><td>22785</td><td>18_2299      </td><td>CZ</td><td>INTERSEZIONE FAGO DEL SOLDATO                </td><td>18</td><td>99</td><td>18_0000000026</td><td>   30.687862</td></tr>\n",
       "\t<tr><th scope=row>36611</th><td>21080</td><td>18_2743      </td><td>CZ</td><td>SVINCOLO OSPEDALE PUGLIESE - CATANZARO CENTRO</td><td>18</td><td>99</td><td>18_0000000009</td><td>  126.995417</td></tr>\n",
       "\t<tr><th scope=row>36612</th><td>96135</td><td>01_1990000163</td><td>TO</td><td>ROTATORIA KM 8+200                           </td><td> 1</td><td>99</td><td>01_1990000018</td><td>   36.036759</td></tr>\n",
       "\t<tr><th scope=row>36613</th><td>96160</td><td>01_806       </td><td>TO</td><td>ROTATORIA BORGONE VIA MONCENISIO             </td><td> 1</td><td>99</td><td>01_0000000409</td><td>   23.981089</td></tr>\n",
       "\t<tr><th scope=row>36614</th><td>96140</td><td>01_1043      </td><td>TO</td><td>ROTATORIA SP83                               </td><td> 1</td><td>99</td><td>01_0000000551</td><td>   62.968223</td></tr>\n",
       "\t<tr><th scope=row>36615</th><td>96130</td><td>01_1990000160</td><td>TO</td><td>ROTATORIA KM 8+200                           </td><td> 1</td><td>99</td><td>01_1990000018</td><td>   42.143009</td></tr>\n",
       "\t<tr><th scope=row>36616</th><td>96148</td><td>01_2091      </td><td>TO</td><td>ROTATORIA VIA DELLA LIBERTA'                 </td><td> 1</td><td>99</td><td>01_0000000559</td><td>   22.230008</td></tr>\n",
       "\t<tr><th scope=row>36617</th><td>96138</td><td>01_1045      </td><td>TO</td><td>ROTATORIA SP83                               </td><td> 1</td><td>99</td><td>01_0000000551</td><td>   46.905711</td></tr>\n",
       "\t<tr><th scope=row>36618</th><td>96142</td><td>01_1071      </td><td>TO</td><td>ROTATORIA VIA SAN GIOVANNI                   </td><td> 1</td><td>99</td><td>01_0000000562</td><td>   25.603664</td></tr>\n",
       "\t<tr><th scope=row>36619</th><td>96147</td><td>01_1059      </td><td>TO</td><td>ROTATORIA VIA DELLA LIBERTA'                 </td><td> 1</td><td>99</td><td>01_0000000559</td><td>  212.772116</td></tr>\n",
       "\t<tr><th scope=row>36620</th><td>96131</td><td>01_1990000162</td><td>TO</td><td>ROTATORIA KM 8+200                           </td><td> 1</td><td>99</td><td>01_1990000018</td><td>   37.683629</td></tr>\n",
       "\t<tr><th scope=row>36621</th><td>96137</td><td>01_1052      </td><td>TO</td><td>ROTATORIASP4a                                </td><td> 1</td><td>99</td><td>01_0000000557</td><td>   72.885598</td></tr>\n",
       "\t<tr><th scope=row>36622</th><td>96159</td><td>01_807       </td><td>TO</td><td>ROTATORIA BORGONE VIA MONCENISIO             </td><td> 1</td><td>99</td><td>01_0000000409</td><td>   94.296259</td></tr>\n",
       "\t<tr><th scope=row>36623</th><td>96145</td><td>01_1074      </td><td>TO</td><td>ROTATORIA VIA MIRABELLA                      </td><td> 1</td><td>99</td><td>01_0000000576</td><td>   70.470709</td></tr>\n",
       "\t<tr><th scope=row>36624</th><td>96144</td><td>01_1066      </td><td>TO</td><td>ROTATORIA VIA SAN GIOVANNI                   </td><td> 1</td><td>99</td><td>01_0000000562</td><td>   30.673920</td></tr>\n",
       "</tbody>\n",
       "</table>\n"
      ],
      "text/latex": [
       "A data.frame: 36625 × 8\n",
       "\\begin{tabular}{r|llllllll}\n",
       "  & OBJECTID & COD\\_STRA & COM\\_SIGLA & SECONDONOM & COD\\_COM & AMM & COD\\_INT & SHAPE\\_LEN\\\\\n",
       "  & <fct> & <fct> & <fct> & <fct> & <int> & <int> & <fct> & <dbl>\\\\\n",
       "\\hline\n",
       "\t0 & 151 & 16\\_1601033031 & BA & SVINCOLO STADIO AEROPORTO SS7 KM 713+500 & 16 & 99 & 16\\_0000000033 &  44.19727\\\\\n",
       "\t1 & 152 & 16\\_1601033032 & BA & SVINCOLO STADIO AEROPORTO SS7 KM 713+500 & 16 & 99 & 16\\_0000000033 &  64.75063\\\\\n",
       "\t2 & 153 & 16\\_1601033042 & BA & SVINCOLO STADIO AEROPORTO SS7 KM 713+500 & 16 & 99 & 16\\_0000000033 &  32.95173\\\\\n",
       "\t3 & 154 & 16\\_1601033050 & BA & SVINCOLO STADIO AEROPORTO SS7 KM 713+500 & 16 & 99 & 16\\_0000000033 & 427.75246\\\\\n",
       "\t4 & 155 & 16\\_1601033060 & BA & SVINCOLO STADIO AEROPORTO SS7 KM 713+500 & 16 & 99 & 16\\_0000000033 & 448.43576\\\\\n",
       "\t5 & 156 & 16\\_1601154011 & BA & SVINCOLO SS16                            & 16 & 99 & 16\\_0000000154 &  50.21564\\\\\n",
       "\t6 & 157 & 16\\_1601154012 & BA & SVINCOLO SS16                            & 16 & 99 & 16\\_0000000154 &  44.80815\\\\\n",
       "\t7 & 158 & 16\\_1601154013 & BA & SVINCOLO SS16                            & 16 & 99 & 16\\_0000000154 &  39.27786\\\\\n",
       "\t8 & 159 & 16\\_1601154014 & BA & SVINCOLO SS16                            & 16 & 99 & 16\\_0000000154 & 116.62738\\\\\n",
       "\t9 & 160 & 16\\_1601154015 & BA & SVINCOLO SS16                            & 16 & 99 & 16\\_0000000154 &  43.96184\\\\\n",
       "\t10 & 161 & 16\\_1601154016 & BA & SVINCOLO SS16                            & 16 & 99 & 16\\_0000000154 &  46.38134\\\\\n",
       "\t11 & 162 & 16\\_1601154017 & BA & SVINCOLO SS16                            & 16 & 99 & 16\\_0000000154 &  58.76324\\\\\n",
       "\t12 & 163 & 16\\_1601154021 & BA & SVINCOLO SS16                            & 16 & 99 & 16\\_0000000154 &  94.04483\\\\\n",
       "\t13 & 164 & 16\\_1601154022 & BA & SVINCOLO SS16                            & 16 & 99 & 16\\_0000000154 &  29.08069\\\\\n",
       "\t14 & 165 & 16\\_1601154023 & BA & SVINCOLO SS16                            & 16 & 99 & 16\\_0000000154 &  20.73300\\\\\n",
       "\t15 & 166 & 16\\_1601154024 & BA & SVINCOLO SS16                            & 16 & 99 & 16\\_0000000154 & 185.12098\\\\\n",
       "\t16 & 167 & 16\\_1601154025 & BA & SVINCOLO SS16                            & 16 & 99 & 16\\_0000000154 &  48.96418\\\\\n",
       "\t17 & 168 & 16\\_1601154026 & BA & SVINCOLO SS16                            & 16 & 99 & 16\\_0000000154 &  26.96322\\\\\n",
       "\t18 & 169 & 16\\_1601154027 & BA & SVINCOLO SS16                            & 16 & 99 & 16\\_0000000154 & 165.52789\\\\\n",
       "\t19 & 170 & 16\\_1601154031 & BA & SVINCOLO SS16                            & 16 & 99 & 16\\_0000000154 &  97.70119\\\\\n",
       "\t20 & 171 & 16\\_1601154032 & BA & SVINCOLO SS16                            & 16 & 99 & 16\\_0000000154 &  62.07626\\\\\n",
       "\t21 & 172 & 16\\_1601154033 & BA & SVINCOLO SS16                            & 16 & 99 & 16\\_0000000154 &  53.48452\\\\\n",
       "\t22 & 173 & 16\\_1601154034 & BA & SVINCOLO SS16                            & 16 & 99 & 16\\_0000000154 & 158.32206\\\\\n",
       "\t23 & 174 & 16\\_1601154035 & BA & SVINCOLO SS16                            & 16 & 99 & 16\\_0000000154 &  73.31075\\\\\n",
       "\t24 & 175 & 16\\_1601154041 & BA & SVINCOLO SS16                            & 16 & 99 & 16\\_0000000154 &  73.67223\\\\\n",
       "\t25 & 176 & 16\\_1601154051 & BA & SVINCOLO SS16                            & 16 & 99 & 16\\_0000000154 &  92.09658\\\\\n",
       "\t26 & 177 & 16\\_1601154052 & BA & SVINCOLO SS16                            & 16 & 99 & 16\\_0000000154 & 109.18367\\\\\n",
       "\t27 & 178 & 16\\_1601154053 & BA & SVINCOLO SS16                            & 16 & 99 & 16\\_0000000154 &  68.15171\\\\\n",
       "\t28 & 179 & 16\\_1601154061 & BA & SVINCOLO SS16                            & 16 & 99 & 16\\_0000000154 &  56.40007\\\\\n",
       "\t29 & 180 & 16\\_1601154063 & BA & SVINCOLO SS16                            & 16 & 99 & 16\\_0000000154 &  81.89045\\\\\n",
       "\t⋮ & ⋮ & ⋮ & ⋮ & ⋮ & ⋮ & ⋮ & ⋮ & ⋮\\\\\n",
       "\t36595 & 95307 & 08\\_1990000557 & BO & VARIANTE DI ARGENTA                           &  8 & 99 & 08\\_1990000016 &   170.255717\\\\\n",
       "\t36596 & 95281 & 08\\_1990000554 & BO & ROTATORIE KM 111+000                          &  8 & 99 & 08\\_1990000018 &    85.011194\\\\\n",
       "\t36597 & 95313 & 08\\_1990000433 & BO & INTERSEZIONE                                  &  8 & 99 & 08\\_1990000026 &   124.528806\\\\\n",
       "\t36598 & 95309 & 08\\_1990000442 & BO & INTERSEZIONE                                  &  8 & 99 & 08\\_1990000026 &    38.067425\\\\\n",
       "\t36599 & 95285 & 08\\_1990000270 & BO & INTERSEZIONE                                  &  8 & 99 & 08\\_1990000016 &    23.989204\\\\\n",
       "\t36600 & 95311 & 08\\_1990000441 & BO & INTERSEZIONE                                  &  8 & 99 & 08\\_1990000026 &    53.981073\\\\\n",
       "\t36601 & 95279 & 08\\_1990000555 & BO & ROTATORIE KM 111+000                          &  8 & 99 & 08\\_1990000018 &    85.333102\\\\\n",
       "\t36602 & 96100 & 18\\_2788       & CZ & SVINCOLO OSPEDALE PUGLIESE - CATANZARO CENTRO & 18 & 99 & 18\\_0000000009 &     8.384374\\\\\n",
       "\t36603 & 96103 & 18\\_1990000388 & CZ & INTERSEZIONE TORRENTE AMATO                   & 18 & 99 & 18\\_0000000146 &    94.624954\\\\\n",
       "\t36604 & 96105 & 20\\_1990000358 & CA & SVINCOLO DI BARI SARDO                        & 20 & 99 & 20\\_1990000014 &    91.324655\\\\\n",
       "\t36605 & 96088 & SS710         & CB & TANGENZIALE EST DI CAMPOBASSO                 & 14 &  3 & NULL          &  2596.418812\\\\\n",
       "\t36606 & 96101 & 18\\_2711       & CZ & SVINCOLO OSPEDALE PUGLIESE - CATANZARO CENTRO & 18 & 99 & 18\\_0000000009 &    98.948331\\\\\n",
       "\t36607 & 96107 & NSA371        & CA & EX S.S. N. 125 ORIENTALE SARDA                & 20 &  4 & NULL          & 35389.448293\\\\\n",
       "\t36608 & 96090 & 14\\_1409038012 & CB & ARCO INTERSEZIONE                             & 14 & 99 & 14\\_0000000038 &    65.192405\\\\\n",
       "\t36609 & 21767 & 18\\_3494       & CZ & SVINCOLO OSPEDALE PUGLIESE - CATANZARO CENTRO & 18 & 99 & 18\\_0000000009 &    51.013843\\\\\n",
       "\t36610 & 22785 & 18\\_2299       & CZ & INTERSEZIONE FAGO DEL SOLDATO                 & 18 & 99 & 18\\_0000000026 &    30.687862\\\\\n",
       "\t36611 & 21080 & 18\\_2743       & CZ & SVINCOLO OSPEDALE PUGLIESE - CATANZARO CENTRO & 18 & 99 & 18\\_0000000009 &   126.995417\\\\\n",
       "\t36612 & 96135 & 01\\_1990000163 & TO & ROTATORIA KM 8+200                            &  1 & 99 & 01\\_1990000018 &    36.036759\\\\\n",
       "\t36613 & 96160 & 01\\_806        & TO & ROTATORIA BORGONE VIA MONCENISIO              &  1 & 99 & 01\\_0000000409 &    23.981089\\\\\n",
       "\t36614 & 96140 & 01\\_1043       & TO & ROTATORIA SP83                                &  1 & 99 & 01\\_0000000551 &    62.968223\\\\\n",
       "\t36615 & 96130 & 01\\_1990000160 & TO & ROTATORIA KM 8+200                            &  1 & 99 & 01\\_1990000018 &    42.143009\\\\\n",
       "\t36616 & 96148 & 01\\_2091       & TO & ROTATORIA VIA DELLA LIBERTA'                  &  1 & 99 & 01\\_0000000559 &    22.230008\\\\\n",
       "\t36617 & 96138 & 01\\_1045       & TO & ROTATORIA SP83                                &  1 & 99 & 01\\_0000000551 &    46.905711\\\\\n",
       "\t36618 & 96142 & 01\\_1071       & TO & ROTATORIA VIA SAN GIOVANNI                    &  1 & 99 & 01\\_0000000562 &    25.603664\\\\\n",
       "\t36619 & 96147 & 01\\_1059       & TO & ROTATORIA VIA DELLA LIBERTA'                  &  1 & 99 & 01\\_0000000559 &   212.772116\\\\\n",
       "\t36620 & 96131 & 01\\_1990000162 & TO & ROTATORIA KM 8+200                            &  1 & 99 & 01\\_1990000018 &    37.683629\\\\\n",
       "\t36621 & 96137 & 01\\_1052       & TO & ROTATORIASP4a                                 &  1 & 99 & 01\\_0000000557 &    72.885598\\\\\n",
       "\t36622 & 96159 & 01\\_807        & TO & ROTATORIA BORGONE VIA MONCENISIO              &  1 & 99 & 01\\_0000000409 &    94.296259\\\\\n",
       "\t36623 & 96145 & 01\\_1074       & TO & ROTATORIA VIA MIRABELLA                       &  1 & 99 & 01\\_0000000576 &    70.470709\\\\\n",
       "\t36624 & 96144 & 01\\_1066       & TO & ROTATORIA VIA SAN GIOVANNI                    &  1 & 99 & 01\\_0000000562 &    30.673920\\\\\n",
       "\\end{tabular}\n"
      ],
      "text/markdown": [
       "\n",
       "A data.frame: 36625 × 8\n",
       "\n",
       "| <!--/--> | OBJECTID &lt;fct&gt; | COD_STRA &lt;fct&gt; | COM_SIGLA &lt;fct&gt; | SECONDONOM &lt;fct&gt; | COD_COM &lt;int&gt; | AMM &lt;int&gt; | COD_INT &lt;fct&gt; | SHAPE_LEN &lt;dbl&gt; |\n",
       "|---|---|---|---|---|---|---|---|---|\n",
       "| 0 | 151 | 16_1601033031 | BA | SVINCOLO STADIO AEROPORTO SS7 KM 713+500 | 16 | 99 | 16_0000000033 |  44.19727 |\n",
       "| 1 | 152 | 16_1601033032 | BA | SVINCOLO STADIO AEROPORTO SS7 KM 713+500 | 16 | 99 | 16_0000000033 |  64.75063 |\n",
       "| 2 | 153 | 16_1601033042 | BA | SVINCOLO STADIO AEROPORTO SS7 KM 713+500 | 16 | 99 | 16_0000000033 |  32.95173 |\n",
       "| 3 | 154 | 16_1601033050 | BA | SVINCOLO STADIO AEROPORTO SS7 KM 713+500 | 16 | 99 | 16_0000000033 | 427.75246 |\n",
       "| 4 | 155 | 16_1601033060 | BA | SVINCOLO STADIO AEROPORTO SS7 KM 713+500 | 16 | 99 | 16_0000000033 | 448.43576 |\n",
       "| 5 | 156 | 16_1601154011 | BA | SVINCOLO SS16                            | 16 | 99 | 16_0000000154 |  50.21564 |\n",
       "| 6 | 157 | 16_1601154012 | BA | SVINCOLO SS16                            | 16 | 99 | 16_0000000154 |  44.80815 |\n",
       "| 7 | 158 | 16_1601154013 | BA | SVINCOLO SS16                            | 16 | 99 | 16_0000000154 |  39.27786 |\n",
       "| 8 | 159 | 16_1601154014 | BA | SVINCOLO SS16                            | 16 | 99 | 16_0000000154 | 116.62738 |\n",
       "| 9 | 160 | 16_1601154015 | BA | SVINCOLO SS16                            | 16 | 99 | 16_0000000154 |  43.96184 |\n",
       "| 10 | 161 | 16_1601154016 | BA | SVINCOLO SS16                            | 16 | 99 | 16_0000000154 |  46.38134 |\n",
       "| 11 | 162 | 16_1601154017 | BA | SVINCOLO SS16                            | 16 | 99 | 16_0000000154 |  58.76324 |\n",
       "| 12 | 163 | 16_1601154021 | BA | SVINCOLO SS16                            | 16 | 99 | 16_0000000154 |  94.04483 |\n",
       "| 13 | 164 | 16_1601154022 | BA | SVINCOLO SS16                            | 16 | 99 | 16_0000000154 |  29.08069 |\n",
       "| 14 | 165 | 16_1601154023 | BA | SVINCOLO SS16                            | 16 | 99 | 16_0000000154 |  20.73300 |\n",
       "| 15 | 166 | 16_1601154024 | BA | SVINCOLO SS16                            | 16 | 99 | 16_0000000154 | 185.12098 |\n",
       "| 16 | 167 | 16_1601154025 | BA | SVINCOLO SS16                            | 16 | 99 | 16_0000000154 |  48.96418 |\n",
       "| 17 | 168 | 16_1601154026 | BA | SVINCOLO SS16                            | 16 | 99 | 16_0000000154 |  26.96322 |\n",
       "| 18 | 169 | 16_1601154027 | BA | SVINCOLO SS16                            | 16 | 99 | 16_0000000154 | 165.52789 |\n",
       "| 19 | 170 | 16_1601154031 | BA | SVINCOLO SS16                            | 16 | 99 | 16_0000000154 |  97.70119 |\n",
       "| 20 | 171 | 16_1601154032 | BA | SVINCOLO SS16                            | 16 | 99 | 16_0000000154 |  62.07626 |\n",
       "| 21 | 172 | 16_1601154033 | BA | SVINCOLO SS16                            | 16 | 99 | 16_0000000154 |  53.48452 |\n",
       "| 22 | 173 | 16_1601154034 | BA | SVINCOLO SS16                            | 16 | 99 | 16_0000000154 | 158.32206 |\n",
       "| 23 | 174 | 16_1601154035 | BA | SVINCOLO SS16                            | 16 | 99 | 16_0000000154 |  73.31075 |\n",
       "| 24 | 175 | 16_1601154041 | BA | SVINCOLO SS16                            | 16 | 99 | 16_0000000154 |  73.67223 |\n",
       "| 25 | 176 | 16_1601154051 | BA | SVINCOLO SS16                            | 16 | 99 | 16_0000000154 |  92.09658 |\n",
       "| 26 | 177 | 16_1601154052 | BA | SVINCOLO SS16                            | 16 | 99 | 16_0000000154 | 109.18367 |\n",
       "| 27 | 178 | 16_1601154053 | BA | SVINCOLO SS16                            | 16 | 99 | 16_0000000154 |  68.15171 |\n",
       "| 28 | 179 | 16_1601154061 | BA | SVINCOLO SS16                            | 16 | 99 | 16_0000000154 |  56.40007 |\n",
       "| 29 | 180 | 16_1601154063 | BA | SVINCOLO SS16                            | 16 | 99 | 16_0000000154 |  81.89045 |\n",
       "| ⋮ | ⋮ | ⋮ | ⋮ | ⋮ | ⋮ | ⋮ | ⋮ | ⋮ |\n",
       "| 36595 | 95307 | 08_1990000557 | BO | VARIANTE DI ARGENTA                           |  8 | 99 | 08_1990000016 |   170.255717 |\n",
       "| 36596 | 95281 | 08_1990000554 | BO | ROTATORIE KM 111+000                          |  8 | 99 | 08_1990000018 |    85.011194 |\n",
       "| 36597 | 95313 | 08_1990000433 | BO | INTERSEZIONE                                  |  8 | 99 | 08_1990000026 |   124.528806 |\n",
       "| 36598 | 95309 | 08_1990000442 | BO | INTERSEZIONE                                  |  8 | 99 | 08_1990000026 |    38.067425 |\n",
       "| 36599 | 95285 | 08_1990000270 | BO | INTERSEZIONE                                  |  8 | 99 | 08_1990000016 |    23.989204 |\n",
       "| 36600 | 95311 | 08_1990000441 | BO | INTERSEZIONE                                  |  8 | 99 | 08_1990000026 |    53.981073 |\n",
       "| 36601 | 95279 | 08_1990000555 | BO | ROTATORIE KM 111+000                          |  8 | 99 | 08_1990000018 |    85.333102 |\n",
       "| 36602 | 96100 | 18_2788       | CZ | SVINCOLO OSPEDALE PUGLIESE - CATANZARO CENTRO | 18 | 99 | 18_0000000009 |     8.384374 |\n",
       "| 36603 | 96103 | 18_1990000388 | CZ | INTERSEZIONE TORRENTE AMATO                   | 18 | 99 | 18_0000000146 |    94.624954 |\n",
       "| 36604 | 96105 | 20_1990000358 | CA | SVINCOLO DI BARI SARDO                        | 20 | 99 | 20_1990000014 |    91.324655 |\n",
       "| 36605 | 96088 | SS710         | CB | TANGENZIALE EST DI CAMPOBASSO                 | 14 |  3 | NULL          |  2596.418812 |\n",
       "| 36606 | 96101 | 18_2711       | CZ | SVINCOLO OSPEDALE PUGLIESE - CATANZARO CENTRO | 18 | 99 | 18_0000000009 |    98.948331 |\n",
       "| 36607 | 96107 | NSA371        | CA | EX S.S. N. 125 ORIENTALE SARDA                | 20 |  4 | NULL          | 35389.448293 |\n",
       "| 36608 | 96090 | 14_1409038012 | CB | ARCO INTERSEZIONE                             | 14 | 99 | 14_0000000038 |    65.192405 |\n",
       "| 36609 | 21767 | 18_3494       | CZ | SVINCOLO OSPEDALE PUGLIESE - CATANZARO CENTRO | 18 | 99 | 18_0000000009 |    51.013843 |\n",
       "| 36610 | 22785 | 18_2299       | CZ | INTERSEZIONE FAGO DEL SOLDATO                 | 18 | 99 | 18_0000000026 |    30.687862 |\n",
       "| 36611 | 21080 | 18_2743       | CZ | SVINCOLO OSPEDALE PUGLIESE - CATANZARO CENTRO | 18 | 99 | 18_0000000009 |   126.995417 |\n",
       "| 36612 | 96135 | 01_1990000163 | TO | ROTATORIA KM 8+200                            |  1 | 99 | 01_1990000018 |    36.036759 |\n",
       "| 36613 | 96160 | 01_806        | TO | ROTATORIA BORGONE VIA MONCENISIO              |  1 | 99 | 01_0000000409 |    23.981089 |\n",
       "| 36614 | 96140 | 01_1043       | TO | ROTATORIA SP83                                |  1 | 99 | 01_0000000551 |    62.968223 |\n",
       "| 36615 | 96130 | 01_1990000160 | TO | ROTATORIA KM 8+200                            |  1 | 99 | 01_1990000018 |    42.143009 |\n",
       "| 36616 | 96148 | 01_2091       | TO | ROTATORIA VIA DELLA LIBERTA'                  |  1 | 99 | 01_0000000559 |    22.230008 |\n",
       "| 36617 | 96138 | 01_1045       | TO | ROTATORIA SP83                                |  1 | 99 | 01_0000000551 |    46.905711 |\n",
       "| 36618 | 96142 | 01_1071       | TO | ROTATORIA VIA SAN GIOVANNI                    |  1 | 99 | 01_0000000562 |    25.603664 |\n",
       "| 36619 | 96147 | 01_1059       | TO | ROTATORIA VIA DELLA LIBERTA'                  |  1 | 99 | 01_0000000559 |   212.772116 |\n",
       "| 36620 | 96131 | 01_1990000162 | TO | ROTATORIA KM 8+200                            |  1 | 99 | 01_1990000018 |    37.683629 |\n",
       "| 36621 | 96137 | 01_1052       | TO | ROTATORIASP4a                                 |  1 | 99 | 01_0000000557 |    72.885598 |\n",
       "| 36622 | 96159 | 01_807        | TO | ROTATORIA BORGONE VIA MONCENISIO              |  1 | 99 | 01_0000000409 |    94.296259 |\n",
       "| 36623 | 96145 | 01_1074       | TO | ROTATORIA VIA MIRABELLA                       |  1 | 99 | 01_0000000576 |    70.470709 |\n",
       "| 36624 | 96144 | 01_1066       | TO | ROTATORIA VIA SAN GIOVANNI                    |  1 | 99 | 01_0000000562 |    30.673920 |\n",
       "\n"
      ],
      "text/plain": [
       "      OBJECTID COD_STRA      COM_SIGLA\n",
       "0     151      16_1601033031 BA       \n",
       "1     152      16_1601033032 BA       \n",
       "2     153      16_1601033042 BA       \n",
       "3     154      16_1601033050 BA       \n",
       "4     155      16_1601033060 BA       \n",
       "5     156      16_1601154011 BA       \n",
       "6     157      16_1601154012 BA       \n",
       "7     158      16_1601154013 BA       \n",
       "8     159      16_1601154014 BA       \n",
       "9     160      16_1601154015 BA       \n",
       "10    161      16_1601154016 BA       \n",
       "11    162      16_1601154017 BA       \n",
       "12    163      16_1601154021 BA       \n",
       "13    164      16_1601154022 BA       \n",
       "14    165      16_1601154023 BA       \n",
       "15    166      16_1601154024 BA       \n",
       "16    167      16_1601154025 BA       \n",
       "17    168      16_1601154026 BA       \n",
       "18    169      16_1601154027 BA       \n",
       "19    170      16_1601154031 BA       \n",
       "20    171      16_1601154032 BA       \n",
       "21    172      16_1601154033 BA       \n",
       "22    173      16_1601154034 BA       \n",
       "23    174      16_1601154035 BA       \n",
       "24    175      16_1601154041 BA       \n",
       "25    176      16_1601154051 BA       \n",
       "26    177      16_1601154052 BA       \n",
       "27    178      16_1601154053 BA       \n",
       "28    179      16_1601154061 BA       \n",
       "29    180      16_1601154063 BA       \n",
       "⋮     ⋮        ⋮             ⋮        \n",
       "36595 95307    08_1990000557 BO       \n",
       "36596 95281    08_1990000554 BO       \n",
       "36597 95313    08_1990000433 BO       \n",
       "36598 95309    08_1990000442 BO       \n",
       "36599 95285    08_1990000270 BO       \n",
       "36600 95311    08_1990000441 BO       \n",
       "36601 95279    08_1990000555 BO       \n",
       "36602 96100    18_2788       CZ       \n",
       "36603 96103    18_1990000388 CZ       \n",
       "36604 96105    20_1990000358 CA       \n",
       "36605 96088    SS710         CB       \n",
       "36606 96101    18_2711       CZ       \n",
       "36607 96107    NSA371        CA       \n",
       "36608 96090    14_1409038012 CB       \n",
       "36609 21767    18_3494       CZ       \n",
       "36610 22785    18_2299       CZ       \n",
       "36611 21080    18_2743       CZ       \n",
       "36612 96135    01_1990000163 TO       \n",
       "36613 96160    01_806        TO       \n",
       "36614 96140    01_1043       TO       \n",
       "36615 96130    01_1990000160 TO       \n",
       "36616 96148    01_2091       TO       \n",
       "36617 96138    01_1045       TO       \n",
       "36618 96142    01_1071       TO       \n",
       "36619 96147    01_1059       TO       \n",
       "36620 96131    01_1990000162 TO       \n",
       "36621 96137    01_1052       TO       \n",
       "36622 96159    01_807        TO       \n",
       "36623 96145    01_1074       TO       \n",
       "36624 96144    01_1066       TO       \n",
       "      SECONDONOM                                    COD_COM AMM COD_INT      \n",
       "0     SVINCOLO STADIO AEROPORTO SS7 KM 713+500      16      99  16_0000000033\n",
       "1     SVINCOLO STADIO AEROPORTO SS7 KM 713+500      16      99  16_0000000033\n",
       "2     SVINCOLO STADIO AEROPORTO SS7 KM 713+500      16      99  16_0000000033\n",
       "3     SVINCOLO STADIO AEROPORTO SS7 KM 713+500      16      99  16_0000000033\n",
       "4     SVINCOLO STADIO AEROPORTO SS7 KM 713+500      16      99  16_0000000033\n",
       "5     SVINCOLO SS16                                 16      99  16_0000000154\n",
       "6     SVINCOLO SS16                                 16      99  16_0000000154\n",
       "7     SVINCOLO SS16                                 16      99  16_0000000154\n",
       "8     SVINCOLO SS16                                 16      99  16_0000000154\n",
       "9     SVINCOLO SS16                                 16      99  16_0000000154\n",
       "10    SVINCOLO SS16                                 16      99  16_0000000154\n",
       "11    SVINCOLO SS16                                 16      99  16_0000000154\n",
       "12    SVINCOLO SS16                                 16      99  16_0000000154\n",
       "13    SVINCOLO SS16                                 16      99  16_0000000154\n",
       "14    SVINCOLO SS16                                 16      99  16_0000000154\n",
       "15    SVINCOLO SS16                                 16      99  16_0000000154\n",
       "16    SVINCOLO SS16                                 16      99  16_0000000154\n",
       "17    SVINCOLO SS16                                 16      99  16_0000000154\n",
       "18    SVINCOLO SS16                                 16      99  16_0000000154\n",
       "19    SVINCOLO SS16                                 16      99  16_0000000154\n",
       "20    SVINCOLO SS16                                 16      99  16_0000000154\n",
       "21    SVINCOLO SS16                                 16      99  16_0000000154\n",
       "22    SVINCOLO SS16                                 16      99  16_0000000154\n",
       "23    SVINCOLO SS16                                 16      99  16_0000000154\n",
       "24    SVINCOLO SS16                                 16      99  16_0000000154\n",
       "25    SVINCOLO SS16                                 16      99  16_0000000154\n",
       "26    SVINCOLO SS16                                 16      99  16_0000000154\n",
       "27    SVINCOLO SS16                                 16      99  16_0000000154\n",
       "28    SVINCOLO SS16                                 16      99  16_0000000154\n",
       "29    SVINCOLO SS16                                 16      99  16_0000000154\n",
       "⋮     ⋮                                             ⋮       ⋮   ⋮            \n",
       "36595 VARIANTE DI ARGENTA                            8      99  08_1990000016\n",
       "36596 ROTATORIE KM 111+000                           8      99  08_1990000018\n",
       "36597 INTERSEZIONE                                   8      99  08_1990000026\n",
       "36598 INTERSEZIONE                                   8      99  08_1990000026\n",
       "36599 INTERSEZIONE                                   8      99  08_1990000016\n",
       "36600 INTERSEZIONE                                   8      99  08_1990000026\n",
       "36601 ROTATORIE KM 111+000                           8      99  08_1990000018\n",
       "36602 SVINCOLO OSPEDALE PUGLIESE - CATANZARO CENTRO 18      99  18_0000000009\n",
       "36603 INTERSEZIONE TORRENTE AMATO                   18      99  18_0000000146\n",
       "36604 SVINCOLO DI BARI SARDO                        20      99  20_1990000014\n",
       "36605 TANGENZIALE EST DI CAMPOBASSO                 14       3  NULL         \n",
       "36606 SVINCOLO OSPEDALE PUGLIESE - CATANZARO CENTRO 18      99  18_0000000009\n",
       "36607 EX S.S. N. 125 ORIENTALE SARDA                20       4  NULL         \n",
       "36608 ARCO INTERSEZIONE                             14      99  14_0000000038\n",
       "36609 SVINCOLO OSPEDALE PUGLIESE - CATANZARO CENTRO 18      99  18_0000000009\n",
       "36610 INTERSEZIONE FAGO DEL SOLDATO                 18      99  18_0000000026\n",
       "36611 SVINCOLO OSPEDALE PUGLIESE - CATANZARO CENTRO 18      99  18_0000000009\n",
       "36612 ROTATORIA KM 8+200                             1      99  01_1990000018\n",
       "36613 ROTATORIA BORGONE VIA MONCENISIO               1      99  01_0000000409\n",
       "36614 ROTATORIA SP83                                 1      99  01_0000000551\n",
       "36615 ROTATORIA KM 8+200                             1      99  01_1990000018\n",
       "36616 ROTATORIA VIA DELLA LIBERTA'                   1      99  01_0000000559\n",
       "36617 ROTATORIA SP83                                 1      99  01_0000000551\n",
       "36618 ROTATORIA VIA SAN GIOVANNI                     1      99  01_0000000562\n",
       "36619 ROTATORIA VIA DELLA LIBERTA'                   1      99  01_0000000559\n",
       "36620 ROTATORIA KM 8+200                             1      99  01_1990000018\n",
       "36621 ROTATORIASP4a                                  1      99  01_0000000557\n",
       "36622 ROTATORIA BORGONE VIA MONCENISIO               1      99  01_0000000409\n",
       "36623 ROTATORIA VIA MIRABELLA                        1      99  01_0000000576\n",
       "36624 ROTATORIA VIA SAN GIOVANNI                     1      99  01_0000000562\n",
       "      SHAPE_LEN   \n",
       "0      44.19727   \n",
       "1      64.75063   \n",
       "2      32.95173   \n",
       "3     427.75246   \n",
       "4     448.43576   \n",
       "5      50.21564   \n",
       "6      44.80815   \n",
       "7      39.27786   \n",
       "8     116.62738   \n",
       "9      43.96184   \n",
       "10     46.38134   \n",
       "11     58.76324   \n",
       "12     94.04483   \n",
       "13     29.08069   \n",
       "14     20.73300   \n",
       "15    185.12098   \n",
       "16     48.96418   \n",
       "17     26.96322   \n",
       "18    165.52789   \n",
       "19     97.70119   \n",
       "20     62.07626   \n",
       "21     53.48452   \n",
       "22    158.32206   \n",
       "23     73.31075   \n",
       "24     73.67223   \n",
       "25     92.09658   \n",
       "26    109.18367   \n",
       "27     68.15171   \n",
       "28     56.40007   \n",
       "29     81.89045   \n",
       "⋮     ⋮           \n",
       "36595   170.255717\n",
       "36596    85.011194\n",
       "36597   124.528806\n",
       "36598    38.067425\n",
       "36599    23.989204\n",
       "36600    53.981073\n",
       "36601    85.333102\n",
       "36602     8.384374\n",
       "36603    94.624954\n",
       "36604    91.324655\n",
       "36605  2596.418812\n",
       "36606    98.948331\n",
       "36607 35389.448293\n",
       "36608    65.192405\n",
       "36609    51.013843\n",
       "36610    30.687862\n",
       "36611   126.995417\n",
       "36612    36.036759\n",
       "36613    23.981089\n",
       "36614    62.968223\n",
       "36615    42.143009\n",
       "36616    22.230008\n",
       "36617    46.905711\n",
       "36618    25.603664\n",
       "36619   212.772116\n",
       "36620    37.683629\n",
       "36621    72.885598\n",
       "36622    94.296259\n",
       "36623    70.470709\n",
       "36624    30.673920"
      ]
     },
     "metadata": {},
     "output_type": "display_data"
    }
   ],
   "source": [
    "(my_spdf@data)"
   ]
  },
  {
   "cell_type": "code",
   "execution_count": 48,
   "metadata": {},
   "outputs": [
    {
     "data": {
      "image/png": "[encoded data removed]",
      "text/plain": [
       "plot without title"
      ]
     },
     "metadata": {},
     "output_type": "display_data"
    }
   ],
   "source": [
    "plot(my_spdf, col=\"#f2f2f2\", bg=\"skyblue\", lwd=0.25)"
   ]
  },
  {
   "cell_type": "markdown",
   "metadata": {},
   "source": [
    "Sono riuscito a trovare come poter collegare il nome dell'autostrada. Online sono inoltre presenti i dati geografici (si chiamano _shapefile_) relativi alle autostrade. Penso che, una volta capito quello che si deve fare, non sia difficile riportare questi dati su una mappa geografica.\n",
    "\n",
    "Servono ovviamente le apposite mappe."
   ]
  },
  {
   "cell_type": "markdown",
   "metadata": {},
   "source": [
    "### Sesso nel numero di incidenti.\n",
    "\n",
    "Provo a fare una veloce analisi per vedere se ci sono più incidenti quando sono presenti donne o meno."
   ]
  },
  {
   "cell_type": "code",
   "execution_count": null,
   "metadata": {},
   "outputs": [],
   "source": []
  },
  {
   "cell_type": "code",
   "execution_count": 34,
   "metadata": {},
   "outputs": [],
   "source": [
    "# Sostituisco i Nan con dei 3\n",
    "veicolo__a___sesso_conducente[is.na(veicolo__a___sesso_conducente)] <- 3"
   ]
  },
  {
   "cell_type": "code",
   "execution_count": 35,
   "metadata": {},
   "outputs": [],
   "source": [
    "veicolo__a___sesso_conducente <- factor(veicolo__a___sesso_conducente)\n",
    "levels(veicolo__a___sesso_conducente) <- c(\"Maschio\", \"Femmina\",\"Sconosciuto\")"
   ]
  },
  {
   "cell_type": "code",
   "execution_count": 36,
   "metadata": {},
   "outputs": [
    {
     "data": {
      "text/plain": [
       "veicolo__a___sesso_conducente\n",
       "    Maschio     Femmina Sconosciuto \n",
       "      14674        5221         105 "
      ]
     },
     "metadata": {},
     "output_type": "display_data"
    }
   ],
   "source": [
    "tabella_veicolo__a__sesso_conducente = table(veicolo__a___sesso_conducente)\n",
    "tabella_veicolo__a__sesso_conducente"
   ]
  },
  {
   "cell_type": "code",
   "execution_count": 37,
   "metadata": {},
   "outputs": [],
   "source": [
    "# Calcolo frequenze\n",
    "tabella_veicolo__a__sesso_conducente.relfreq <- tabella_veicolo__a__sesso_conducente/length(veicolo__a___sesso_conducente)\n",
    "tabella_veicolo__a__sesso_conducente.percfreq <- tabella_veicolo__a__sesso_conducente.relfreq*100"
   ]
  },
  {
   "cell_type": "code",
   "execution_count": 38,
   "metadata": {
    "scrolled": false
   },
   "outputs": [
    {
     "data": {
      "image/png": "[encoded data removed]",
      "text/plain": [
       "Plot with title “Sesso del primo conducente negli incidenti in Italia nel 2017”"
      ]
     },
     "metadata": {},
     "output_type": "display_data"
    }
   ],
   "source": [
    "barplot(tabella_veicolo__a__sesso_conducente.percfreq, xlab='Sesso', ylab='Frequenza percentuale', main='Sesso del primo conducente negli incidenti in Italia nel 2017')"
   ]
  },
  {
   "cell_type": "code",
   "execution_count": 39,
   "metadata": {},
   "outputs": [],
   "source": [
    "# Sostituisco i Nan con dei 3\n",
    "veicolo__b___sesso_conducente[is.na(veicolo__b___sesso_conducente)] <- 3"
   ]
  },
  {
   "cell_type": "code",
   "execution_count": 40,
   "metadata": {},
   "outputs": [],
   "source": [
    "veicolo__b___sesso_conducente <- factor(veicolo__b___sesso_conducente)\n",
    "levels(veicolo__b___sesso_conducente) <- c(\"Maschio\", \"Femmina\", \"Sconosciuto\")"
   ]
  },
  {
   "cell_type": "code",
   "execution_count": 41,
   "metadata": {},
   "outputs": [
    {
     "data": {
      "text/plain": [
       "veicolo__b___sesso_conducente\n",
       "    Maschio     Femmina Sconosciuto \n",
       "      10799        3598        5603 "
      ]
     },
     "metadata": {},
     "output_type": "display_data"
    }
   ],
   "source": [
    "tabella_veicolo__b__sesso_conducente = table(veicolo__b___sesso_conducente)\n",
    "tabella_veicolo__b__sesso_conducente"
   ]
  },
  {
   "cell_type": "code",
   "execution_count": 42,
   "metadata": {},
   "outputs": [],
   "source": [
    "# Calcolo frequenze\n",
    "tabella_veicolo__b__sesso_conducente.relfreq <- tabella_veicolo__b__sesso_conducente/length(veicolo__b___sesso_conducente)\n",
    "tabella_veicolo__b__sesso_conducente.percfreq <- tabella_veicolo__b__sesso_conducente.relfreq*100"
   ]
  },
  {
   "cell_type": "code",
   "execution_count": 43,
   "metadata": {
    "scrolled": false
   },
   "outputs": [
    {
     "data": {
      "image/png": "[encoded data removed]",
      "text/plain": [
       "Plot with title “Sesso del secondo conducente negli incidenti in Italia nel 2017”"
      ]
     },
     "metadata": {},
     "output_type": "display_data"
    }
   ],
   "source": [
    "barplot(tabella_veicolo__b__sesso_conducente.percfreq, xlab='Sesso', ylab='Frequenza percentuale',\n",
    "        main='Sesso del secondo conducente negli incidenti in Italia nel 2017')"
   ]
  },
  {
   "cell_type": "markdown",
   "metadata": {},
   "source": [
    "Vado a prendere tutti quegli incidenti in cui si ha che è presente una donna come conducente, o sul primo o sul secondo veicolo."
   ]
  },
  {
   "cell_type": "code",
   "execution_count": 44,
   "metadata": {},
   "outputs": [],
   "source": [
    "incidenti_con_almeno_una_donna = sample_data[which(veicolo__a___sesso_conducente==\"Femmina\" | veicolo__b___sesso_conducente==\"Femmina\"),]"
   ]
  },
  {
   "cell_type": "code",
   "execution_count": 45,
   "metadata": {},
   "outputs": [
    {
     "data": {
      "text/html": [
       "7693"
      ],
      "text/latex": [
       "7693"
      ],
      "text/markdown": [
       "7693"
      ],
      "text/plain": [
       "[1] 7693"
      ]
     },
     "metadata": {},
     "output_type": "display_data"
    }
   ],
   "source": [
    "nrow(incidenti_con_almeno_una_donna)"
   ]
  },
  {
   "cell_type": "code",
   "execution_count": 46,
   "metadata": {},
   "outputs": [],
   "source": [
    "incidenti_con_almeno_un_uomo = sample_data[which(veicolo__a___sesso_conducente==\"Maschio\" |  veicolo__b___sesso_conducente==\"Maschio\"),]"
   ]
  },
  {
   "cell_type": "code",
   "execution_count": 47,
   "metadata": {},
   "outputs": [
    {
     "data": {
      "text/html": [
       "17427"
      ],
      "text/latex": [
       "17427"
      ],
      "text/markdown": [
       "17427"
      ],
      "text/plain": [
       "[1] 17427"
      ]
     },
     "metadata": {},
     "output_type": "display_data"
    }
   ],
   "source": [
    "nrow(incidenti_con_almeno_un_uomo)"
   ]
  },
  {
   "cell_type": "markdown",
   "metadata": {},
   "source": [
    "-----"
   ]
  },
  {
   "cell_type": "raw",
   "metadata": {},
   "source": [
    "incidenti_con_solo_uomo = sample_data[which(veicolo__a___sesso_conducente==\"Maschio\" & veicolo__b___sesso_conducente==\"Maschio\"),]"
   ]
  },
  {
   "cell_type": "raw",
   "metadata": {},
   "source": [
    "nrow(incidenti_con_solo_uomo)"
   ]
  },
  {
   "cell_type": "raw",
   "metadata": {},
   "source": [
    "incidenti_uomo_donna_confronto = as.table(c(nrow(incidenti_con_almeno_una_donna),nrow(incidenti_con_solo_uomo)))"
   ]
  },
  {
   "cell_type": "raw",
   "metadata": {},
   "source": [
    "rownames(incidenti_uomo_donna_confronto) = c(\"Almeno una donna\", \"Solo uomini\")"
   ]
  },
  {
   "cell_type": "raw",
   "metadata": {},
   "source": [
    "incidenti_uomo_donna_confronto.percfreq <- as.numeric(as.character(as.integer(incidenti_uomo_donna_confronto/(incidenti_uomo_donna_confronto[1]+incidenti_uomo_donna_confronto[2])*10000)/100))\n",
    "ylim <- c(0, 1.1*max(incidenti_uomo_donna_confronto.percfreq))\n",
    "xx <- barplot(incidenti_uomo_donna_confronto.percfreq, xaxt = 'n', xlab = '', width = 0.85, ylim = ylim,\n",
    "              main = \"Incidenti con e senza presenza di donne\", \n",
    "              ylab = \"Frequenza percentuale\")\n",
    "text(x = xx, y = incidenti_uomo_donna_confronto.percfreq,\n",
    "     label = incidenti_uomo_donna_confronto.percfreq,\n",
    "     pos = 3, cex = 0.8, col = \"red\")\n",
    "axis(1, at=xx, labels=c(\"Almeno una donna\", \"Solo uomini\"), tick=FALSE, las=1, line=-0.5, cex.axis=0.8)"
   ]
  },
  {
   "cell_type": "markdown",
   "metadata": {},
   "source": [
    "-----"
   ]
  },
  {
   "cell_type": "code",
   "execution_count": 52,
   "metadata": {},
   "outputs": [],
   "source": [
    "incidenti_uomo_donna_confronto = as.table(c(nrow(incidenti_con_almeno_una_donna),nrow(incidenti_con_almeno_un_uomo)))\n",
    "rownames(incidenti_uomo_donna_confronto) = c(\"Almeno una donna\", \"Almeno un uomo\")"
   ]
  },
  {
   "cell_type": "code",
   "execution_count": 53,
   "metadata": {},
   "outputs": [
    {
     "data": {
      "text/html": [
       "58"
      ],
      "text/latex": [
       "58"
      ],
      "text/markdown": [
       "58"
      ],
      "text/plain": [
       "[1] 58"
      ]
     },
     "metadata": {},
     "output_type": "display_data"
    }
   ],
   "source": [
    "incidenti_solo_sconosciuti = sample_data[which(veicolo__a___sesso_conducente==\"Sconosciuto\" & veicolo__b___sesso_conducente==\"Sconosciuto\"),]\n",
    "nrow(incidenti_solo_sconosciuti)"
   ]
  },
  {
   "cell_type": "markdown",
   "metadata": {},
   "source": [
    "Il grafico qua sotto rappresenta la probabilità che un uomo e una donna siano coinvolti in un incidente, in generale. \n",
    "\n",
    "Questo risultato non è però pesato sul numero di patenti."
   ]
  },
  {
   "cell_type": "code",
   "execution_count": 54,
   "metadata": {
    "scrolled": false
   },
   "outputs": [
    {
     "data": {
      "image/png": "[encoded data removed]",
      "text/plain": [
       "Plot with title “Confronto incidenti per sesso”"
      ]
     },
     "metadata": {},
     "output_type": "display_data"
    }
   ],
   "source": [
    "incidenti_uomo_donna_confronto.percfreq <- as.numeric(as.character(as.integer(incidenti_uomo_donna_confronto/(SAMPLE_SIZE - nrow(incidenti_solo_sconosciuti))*10000)/100))\n",
    "ylim <- c(0, 1.1*max(incidenti_uomo_donna_confronto.percfreq))\n",
    "xx <- barplot(incidenti_uomo_donna_confronto.percfreq, xaxt = 'n', xlab = '', width = 0.85, ylim = ylim,\n",
    "              main = \"Confronto incidenti per sesso\", \n",
    "              ylab = \"Frequenza percentuale\")\n",
    "text(x = xx, y = incidenti_uomo_donna_confronto.percfreq,\n",
    "     label = incidenti_uomo_donna_confronto.percfreq,\n",
    "     pos = 3, cex = 0.8, col = \"red\")\n",
    "axis(1, at=xx, labels=c(\"Almeno una donna\", \"Almeno un uomo\"), tick=FALSE, las=1, line=-0.5, cex.axis=0.8)"
   ]
  },
  {
   "cell_type": "markdown",
   "metadata": {},
   "source": [
    "Da questa tabella si deduce che la probabilità che una donna sia coinvolta in un incidente è del 40%, mentre quella che un uomo ne sia coinvolto è del 90%.\n",
    "\n",
    "Ovviamente le due probabilità non sono mutualmente esclusive: il fatto che ci sia un uomo in un incidente, non impedisce che l'altro conducente non sia donna. Ovvero ci sono una serie di incidente `uomo-donna`. \n",
    "\n",
    "Poiché questi risultati non sono pesati per il numero di persone, non indicano effettivamente quale tra i due sessi sia più pericoloso. Per poter avere accesso a questa informazione, bisogna pesare i risultati sul numero di patenti per sesso."
   ]
  },
  {
   "cell_type": "markdown",
   "metadata": {},
   "source": [
    "-------------"
   ]
  },
  {
   "cell_type": "markdown",
   "metadata": {},
   "source": [
    "Provo a fare un rapporto tra le frequenze di queste tabelle e il numero di patentati per sesso.\n",
    "\n",
    "Carico qua sotto le informazioni su tutte le patenti presenti in Italia, divise per regioni.\n",
    "\n",
    "**Info** Ci mette l'eternità ad aprire tutti questi file."
   ]
  },
  {
   "cell_type": "code",
   "execution_count": 55,
   "metadata": {},
   "outputs": [],
   "source": [
    "patenti_Abruzzo <- read.csv(\"dataset/informazioni_patenti_per_regione/patenti_Abruzzo.csv\", sep=',')"
   ]
  },
  {
   "cell_type": "code",
   "execution_count": 56,
   "metadata": {},
   "outputs": [],
   "source": [
    "patenti_Basilicata <- read.csv(\"dataset/informazioni_patenti_per_regione/patenti_Basilicata.csv\", sep=',')"
   ]
  },
  {
   "cell_type": "code",
   "execution_count": 57,
   "metadata": {},
   "outputs": [],
   "source": [
    "patenti_Calabria <- read.csv(\"dataset/informazioni_patenti_per_regione/patenti_Calabria.csv\", sep=',')"
   ]
  },
  {
   "cell_type": "code",
   "execution_count": 58,
   "metadata": {},
   "outputs": [],
   "source": [
    "patenti_Campania <- read.csv(\"dataset/informazioni_patenti_per_regione/patenti_Campania.csv\", sep=',')"
   ]
  },
  {
   "cell_type": "code",
   "execution_count": 59,
   "metadata": {},
   "outputs": [],
   "source": [
    "patenti_EmiliaRomagna <- read.csv(\"dataset/informazioni_patenti_per_regione/patenti_EmiliaRomagna.csv\", sep=',')"
   ]
  },
  {
   "cell_type": "code",
   "execution_count": 60,
   "metadata": {},
   "outputs": [],
   "source": [
    "patenti_FriuliVeneziaGiulia <- read.csv(\"dataset/informazioni_patenti_per_regione/patenti_FriuliVeneziaGiulia.csv\", sep=',')"
   ]
  },
  {
   "cell_type": "code",
   "execution_count": 61,
   "metadata": {},
   "outputs": [],
   "source": [
    "patenti_Lazio <- read.csv(\"dataset/informazioni_patenti_per_regione/patenti_Lazio.csv\", sep=',')"
   ]
  },
  {
   "cell_type": "code",
   "execution_count": 62,
   "metadata": {},
   "outputs": [],
   "source": [
    "patenti_Liguria <- read.csv(\"dataset/informazioni_patenti_per_regione/patenti_Liguria.csv\", sep=',')"
   ]
  },
  {
   "cell_type": "code",
   "execution_count": 63,
   "metadata": {},
   "outputs": [],
   "source": [
    "patenti_Liguria <- read.csv(\"dataset/informazioni_patenti_per_regione/patenti_Liguria.csv\", sep=',')"
   ]
  },
  {
   "cell_type": "code",
   "execution_count": 64,
   "metadata": {},
   "outputs": [],
   "source": [
    "patenti_Lombardia <- read.csv(\"dataset/informazioni_patenti_per_regione/patenti_Lombardia.csv\", sep=',')"
   ]
  },
  {
   "cell_type": "code",
   "execution_count": 65,
   "metadata": {},
   "outputs": [],
   "source": [
    "patenti_Marche <- read.csv(\"dataset/informazioni_patenti_per_regione/patenti_Marche.csv\", sep=',')"
   ]
  },
  {
   "cell_type": "code",
   "execution_count": 66,
   "metadata": {},
   "outputs": [],
   "source": [
    "patenti_Molise <- read.csv(\"dataset/informazioni_patenti_per_regione/patenti_Molise.csv\", sep=',')"
   ]
  },
  {
   "cell_type": "code",
   "execution_count": 67,
   "metadata": {},
   "outputs": [],
   "source": [
    "patenti_Piemonte <- read.csv(\"dataset/informazioni_patenti_per_regione/patenti_Piemonte.csv\", sep=',')"
   ]
  },
  {
   "cell_type": "code",
   "execution_count": 68,
   "metadata": {},
   "outputs": [],
   "source": [
    "patenti_Puglia <- read.csv(\"dataset/informazioni_patenti_per_regione/patenti_Puglia.csv\", sep=',') "
   ]
  },
  {
   "cell_type": "code",
   "execution_count": 69,
   "metadata": {},
   "outputs": [],
   "source": [
    "patenti_Sardegna <- read.csv(\"dataset/informazioni_patenti_per_regione/patenti_Sardegna.csv\", sep=',') "
   ]
  },
  {
   "cell_type": "code",
   "execution_count": 70,
   "metadata": {},
   "outputs": [],
   "source": [
    "patenti_Sicilia <- read.csv(\"dataset/informazioni_patenti_per_regione/patenti_Sicilia.csv\", sep=',') "
   ]
  },
  {
   "cell_type": "code",
   "execution_count": 71,
   "metadata": {},
   "outputs": [],
   "source": [
    "patenti_Toscana <- read.csv(\"dataset/informazioni_patenti_per_regione/patenti_Toscana.csv\", sep=',') "
   ]
  },
  {
   "cell_type": "code",
   "execution_count": 72,
   "metadata": {},
   "outputs": [],
   "source": [
    "patenti_TrentinoAltoAdige <- read.csv(\"dataset/informazioni_patenti_per_regione/patenti_TrentinoAltoAdige.csv\", sep=',') "
   ]
  },
  {
   "cell_type": "code",
   "execution_count": 73,
   "metadata": {},
   "outputs": [],
   "source": [
    "patenti_Umbria <- read.csv(\"dataset/informazioni_patenti_per_regione/patenti_Umbria.csv\", sep=',') "
   ]
  },
  {
   "cell_type": "code",
   "execution_count": 74,
   "metadata": {},
   "outputs": [],
   "source": [
    "patenti_ValleAosta <- read.csv(\"dataset/informazioni_patenti_per_regione/patenti_ValleAosta.csv\", sep=',') "
   ]
  },
  {
   "cell_type": "code",
   "execution_count": 75,
   "metadata": {},
   "outputs": [],
   "source": [
    "patenti_Veneto <- read.csv(\"dataset/informazioni_patenti_per_regione/patenti_Veneto.csv\", sep=',') "
   ]
  },
  {
   "cell_type": "code",
   "execution_count": 76,
   "metadata": {},
   "outputs": [
    {
     "data": {
      "text/html": [
       "17157632"
      ],
      "text/latex": [
       "17157632"
      ],
      "text/markdown": [
       "17157632"
      ],
      "text/plain": [
       "[1] 17157632"
      ]
     },
     "metadata": {},
     "output_type": "display_data"
    }
   ],
   "source": [
    "patenti_femmine = length(which(patenti_Abruzzo$sesso==\"F\")) + length(which(patenti_Basilicata$sesso==\"F\")) + length(which(patenti_Calabria$sesso==\"F\")) + length(which(patenti_Campania$sesso==\"F\")) + length(which(patenti_EmiliaRomagna$sesso==\"F\")) + length(which(patenti_FriuliVeneziaGiulia$sesso==\"F\")) + length(which(patenti_Lazio$sesso==\"F\")) + length(which(patenti_Liguria$sesso==\"F\")) + length(which(patenti_Lombardia$sesso==\"F\")) + length(which(patenti_Marche$sesso==\"F\")) + length(which(patenti_Molise$sesso==\"F\")) + length(which(patenti_Piemonte$sesso==\"F\")) + length(which(patenti_Puglia$sesso==\"F\")) + length(which(patenti_Sardegna$sesso==\"F\")) + length(which(patenti_Sicilia$sesso==\"F\")) + length(which(patenti_Toscana$sesso==\"F\")) + length(which(patenti_TrentinoAltoAdige$sesso==\"F\")) + length(which(patenti_Umbria$sesso==\"F\")) + length(which(patenti_ValleAosta$sesso==\"F\")) + length(which(patenti_Veneto$sesso==\"F\"))\n",
    "patenti_femmine "
   ]
  },
  {
   "cell_type": "code",
   "execution_count": 77,
   "metadata": {},
   "outputs": [
    {
     "data": {
      "text/html": [
       "21536167"
      ],
      "text/latex": [
       "21536167"
      ],
      "text/markdown": [
       "21536167"
      ],
      "text/plain": [
       "[1] 21536167"
      ]
     },
     "metadata": {},
     "output_type": "display_data"
    }
   ],
   "source": [
    "patenti_maschi = length(which(patenti_Abruzzo$sesso==\"M\")) + length(which(patenti_Basilicata$sesso==\"M\")) + length(which(patenti_Calabria$sesso==\"M\")) + length(which(patenti_Campania$sesso==\"M\")) + length(which(patenti_EmiliaRomagna$sesso==\"M\")) + length(which(patenti_FriuliVeneziaGiulia$sesso==\"M\")) + length(which(patenti_Lazio$sesso==\"M\")) + length(which(patenti_Liguria$sesso==\"M\")) + length(which(patenti_Lombardia$sesso==\"M\")) + length(which(patenti_Marche$sesso==\"M\")) + length(which(patenti_Molise$sesso==\"M\")) + length(which(patenti_Piemonte$sesso==\"M\")) + length(which(patenti_Puglia$sesso==\"M\")) + length(which(patenti_Sardegna$sesso==\"M\")) + length(which(patenti_Sicilia$sesso==\"M\")) + length(which(patenti_Toscana$sesso==\"M\")) + length(which(patenti_TrentinoAltoAdige$sesso==\"M\")) + length(which(patenti_Umbria$sesso==\"M\")) + length(which(patenti_ValleAosta$sesso==\"M\")) + length(which(patenti_Veneto$sesso==\"M\"))\n",
    "patenti_maschi"
   ]
  },
  {
   "cell_type": "code",
   "execution_count": 78,
   "metadata": {},
   "outputs": [],
   "source": [
    "tabella_patenti = as.table(c(patenti_maschi,patenti_femmine))"
   ]
  },
  {
   "cell_type": "code",
   "execution_count": 79,
   "metadata": {},
   "outputs": [],
   "source": [
    "rownames(tabella_patenti) = c(\"Maschi\", \"Femmine\")"
   ]
  },
  {
   "cell_type": "code",
   "execution_count": 80,
   "metadata": {},
   "outputs": [
    {
     "data": {
      "image/png": "[encoded data removed]",
      "text/plain": [
       "Plot with title “Patenti in Italia per sesso”"
      ]
     },
     "metadata": {},
     "output_type": "display_data"
    }
   ],
   "source": [
    "tabella_patenti.percfreq <- as.numeric(as.character(as.integer(tabella_patenti/(tabella_patenti[1]+tabella_patenti[2])*10000)/100))\n",
    "ylim <- c(0, 1.1*max(tabella_patenti.percfreq))\n",
    "xx <- barplot(tabella_patenti.percfreq, xaxt = 'n', xlab = '', width = 0.85, ylim = ylim,\n",
    "              main = \"Patenti in Italia per sesso\", \n",
    "              ylab = \"Frequenza percentuale\")\n",
    "text(x = xx, y = tabella_patenti.percfreq,\n",
    "     label = tabella_patenti.percfreq,\n",
    "     pos = 3, cex = 0.8, col = \"red\")\n",
    "axis(1, at=xx, labels=c(\"Maschi\", \"Femmine\"), tick=FALSE, las=1, line=-0.5, cex.axis=0.8)"
   ]
  },
  {
   "cell_type": "markdown",
   "metadata": {},
   "source": [
    "Non sono sicuro che l'analisi sia giusta, ma qua sotto metto il risultato del mio obiettivo, ovvero il rapporto tra gli incidenti con donne e uomini e il numero di guidatori in Italia."
   ]
  },
  {
   "cell_type": "code",
   "execution_count": 81,
   "metadata": {},
   "outputs": [
    {
     "data": {
      "text/html": [
       "0.000448371896541434"
      ],
      "text/latex": [
       "0.000448371896541434"
      ],
      "text/markdown": [
       "0.000448371896541434"
      ],
      "text/plain": [
       "[1] 0.0004483719"
      ]
     },
     "metadata": {},
     "output_type": "display_data"
    }
   ],
   "source": [
    "incidenti_femmine_pesato = nrow(incidenti_con_almeno_una_donna) / patenti_femmine \n",
    "incidenti_femmine_pesato"
   ]
  },
  {
   "cell_type": "code",
   "execution_count": 82,
   "metadata": {},
   "outputs": [
    {
     "data": {
      "text/html": [
       "0.000809196919767571"
      ],
      "text/latex": [
       "0.000809196919767571"
      ],
      "text/markdown": [
       "0.000809196919767571"
      ],
      "text/plain": [
       "[1] 0.0008091969"
      ]
     },
     "metadata": {},
     "output_type": "display_data"
    }
   ],
   "source": [
    "incidenti_maschi_pesato = nrow(incidenti_con_almeno_un_uomo) / patenti_maschi \n",
    "incidenti_maschi_pesato"
   ]
  },
  {
   "cell_type": "markdown",
   "metadata": {},
   "source": [
    "Voglio mostrare che vi sia indipendenza statistica o meno tra questi due risultati. "
   ]
  },
  {
   "cell_type": "code",
   "execution_count": 87,
   "metadata": {},
   "outputs": [
    {
     "data": {
      "text/html": [
       "0.356538656753128"
      ],
      "text/latex": [
       "0.356538656753128"
      ],
      "text/markdown": [
       "0.356538656753128"
      ],
      "text/plain": [
       "[1] 0.3565387"
      ]
     },
     "metadata": {},
     "output_type": "display_data"
    }
   ],
   "source": [
    "prob_incidente_femmina = incidenti_femmine_pesato / (incidenti_femmine_pesato + incidenti_maschi_pesato)\n",
    "prob_incidente_femmina"
   ]
  },
  {
   "cell_type": "code",
   "execution_count": 90,
   "metadata": {},
   "outputs": [
    {
     "data": {
      "text/html": [
       "0.643461343246872"
      ],
      "text/latex": [
       "0.643461343246872"
      ],
      "text/markdown": [
       "0.643461343246872"
      ],
      "text/plain": [
       "[1] 0.6434613"
      ]
     },
     "metadata": {},
     "output_type": "display_data"
    }
   ],
   "source": [
    "prob_incidente_maschio = incidenti_maschi_pesato / (incidenti_maschi_pesato + incidenti_femmine_pesato)\n",
    "prob_incidente_maschio"
   ]
  },
  {
   "cell_type": "markdown",
   "metadata": {},
   "source": [
    "-----\n",
    "\n",
    "-----\n",
    "-----\n",
    "----\n",
    "\n",
    "## Regioni Italiane\n",
    "\n",
    "Provo a fare una mappa con numero di incidenti per Regione in Italia."
   ]
  },
  {
   "cell_type": "markdown",
   "metadata": {},
   "source": [
    "* Per prima cosa, trasformo i dati relativi alle province in dati relativi alle regioni."
   ]
  },
  {
   "cell_type": "code",
   "execution_count": 82,
   "metadata": {},
   "outputs": [],
   "source": [
    "incidenti_per_provincia <- provincia"
   ]
  },
  {
   "cell_type": "code",
   "execution_count": 131,
   "metadata": {
    "scrolled": true
   },
   "outputs": [
    {
     "data": {
      "text/plain": [
       "incidenti_per_provincia\n",
       "   1    2    3    4    5    6    7    8    9   10   11   12   13   14   15   16 \n",
       " 653   35  113  124   51  163   33  119  145  604  117  299  192   48 1605  344 \n",
       "  17   18   19   20   21   22   23   24   25   26   27   28   29   30   31   32 \n",
       " 372  189  114  132  199  164  362  220   52  255  258  311   85  137   49  136 \n",
       "  33   34   35   36   37   38   39   40   41   42   43   44   45   46   47   48 \n",
       " 117  168  196  307  416  136  182  196  156  200  117  110   96  222  134  606 \n",
       "  49   50   51   52   53   54   55   56   57   58   59   60   61   62   63   64 \n",
       " 164  203  122   96   96  178   79   64   40 1880  178   96  157   37  610   44 \n",
       "  65   66   67   68   69   70   71   72   73   74   75   76   77   78   79   80 \n",
       " 302   71   80   76   74   44  134  382  141  133  183   51   52  110   85  121 \n",
       "  81   82   83   84   85   86   87   88   89   90   91   92   93   94   95   96 \n",
       " 152  361  177   59   59   23  323   86   94  156   39  117   88   12   24   43 \n",
       "  97   98   99  100  101  102  103  108  109  110  111 \n",
       "  79   59  184  129   25   21   44  314   61   93   56 "
      ]
     },
     "metadata": {},
     "output_type": "display_data"
    }
   ],
   "source": [
    "tabella_incidenti_per_provincia <- table(incidenti_per_provincia)\n",
    "tabella_incidenti_per_provincia"
   ]
  },
  {
   "cell_type": "code",
   "execution_count": 96,
   "metadata": {},
   "outputs": [],
   "source": [
    "incidenti_per_regione = array(666, length(incidenti_per_provincia))"
   ]
  },
  {
   "cell_type": "code",
   "execution_count": 174,
   "metadata": {},
   "outputs": [],
   "source": [
    "for(i in 1:20000)\n",
    "{\n",
    "\n",
    "    if(incidenti_per_provincia[i] > 0 & incidenti_per_provincia[i] < 7 | incidenti_per_provincia[i] == 96 | incidenti_per_provincia[i] == 103)\n",
    "    {\n",
    "        incidenti_per_regione[i] = 1\n",
    "\n",
    "\n",
    "    }\n",
    "\n",
    "     if(incidenti_per_provincia[i] == 7)\n",
    "    {\n",
    "        incidenti_per_regione[i] = 2\n",
    "\n",
    "    }\n",
    "    \n",
    "\n",
    "     if(incidenti_per_provincia[i] > 7 & incidenti_per_provincia[i] < 12)\n",
    "    {\n",
    "        incidenti_per_regione[i] = 7\n",
    "\n",
    "    }    \n",
    "\n",
    "\n",
    "     if(incidenti_per_provincia[i] > 11 & incidenti_per_provincia[i] < 21 | incidenti_per_provincia[i] == 97 | incidenti_per_provincia[i] == 98 | incidenti_per_provincia[i] == 108)\n",
    "    {\n",
    "        incidenti_per_regione[i] = 3\n",
    "\n",
    "    }    \n",
    "    \n",
    "\n",
    "     if(incidenti_per_provincia[i] == 21 | incidenti_per_provincia[i] == 22)\n",
    "    {\n",
    "        incidenti_per_regione[i] = 4\n",
    "\n",
    "    }    \n",
    "    \n",
    "\n",
    "     if(incidenti_per_provincia[i] > 22 & incidenti_per_provincia[i] < 30)\n",
    "    {\n",
    "        incidenti_per_regione[i] = 5\n",
    "\n",
    "    }    \n",
    "    \n",
    "\n",
    "     if(incidenti_per_provincia[i] > 29 & incidenti_per_provincia[i] < 33 | incidenti_per_provincia[i] == 93)\n",
    "    {\n",
    "        incidenti_per_regione[i] = 6\n",
    "\n",
    "    }    \n",
    "    \n",
    "\n",
    "     if(incidenti_per_provincia[i] > 32 & incidenti_per_provincia[i] < 41 | incidenti_per_provincia[i] == 99)\n",
    "    {\n",
    "        incidenti_per_regione[i] = 8\n",
    "\n",
    "    }    \n",
    "    \n",
    "\n",
    "     if(incidenti_per_provincia[i] > 40 & incidenti_per_provincia[i] < 45 | incidenti_per_provincia[i] == 109)\n",
    "    {\n",
    "        incidenti_per_regione[i] = 11\n",
    "\n",
    "    }\n",
    "    \n",
    "\n",
    "     if(incidenti_per_provincia[i] > 44 & incidenti_per_provincia[i] < 54 | incidenti_per_provincia[i] == 100)\n",
    "    {\n",
    "        incidenti_per_regione[i] = 9\n",
    "\n",
    "    }    \n",
    "\n",
    "\n",
    "     if(incidenti_per_provincia[i] ==54 | incidenti_per_provincia[i] == 55)\n",
    "    {\n",
    "        incidenti_per_regione[i] = 10\n",
    "\n",
    "    }    \n",
    "    \n",
    "\n",
    "     if(incidenti_per_provincia[i] > 55 & incidenti_per_provincia[i] < 61)\n",
    "    {\n",
    "        incidenti_per_regione[i] = 12\n",
    "\n",
    "    }    \n",
    "    \n",
    "\n",
    "     if(incidenti_per_provincia[i] > 60 & incidenti_per_provincia[i] < 66)\n",
    "    {\n",
    "        incidenti_per_regione[i] = 15\n",
    "\n",
    "    }    \n",
    "    \n",
    "\n",
    "     if(incidenti_per_provincia[i] > 65 & incidenti_per_provincia[i] < 70)\n",
    "    {\n",
    "        incidenti_per_regione[i] = 13\n",
    "\n",
    "    }    \n",
    "    \n",
    "\n",
    "     if(incidenti_per_provincia[i] == 70 | incidenti_per_provincia[i] == 94)\n",
    "    {\n",
    "        incidenti_per_regione[i] = 14\n",
    "\n",
    "    }    \n",
    "    \n",
    "\n",
    "     if(incidenti_per_provincia[i] > 70 & incidenti_per_provincia[i] < 76 | incidenti_per_provincia[i] == 110)\n",
    "    {\n",
    "        incidenti_per_regione[i] = 16\n",
    "\n",
    "    }\n",
    "    \n",
    "\n",
    "     if(incidenti_per_provincia[i] == 76 | incidenti_per_provincia[i] == 77)\n",
    "    {\n",
    "        incidenti_per_regione[i] = 17\n",
    "\n",
    "    }    \n",
    "    \n",
    "\n",
    "     if(incidenti_per_provincia[i] > 77 & incidenti_per_provincia[i] < 81 | incidenti_per_provincia[i] == 101 | incidenti_per_provincia[i] == 102)\n",
    "    {\n",
    "        incidenti_per_regione[i] = 18\n",
    "\n",
    "    }    \n",
    "    \n",
    "\n",
    "     if(incidenti_per_provincia[i] > 80 & incidenti_per_provincia[i] < 90)\n",
    "    {\n",
    "        incidenti_per_regione[i] = 19\n",
    "\n",
    "    }    \n",
    "    \n",
    "\n",
    "     if(incidenti_per_provincia[i] > 89 & incidenti_per_provincia[i] < 93 | incidenti_per_provincia[i] == 95 | incidenti_per_provincia[i] == 111)\n",
    "    {\n",
    "        incidenti_per_regione[i] = 20\n",
    "\n",
    "    }    \n",
    "    \n",
    "}"
   ]
  },
  {
   "cell_type": "code",
   "execution_count": 177,
   "metadata": {},
   "outputs": [
    {
     "data": {
      "image/png": "[encoded data removed]",
      "text/plain": [
       "Plot with title “Incidenti per regioni”"
      ]
     },
     "metadata": {},
     "output_type": "display_data"
    }
   ],
   "source": [
    "barplot(table(incidenti_per_regione), main=\"Incidenti per regioni\", ylab=\"Numero di incidenti\", xlab='Codice regione')"
   ]
  },
  {
   "cell_type": "markdown",
   "metadata": {},
   "source": [
    " "
   ]
  },
  {
   "cell_type": "markdown",
   "metadata": {},
   "source": [
    " \n",
    " "
   ]
  },
  {
   "cell_type": "code",
   "execution_count": 179,
   "metadata": {},
   "outputs": [
    {
     "name": "stderr",
     "output_type": "stream",
     "text": [
      "\n",
      "Attaching package: ‘dplyr’\n",
      "\n",
      "The following objects are masked from ‘package:stats’:\n",
      "\n",
      "    filter, lag\n",
      "\n",
      "The following objects are masked from ‘package:base’:\n",
      "\n",
      "    intersect, setdiff, setequal, union\n",
      "\n"
     ]
    }
   ],
   "source": [
    "library(dplyr)"
   ]
  },
  {
   "cell_type": "code",
   "execution_count": 229,
   "metadata": {},
   "outputs": [],
   "source": [
    "geo_regioni <- readOGR( \n",
    "  dsn= paste0(\"../../../Downloads/Limiti01012017_g/Reg01012017_g/\") , \n",
    "  layer=\"Reg01012017_g_WGS84\",\n",
    "  verbose=FALSE\n",
    ")"
   ]
  },
  {
   "cell_type": "code",
   "execution_count": 230,
   "metadata": {},
   "outputs": [
    {
     "data": {
      "text/html": [
       "<ol class=list-inline>\n",
       "\t<li>TRUE</li>\n",
       "\t<li>TRUE</li>\n",
       "\t<li>TRUE</li>\n",
       "\t<li>TRUE</li>\n",
       "\t<li>TRUE</li>\n",
       "\t<li>TRUE</li>\n",
       "\t<li>TRUE</li>\n",
       "\t<li>TRUE</li>\n",
       "\t<li>TRUE</li>\n",
       "\t<li>TRUE</li>\n",
       "\t<li>TRUE</li>\n",
       "\t<li>TRUE</li>\n",
       "\t<li>TRUE</li>\n",
       "\t<li>TRUE</li>\n",
       "\t<li>TRUE</li>\n",
       "\t<li>TRUE</li>\n",
       "\t<li>TRUE</li>\n",
       "\t<li>TRUE</li>\n",
       "\t<li>TRUE</li>\n",
       "\t<li>TRUE</li>\n",
       "</ol>\n"
      ],
      "text/latex": [
       "\\begin{enumerate*}\n",
       "\\item TRUE\n",
       "\\item TRUE\n",
       "\\item TRUE\n",
       "\\item TRUE\n",
       "\\item TRUE\n",
       "\\item TRUE\n",
       "\\item TRUE\n",
       "\\item TRUE\n",
       "\\item TRUE\n",
       "\\item TRUE\n",
       "\\item TRUE\n",
       "\\item TRUE\n",
       "\\item TRUE\n",
       "\\item TRUE\n",
       "\\item TRUE\n",
       "\\item TRUE\n",
       "\\item TRUE\n",
       "\\item TRUE\n",
       "\\item TRUE\n",
       "\\item TRUE\n",
       "\\end{enumerate*}\n"
      ],
      "text/markdown": [
       "1. TRUE\n",
       "2. TRUE\n",
       "3. TRUE\n",
       "4. TRUE\n",
       "5. TRUE\n",
       "6. TRUE\n",
       "7. TRUE\n",
       "8. TRUE\n",
       "9. TRUE\n",
       "10. TRUE\n",
       "11. TRUE\n",
       "12. TRUE\n",
       "13. TRUE\n",
       "14. TRUE\n",
       "15. TRUE\n",
       "16. TRUE\n",
       "17. TRUE\n",
       "18. TRUE\n",
       "19. TRUE\n",
       "20. TRUE\n",
       "\n",
       "\n"
      ],
      "text/plain": [
       " [1] TRUE TRUE TRUE TRUE TRUE TRUE TRUE TRUE TRUE TRUE TRUE TRUE TRUE TRUE TRUE\n",
       "[16] TRUE TRUE TRUE TRUE TRUE"
      ]
     },
     "metadata": {},
     "output_type": "display_data"
    }
   ],
   "source": [
    "# Controllo che i codici delle regioni combacino\n",
    "geo_regioni$COD_REG %in% incidenti_per_regione"
   ]
  },
  {
   "cell_type": "code",
   "execution_count": null,
   "metadata": {},
   "outputs": [],
   "source": []
  },
  {
   "cell_type": "code",
   "execution_count": 231,
   "metadata": {},
   "outputs": [],
   "source": [
    "geo_regioni@data <- cbind(geo_regioni@data, as.array(table(incidenti_per_regione)/SAMPLE_SIZE))\n",
    "\n",
    "drop <- c(\"incidenti_per_regione\")\n",
    "geo_regioni@data = geo_regioni@data[,!(names(geo_regioni@data) %in% drop)]"
   ]
  },
  {
   "cell_type": "code",
   "execution_count": 269,
   "metadata": {},
   "outputs": [
    {
     "data": {
      "text/html": [
       "<table>\n",
       "<caption>A data.frame: 20 × 6</caption>\n",
       "<thead>\n",
       "\t<tr><th></th><th scope=col>COD_RIP</th><th scope=col>COD_REG</th><th scope=col>DEN_REG</th><th scope=col>Shape_Leng</th><th scope=col>Shape_Area</th><th scope=col>Freq</th></tr>\n",
       "\t<tr><th></th><th scope=col>&lt;fct&gt;</th><th scope=col>&lt;fct&gt;</th><th scope=col>&lt;fct&gt;</th><th scope=col>&lt;dbl&gt;</th><th scope=col>&lt;dbl&gt;</th><th scope=col>&lt;dbl&gt;</th></tr>\n",
       "</thead>\n",
       "<tbody>\n",
       "\t<tr><th scope=row>0</th><td>1</td><td>1 </td><td>Piemonte                    </td><td>1235676.2</td><td>25393876361</td><td>0.06130</td></tr>\n",
       "\t<tr><th scope=row>1</th><td>1</td><td>2 </td><td>Valle d'Aosta/Vallée d'Aoste</td><td> 311139.3</td><td> 3258906689</td><td>0.00165</td></tr>\n",
       "\t<tr><th scope=row>2</th><td>1</td><td>3 </td><td>Lombardia                   </td><td>1410509.0</td><td>23862231896</td><td>0.18735</td></tr>\n",
       "\t<tr><th scope=row>3</th><td>2</td><td>4 </td><td>Trentino-Alto Adige/Südtirol</td><td> 800893.7</td><td>13607548177</td><td>0.01815</td></tr>\n",
       "\t<tr><th scope=row>4</th><td>2</td><td>5 </td><td>Veneto                      </td><td>1058649.9</td><td>18405751538</td><td>0.07715</td></tr>\n",
       "\t<tr><th scope=row>5</th><td>2</td><td>6 </td><td>Friuli-Venezia Giulia       </td><td> 669663.8</td><td> 7863906353</td><td>0.02050</td></tr>\n",
       "\t<tr><th scope=row>6</th><td>1</td><td>7 </td><td>Liguria                     </td><td> 825467.9</td><td> 5415023333</td><td>0.04925</td></tr>\n",
       "\t<tr><th scope=row>7</th><td>2</td><td>8 </td><td>Emilia-Romagna              </td><td>1163681.7</td><td>22450247101</td><td>0.09510</td></tr>\n",
       "\t<tr><th scope=row>8</th><td>3</td><td>9 </td><td>Toscana                     </td><td>1306388.9</td><td>22982447617</td><td>0.09340</td></tr>\n",
       "\t<tr><th scope=row>9</th><td>3</td><td>10</td><td>Umbria                      </td><td> 619765.3</td><td> 8464342560</td><td>0.01285</td></tr>\n",
       "\t<tr><th scope=row>10</th><td>3</td><td>11</td><td>Marche                      </td><td> 626175.2</td><td> 9400706747</td><td>0.03220</td></tr>\n",
       "\t<tr><th scope=row>11</th><td>3</td><td>12</td><td>Lazio                       </td><td>1054420.0</td><td>17226822638</td><td>0.11290</td></tr>\n",
       "\t<tr><th scope=row>12</th><td>4</td><td>14</td><td>Molise                      </td><td> 434116.3</td><td> 4461247494</td><td>0.01505</td></tr>\n",
       "\t<tr><th scope=row>13</th><td>4</td><td>13</td><td>Abruzzo                     </td><td> 615644.6</td><td>10828788192</td><td>0.00280</td></tr>\n",
       "\t<tr><th scope=row>14</th><td>4</td><td>16</td><td>Puglia                      </td><td>1176874.2</td><td>19536003219</td><td>0.05750</td></tr>\n",
       "\t<tr><th scope=row>15</th><td>4</td><td>15</td><td>Campania                    </td><td> 888172.0</td><td>13663192296</td><td>0.05330</td></tr>\n",
       "\t<tr><th scope=row>16</th><td>4</td><td>18</td><td>Calabria                    </td><td> 837816.7</td><td>15216012412</td><td>0.00515</td></tr>\n",
       "\t<tr><th scope=row>17</th><td>4</td><td>17</td><td>Basilicata                  </td><td> 614205.5</td><td>10072742793</td><td>0.01810</td></tr>\n",
       "\t<tr><th scope=row>18</th><td>5</td><td>19</td><td>Sicilia                     </td><td>1330373.8</td><td>25822903159</td><td>0.06670</td></tr>\n",
       "\t<tr><th scope=row>19</th><td>5</td><td>20</td><td>Sardegna                    </td><td>1446835.7</td><td>24094257066</td><td>0.01960</td></tr>\n",
       "</tbody>\n",
       "</table>\n"
      ],
      "text/latex": [
       "A data.frame: 20 × 6\n",
       "\\begin{tabular}{r|llllll}\n",
       "  & COD\\_RIP & COD\\_REG & DEN\\_REG & Shape\\_Leng & Shape\\_Area & Freq\\\\\n",
       "  & <fct> & <fct> & <fct> & <dbl> & <dbl> & <dbl>\\\\\n",
       "\\hline\n",
       "\t0 & 1 & 1  & Piemonte                     & 1235676.2 & 25393876361 & 0.06130\\\\\n",
       "\t1 & 1 & 2  & Valle d'Aosta/Vallée d'Aoste &  311139.3 &  3258906689 & 0.00165\\\\\n",
       "\t2 & 1 & 3  & Lombardia                    & 1410509.0 & 23862231896 & 0.18735\\\\\n",
       "\t3 & 2 & 4  & Trentino-Alto Adige/Südtirol &  800893.7 & 13607548177 & 0.01815\\\\\n",
       "\t4 & 2 & 5  & Veneto                       & 1058649.9 & 18405751538 & 0.07715\\\\\n",
       "\t5 & 2 & 6  & Friuli-Venezia Giulia        &  669663.8 &  7863906353 & 0.02050\\\\\n",
       "\t6 & 1 & 7  & Liguria                      &  825467.9 &  5415023333 & 0.04925\\\\\n",
       "\t7 & 2 & 8  & Emilia-Romagna               & 1163681.7 & 22450247101 & 0.09510\\\\\n",
       "\t8 & 3 & 9  & Toscana                      & 1306388.9 & 22982447617 & 0.09340\\\\\n",
       "\t9 & 3 & 10 & Umbria                       &  619765.3 &  8464342560 & 0.01285\\\\\n",
       "\t10 & 3 & 11 & Marche                       &  626175.2 &  9400706747 & 0.03220\\\\\n",
       "\t11 & 3 & 12 & Lazio                        & 1054420.0 & 17226822638 & 0.11290\\\\\n",
       "\t12 & 4 & 14 & Molise                       &  434116.3 &  4461247494 & 0.01505\\\\\n",
       "\t13 & 4 & 13 & Abruzzo                      &  615644.6 & 10828788192 & 0.00280\\\\\n",
       "\t14 & 4 & 16 & Puglia                       & 1176874.2 & 19536003219 & 0.05750\\\\\n",
       "\t15 & 4 & 15 & Campania                     &  888172.0 & 13663192296 & 0.05330\\\\\n",
       "\t16 & 4 & 18 & Calabria                     &  837816.7 & 15216012412 & 0.00515\\\\\n",
       "\t17 & 4 & 17 & Basilicata                   &  614205.5 & 10072742793 & 0.01810\\\\\n",
       "\t18 & 5 & 19 & Sicilia                      & 1330373.8 & 25822903159 & 0.06670\\\\\n",
       "\t19 & 5 & 20 & Sardegna                     & 1446835.7 & 24094257066 & 0.01960\\\\\n",
       "\\end{tabular}\n"
      ],
      "text/markdown": [
       "\n",
       "A data.frame: 20 × 6\n",
       "\n",
       "| <!--/--> | COD_RIP &lt;fct&gt; | COD_REG &lt;fct&gt; | DEN_REG &lt;fct&gt; | Shape_Leng &lt;dbl&gt; | Shape_Area &lt;dbl&gt; | Freq &lt;dbl&gt; |\n",
       "|---|---|---|---|---|---|---|\n",
       "| 0 | 1 | 1  | Piemonte                     | 1235676.2 | 25393876361 | 0.06130 |\n",
       "| 1 | 1 | 2  | Valle d'Aosta/Vallée d'Aoste |  311139.3 |  3258906689 | 0.00165 |\n",
       "| 2 | 1 | 3  | Lombardia                    | 1410509.0 | 23862231896 | 0.18735 |\n",
       "| 3 | 2 | 4  | Trentino-Alto Adige/Südtirol |  800893.7 | 13607548177 | 0.01815 |\n",
       "| 4 | 2 | 5  | Veneto                       | 1058649.9 | 18405751538 | 0.07715 |\n",
       "| 5 | 2 | 6  | Friuli-Venezia Giulia        |  669663.8 |  7863906353 | 0.02050 |\n",
       "| 6 | 1 | 7  | Liguria                      |  825467.9 |  5415023333 | 0.04925 |\n",
       "| 7 | 2 | 8  | Emilia-Romagna               | 1163681.7 | 22450247101 | 0.09510 |\n",
       "| 8 | 3 | 9  | Toscana                      | 1306388.9 | 22982447617 | 0.09340 |\n",
       "| 9 | 3 | 10 | Umbria                       |  619765.3 |  8464342560 | 0.01285 |\n",
       "| 10 | 3 | 11 | Marche                       |  626175.2 |  9400706747 | 0.03220 |\n",
       "| 11 | 3 | 12 | Lazio                        | 1054420.0 | 17226822638 | 0.11290 |\n",
       "| 12 | 4 | 14 | Molise                       |  434116.3 |  4461247494 | 0.01505 |\n",
       "| 13 | 4 | 13 | Abruzzo                      |  615644.6 | 10828788192 | 0.00280 |\n",
       "| 14 | 4 | 16 | Puglia                       | 1176874.2 | 19536003219 | 0.05750 |\n",
       "| 15 | 4 | 15 | Campania                     |  888172.0 | 13663192296 | 0.05330 |\n",
       "| 16 | 4 | 18 | Calabria                     |  837816.7 | 15216012412 | 0.00515 |\n",
       "| 17 | 4 | 17 | Basilicata                   |  614205.5 | 10072742793 | 0.01810 |\n",
       "| 18 | 5 | 19 | Sicilia                      | 1330373.8 | 25822903159 | 0.06670 |\n",
       "| 19 | 5 | 20 | Sardegna                     | 1446835.7 | 24094257066 | 0.01960 |\n",
       "\n"
      ],
      "text/plain": [
       "   COD_RIP COD_REG DEN_REG                      Shape_Leng Shape_Area  Freq   \n",
       "0  1       1       Piemonte                     1235676.2  25393876361 0.06130\n",
       "1  1       2       Valle d'Aosta/Vallée d'Aoste  311139.3   3258906689 0.00165\n",
       "2  1       3       Lombardia                    1410509.0  23862231896 0.18735\n",
       "3  2       4       Trentino-Alto Adige/Südtirol  800893.7  13607548177 0.01815\n",
       "4  2       5       Veneto                       1058649.9  18405751538 0.07715\n",
       "5  2       6       Friuli-Venezia Giulia         669663.8   7863906353 0.02050\n",
       "6  1       7       Liguria                       825467.9   5415023333 0.04925\n",
       "7  2       8       Emilia-Romagna               1163681.7  22450247101 0.09510\n",
       "8  3       9       Toscana                      1306388.9  22982447617 0.09340\n",
       "9  3       10      Umbria                        619765.3   8464342560 0.01285\n",
       "10 3       11      Marche                        626175.2   9400706747 0.03220\n",
       "11 3       12      Lazio                        1054420.0  17226822638 0.11290\n",
       "12 4       14      Molise                        434116.3   4461247494 0.01505\n",
       "13 4       13      Abruzzo                       615644.6  10828788192 0.00280\n",
       "14 4       16      Puglia                       1176874.2  19536003219 0.05750\n",
       "15 4       15      Campania                      888172.0  13663192296 0.05330\n",
       "16 4       18      Calabria                      837816.7  15216012412 0.00515\n",
       "17 4       17      Basilicata                    614205.5  10072742793 0.01810\n",
       "18 5       19      Sicilia                      1330373.8  25822903159 0.06670\n",
       "19 5       20      Sardegna                     1446835.7  24094257066 0.01960"
      ]
     },
     "metadata": {},
     "output_type": "display_data"
    }
   ],
   "source": [
    "geo_regioni@data"
   ]
  },
  {
   "cell_type": "code",
   "execution_count": 266,
   "metadata": {},
   "outputs": [],
   "source": [
    "dataset_pop <- read.csv(\"../../popolazione.csv\", sep=',')\n",
    "dataset_pop$X = geo_regioni$COD_REG"
   ]
  },
  {
   "cell_type": "code",
   "execution_count": 268,
   "metadata": {},
   "outputs": [
    {
     "data": {
      "text/html": [
       "<table>\n",
       "<caption>A data.frame: 20 × 3</caption>\n",
       "<thead>\n",
       "\t<tr><th scope=col>X</th><th scope=col>Regione</th><th scope=col>Popolazione</th></tr>\n",
       "\t<tr><th scope=col>&lt;fct&gt;</th><th scope=col>&lt;fct&gt;</th><th scope=col>&lt;fct&gt;</th></tr>\n",
       "</thead>\n",
       "<tbody>\n",
       "\t<tr><td>1 </td><td>\tLombardia                   </td><td> 10.060.574  </td></tr>\n",
       "\t<tr><td>2 </td><td>\tLazio                       </td><td> 5.879.082   </td></tr>\n",
       "\t<tr><td>3 </td><td>\tCampania                    </td><td> 5.801.692   </td></tr>\n",
       "\t<tr><td>4 </td><td>\tSicilia                     </td><td> 4.999.891   </td></tr>\n",
       "\t<tr><td>5 </td><td>\tVeneto                      </td><td>\t4.905.854\t</td></tr>\n",
       "\t<tr><td>6 </td><td>\tEmilia-Romagna              </td><td>\t4.459.477  </td></tr>\n",
       "\t<tr><td>7 </td><td>\tPiemonte                    </td><td> 4.356.406   </td></tr>\n",
       "\t<tr><td>8 </td><td>\tPuglia                      </td><td>\t4.029.053  </td></tr>\n",
       "\t<tr><td>9 </td><td>\tToscana                     </td><td> 3.729.641   </td></tr>\n",
       "\t<tr><td>10</td><td>\tCalabria                    </td><td> 1.947.131   </td></tr>\n",
       "\t<tr><td>11</td><td>\tSardegna                    </td><td> 1.639.591   </td></tr>\n",
       "\t<tr><td>12</td><td>\tLiguria                     </td><td> 1.550.640   </td></tr>\n",
       "\t<tr><td>14</td><td>\tMarche                      </td><td> 1.525.271   </td></tr>\n",
       "\t<tr><td>13</td><td>\tAbruzzo                     </td><td> 1.311.580   </td></tr>\n",
       "\t<tr><td>16</td><td>\tFriuli-Venezia Giulia       </td><td> 1.215.220   </td></tr>\n",
       "\t<tr><td>15</td><td>\tTrentino-Alto Adige/Südtirol</td><td> 1.072.276   </td></tr>\n",
       "\t<tr><td>18</td><td>\tUmbria                      </td><td> 882.015     </td></tr>\n",
       "\t<tr><td>17</td><td>\tBasilicata                  </td><td> 562.869     </td></tr>\n",
       "\t<tr><td>19</td><td>\tMolise                      </td><td> 305.617     </td></tr>\n",
       "\t<tr><td>20</td><td>\tValle d'Aosta/Vallée d'Aoste</td><td> 125.666     </td></tr>\n",
       "</tbody>\n",
       "</table>\n"
      ],
      "text/latex": [
       "A data.frame: 20 × 3\n",
       "\\begin{tabular}{r|lll}\n",
       " X & Regione & Popolazione\\\\\n",
       " <fct> & <fct> & <fct>\\\\\n",
       "\\hline\n",
       "\t 1  & \tLombardia                    &  10.060.574  \\\\\n",
       "\t 2  & \tLazio                        &  5.879.082   \\\\\n",
       "\t 3  & \tCampania                     &  5.801.692   \\\\\n",
       "\t 4  & \tSicilia                      &  4.999.891   \\\\\n",
       "\t 5  & \tVeneto                       & \t4.905.854\t\\\\\n",
       "\t 6  & \tEmilia-Romagna               & \t4.459.477  \\\\\n",
       "\t 7  & \tPiemonte                     &  4.356.406   \\\\\n",
       "\t 8  & \tPuglia                       & \t4.029.053  \\\\\n",
       "\t 9  & \tToscana                      &  3.729.641   \\\\\n",
       "\t 10 & \tCalabria                     &  1.947.131   \\\\\n",
       "\t 11 & \tSardegna                     &  1.639.591   \\\\\n",
       "\t 12 & \tLiguria                      &  1.550.640   \\\\\n",
       "\t 14 & \tMarche                       &  1.525.271   \\\\\n",
       "\t 13 & \tAbruzzo                      &  1.311.580   \\\\\n",
       "\t 16 & \tFriuli-Venezia Giulia        &  1.215.220   \\\\\n",
       "\t 15 & \tTrentino-Alto Adige/Südtirol &  1.072.276   \\\\\n",
       "\t 18 & \tUmbria                       &  882.015     \\\\\n",
       "\t 17 & \tBasilicata                   &  562.869     \\\\\n",
       "\t 19 & \tMolise                       &  305.617     \\\\\n",
       "\t 20 & \tValle d'Aosta/Vallée d'Aoste &  125.666     \\\\\n",
       "\\end{tabular}\n"
      ],
      "text/markdown": [
       "\n",
       "A data.frame: 20 × 3\n",
       "\n",
       "| X &lt;fct&gt; | Regione &lt;fct&gt; | Popolazione &lt;fct&gt; |\n",
       "|---|---|---|\n",
       "| 1  | \tLombardia                    |  10.060.574   |\n",
       "| 2  | \tLazio                        |  5.879.082    |\n",
       "| 3  | \tCampania                     |  5.801.692    |\n",
       "| 4  | \tSicilia                      |  4.999.891    |\n",
       "| 5  | \tVeneto                       | \t4.905.854\t |\n",
       "| 6  | \tEmilia-Romagna               | \t4.459.477   |\n",
       "| 7  | \tPiemonte                     |  4.356.406    |\n",
       "| 8  | \tPuglia                       | \t4.029.053   |\n",
       "| 9  | \tToscana                      |  3.729.641    |\n",
       "| 10 | \tCalabria                     |  1.947.131    |\n",
       "| 11 | \tSardegna                     |  1.639.591    |\n",
       "| 12 | \tLiguria                      |  1.550.640    |\n",
       "| 14 | \tMarche                       |  1.525.271    |\n",
       "| 13 | \tAbruzzo                      |  1.311.580    |\n",
       "| 16 | \tFriuli-Venezia Giulia        |  1.215.220    |\n",
       "| 15 | \tTrentino-Alto Adige/Südtirol |  1.072.276    |\n",
       "| 18 | \tUmbria                       |  882.015      |\n",
       "| 17 | \tBasilicata                   |  562.869      |\n",
       "| 19 | \tMolise                       |  305.617      |\n",
       "| 20 | \tValle d'Aosta/Vallée d'Aoste |  125.666      |\n",
       "\n"
      ],
      "text/plain": [
       "   X  Regione                        Popolazione  \n",
       "1  1  \\tLombardia                     10.060.574  \n",
       "2  2  \\tLazio                         5.879.082   \n",
       "3  3  \\tCampania                      5.801.692   \n",
       "4  4  \\tSicilia                       4.999.891   \n",
       "5  5  \\tVeneto                       \\t4.905.854\\t\n",
       "6  6  \\tEmilia-Romagna               \\t4.459.477  \n",
       "7  7  \\tPiemonte                      4.356.406   \n",
       "8  8  \\tPuglia                       \\t4.029.053  \n",
       "9  9  \\tToscana                       3.729.641   \n",
       "10 10 \\tCalabria                      1.947.131   \n",
       "11 11 \\tSardegna                      1.639.591   \n",
       "12 12 \\tLiguria                       1.550.640   \n",
       "13 14 \\tMarche                        1.525.271   \n",
       "14 13 \\tAbruzzo                       1.311.580   \n",
       "15 16 \\tFriuli-Venezia Giulia         1.215.220   \n",
       "16 15 \\tTrentino-Alto Adige/Südtirol  1.072.276   \n",
       "17 18 \\tUmbria                        882.015     \n",
       "18 17 \\tBasilicata                    562.869     \n",
       "19 19 \\tMolise                        305.617     \n",
       "20 20 \\tValle d'Aosta/Vallée d'Aoste  125.666     "
      ]
     },
     "metadata": {},
     "output_type": "display_data"
    }
   ],
   "source": [
    "dataset_pop"
   ]
  },
  {
   "cell_type": "code",
   "execution_count": 261,
   "metadata": {},
   "outputs": [
    {
     "ename": "ERROR",
     "evalue": "Error in parse(text = x, srcfile = src): <text>:2:0: unexpected end of input\n1: geo_regioni$Freq  <-  geo_regioni$Freq /\n   ^\n",
     "output_type": "error",
     "traceback": [
      "Error in parse(text = x, srcfile = src): <text>:2:0: unexpected end of input\n1: geo_regioni$Freq  <-  geo_regioni$Freq /\n   ^\nTraceback:\n"
     ]
    }
   ],
   "source": [
    "geo_regioni$Incidenti_per_10000_abitanti  <-  geo_regioni$Freq / SAMPLE_SIZE * length(dataset_proj) /  dataset_pop$Popolazione"
   ]
  },
  {
   "cell_type": "code",
   "execution_count": 262,
   "metadata": {},
   "outputs": [],
   "source": [
    "library(tmap)"
   ]
  },
  {
   "cell_type": "code",
   "execution_count": 263,
   "metadata": {},
   "outputs": [
    {
     "name": "stderr",
     "output_type": "stream",
     "text": [
      "Warning message:\n",
      "“The shape geo_regioni is invalid. See sf::st_is_valid”"
     ]
    },
    {
     "data": {
      "text/html": [
       "<strong>pdf:</strong> 2"
      ],
      "text/latex": [
       "\\textbf{pdf:} 2"
      ],
      "text/markdown": [
       "**pdf:** 2"
      ],
      "text/plain": [
       "pdf \n",
       "  2 "
      ]
     },
     "metadata": {},
     "output_type": "display_data"
    }
   ],
   "source": [
    "pdf(\"results/incidenti_per_regioni.pdf\")\n",
    "qtm(geo_regioni, \"Freq\")\n",
    "dev.off()"
   ]
  },
  {
   "cell_type": "markdown",
   "metadata": {},
   "source": [
    "Per completare questa analisi, mi manca solamente di dividere la frequenza relativa di incidenti per regione con la popolazione della suddetta regione.\n",
    "\n",
    "* Devo un attimo capire come ottenere qualcosa del tipo \"incidenti ogni 1000 abitanti\".\n",
    "\n",
    "     L'unico modo sarebbe quello di dividere le frequenze relative per la popolazione della regione e moltiplicare per il numero totale di incidenti in Italia. (Ho controllato e matematicamente è corretto)"
   ]
  },
  {
   "cell_type": "code",
   "execution_count": null,
   "metadata": {},
   "outputs": [],
   "source": []
  },
  {
   "cell_type": "code",
   "execution_count": null,
   "metadata": {},
   "outputs": [],
   "source": []
  }
 ],
 "metadata": {
  "kernelspec": {
   "display_name": "R",
   "language": "R",
   "name": "ir"
  },
  "language_info": {
   "codemirror_mode": "r",
   "file_extension": ".r",
   "mimetype": "text/x-r-source",
   "name": "R",
   "pygments_lexer": "r",
   "version": "3.6.1"
  }
 },
 "nbformat": 4,
 "nbformat_minor": 2
}
