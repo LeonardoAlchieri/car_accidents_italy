{
 "cells": [
  {
   "cell_type": "markdown",
   "metadata": {},
   "source": [
    "# Car Accidents Italy\n",
    "\n",
    "Notebook for data analysis for car accidents in Italy.\n",
    "\n",
    "**note** \n",
    "- Il dataset che avevamo trovato era delle _tabelle_, ovvero dei dati già analizzati. Si mostra quindi con dei metadati.\n",
    "- Il dataset è troppo pesante per GitHub. È stato quindi messo in `.gitignore`.\n",
    "\n",
    "**cose da fare**\n",
    "- Calcolare indici di eterogeneità di Gini\n",
    "- Controllare se sotto Natale ci sono più incidenti\n",
    "- Dimostrare che le donne **non** sono più pericolose al volante degli uomini\n",
    "\n"
   ]
  },
  {
   "cell_type": "code",
   "execution_count": 1,
   "metadata": {},
   "outputs": [],
   "source": [
    "dataset_proj <- read.csv(\"dataset/dataset progetto.csv\", sep=';')"
   ]
  },
  {
   "cell_type": "code",
   "execution_count": 2,
   "metadata": {
    "scrolled": true
   },
   "outputs": [
    {
     "data": {
      "text/html": [
       "<table>\n",
       "<thead><tr><th scope=col>anno</th><th scope=col>provincia</th><th scope=col>comune</th><th scope=col>giorno</th><th scope=col>organo_di_rilevazione</th><th scope=col>localizzazione_incidente</th><th scope=col>denominazione_della_strada</th><th scope=col>tronco_di_strada_o_autostrada</th><th scope=col>tipo_di_strada</th><th scope=col>pavimentazione</th><th scope=col>...</th><th scope=col>feriti_maschi_coinvolti_su97</th><th scope=col>feriti_femmine_coinvolti_s98</th><th scope=col>morti_entro_24_ore</th><th scope=col>morti_entro_30_giorni</th><th scope=col>feriti</th><th scope=col>descrizione_strada</th><th scope=col>Ora</th><th scope=col>chilometri</th><th scope=col>ettometrica</th><th scope=col>trimestre</th></tr></thead>\n",
       "<tbody>\n",
       "\t<tr><td>17 </td><td>7  </td><td>30 </td><td>6  </td><td>2  </td><td>6  </td><td>27 </td><td>12 </td><td>2  </td><td>1  </td><td>...</td><td>0  </td><td>0  </td><td>0  </td><td>0  </td><td>6  </td><td>NA </td><td> 6 </td><td>12 </td><td>900</td><td>2  </td></tr>\n",
       "\t<tr><td>17 </td><td>7  </td><td>66 </td><td>1  </td><td>2  </td><td>3  </td><td>26 </td><td>12 </td><td>2  </td><td>1  </td><td>...</td><td>0  </td><td>0  </td><td>0  </td><td>0  </td><td>1  </td><td>NA </td><td>13 </td><td>0  </td><td>0  </td><td>3  </td></tr>\n",
       "\t<tr><td>17 </td><td>7  </td><td>43 </td><td>3  </td><td>2  </td><td>6  </td><td>26 </td><td>12 </td><td>2  </td><td>1  </td><td>...</td><td>0  </td><td>0  </td><td>0  </td><td>0  </td><td>1  </td><td>NA </td><td>15 </td><td>69 </td><td>100</td><td>4  </td></tr>\n",
       "\t<tr><td>17 </td><td>7  </td><td>24 </td><td>1  </td><td>2  </td><td>8  </td><td>0  </td><td>12 </td><td>2  </td><td>1  </td><td>...</td><td>0  </td><td>0  </td><td>0  </td><td>0  </td><td>1  </td><td>NA </td><td>17 </td><td>0  </td><td>0  </td><td>4  </td></tr>\n",
       "\t<tr><td>17 </td><td>7  </td><td>65 </td><td>1  </td><td>2  </td><td>1  </td><td>0  </td><td>12 </td><td>2  </td><td>1  </td><td>...</td><td>0  </td><td>0  </td><td>0  </td><td>0  </td><td>1  </td><td>NA </td><td>10 </td><td>0  </td><td>0  </td><td>4  </td></tr>\n",
       "\t<tr><td>17 </td><td>7  </td><td>73 </td><td>7  </td><td>2  </td><td>6  </td><td>26 </td><td>12 </td><td>2  </td><td>1  </td><td>...</td><td>0  </td><td>0  </td><td>0  </td><td>0  </td><td>2  </td><td>NA </td><td>19 </td><td>0  </td><td>0  </td><td>3  </td></tr>\n",
       "\t<tr><td>17 </td><td>7  </td><td> 3 </td><td>5  </td><td>2  </td><td>1  </td><td>0  </td><td>12 </td><td>2  </td><td>1  </td><td>...</td><td>0  </td><td>0  </td><td>0  </td><td>0  </td><td>1  </td><td>NA </td><td>15 </td><td>0  </td><td>0  </td><td>1  </td></tr>\n",
       "\t<tr><td>17 </td><td>7  </td><td>65 </td><td>4  </td><td>2  </td><td>1  </td><td>0  </td><td>12 </td><td>2  </td><td>1  </td><td>...</td><td>0  </td><td>0  </td><td>0  </td><td>0  </td><td>1  </td><td>NA </td><td>20 </td><td>0  </td><td>0  </td><td>2  </td></tr>\n",
       "\t<tr><td>17 </td><td>7  </td><td> 3 </td><td>5  </td><td>2  </td><td>1  </td><td>0  </td><td>12 </td><td>1  </td><td>1  </td><td>...</td><td>0  </td><td>0  </td><td>0  </td><td>0  </td><td>1  </td><td>NA </td><td>16 </td><td>0  </td><td>0  </td><td>2  </td></tr>\n",
       "\t<tr><td>17 </td><td>7  </td><td>58 </td><td>1  </td><td>2  </td><td>6  </td><td>26 </td><td>12 </td><td>2  </td><td>1  </td><td>...</td><td>0  </td><td>0  </td><td>0  </td><td>0  </td><td>1  </td><td>NA </td><td>10 </td><td>98 </td><td>400</td><td>2  </td></tr>\n",
       "\t<tr><td>17 </td><td>7  </td><td>72 </td><td>4  </td><td>2  </td><td>4  </td><td>0  </td><td>12 </td><td>2  </td><td>1  </td><td>...</td><td>0  </td><td>0  </td><td>0  </td><td>0  </td><td>1  </td><td>NA </td><td>21 </td><td>0  </td><td>0  </td><td>3  </td></tr>\n",
       "\t<tr><td>17 </td><td>7  </td><td>65 </td><td>7  </td><td>2  </td><td>6  </td><td>26 </td><td>12 </td><td>2  </td><td>1  </td><td>...</td><td>0  </td><td>0  </td><td>0  </td><td>0  </td><td>1  </td><td>NA </td><td>19 </td><td>72 </td><td>700</td><td>2  </td></tr>\n",
       "\t<tr><td>17 </td><td>7  </td><td>57 </td><td>2  </td><td>2  </td><td>0  </td><td>17 </td><td>12 </td><td>2  </td><td>1  </td><td>...</td><td>0  </td><td>0  </td><td>0  </td><td>0  </td><td>2  </td><td>NA </td><td> 7 </td><td>0  </td><td>0  </td><td>3  </td></tr>\n",
       "\t<tr><td>17 </td><td>7  </td><td>59 </td><td>4  </td><td>2  </td><td>9  </td><td>12 </td><td>12 </td><td>2  </td><td>1  </td><td>...</td><td>0  </td><td>0  </td><td>0  </td><td>0  </td><td>4  </td><td>NA </td><td>24 </td><td>2  </td><td>540</td><td>2  </td></tr>\n",
       "\t<tr><td>17 </td><td>7  </td><td>63 </td><td>4  </td><td>2  </td><td>1  </td><td>0  </td><td>12 </td><td>2  </td><td>1  </td><td>...</td><td>0  </td><td>0  </td><td>0  </td><td>0  </td><td>1  </td><td>NA </td><td> 9 </td><td>0  </td><td>0  </td><td>1  </td></tr>\n",
       "\t<tr><td>17 </td><td>7  </td><td> 9 </td><td>1  </td><td>2  </td><td>6  </td><td>26 </td><td>12 </td><td>2  </td><td>1  </td><td>...</td><td>0  </td><td>0  </td><td>0  </td><td>0  </td><td>2  </td><td>NA </td><td>16 </td><td>55 </td><td>850</td><td>4  </td></tr>\n",
       "\t<tr><td>17 </td><td>7  </td><td> 3 </td><td>6  </td><td>2  </td><td>1  </td><td>0  </td><td>12 </td><td>2  </td><td>1  </td><td>...</td><td>0  </td><td>0  </td><td>0  </td><td>0  </td><td>1  </td><td>NA </td><td>20 </td><td>0  </td><td>0  </td><td>4  </td></tr>\n",
       "\t<tr><td>17 </td><td>7  </td><td>73 </td><td>3  </td><td>2  </td><td>6  </td><td>26 </td><td>12 </td><td>2  </td><td>1  </td><td>...</td><td>0  </td><td>0  </td><td>0  </td><td>0  </td><td>3  </td><td>NA </td><td>22 </td><td>62 </td><td>200</td><td>3  </td></tr>\n",
       "\t<tr><td>17 </td><td>7  </td><td>73 </td><td>1  </td><td>2  </td><td>3  </td><td>26 </td><td>12 </td><td>2  </td><td>1  </td><td>...</td><td>0  </td><td>0  </td><td>0  </td><td>0  </td><td>1  </td><td>NA </td><td> 7 </td><td>0  </td><td>0  </td><td>2  </td></tr>\n",
       "\t<tr><td>17 </td><td>7  </td><td> 3 </td><td>6  </td><td>2  </td><td>1  </td><td>26 </td><td>12 </td><td>2  </td><td>1  </td><td>...</td><td>0  </td><td>0  </td><td>0  </td><td>0  </td><td>1  </td><td>NA </td><td>11 </td><td>102</td><td>100</td><td>2  </td></tr>\n",
       "\t<tr><td>17 </td><td>7  </td><td>44 </td><td>5  </td><td>2  </td><td>3  </td><td>26 </td><td>12 </td><td>2  </td><td>1  </td><td>...</td><td>0  </td><td>0  </td><td>0  </td><td>0  </td><td>1  </td><td>NA </td><td>19 </td><td>128</td><td>750</td><td>1  </td></tr>\n",
       "\t<tr><td>17 </td><td>7  </td><td>43 </td><td>7  </td><td>2  </td><td>3  </td><td>26 </td><td>12 </td><td>2  </td><td>1  </td><td>...</td><td>0  </td><td>0  </td><td>0  </td><td>0  </td><td>1  </td><td>NA </td><td>16 </td><td>67 </td><td>800</td><td>1  </td></tr>\n",
       "\t<tr><td>17 </td><td>7  </td><td>48 </td><td>7  </td><td>2  </td><td>9  </td><td>505</td><td>12 </td><td>2  </td><td>1  </td><td>...</td><td>0  </td><td>0  </td><td>0  </td><td>0  </td><td>3  </td><td>NA </td><td>11 </td><td>4  </td><td>700</td><td>3  </td></tr>\n",
       "\t<tr><td>17 </td><td>7  </td><td> 2 </td><td>4  </td><td>2  </td><td>9  </td><td>406</td><td>12 </td><td>2  </td><td>1  </td><td>...</td><td>0  </td><td>0  </td><td>2  </td><td>0  </td><td>3  </td><td>NA </td><td> 8 </td><td>3  </td><td>100</td><td>1  </td></tr>\n",
       "\t<tr><td>17 </td><td>7  </td><td>22 </td><td>7  </td><td>2  </td><td>1  </td><td>0  </td><td>12 </td><td>2  </td><td>1  </td><td>...</td><td>0  </td><td>0  </td><td>0  </td><td>0  </td><td>1  </td><td>NA </td><td>13 </td><td>0  </td><td>0  </td><td>1  </td></tr>\n",
       "\t<tr><td>17 </td><td>7  </td><td>13 </td><td>7  </td><td>2  </td><td>9  </td><td>506</td><td>12 </td><td>2  </td><td>1  </td><td>...</td><td>0  </td><td>0  </td><td>0  </td><td>0  </td><td>2  </td><td>NA </td><td>22 </td><td>10 </td><td>0  </td><td>4  </td></tr>\n",
       "\t<tr><td>17 </td><td>7  </td><td>44 </td><td>6  </td><td>2  </td><td>3  </td><td>26 </td><td>12 </td><td>2  </td><td>1  </td><td>...</td><td>0  </td><td>0  </td><td>0  </td><td>0  </td><td>1  </td><td>NA </td><td>14 </td><td>0  </td><td>0  </td><td>4  </td></tr>\n",
       "\t<tr><td>17 </td><td>7  </td><td>40 </td><td>6  </td><td>2  </td><td>6  </td><td>26 </td><td>12 </td><td>2  </td><td>1  </td><td>...</td><td>0  </td><td>0  </td><td>0  </td><td>0  </td><td>1  </td><td>NA </td><td>13 </td><td>0  </td><td>0  </td><td>2  </td></tr>\n",
       "\t<tr><td>17 </td><td>7  </td><td>40 </td><td>6  </td><td>2  </td><td>6  </td><td>26 </td><td>12 </td><td>2  </td><td>1  </td><td>...</td><td>0  </td><td>0  </td><td>0  </td><td>0  </td><td>1  </td><td>NA </td><td>17 </td><td>123</td><td>300</td><td>3  </td></tr>\n",
       "\t<tr><td>17 </td><td>7  </td><td>22 </td><td>4  </td><td>2  </td><td>1  </td><td>0  </td><td>12 </td><td>2  </td><td>1  </td><td>...</td><td>0  </td><td>0  </td><td>0  </td><td>0  </td><td>1  </td><td>NA </td><td>19 </td><td>0  </td><td>0  </td><td>3  </td></tr>\n",
       "\t<tr><td>...</td><td>...</td><td>...</td><td>...</td><td>...</td><td>...</td><td>...</td><td>...</td><td>...</td><td>...</td><td>   </td><td>...</td><td>...</td><td>...</td><td>...</td><td>...</td><td>...</td><td>...</td><td>...</td><td>...</td><td>...</td></tr>\n",
       "\t<tr><td>17  </td><td> 95 </td><td>38  </td><td>7   </td><td>4   </td><td>1   </td><td>0   </td><td>12  </td><td>2   </td><td>1   </td><td>... </td><td>0   </td><td>0   </td><td>0   </td><td>0   </td><td>1   </td><td>NA  </td><td> 8  </td><td>    </td><td>    </td><td>3   </td></tr>\n",
       "\t<tr><td>17  </td><td> 95 </td><td>38  </td><td>2   </td><td>4   </td><td>1   </td><td>0   </td><td>12  </td><td>2   </td><td>1   </td><td>... </td><td>0   </td><td>0   </td><td>0   </td><td>0   </td><td>2   </td><td>NA  </td><td>14  </td><td>    </td><td>    </td><td>3   </td></tr>\n",
       "\t<tr><td>17  </td><td> 95 </td><td>38  </td><td>3   </td><td>4   </td><td>1   </td><td>0   </td><td>12  </td><td>3   </td><td>1   </td><td>... </td><td>0   </td><td>0   </td><td>0   </td><td>0   </td><td>1   </td><td>NA  </td><td>20  </td><td>    </td><td>    </td><td>3   </td></tr>\n",
       "\t<tr><td>17  </td><td>111 </td><td>35  </td><td>6   </td><td>4   </td><td>1   </td><td>0   </td><td>12  </td><td>2   </td><td>1   </td><td>... </td><td>0   </td><td>0   </td><td>0   </td><td>0   </td><td>1   </td><td>NA  </td><td> 8  </td><td>    </td><td>    </td><td>1   </td></tr>\n",
       "\t<tr><td>17  </td><td>111 </td><td>35  </td><td>3   </td><td>4   </td><td>1   </td><td>0   </td><td>12  </td><td>2   </td><td>1   </td><td>... </td><td>0   </td><td>0   </td><td>0   </td><td>0   </td><td>1   </td><td>NA  </td><td>12  </td><td>    </td><td>    </td><td>1   </td></tr>\n",
       "\t<tr><td>17  </td><td>111 </td><td>35  </td><td>6   </td><td>4   </td><td>1   </td><td>0   </td><td>12  </td><td>2   </td><td>1   </td><td>... </td><td>0   </td><td>0   </td><td>0   </td><td>0   </td><td>1   </td><td>NA  </td><td>13  </td><td>    </td><td>    </td><td>1   </td></tr>\n",
       "\t<tr><td>17  </td><td>111 </td><td>35  </td><td>5   </td><td>4   </td><td>1   </td><td>0   </td><td>12  </td><td>2   </td><td>1   </td><td>... </td><td>0   </td><td>0   </td><td>0   </td><td>0   </td><td>2   </td><td>NA  </td><td>19  </td><td>    </td><td>    </td><td>1   </td></tr>\n",
       "\t<tr><td>17  </td><td>111 </td><td>35  </td><td>5   </td><td>4   </td><td>1   </td><td>0   </td><td>12  </td><td>2   </td><td>1   </td><td>... </td><td>0   </td><td>0   </td><td>0   </td><td>0   </td><td>1   </td><td>NA  </td><td>13  </td><td>    </td><td>    </td><td>1   </td></tr>\n",
       "\t<tr><td>17  </td><td>111 </td><td>35  </td><td>1   </td><td>4   </td><td>1   </td><td>0   </td><td>12  </td><td>2   </td><td>1   </td><td>... </td><td>0   </td><td>0   </td><td>0   </td><td>0   </td><td>2   </td><td>NA  </td><td>15  </td><td>    </td><td>    </td><td>1   </td></tr>\n",
       "\t<tr><td>17  </td><td>111 </td><td>35  </td><td>4   </td><td>4   </td><td>1   </td><td>0   </td><td>12  </td><td>2   </td><td>1   </td><td>... </td><td>0   </td><td>0   </td><td>0   </td><td>0   </td><td>1   </td><td>NA  </td><td> 9  </td><td>    </td><td>    </td><td>1   </td></tr>\n",
       "\t<tr><td>17  </td><td>111 </td><td>35  </td><td>2   </td><td>4   </td><td>1   </td><td>0   </td><td>12  </td><td>2   </td><td>1   </td><td>... </td><td>0   </td><td>0   </td><td>0   </td><td>0   </td><td>5   </td><td>NA  </td><td>11  </td><td>    </td><td>    </td><td>1   </td></tr>\n",
       "\t<tr><td>17  </td><td>111 </td><td>35  </td><td>1   </td><td>4   </td><td>1   </td><td>0   </td><td>12  </td><td>2   </td><td>1   </td><td>... </td><td>0   </td><td>0   </td><td>0   </td><td>0   </td><td>1   </td><td>NA  </td><td>14  </td><td>    </td><td>    </td><td>2   </td></tr>\n",
       "\t<tr><td>17  </td><td>111 </td><td>35  </td><td>7   </td><td>4   </td><td>1   </td><td>0   </td><td>12  </td><td>1   </td><td>1   </td><td>... </td><td>0   </td><td>0   </td><td>0   </td><td>0   </td><td>1   </td><td>NA  </td><td>10  </td><td>    </td><td>    </td><td>2   </td></tr>\n",
       "\t<tr><td>17  </td><td>111 </td><td>35  </td><td>1   </td><td>4   </td><td>1   </td><td>0   </td><td>12  </td><td>1   </td><td>1   </td><td>... </td><td>0   </td><td>0   </td><td>0   </td><td>0   </td><td>1   </td><td>NA  </td><td>13  </td><td>    </td><td>    </td><td>2   </td></tr>\n",
       "\t<tr><td>17  </td><td>111 </td><td>35  </td><td>5   </td><td>4   </td><td>1   </td><td>0   </td><td>12  </td><td>1   </td><td>1   </td><td>... </td><td>0   </td><td>0   </td><td>0   </td><td>0   </td><td>1   </td><td>NA  </td><td>16  </td><td>    </td><td>    </td><td>2   </td></tr>\n",
       "\t<tr><td>17  </td><td>111 </td><td>35  </td><td>3   </td><td>4   </td><td>1   </td><td>0   </td><td>12  </td><td>2   </td><td>1   </td><td>... </td><td>0   </td><td>0   </td><td>0   </td><td>0   </td><td>1   </td><td>NA  </td><td>11  </td><td>    </td><td>    </td><td>2   </td></tr>\n",
       "\t<tr><td>17  </td><td>111 </td><td>35  </td><td>4   </td><td>4   </td><td>1   </td><td>0   </td><td>12  </td><td>2   </td><td>1   </td><td>... </td><td>0   </td><td>0   </td><td>0   </td><td>0   </td><td>1   </td><td>NA  </td><td> 8  </td><td>    </td><td>    </td><td>2   </td></tr>\n",
       "\t<tr><td>17  </td><td>111 </td><td>35  </td><td>3   </td><td>4   </td><td>1   </td><td>0   </td><td>12  </td><td>2   </td><td>1   </td><td>... </td><td>0   </td><td>0   </td><td>0   </td><td>0   </td><td>1   </td><td>NA  </td><td>11  </td><td>    </td><td>    </td><td>2   </td></tr>\n",
       "\t<tr><td>17  </td><td>111 </td><td>35  </td><td>4   </td><td>4   </td><td>1   </td><td>0   </td><td>12  </td><td>2   </td><td>1   </td><td>... </td><td>0   </td><td>0   </td><td>0   </td><td>0   </td><td>2   </td><td>NA  </td><td> 9  </td><td>    </td><td>    </td><td>2   </td></tr>\n",
       "\t<tr><td>17  </td><td>111 </td><td>35  </td><td>3   </td><td>4   </td><td>1   </td><td>0   </td><td>12  </td><td>2   </td><td>1   </td><td>... </td><td>0   </td><td>0   </td><td>0   </td><td>0   </td><td>1   </td><td>NA  </td><td> 9  </td><td>    </td><td>    </td><td>3   </td></tr>\n",
       "\t<tr><td>17  </td><td>111 </td><td>35  </td><td>1   </td><td>4   </td><td>1   </td><td>0   </td><td>12  </td><td>2   </td><td>1   </td><td>... </td><td>0   </td><td>0   </td><td>0   </td><td>0   </td><td>1   </td><td>NA  </td><td>12  </td><td>    </td><td>    </td><td>3   </td></tr>\n",
       "\t<tr><td>17  </td><td>111 </td><td>35  </td><td>6   </td><td>4   </td><td>1   </td><td>0   </td><td>12  </td><td>2   </td><td>1   </td><td>... </td><td>0   </td><td>0   </td><td>0   </td><td>0   </td><td>1   </td><td>NA  </td><td>21  </td><td>    </td><td>    </td><td>3   </td></tr>\n",
       "\t<tr><td>17  </td><td>111 </td><td>35  </td><td>6   </td><td>4   </td><td>1   </td><td>0   </td><td>12  </td><td>2   </td><td>1   </td><td>... </td><td>0   </td><td>0   </td><td>0   </td><td>0   </td><td>2   </td><td>NA  </td><td>18  </td><td>    </td><td>    </td><td>3   </td></tr>\n",
       "\t<tr><td>17  </td><td>111 </td><td>35  </td><td>4   </td><td>4   </td><td>1   </td><td>0   </td><td>51  </td><td>2   </td><td>1   </td><td>... </td><td>0   </td><td>0   </td><td>0   </td><td>0   </td><td>1   </td><td>NA  </td><td>11  </td><td>    </td><td>    </td><td>4   </td></tr>\n",
       "\t<tr><td>17  </td><td>111 </td><td>35  </td><td>1   </td><td>4   </td><td>1   </td><td>0   </td><td>12  </td><td>1   </td><td>1   </td><td>... </td><td>0   </td><td>0   </td><td>0   </td><td>0   </td><td>2   </td><td>NA  </td><td>16  </td><td>    </td><td>    </td><td>4   </td></tr>\n",
       "\t<tr><td>17  </td><td>111 </td><td>35  </td><td>4   </td><td>4   </td><td>1   </td><td>0   </td><td>12  </td><td>1   </td><td>1   </td><td>... </td><td>0   </td><td>0   </td><td>0   </td><td>0   </td><td>1   </td><td>NA  </td><td>17  </td><td>    </td><td>    </td><td>4   </td></tr>\n",
       "\t<tr><td>17  </td><td>111 </td><td>35  </td><td>6   </td><td>4   </td><td>1   </td><td>0   </td><td>34  </td><td>2   </td><td>1   </td><td>... </td><td>0   </td><td>0   </td><td>0   </td><td>0   </td><td>1   </td><td>NA  </td><td>16  </td><td>    </td><td>    </td><td>4   </td></tr>\n",
       "\t<tr><td>17  </td><td>111 </td><td>35  </td><td>1   </td><td>4   </td><td>1   </td><td>0   </td><td>12  </td><td>2   </td><td>1   </td><td>... </td><td>0   </td><td>0   </td><td>0   </td><td>0   </td><td>1   </td><td>NA  </td><td>21  </td><td>    </td><td>    </td><td>4   </td></tr>\n",
       "\t<tr><td>17  </td><td>111 </td><td>35  </td><td>5   </td><td>4   </td><td>1   </td><td>0   </td><td>12  </td><td>2   </td><td>1   </td><td>... </td><td>0   </td><td>0   </td><td>0   </td><td>0   </td><td>1   </td><td>NA  </td><td>22  </td><td>    </td><td>    </td><td>4   </td></tr>\n",
       "\t<tr><td>17  </td><td>111 </td><td>35  </td><td>2   </td><td>4   </td><td>1   </td><td>0   </td><td>12  </td><td>3   </td><td>1   </td><td>... </td><td>0   </td><td>0   </td><td>0   </td><td>0   </td><td>2   </td><td>NA  </td><td>19  </td><td>    </td><td>    </td><td>4   </td></tr>\n",
       "</tbody>\n",
       "</table>\n"
      ],
      "text/latex": [
       "\\begin{tabular}{r|lllllllllllllllllllllllllllllllllllllllllllllllllllllllllllllllllllllllllllllllllllllllllllllllllllllllllllllllllllll}\n",
       " anno & provincia & comune & giorno & organo\\_di\\_rilevazione & localizzazione\\_incidente & denominazione\\_della\\_strada & tronco\\_di\\_strada\\_o\\_autostrada & tipo\\_di\\_strada & pavimentazione & ... & feriti\\_maschi\\_coinvolti\\_su97 & feriti\\_femmine\\_coinvolti\\_s98 & morti\\_entro\\_24\\_ore & morti\\_entro\\_30\\_giorni & feriti & descrizione\\_strada & Ora & chilometri & ettometrica & trimestre\\\\\n",
       "\\hline\n",
       "\t 17  & 7   & 30  & 6   & 2   & 6   & 27  & 12  & 2   & 1   & ... & 0   & 0   & 0   & 0   & 6   & NA  &  6  & 12  & 900 & 2  \\\\\n",
       "\t 17  & 7   & 66  & 1   & 2   & 3   & 26  & 12  & 2   & 1   & ... & 0   & 0   & 0   & 0   & 1   & NA  & 13  & 0   & 0   & 3  \\\\\n",
       "\t 17  & 7   & 43  & 3   & 2   & 6   & 26  & 12  & 2   & 1   & ... & 0   & 0   & 0   & 0   & 1   & NA  & 15  & 69  & 100 & 4  \\\\\n",
       "\t 17  & 7   & 24  & 1   & 2   & 8   & 0   & 12  & 2   & 1   & ... & 0   & 0   & 0   & 0   & 1   & NA  & 17  & 0   & 0   & 4  \\\\\n",
       "\t 17  & 7   & 65  & 1   & 2   & 1   & 0   & 12  & 2   & 1   & ... & 0   & 0   & 0   & 0   & 1   & NA  & 10  & 0   & 0   & 4  \\\\\n",
       "\t 17  & 7   & 73  & 7   & 2   & 6   & 26  & 12  & 2   & 1   & ... & 0   & 0   & 0   & 0   & 2   & NA  & 19  & 0   & 0   & 3  \\\\\n",
       "\t 17  & 7   &  3  & 5   & 2   & 1   & 0   & 12  & 2   & 1   & ... & 0   & 0   & 0   & 0   & 1   & NA  & 15  & 0   & 0   & 1  \\\\\n",
       "\t 17  & 7   & 65  & 4   & 2   & 1   & 0   & 12  & 2   & 1   & ... & 0   & 0   & 0   & 0   & 1   & NA  & 20  & 0   & 0   & 2  \\\\\n",
       "\t 17  & 7   &  3  & 5   & 2   & 1   & 0   & 12  & 1   & 1   & ... & 0   & 0   & 0   & 0   & 1   & NA  & 16  & 0   & 0   & 2  \\\\\n",
       "\t 17  & 7   & 58  & 1   & 2   & 6   & 26  & 12  & 2   & 1   & ... & 0   & 0   & 0   & 0   & 1   & NA  & 10  & 98  & 400 & 2  \\\\\n",
       "\t 17  & 7   & 72  & 4   & 2   & 4   & 0   & 12  & 2   & 1   & ... & 0   & 0   & 0   & 0   & 1   & NA  & 21  & 0   & 0   & 3  \\\\\n",
       "\t 17  & 7   & 65  & 7   & 2   & 6   & 26  & 12  & 2   & 1   & ... & 0   & 0   & 0   & 0   & 1   & NA  & 19  & 72  & 700 & 2  \\\\\n",
       "\t 17  & 7   & 57  & 2   & 2   & 0   & 17  & 12  & 2   & 1   & ... & 0   & 0   & 0   & 0   & 2   & NA  &  7  & 0   & 0   & 3  \\\\\n",
       "\t 17  & 7   & 59  & 4   & 2   & 9   & 12  & 12  & 2   & 1   & ... & 0   & 0   & 0   & 0   & 4   & NA  & 24  & 2   & 540 & 2  \\\\\n",
       "\t 17  & 7   & 63  & 4   & 2   & 1   & 0   & 12  & 2   & 1   & ... & 0   & 0   & 0   & 0   & 1   & NA  &  9  & 0   & 0   & 1  \\\\\n",
       "\t 17  & 7   &  9  & 1   & 2   & 6   & 26  & 12  & 2   & 1   & ... & 0   & 0   & 0   & 0   & 2   & NA  & 16  & 55  & 850 & 4  \\\\\n",
       "\t 17  & 7   &  3  & 6   & 2   & 1   & 0   & 12  & 2   & 1   & ... & 0   & 0   & 0   & 0   & 1   & NA  & 20  & 0   & 0   & 4  \\\\\n",
       "\t 17  & 7   & 73  & 3   & 2   & 6   & 26  & 12  & 2   & 1   & ... & 0   & 0   & 0   & 0   & 3   & NA  & 22  & 62  & 200 & 3  \\\\\n",
       "\t 17  & 7   & 73  & 1   & 2   & 3   & 26  & 12  & 2   & 1   & ... & 0   & 0   & 0   & 0   & 1   & NA  &  7  & 0   & 0   & 2  \\\\\n",
       "\t 17  & 7   &  3  & 6   & 2   & 1   & 26  & 12  & 2   & 1   & ... & 0   & 0   & 0   & 0   & 1   & NA  & 11  & 102 & 100 & 2  \\\\\n",
       "\t 17  & 7   & 44  & 5   & 2   & 3   & 26  & 12  & 2   & 1   & ... & 0   & 0   & 0   & 0   & 1   & NA  & 19  & 128 & 750 & 1  \\\\\n",
       "\t 17  & 7   & 43  & 7   & 2   & 3   & 26  & 12  & 2   & 1   & ... & 0   & 0   & 0   & 0   & 1   & NA  & 16  & 67  & 800 & 1  \\\\\n",
       "\t 17  & 7   & 48  & 7   & 2   & 9   & 505 & 12  & 2   & 1   & ... & 0   & 0   & 0   & 0   & 3   & NA  & 11  & 4   & 700 & 3  \\\\\n",
       "\t 17  & 7   &  2  & 4   & 2   & 9   & 406 & 12  & 2   & 1   & ... & 0   & 0   & 2   & 0   & 3   & NA  &  8  & 3   & 100 & 1  \\\\\n",
       "\t 17  & 7   & 22  & 7   & 2   & 1   & 0   & 12  & 2   & 1   & ... & 0   & 0   & 0   & 0   & 1   & NA  & 13  & 0   & 0   & 1  \\\\\n",
       "\t 17  & 7   & 13  & 7   & 2   & 9   & 506 & 12  & 2   & 1   & ... & 0   & 0   & 0   & 0   & 2   & NA  & 22  & 10  & 0   & 4  \\\\\n",
       "\t 17  & 7   & 44  & 6   & 2   & 3   & 26  & 12  & 2   & 1   & ... & 0   & 0   & 0   & 0   & 1   & NA  & 14  & 0   & 0   & 4  \\\\\n",
       "\t 17  & 7   & 40  & 6   & 2   & 6   & 26  & 12  & 2   & 1   & ... & 0   & 0   & 0   & 0   & 1   & NA  & 13  & 0   & 0   & 2  \\\\\n",
       "\t 17  & 7   & 40  & 6   & 2   & 6   & 26  & 12  & 2   & 1   & ... & 0   & 0   & 0   & 0   & 1   & NA  & 17  & 123 & 300 & 3  \\\\\n",
       "\t 17  & 7   & 22  & 4   & 2   & 1   & 0   & 12  & 2   & 1   & ... & 0   & 0   & 0   & 0   & 1   & NA  & 19  & 0   & 0   & 3  \\\\\n",
       "\t ... & ... & ... & ... & ... & ... & ... & ... & ... & ... &     & ... & ... & ... & ... & ... & ... & ... & ... & ... & ...\\\\\n",
       "\t 17   &  95  & 38   & 7    & 4    & 1    & 0    & 12   & 2    & 1    & ...  & 0    & 0    & 0    & 0    & 1    & NA   &  8   &      &      & 3   \\\\\n",
       "\t 17   &  95  & 38   & 2    & 4    & 1    & 0    & 12   & 2    & 1    & ...  & 0    & 0    & 0    & 0    & 2    & NA   & 14   &      &      & 3   \\\\\n",
       "\t 17   &  95  & 38   & 3    & 4    & 1    & 0    & 12   & 3    & 1    & ...  & 0    & 0    & 0    & 0    & 1    & NA   & 20   &      &      & 3   \\\\\n",
       "\t 17   & 111  & 35   & 6    & 4    & 1    & 0    & 12   & 2    & 1    & ...  & 0    & 0    & 0    & 0    & 1    & NA   &  8   &      &      & 1   \\\\\n",
       "\t 17   & 111  & 35   & 3    & 4    & 1    & 0    & 12   & 2    & 1    & ...  & 0    & 0    & 0    & 0    & 1    & NA   & 12   &      &      & 1   \\\\\n",
       "\t 17   & 111  & 35   & 6    & 4    & 1    & 0    & 12   & 2    & 1    & ...  & 0    & 0    & 0    & 0    & 1    & NA   & 13   &      &      & 1   \\\\\n",
       "\t 17   & 111  & 35   & 5    & 4    & 1    & 0    & 12   & 2    & 1    & ...  & 0    & 0    & 0    & 0    & 2    & NA   & 19   &      &      & 1   \\\\\n",
       "\t 17   & 111  & 35   & 5    & 4    & 1    & 0    & 12   & 2    & 1    & ...  & 0    & 0    & 0    & 0    & 1    & NA   & 13   &      &      & 1   \\\\\n",
       "\t 17   & 111  & 35   & 1    & 4    & 1    & 0    & 12   & 2    & 1    & ...  & 0    & 0    & 0    & 0    & 2    & NA   & 15   &      &      & 1   \\\\\n",
       "\t 17   & 111  & 35   & 4    & 4    & 1    & 0    & 12   & 2    & 1    & ...  & 0    & 0    & 0    & 0    & 1    & NA   &  9   &      &      & 1   \\\\\n",
       "\t 17   & 111  & 35   & 2    & 4    & 1    & 0    & 12   & 2    & 1    & ...  & 0    & 0    & 0    & 0    & 5    & NA   & 11   &      &      & 1   \\\\\n",
       "\t 17   & 111  & 35   & 1    & 4    & 1    & 0    & 12   & 2    & 1    & ...  & 0    & 0    & 0    & 0    & 1    & NA   & 14   &      &      & 2   \\\\\n",
       "\t 17   & 111  & 35   & 7    & 4    & 1    & 0    & 12   & 1    & 1    & ...  & 0    & 0    & 0    & 0    & 1    & NA   & 10   &      &      & 2   \\\\\n",
       "\t 17   & 111  & 35   & 1    & 4    & 1    & 0    & 12   & 1    & 1    & ...  & 0    & 0    & 0    & 0    & 1    & NA   & 13   &      &      & 2   \\\\\n",
       "\t 17   & 111  & 35   & 5    & 4    & 1    & 0    & 12   & 1    & 1    & ...  & 0    & 0    & 0    & 0    & 1    & NA   & 16   &      &      & 2   \\\\\n",
       "\t 17   & 111  & 35   & 3    & 4    & 1    & 0    & 12   & 2    & 1    & ...  & 0    & 0    & 0    & 0    & 1    & NA   & 11   &      &      & 2   \\\\\n",
       "\t 17   & 111  & 35   & 4    & 4    & 1    & 0    & 12   & 2    & 1    & ...  & 0    & 0    & 0    & 0    & 1    & NA   &  8   &      &      & 2   \\\\\n",
       "\t 17   & 111  & 35   & 3    & 4    & 1    & 0    & 12   & 2    & 1    & ...  & 0    & 0    & 0    & 0    & 1    & NA   & 11   &      &      & 2   \\\\\n",
       "\t 17   & 111  & 35   & 4    & 4    & 1    & 0    & 12   & 2    & 1    & ...  & 0    & 0    & 0    & 0    & 2    & NA   &  9   &      &      & 2   \\\\\n",
       "\t 17   & 111  & 35   & 3    & 4    & 1    & 0    & 12   & 2    & 1    & ...  & 0    & 0    & 0    & 0    & 1    & NA   &  9   &      &      & 3   \\\\\n",
       "\t 17   & 111  & 35   & 1    & 4    & 1    & 0    & 12   & 2    & 1    & ...  & 0    & 0    & 0    & 0    & 1    & NA   & 12   &      &      & 3   \\\\\n",
       "\t 17   & 111  & 35   & 6    & 4    & 1    & 0    & 12   & 2    & 1    & ...  & 0    & 0    & 0    & 0    & 1    & NA   & 21   &      &      & 3   \\\\\n",
       "\t 17   & 111  & 35   & 6    & 4    & 1    & 0    & 12   & 2    & 1    & ...  & 0    & 0    & 0    & 0    & 2    & NA   & 18   &      &      & 3   \\\\\n",
       "\t 17   & 111  & 35   & 4    & 4    & 1    & 0    & 51   & 2    & 1    & ...  & 0    & 0    & 0    & 0    & 1    & NA   & 11   &      &      & 4   \\\\\n",
       "\t 17   & 111  & 35   & 1    & 4    & 1    & 0    & 12   & 1    & 1    & ...  & 0    & 0    & 0    & 0    & 2    & NA   & 16   &      &      & 4   \\\\\n",
       "\t 17   & 111  & 35   & 4    & 4    & 1    & 0    & 12   & 1    & 1    & ...  & 0    & 0    & 0    & 0    & 1    & NA   & 17   &      &      & 4   \\\\\n",
       "\t 17   & 111  & 35   & 6    & 4    & 1    & 0    & 34   & 2    & 1    & ...  & 0    & 0    & 0    & 0    & 1    & NA   & 16   &      &      & 4   \\\\\n",
       "\t 17   & 111  & 35   & 1    & 4    & 1    & 0    & 12   & 2    & 1    & ...  & 0    & 0    & 0    & 0    & 1    & NA   & 21   &      &      & 4   \\\\\n",
       "\t 17   & 111  & 35   & 5    & 4    & 1    & 0    & 12   & 2    & 1    & ...  & 0    & 0    & 0    & 0    & 1    & NA   & 22   &      &      & 4   \\\\\n",
       "\t 17   & 111  & 35   & 2    & 4    & 1    & 0    & 12   & 3    & 1    & ...  & 0    & 0    & 0    & 0    & 2    & NA   & 19   &      &      & 4   \\\\\n",
       "\\end{tabular}\n"
      ],
      "text/markdown": [
       "\n",
       "| anno | provincia | comune | giorno | organo_di_rilevazione | localizzazione_incidente | denominazione_della_strada | tronco_di_strada_o_autostrada | tipo_di_strada | pavimentazione | ... | feriti_maschi_coinvolti_su97 | feriti_femmine_coinvolti_s98 | morti_entro_24_ore | morti_entro_30_giorni | feriti | descrizione_strada | Ora | chilometri | ettometrica | trimestre |\n",
       "|---|---|---|---|---|---|---|---|---|---|---|---|---|---|---|---|---|---|---|---|---|\n",
       "| 17  | 7   | 30  | 6   | 2   | 6   | 27  | 12  | 2   | 1   | ... | 0   | 0   | 0   | 0   | 6   | NA  |  6  | 12  | 900 | 2   |\n",
       "| 17  | 7   | 66  | 1   | 2   | 3   | 26  | 12  | 2   | 1   | ... | 0   | 0   | 0   | 0   | 1   | NA  | 13  | 0   | 0   | 3   |\n",
       "| 17  | 7   | 43  | 3   | 2   | 6   | 26  | 12  | 2   | 1   | ... | 0   | 0   | 0   | 0   | 1   | NA  | 15  | 69  | 100 | 4   |\n",
       "| 17  | 7   | 24  | 1   | 2   | 8   | 0   | 12  | 2   | 1   | ... | 0   | 0   | 0   | 0   | 1   | NA  | 17  | 0   | 0   | 4   |\n",
       "| 17  | 7   | 65  | 1   | 2   | 1   | 0   | 12  | 2   | 1   | ... | 0   | 0   | 0   | 0   | 1   | NA  | 10  | 0   | 0   | 4   |\n",
       "| 17  | 7   | 73  | 7   | 2   | 6   | 26  | 12  | 2   | 1   | ... | 0   | 0   | 0   | 0   | 2   | NA  | 19  | 0   | 0   | 3   |\n",
       "| 17  | 7   |  3  | 5   | 2   | 1   | 0   | 12  | 2   | 1   | ... | 0   | 0   | 0   | 0   | 1   | NA  | 15  | 0   | 0   | 1   |\n",
       "| 17  | 7   | 65  | 4   | 2   | 1   | 0   | 12  | 2   | 1   | ... | 0   | 0   | 0   | 0   | 1   | NA  | 20  | 0   | 0   | 2   |\n",
       "| 17  | 7   |  3  | 5   | 2   | 1   | 0   | 12  | 1   | 1   | ... | 0   | 0   | 0   | 0   | 1   | NA  | 16  | 0   | 0   | 2   |\n",
       "| 17  | 7   | 58  | 1   | 2   | 6   | 26  | 12  | 2   | 1   | ... | 0   | 0   | 0   | 0   | 1   | NA  | 10  | 98  | 400 | 2   |\n",
       "| 17  | 7   | 72  | 4   | 2   | 4   | 0   | 12  | 2   | 1   | ... | 0   | 0   | 0   | 0   | 1   | NA  | 21  | 0   | 0   | 3   |\n",
       "| 17  | 7   | 65  | 7   | 2   | 6   | 26  | 12  | 2   | 1   | ... | 0   | 0   | 0   | 0   | 1   | NA  | 19  | 72  | 700 | 2   |\n",
       "| 17  | 7   | 57  | 2   | 2   | 0   | 17  | 12  | 2   | 1   | ... | 0   | 0   | 0   | 0   | 2   | NA  |  7  | 0   | 0   | 3   |\n",
       "| 17  | 7   | 59  | 4   | 2   | 9   | 12  | 12  | 2   | 1   | ... | 0   | 0   | 0   | 0   | 4   | NA  | 24  | 2   | 540 | 2   |\n",
       "| 17  | 7   | 63  | 4   | 2   | 1   | 0   | 12  | 2   | 1   | ... | 0   | 0   | 0   | 0   | 1   | NA  |  9  | 0   | 0   | 1   |\n",
       "| 17  | 7   |  9  | 1   | 2   | 6   | 26  | 12  | 2   | 1   | ... | 0   | 0   | 0   | 0   | 2   | NA  | 16  | 55  | 850 | 4   |\n",
       "| 17  | 7   |  3  | 6   | 2   | 1   | 0   | 12  | 2   | 1   | ... | 0   | 0   | 0   | 0   | 1   | NA  | 20  | 0   | 0   | 4   |\n",
       "| 17  | 7   | 73  | 3   | 2   | 6   | 26  | 12  | 2   | 1   | ... | 0   | 0   | 0   | 0   | 3   | NA  | 22  | 62  | 200 | 3   |\n",
       "| 17  | 7   | 73  | 1   | 2   | 3   | 26  | 12  | 2   | 1   | ... | 0   | 0   | 0   | 0   | 1   | NA  |  7  | 0   | 0   | 2   |\n",
       "| 17  | 7   |  3  | 6   | 2   | 1   | 26  | 12  | 2   | 1   | ... | 0   | 0   | 0   | 0   | 1   | NA  | 11  | 102 | 100 | 2   |\n",
       "| 17  | 7   | 44  | 5   | 2   | 3   | 26  | 12  | 2   | 1   | ... | 0   | 0   | 0   | 0   | 1   | NA  | 19  | 128 | 750 | 1   |\n",
       "| 17  | 7   | 43  | 7   | 2   | 3   | 26  | 12  | 2   | 1   | ... | 0   | 0   | 0   | 0   | 1   | NA  | 16  | 67  | 800 | 1   |\n",
       "| 17  | 7   | 48  | 7   | 2   | 9   | 505 | 12  | 2   | 1   | ... | 0   | 0   | 0   | 0   | 3   | NA  | 11  | 4   | 700 | 3   |\n",
       "| 17  | 7   |  2  | 4   | 2   | 9   | 406 | 12  | 2   | 1   | ... | 0   | 0   | 2   | 0   | 3   | NA  |  8  | 3   | 100 | 1   |\n",
       "| 17  | 7   | 22  | 7   | 2   | 1   | 0   | 12  | 2   | 1   | ... | 0   | 0   | 0   | 0   | 1   | NA  | 13  | 0   | 0   | 1   |\n",
       "| 17  | 7   | 13  | 7   | 2   | 9   | 506 | 12  | 2   | 1   | ... | 0   | 0   | 0   | 0   | 2   | NA  | 22  | 10  | 0   | 4   |\n",
       "| 17  | 7   | 44  | 6   | 2   | 3   | 26  | 12  | 2   | 1   | ... | 0   | 0   | 0   | 0   | 1   | NA  | 14  | 0   | 0   | 4   |\n",
       "| 17  | 7   | 40  | 6   | 2   | 6   | 26  | 12  | 2   | 1   | ... | 0   | 0   | 0   | 0   | 1   | NA  | 13  | 0   | 0   | 2   |\n",
       "| 17  | 7   | 40  | 6   | 2   | 6   | 26  | 12  | 2   | 1   | ... | 0   | 0   | 0   | 0   | 1   | NA  | 17  | 123 | 300 | 3   |\n",
       "| 17  | 7   | 22  | 4   | 2   | 1   | 0   | 12  | 2   | 1   | ... | 0   | 0   | 0   | 0   | 1   | NA  | 19  | 0   | 0   | 3   |\n",
       "| ... | ... | ... | ... | ... | ... | ... | ... | ... | ... |     | ... | ... | ... | ... | ... | ... | ... | ... | ... | ... |\n",
       "| 17   |  95  | 38   | 7    | 4    | 1    | 0    | 12   | 2    | 1    | ...  | 0    | 0    | 0    | 0    | 1    | NA   |  8   |      |      | 3    |\n",
       "| 17   |  95  | 38   | 2    | 4    | 1    | 0    | 12   | 2    | 1    | ...  | 0    | 0    | 0    | 0    | 2    | NA   | 14   |      |      | 3    |\n",
       "| 17   |  95  | 38   | 3    | 4    | 1    | 0    | 12   | 3    | 1    | ...  | 0    | 0    | 0    | 0    | 1    | NA   | 20   |      |      | 3    |\n",
       "| 17   | 111  | 35   | 6    | 4    | 1    | 0    | 12   | 2    | 1    | ...  | 0    | 0    | 0    | 0    | 1    | NA   |  8   |      |      | 1    |\n",
       "| 17   | 111  | 35   | 3    | 4    | 1    | 0    | 12   | 2    | 1    | ...  | 0    | 0    | 0    | 0    | 1    | NA   | 12   |      |      | 1    |\n",
       "| 17   | 111  | 35   | 6    | 4    | 1    | 0    | 12   | 2    | 1    | ...  | 0    | 0    | 0    | 0    | 1    | NA   | 13   |      |      | 1    |\n",
       "| 17   | 111  | 35   | 5    | 4    | 1    | 0    | 12   | 2    | 1    | ...  | 0    | 0    | 0    | 0    | 2    | NA   | 19   |      |      | 1    |\n",
       "| 17   | 111  | 35   | 5    | 4    | 1    | 0    | 12   | 2    | 1    | ...  | 0    | 0    | 0    | 0    | 1    | NA   | 13   |      |      | 1    |\n",
       "| 17   | 111  | 35   | 1    | 4    | 1    | 0    | 12   | 2    | 1    | ...  | 0    | 0    | 0    | 0    | 2    | NA   | 15   |      |      | 1    |\n",
       "| 17   | 111  | 35   | 4    | 4    | 1    | 0    | 12   | 2    | 1    | ...  | 0    | 0    | 0    | 0    | 1    | NA   |  9   |      |      | 1    |\n",
       "| 17   | 111  | 35   | 2    | 4    | 1    | 0    | 12   | 2    | 1    | ...  | 0    | 0    | 0    | 0    | 5    | NA   | 11   |      |      | 1    |\n",
       "| 17   | 111  | 35   | 1    | 4    | 1    | 0    | 12   | 2    | 1    | ...  | 0    | 0    | 0    | 0    | 1    | NA   | 14   |      |      | 2    |\n",
       "| 17   | 111  | 35   | 7    | 4    | 1    | 0    | 12   | 1    | 1    | ...  | 0    | 0    | 0    | 0    | 1    | NA   | 10   |      |      | 2    |\n",
       "| 17   | 111  | 35   | 1    | 4    | 1    | 0    | 12   | 1    | 1    | ...  | 0    | 0    | 0    | 0    | 1    | NA   | 13   |      |      | 2    |\n",
       "| 17   | 111  | 35   | 5    | 4    | 1    | 0    | 12   | 1    | 1    | ...  | 0    | 0    | 0    | 0    | 1    | NA   | 16   |      |      | 2    |\n",
       "| 17   | 111  | 35   | 3    | 4    | 1    | 0    | 12   | 2    | 1    | ...  | 0    | 0    | 0    | 0    | 1    | NA   | 11   |      |      | 2    |\n",
       "| 17   | 111  | 35   | 4    | 4    | 1    | 0    | 12   | 2    | 1    | ...  | 0    | 0    | 0    | 0    | 1    | NA   |  8   |      |      | 2    |\n",
       "| 17   | 111  | 35   | 3    | 4    | 1    | 0    | 12   | 2    | 1    | ...  | 0    | 0    | 0    | 0    | 1    | NA   | 11   |      |      | 2    |\n",
       "| 17   | 111  | 35   | 4    | 4    | 1    | 0    | 12   | 2    | 1    | ...  | 0    | 0    | 0    | 0    | 2    | NA   |  9   |      |      | 2    |\n",
       "| 17   | 111  | 35   | 3    | 4    | 1    | 0    | 12   | 2    | 1    | ...  | 0    | 0    | 0    | 0    | 1    | NA   |  9   |      |      | 3    |\n",
       "| 17   | 111  | 35   | 1    | 4    | 1    | 0    | 12   | 2    | 1    | ...  | 0    | 0    | 0    | 0    | 1    | NA   | 12   |      |      | 3    |\n",
       "| 17   | 111  | 35   | 6    | 4    | 1    | 0    | 12   | 2    | 1    | ...  | 0    | 0    | 0    | 0    | 1    | NA   | 21   |      |      | 3    |\n",
       "| 17   | 111  | 35   | 6    | 4    | 1    | 0    | 12   | 2    | 1    | ...  | 0    | 0    | 0    | 0    | 2    | NA   | 18   |      |      | 3    |\n",
       "| 17   | 111  | 35   | 4    | 4    | 1    | 0    | 51   | 2    | 1    | ...  | 0    | 0    | 0    | 0    | 1    | NA   | 11   |      |      | 4    |\n",
       "| 17   | 111  | 35   | 1    | 4    | 1    | 0    | 12   | 1    | 1    | ...  | 0    | 0    | 0    | 0    | 2    | NA   | 16   |      |      | 4    |\n",
       "| 17   | 111  | 35   | 4    | 4    | 1    | 0    | 12   | 1    | 1    | ...  | 0    | 0    | 0    | 0    | 1    | NA   | 17   |      |      | 4    |\n",
       "| 17   | 111  | 35   | 6    | 4    | 1    | 0    | 34   | 2    | 1    | ...  | 0    | 0    | 0    | 0    | 1    | NA   | 16   |      |      | 4    |\n",
       "| 17   | 111  | 35   | 1    | 4    | 1    | 0    | 12   | 2    | 1    | ...  | 0    | 0    | 0    | 0    | 1    | NA   | 21   |      |      | 4    |\n",
       "| 17   | 111  | 35   | 5    | 4    | 1    | 0    | 12   | 2    | 1    | ...  | 0    | 0    | 0    | 0    | 1    | NA   | 22   |      |      | 4    |\n",
       "| 17   | 111  | 35   | 2    | 4    | 1    | 0    | 12   | 3    | 1    | ...  | 0    | 0    | 0    | 0    | 2    | NA   | 19   |      |      | 4    |\n",
       "\n"
      ],
      "text/plain": [
       "       anno provincia comune giorno organo_di_rilevazione\n",
       "1      17   7         30     6      2                    \n",
       "2      17   7         66     1      2                    \n",
       "3      17   7         43     3      2                    \n",
       "4      17   7         24     1      2                    \n",
       "5      17   7         65     1      2                    \n",
       "6      17   7         73     7      2                    \n",
       "7      17   7          3     5      2                    \n",
       "8      17   7         65     4      2                    \n",
       "9      17   7          3     5      2                    \n",
       "10     17   7         58     1      2                    \n",
       "11     17   7         72     4      2                    \n",
       "12     17   7         65     7      2                    \n",
       "13     17   7         57     2      2                    \n",
       "14     17   7         59     4      2                    \n",
       "15     17   7         63     4      2                    \n",
       "16     17   7          9     1      2                    \n",
       "17     17   7          3     6      2                    \n",
       "18     17   7         73     3      2                    \n",
       "19     17   7         73     1      2                    \n",
       "20     17   7          3     6      2                    \n",
       "21     17   7         44     5      2                    \n",
       "22     17   7         43     7      2                    \n",
       "23     17   7         48     7      2                    \n",
       "24     17   7          2     4      2                    \n",
       "25     17   7         22     7      2                    \n",
       "26     17   7         13     7      2                    \n",
       "27     17   7         44     6      2                    \n",
       "28     17   7         40     6      2                    \n",
       "29     17   7         40     6      2                    \n",
       "30     17   7         22     4      2                    \n",
       "...    ...  ...       ...    ...    ...                  \n",
       "174904 17    95       38     7      4                    \n",
       "174905 17    95       38     2      4                    \n",
       "174906 17    95       38     3      4                    \n",
       "174907 17   111       35     6      4                    \n",
       "174908 17   111       35     3      4                    \n",
       "174909 17   111       35     6      4                    \n",
       "174910 17   111       35     5      4                    \n",
       "174911 17   111       35     5      4                    \n",
       "174912 17   111       35     1      4                    \n",
       "174913 17   111       35     4      4                    \n",
       "174914 17   111       35     2      4                    \n",
       "174915 17   111       35     1      4                    \n",
       "174916 17   111       35     7      4                    \n",
       "174917 17   111       35     1      4                    \n",
       "174918 17   111       35     5      4                    \n",
       "174919 17   111       35     3      4                    \n",
       "174920 17   111       35     4      4                    \n",
       "174921 17   111       35     3      4                    \n",
       "174922 17   111       35     4      4                    \n",
       "174923 17   111       35     3      4                    \n",
       "174924 17   111       35     1      4                    \n",
       "174925 17   111       35     6      4                    \n",
       "174926 17   111       35     6      4                    \n",
       "174927 17   111       35     4      4                    \n",
       "174928 17   111       35     1      4                    \n",
       "174929 17   111       35     4      4                    \n",
       "174930 17   111       35     6      4                    \n",
       "174931 17   111       35     1      4                    \n",
       "174932 17   111       35     5      4                    \n",
       "174933 17   111       35     2      4                    \n",
       "       localizzazione_incidente denominazione_della_strada\n",
       "1      6                        27                        \n",
       "2      3                        26                        \n",
       "3      6                        26                        \n",
       "4      8                        0                         \n",
       "5      1                        0                         \n",
       "6      6                        26                        \n",
       "7      1                        0                         \n",
       "8      1                        0                         \n",
       "9      1                        0                         \n",
       "10     6                        26                        \n",
       "11     4                        0                         \n",
       "12     6                        26                        \n",
       "13     0                        17                        \n",
       "14     9                        12                        \n",
       "15     1                        0                         \n",
       "16     6                        26                        \n",
       "17     1                        0                         \n",
       "18     6                        26                        \n",
       "19     3                        26                        \n",
       "20     1                        26                        \n",
       "21     3                        26                        \n",
       "22     3                        26                        \n",
       "23     9                        505                       \n",
       "24     9                        406                       \n",
       "25     1                        0                         \n",
       "26     9                        506                       \n",
       "27     3                        26                        \n",
       "28     6                        26                        \n",
       "29     6                        26                        \n",
       "30     1                        0                         \n",
       "...    ...                      ...                       \n",
       "174904 1                        0                         \n",
       "174905 1                        0                         \n",
       "174906 1                        0                         \n",
       "174907 1                        0                         \n",
       "174908 1                        0                         \n",
       "174909 1                        0                         \n",
       "174910 1                        0                         \n",
       "174911 1                        0                         \n",
       "174912 1                        0                         \n",
       "174913 1                        0                         \n",
       "174914 1                        0                         \n",
       "174915 1                        0                         \n",
       "174916 1                        0                         \n",
       "174917 1                        0                         \n",
       "174918 1                        0                         \n",
       "174919 1                        0                         \n",
       "174920 1                        0                         \n",
       "174921 1                        0                         \n",
       "174922 1                        0                         \n",
       "174923 1                        0                         \n",
       "174924 1                        0                         \n",
       "174925 1                        0                         \n",
       "174926 1                        0                         \n",
       "174927 1                        0                         \n",
       "174928 1                        0                         \n",
       "174929 1                        0                         \n",
       "174930 1                        0                         \n",
       "174931 1                        0                         \n",
       "174932 1                        0                         \n",
       "174933 1                        0                         \n",
       "       tronco_di_strada_o_autostrada tipo_di_strada pavimentazione ...\n",
       "1      12                            2              1              ...\n",
       "2      12                            2              1              ...\n",
       "3      12                            2              1              ...\n",
       "4      12                            2              1              ...\n",
       "5      12                            2              1              ...\n",
       "6      12                            2              1              ...\n",
       "7      12                            2              1              ...\n",
       "8      12                            2              1              ...\n",
       "9      12                            1              1              ...\n",
       "10     12                            2              1              ...\n",
       "11     12                            2              1              ...\n",
       "12     12                            2              1              ...\n",
       "13     12                            2              1              ...\n",
       "14     12                            2              1              ...\n",
       "15     12                            2              1              ...\n",
       "16     12                            2              1              ...\n",
       "17     12                            2              1              ...\n",
       "18     12                            2              1              ...\n",
       "19     12                            2              1              ...\n",
       "20     12                            2              1              ...\n",
       "21     12                            2              1              ...\n",
       "22     12                            2              1              ...\n",
       "23     12                            2              1              ...\n",
       "24     12                            2              1              ...\n",
       "25     12                            2              1              ...\n",
       "26     12                            2              1              ...\n",
       "27     12                            2              1              ...\n",
       "28     12                            2              1              ...\n",
       "29     12                            2              1              ...\n",
       "30     12                            2              1              ...\n",
       "...    ...                           ...            ...               \n",
       "174904 12                            2              1              ...\n",
       "174905 12                            2              1              ...\n",
       "174906 12                            3              1              ...\n",
       "174907 12                            2              1              ...\n",
       "174908 12                            2              1              ...\n",
       "174909 12                            2              1              ...\n",
       "174910 12                            2              1              ...\n",
       "174911 12                            2              1              ...\n",
       "174912 12                            2              1              ...\n",
       "174913 12                            2              1              ...\n",
       "174914 12                            2              1              ...\n",
       "174915 12                            2              1              ...\n",
       "174916 12                            1              1              ...\n",
       "174917 12                            1              1              ...\n",
       "174918 12                            1              1              ...\n",
       "174919 12                            2              1              ...\n",
       "174920 12                            2              1              ...\n",
       "174921 12                            2              1              ...\n",
       "174922 12                            2              1              ...\n",
       "174923 12                            2              1              ...\n",
       "174924 12                            2              1              ...\n",
       "174925 12                            2              1              ...\n",
       "174926 12                            2              1              ...\n",
       "174927 51                            2              1              ...\n",
       "174928 12                            1              1              ...\n",
       "174929 12                            1              1              ...\n",
       "174930 34                            2              1              ...\n",
       "174931 12                            2              1              ...\n",
       "174932 12                            2              1              ...\n",
       "174933 12                            3              1              ...\n",
       "       feriti_maschi_coinvolti_su97 feriti_femmine_coinvolti_s98\n",
       "1      0                            0                           \n",
       "2      0                            0                           \n",
       "3      0                            0                           \n",
       "4      0                            0                           \n",
       "5      0                            0                           \n",
       "6      0                            0                           \n",
       "7      0                            0                           \n",
       "8      0                            0                           \n",
       "9      0                            0                           \n",
       "10     0                            0                           \n",
       "11     0                            0                           \n",
       "12     0                            0                           \n",
       "13     0                            0                           \n",
       "14     0                            0                           \n",
       "15     0                            0                           \n",
       "16     0                            0                           \n",
       "17     0                            0                           \n",
       "18     0                            0                           \n",
       "19     0                            0                           \n",
       "20     0                            0                           \n",
       "21     0                            0                           \n",
       "22     0                            0                           \n",
       "23     0                            0                           \n",
       "24     0                            0                           \n",
       "25     0                            0                           \n",
       "26     0                            0                           \n",
       "27     0                            0                           \n",
       "28     0                            0                           \n",
       "29     0                            0                           \n",
       "30     0                            0                           \n",
       "...    ...                          ...                         \n",
       "174904 0                            0                           \n",
       "174905 0                            0                           \n",
       "174906 0                            0                           \n",
       "174907 0                            0                           \n",
       "174908 0                            0                           \n",
       "174909 0                            0                           \n",
       "174910 0                            0                           \n",
       "174911 0                            0                           \n",
       "174912 0                            0                           \n",
       "174913 0                            0                           \n",
       "174914 0                            0                           \n",
       "174915 0                            0                           \n",
       "174916 0                            0                           \n",
       "174917 0                            0                           \n",
       "174918 0                            0                           \n",
       "174919 0                            0                           \n",
       "174920 0                            0                           \n",
       "174921 0                            0                           \n",
       "174922 0                            0                           \n",
       "174923 0                            0                           \n",
       "174924 0                            0                           \n",
       "174925 0                            0                           \n",
       "174926 0                            0                           \n",
       "174927 0                            0                           \n",
       "174928 0                            0                           \n",
       "174929 0                            0                           \n",
       "174930 0                            0                           \n",
       "174931 0                            0                           \n",
       "174932 0                            0                           \n",
       "174933 0                            0                           \n",
       "       morti_entro_24_ore morti_entro_30_giorni feriti descrizione_strada Ora\n",
       "1      0                  0                     6      NA                  6 \n",
       "2      0                  0                     1      NA                 13 \n",
       "3      0                  0                     1      NA                 15 \n",
       "4      0                  0                     1      NA                 17 \n",
       "5      0                  0                     1      NA                 10 \n",
       "6      0                  0                     2      NA                 19 \n",
       "7      0                  0                     1      NA                 15 \n",
       "8      0                  0                     1      NA                 20 \n",
       "9      0                  0                     1      NA                 16 \n",
       "10     0                  0                     1      NA                 10 \n",
       "11     0                  0                     1      NA                 21 \n",
       "12     0                  0                     1      NA                 19 \n",
       "13     0                  0                     2      NA                  7 \n",
       "14     0                  0                     4      NA                 24 \n",
       "15     0                  0                     1      NA                  9 \n",
       "16     0                  0                     2      NA                 16 \n",
       "17     0                  0                     1      NA                 20 \n",
       "18     0                  0                     3      NA                 22 \n",
       "19     0                  0                     1      NA                  7 \n",
       "20     0                  0                     1      NA                 11 \n",
       "21     0                  0                     1      NA                 19 \n",
       "22     0                  0                     1      NA                 16 \n",
       "23     0                  0                     3      NA                 11 \n",
       "24     2                  0                     3      NA                  8 \n",
       "25     0                  0                     1      NA                 13 \n",
       "26     0                  0                     2      NA                 22 \n",
       "27     0                  0                     1      NA                 14 \n",
       "28     0                  0                     1      NA                 13 \n",
       "29     0                  0                     1      NA                 17 \n",
       "30     0                  0                     1      NA                 19 \n",
       "...    ...                ...                   ...    ...                ...\n",
       "174904 0                  0                     1      NA                  8 \n",
       "174905 0                  0                     2      NA                 14 \n",
       "174906 0                  0                     1      NA                 20 \n",
       "174907 0                  0                     1      NA                  8 \n",
       "174908 0                  0                     1      NA                 12 \n",
       "174909 0                  0                     1      NA                 13 \n",
       "174910 0                  0                     2      NA                 19 \n",
       "174911 0                  0                     1      NA                 13 \n",
       "174912 0                  0                     2      NA                 15 \n",
       "174913 0                  0                     1      NA                  9 \n",
       "174914 0                  0                     5      NA                 11 \n",
       "174915 0                  0                     1      NA                 14 \n",
       "174916 0                  0                     1      NA                 10 \n",
       "174917 0                  0                     1      NA                 13 \n",
       "174918 0                  0                     1      NA                 16 \n",
       "174919 0                  0                     1      NA                 11 \n",
       "174920 0                  0                     1      NA                  8 \n",
       "174921 0                  0                     1      NA                 11 \n",
       "174922 0                  0                     2      NA                  9 \n",
       "174923 0                  0                     1      NA                  9 \n",
       "174924 0                  0                     1      NA                 12 \n",
       "174925 0                  0                     1      NA                 21 \n",
       "174926 0                  0                     2      NA                 18 \n",
       "174927 0                  0                     1      NA                 11 \n",
       "174928 0                  0                     2      NA                 16 \n",
       "174929 0                  0                     1      NA                 17 \n",
       "174930 0                  0                     1      NA                 16 \n",
       "174931 0                  0                     1      NA                 21 \n",
       "174932 0                  0                     1      NA                 22 \n",
       "174933 0                  0                     2      NA                 19 \n",
       "       chilometri ettometrica trimestre\n",
       "1      12         900         2        \n",
       "2      0          0           3        \n",
       "3      69         100         4        \n",
       "4      0          0           4        \n",
       "5      0          0           4        \n",
       "6      0          0           3        \n",
       "7      0          0           1        \n",
       "8      0          0           2        \n",
       "9      0          0           2        \n",
       "10     98         400         2        \n",
       "11     0          0           3        \n",
       "12     72         700         2        \n",
       "13     0          0           3        \n",
       "14     2          540         2        \n",
       "15     0          0           1        \n",
       "16     55         850         4        \n",
       "17     0          0           4        \n",
       "18     62         200         3        \n",
       "19     0          0           2        \n",
       "20     102        100         2        \n",
       "21     128        750         1        \n",
       "22     67         800         1        \n",
       "23     4          700         3        \n",
       "24     3          100         1        \n",
       "25     0          0           1        \n",
       "26     10         0           4        \n",
       "27     0          0           4        \n",
       "28     0          0           2        \n",
       "29     123        300         3        \n",
       "30     0          0           3        \n",
       "...    ...        ...         ...      \n",
       "174904                        3        \n",
       "174905                        3        \n",
       "174906                        3        \n",
       "174907                        1        \n",
       "174908                        1        \n",
       "174909                        1        \n",
       "174910                        1        \n",
       "174911                        1        \n",
       "174912                        1        \n",
       "174913                        1        \n",
       "174914                        1        \n",
       "174915                        2        \n",
       "174916                        2        \n",
       "174917                        2        \n",
       "174918                        2        \n",
       "174919                        2        \n",
       "174920                        2        \n",
       "174921                        2        \n",
       "174922                        2        \n",
       "174923                        3        \n",
       "174924                        3        \n",
       "174925                        3        \n",
       "174926                        3        \n",
       "174927                        4        \n",
       "174928                        4        \n",
       "174929                        4        \n",
       "174930                        4        \n",
       "174931                        4        \n",
       "174932                        4        \n",
       "174933                        4        "
      ]
     },
     "metadata": {},
     "output_type": "display_data"
    }
   ],
   "source": [
    "dataset_proj"
   ]
  },
  {
   "cell_type": "code",
   "execution_count": 3,
   "metadata": {},
   "outputs": [
    {
     "name": "stdout",
     "output_type": "stream",
     "text": [
      "Grandezza del dataset: 117 x 174933"
     ]
    }
   ],
   "source": [
    "cat(\"Grandezza del dataset:\",ncol(dataset_proj),\"x\",nrow(dataset_proj))"
   ]
  },
  {
   "cell_type": "markdown",
   "metadata": {},
   "source": [
    "Andiamo a prendere un campione di dal dataset che viene fornito. Per modificare la grandezza del campione, si cambi `SAMPLE_SIZE`."
   ]
  },
  {
   "cell_type": "code",
   "execution_count": 4,
   "metadata": {},
   "outputs": [],
   "source": [
    "SAMPLE_SIZE = 20000"
   ]
  },
  {
   "cell_type": "code",
   "execution_count": 5,
   "metadata": {},
   "outputs": [],
   "source": [
    "sample_rows <- sample(nrow(dataset_proj), SAMPLE_SIZE)"
   ]
  },
  {
   "cell_type": "raw",
   "metadata": {},
   "source": [
    "for(i in 1:(SAMPLE_SIZE-1))\n",
    "{\n",
    "for(j in (i+1):SAMPLE_SIZE)\n",
    "{\n",
    "if(sample_rows[i] == sample_rows[j]) \n",
    "                    {\n",
    "                    print(\"errore\")\n",
    "                    }\n",
    "}\n",
    "}\n"
   ]
  },
  {
   "cell_type": "code",
   "execution_count": 6,
   "metadata": {},
   "outputs": [],
   "source": [
    "sample_data = dataset_proj[sample_rows,]"
   ]
  },
  {
   "cell_type": "code",
   "execution_count": 7,
   "metadata": {
    "scrolled": false
   },
   "outputs": [
    {
     "data": {
      "text/html": [
       "<ol class=list-inline>\n",
       "\t<li>'anno'</li>\n",
       "\t<li>'provincia'</li>\n",
       "\t<li>'comune'</li>\n",
       "\t<li>'giorno'</li>\n",
       "\t<li>'organo_di_rilevazione'</li>\n",
       "\t<li>'localizzazione_incidente'</li>\n",
       "\t<li>'denominazione_della_strada'</li>\n",
       "\t<li>'tronco_di_strada_o_autostrada'</li>\n",
       "\t<li>'tipo_di_strada'</li>\n",
       "\t<li>'pavimentazione'</li>\n",
       "\t<li>'intersezione_o_non_interse3'</li>\n",
       "\t<li>'fondo_stradale'</li>\n",
       "\t<li>'segnaletica'</li>\n",
       "\t<li>'condizioni_meteorologiche'</li>\n",
       "\t<li>'natura_incidente'</li>\n",
       "\t<li>'tipo_veicolo_a'</li>\n",
       "\t<li>'tipo_veicoli__b_'</li>\n",
       "\t<li>'tipo_veicolo__c_'</li>\n",
       "\t<li>'veicolo__a____circostanze_10'</li>\n",
       "\t<li>'veicolo__a____circostanze_11'</li>\n",
       "\t<li>'veicolo__b____circostanze_13'</li>\n",
       "\t<li>'veicolo__b____circostanze_14'</li>\n",
       "\t<li>'veicolo__a___anno_immatric18'</li>\n",
       "\t<li>'immatricolazione_veicolo__b_'</li>\n",
       "\t<li>'immatricolazione_veicolo__c_'</li>\n",
       "\t<li>'veicolo__a___et__conducente'</li>\n",
       "\t<li>'veicolo__a___sesso_conducente'</li>\n",
       "\t<li>'veicolo__a___esito_conducente'</li>\n",
       "\t<li>'veicolo__a___patente_condu29'</li>\n",
       "\t<li>'veicolo__a___anno_rilascio30'</li>\n",
       "\t<li>'veicolo__a___passeggeri_an35'</li>\n",
       "\t<li>'veicolo__a___et__passegger36'</li>\n",
       "\t<li>'veicolo__a___sesso_passegg37'</li>\n",
       "\t<li>'veicolo__a___esito_passegg38'</li>\n",
       "\t<li>'veicolo__a___et__passegger39'</li>\n",
       "\t<li>'veicolo__a___sesso_passegg40'</li>\n",
       "\t<li>'veicolo__a___esito_passegg41'</li>\n",
       "\t<li>'veicolo__a___et__passegger42'</li>\n",
       "\t<li>'veicolo__a___sesso_passegg43'</li>\n",
       "\t<li>'veicolo__a___esito_passegg44'</li>\n",
       "\t<li>'veicolo__a___et__passegger45'</li>\n",
       "\t<li>'veicolo__a___sesso_passegg46'</li>\n",
       "\t<li>'veicolo__a___altri_passegg47'</li>\n",
       "\t<li>'veicolo__a___altri_passegg48'</li>\n",
       "\t<li>'veicolo__a___altri_passegg49'</li>\n",
       "\t<li>'veicolo__a___altri_passegg50'</li>\n",
       "\t<li>'veicolo__b___et__conducente'</li>\n",
       "\t<li>'veicolo__b___sesso_conducente'</li>\n",
       "\t<li>'veicolo__b___esito_conducente'</li>\n",
       "\t<li>'veicolo__b___patente_condu51'</li>\n",
       "\t<li>'veicolo__b___anno_rilascio52'</li>\n",
       "\t<li>'veicolo__b___passeggeri_an57'</li>\n",
       "\t<li>'veicolo__b___et__passegger58'</li>\n",
       "\t<li>'veicolo__b___sesso_passegg59'</li>\n",
       "\t<li>'veicolo__b___esito_passegg60'</li>\n",
       "\t<li>'veicolo__b___et__passegger61'</li>\n",
       "\t<li>'veicolo__b___sesso_passegg62'</li>\n",
       "\t<li>'veicolo__b___esito_passegg63'</li>\n",
       "\t<li>'veicolo__b___et__passegger64'</li>\n",
       "\t<li>'veicolo__b___sesso_passegg65'</li>\n",
       "\t<li>'veicolo__b___esito_passegg66'</li>\n",
       "\t<li>'veicolo__b___et__passegger67'</li>\n",
       "\t<li>'veicolo__b___sesso_passegg68'</li>\n",
       "\t<li>'veicolo__b___altri_passegg69'</li>\n",
       "\t<li>'veicolo__b___altri_passegg70'</li>\n",
       "\t<li>'veicolo__b___altri_passegg71'</li>\n",
       "\t<li>'veicolo__b___altri_passegg72'</li>\n",
       "\t<li>'veicolo__c___et__conducente'</li>\n",
       "\t<li>'veicolo__c___sesso_conducente'</li>\n",
       "\t<li>'veicolo__c___esito_conducente'</li>\n",
       "\t<li>'veicolo__c___patente_condu73'</li>\n",
       "\t<li>'veicolo__c___anno_rilascio74'</li>\n",
       "\t<li>'veicolo__c___passeggeri_an79'</li>\n",
       "\t<li>'veicolo__c___et__passegger80'</li>\n",
       "\t<li>'veicolo__c___sesso_passegg81'</li>\n",
       "\t<li>'veicolo__c___esito_passegg82'</li>\n",
       "\t<li>'veicolo__c___et__passegger83'</li>\n",
       "\t<li>'veicolo__c___sesso_passegg84'</li>\n",
       "\t<li>'veicolo__c___esito_passegg85'</li>\n",
       "\t<li>'veicolo__c___et__passegger86'</li>\n",
       "\t<li>'veicolo__c___sesso_passegg87'</li>\n",
       "\t<li>'veicolo__c___esito_passegg88'</li>\n",
       "\t<li>'veicolo__c___et__passegger89'</li>\n",
       "\t<li>'veicolo__c___sesso_passegg90'</li>\n",
       "\t<li>'veicolo__c___altri_passegg91'</li>\n",
       "\t<li>'veicolo__c___altri_passegg92'</li>\n",
       "\t<li>'veicolo__c___altri_passegg93'</li>\n",
       "\t<li>'veicolo__c___altri_passegg94'</li>\n",
       "\t<li>'pedone_morto_1__sesso'</li>\n",
       "\t<li>'pedone_morto_1__et_'</li>\n",
       "\t<li>'pedone_ferito_1__sesso'</li>\n",
       "\t<li>'pedone_ferito_1__et_'</li>\n",
       "\t<li>'pedone_morto_2__sesso'</li>\n",
       "\t<li>'pedone_morto_2__et_'</li>\n",
       "\t<li>'pedone_ferito_2__sesso'</li>\n",
       "\t<li>'pedone_ferito_2__et_'</li>\n",
       "\t<li>'pedone_morto_3__sesso'</li>\n",
       "\t<li>'pedone_morto_3__et_'</li>\n",
       "\t<li>'pedone_ferito_3__sesso'</li>\n",
       "\t<li>'pedone_ferito_3__et_'</li>\n",
       "\t<li>'pedone_morto_4__sesso'</li>\n",
       "\t<li>'pedone_morto_4__et_'</li>\n",
       "\t<li>'pedone_ferito_4__sesso'</li>\n",
       "\t<li>'pedone_ferito_4__et_'</li>\n",
       "\t<li>'altri_veicoli_coinvolti'</li>\n",
       "\t<li>'morti_maschi_coinvolti_su_95'</li>\n",
       "\t<li>'morti_femmine_coinvolti_su96'</li>\n",
       "\t<li>'feriti_maschi_coinvolti_su97'</li>\n",
       "\t<li>'feriti_femmine_coinvolti_s98'</li>\n",
       "\t<li>'morti_entro_24_ore'</li>\n",
       "\t<li>'morti_entro_30_giorni'</li>\n",
       "\t<li>'feriti'</li>\n",
       "\t<li>'descrizione_strada'</li>\n",
       "\t<li>'Ora'</li>\n",
       "\t<li>'chilometri'</li>\n",
       "\t<li>'ettometrica'</li>\n",
       "\t<li>'trimestre'</li>\n",
       "</ol>\n"
      ],
      "text/latex": [
       "\\begin{enumerate*}\n",
       "\\item 'anno'\n",
       "\\item 'provincia'\n",
       "\\item 'comune'\n",
       "\\item 'giorno'\n",
       "\\item 'organo\\_di\\_rilevazione'\n",
       "\\item 'localizzazione\\_incidente'\n",
       "\\item 'denominazione\\_della\\_strada'\n",
       "\\item 'tronco\\_di\\_strada\\_o\\_autostrada'\n",
       "\\item 'tipo\\_di\\_strada'\n",
       "\\item 'pavimentazione'\n",
       "\\item 'intersezione\\_o\\_non\\_interse3'\n",
       "\\item 'fondo\\_stradale'\n",
       "\\item 'segnaletica'\n",
       "\\item 'condizioni\\_meteorologiche'\n",
       "\\item 'natura\\_incidente'\n",
       "\\item 'tipo\\_veicolo\\_a'\n",
       "\\item 'tipo\\_veicoli\\_\\_b\\_'\n",
       "\\item 'tipo\\_veicolo\\_\\_c\\_'\n",
       "\\item 'veicolo\\_\\_a\\_\\_\\_\\_circostanze\\_10'\n",
       "\\item 'veicolo\\_\\_a\\_\\_\\_\\_circostanze\\_11'\n",
       "\\item 'veicolo\\_\\_b\\_\\_\\_\\_circostanze\\_13'\n",
       "\\item 'veicolo\\_\\_b\\_\\_\\_\\_circostanze\\_14'\n",
       "\\item 'veicolo\\_\\_a\\_\\_\\_anno\\_immatric18'\n",
       "\\item 'immatricolazione\\_veicolo\\_\\_b\\_'\n",
       "\\item 'immatricolazione\\_veicolo\\_\\_c\\_'\n",
       "\\item 'veicolo\\_\\_a\\_\\_\\_et\\_\\_conducente'\n",
       "\\item 'veicolo\\_\\_a\\_\\_\\_sesso\\_conducente'\n",
       "\\item 'veicolo\\_\\_a\\_\\_\\_esito\\_conducente'\n",
       "\\item 'veicolo\\_\\_a\\_\\_\\_patente\\_condu29'\n",
       "\\item 'veicolo\\_\\_a\\_\\_\\_anno\\_rilascio30'\n",
       "\\item 'veicolo\\_\\_a\\_\\_\\_passeggeri\\_an35'\n",
       "\\item 'veicolo\\_\\_a\\_\\_\\_et\\_\\_passegger36'\n",
       "\\item 'veicolo\\_\\_a\\_\\_\\_sesso\\_passegg37'\n",
       "\\item 'veicolo\\_\\_a\\_\\_\\_esito\\_passegg38'\n",
       "\\item 'veicolo\\_\\_a\\_\\_\\_et\\_\\_passegger39'\n",
       "\\item 'veicolo\\_\\_a\\_\\_\\_sesso\\_passegg40'\n",
       "\\item 'veicolo\\_\\_a\\_\\_\\_esito\\_passegg41'\n",
       "\\item 'veicolo\\_\\_a\\_\\_\\_et\\_\\_passegger42'\n",
       "\\item 'veicolo\\_\\_a\\_\\_\\_sesso\\_passegg43'\n",
       "\\item 'veicolo\\_\\_a\\_\\_\\_esito\\_passegg44'\n",
       "\\item 'veicolo\\_\\_a\\_\\_\\_et\\_\\_passegger45'\n",
       "\\item 'veicolo\\_\\_a\\_\\_\\_sesso\\_passegg46'\n",
       "\\item 'veicolo\\_\\_a\\_\\_\\_altri\\_passegg47'\n",
       "\\item 'veicolo\\_\\_a\\_\\_\\_altri\\_passegg48'\n",
       "\\item 'veicolo\\_\\_a\\_\\_\\_altri\\_passegg49'\n",
       "\\item 'veicolo\\_\\_a\\_\\_\\_altri\\_passegg50'\n",
       "\\item 'veicolo\\_\\_b\\_\\_\\_et\\_\\_conducente'\n",
       "\\item 'veicolo\\_\\_b\\_\\_\\_sesso\\_conducente'\n",
       "\\item 'veicolo\\_\\_b\\_\\_\\_esito\\_conducente'\n",
       "\\item 'veicolo\\_\\_b\\_\\_\\_patente\\_condu51'\n",
       "\\item 'veicolo\\_\\_b\\_\\_\\_anno\\_rilascio52'\n",
       "\\item 'veicolo\\_\\_b\\_\\_\\_passeggeri\\_an57'\n",
       "\\item 'veicolo\\_\\_b\\_\\_\\_et\\_\\_passegger58'\n",
       "\\item 'veicolo\\_\\_b\\_\\_\\_sesso\\_passegg59'\n",
       "\\item 'veicolo\\_\\_b\\_\\_\\_esito\\_passegg60'\n",
       "\\item 'veicolo\\_\\_b\\_\\_\\_et\\_\\_passegger61'\n",
       "\\item 'veicolo\\_\\_b\\_\\_\\_sesso\\_passegg62'\n",
       "\\item 'veicolo\\_\\_b\\_\\_\\_esito\\_passegg63'\n",
       "\\item 'veicolo\\_\\_b\\_\\_\\_et\\_\\_passegger64'\n",
       "\\item 'veicolo\\_\\_b\\_\\_\\_sesso\\_passegg65'\n",
       "\\item 'veicolo\\_\\_b\\_\\_\\_esito\\_passegg66'\n",
       "\\item 'veicolo\\_\\_b\\_\\_\\_et\\_\\_passegger67'\n",
       "\\item 'veicolo\\_\\_b\\_\\_\\_sesso\\_passegg68'\n",
       "\\item 'veicolo\\_\\_b\\_\\_\\_altri\\_passegg69'\n",
       "\\item 'veicolo\\_\\_b\\_\\_\\_altri\\_passegg70'\n",
       "\\item 'veicolo\\_\\_b\\_\\_\\_altri\\_passegg71'\n",
       "\\item 'veicolo\\_\\_b\\_\\_\\_altri\\_passegg72'\n",
       "\\item 'veicolo\\_\\_c\\_\\_\\_et\\_\\_conducente'\n",
       "\\item 'veicolo\\_\\_c\\_\\_\\_sesso\\_conducente'\n",
       "\\item 'veicolo\\_\\_c\\_\\_\\_esito\\_conducente'\n",
       "\\item 'veicolo\\_\\_c\\_\\_\\_patente\\_condu73'\n",
       "\\item 'veicolo\\_\\_c\\_\\_\\_anno\\_rilascio74'\n",
       "\\item 'veicolo\\_\\_c\\_\\_\\_passeggeri\\_an79'\n",
       "\\item 'veicolo\\_\\_c\\_\\_\\_et\\_\\_passegger80'\n",
       "\\item 'veicolo\\_\\_c\\_\\_\\_sesso\\_passegg81'\n",
       "\\item 'veicolo\\_\\_c\\_\\_\\_esito\\_passegg82'\n",
       "\\item 'veicolo\\_\\_c\\_\\_\\_et\\_\\_passegger83'\n",
       "\\item 'veicolo\\_\\_c\\_\\_\\_sesso\\_passegg84'\n",
       "\\item 'veicolo\\_\\_c\\_\\_\\_esito\\_passegg85'\n",
       "\\item 'veicolo\\_\\_c\\_\\_\\_et\\_\\_passegger86'\n",
       "\\item 'veicolo\\_\\_c\\_\\_\\_sesso\\_passegg87'\n",
       "\\item 'veicolo\\_\\_c\\_\\_\\_esito\\_passegg88'\n",
       "\\item 'veicolo\\_\\_c\\_\\_\\_et\\_\\_passegger89'\n",
       "\\item 'veicolo\\_\\_c\\_\\_\\_sesso\\_passegg90'\n",
       "\\item 'veicolo\\_\\_c\\_\\_\\_altri\\_passegg91'\n",
       "\\item 'veicolo\\_\\_c\\_\\_\\_altri\\_passegg92'\n",
       "\\item 'veicolo\\_\\_c\\_\\_\\_altri\\_passegg93'\n",
       "\\item 'veicolo\\_\\_c\\_\\_\\_altri\\_passegg94'\n",
       "\\item 'pedone\\_morto\\_1\\_\\_sesso'\n",
       "\\item 'pedone\\_morto\\_1\\_\\_et\\_'\n",
       "\\item 'pedone\\_ferito\\_1\\_\\_sesso'\n",
       "\\item 'pedone\\_ferito\\_1\\_\\_et\\_'\n",
       "\\item 'pedone\\_morto\\_2\\_\\_sesso'\n",
       "\\item 'pedone\\_morto\\_2\\_\\_et\\_'\n",
       "\\item 'pedone\\_ferito\\_2\\_\\_sesso'\n",
       "\\item 'pedone\\_ferito\\_2\\_\\_et\\_'\n",
       "\\item 'pedone\\_morto\\_3\\_\\_sesso'\n",
       "\\item 'pedone\\_morto\\_3\\_\\_et\\_'\n",
       "\\item 'pedone\\_ferito\\_3\\_\\_sesso'\n",
       "\\item 'pedone\\_ferito\\_3\\_\\_et\\_'\n",
       "\\item 'pedone\\_morto\\_4\\_\\_sesso'\n",
       "\\item 'pedone\\_morto\\_4\\_\\_et\\_'\n",
       "\\item 'pedone\\_ferito\\_4\\_\\_sesso'\n",
       "\\item 'pedone\\_ferito\\_4\\_\\_et\\_'\n",
       "\\item 'altri\\_veicoli\\_coinvolti'\n",
       "\\item 'morti\\_maschi\\_coinvolti\\_su\\_95'\n",
       "\\item 'morti\\_femmine\\_coinvolti\\_su96'\n",
       "\\item 'feriti\\_maschi\\_coinvolti\\_su97'\n",
       "\\item 'feriti\\_femmine\\_coinvolti\\_s98'\n",
       "\\item 'morti\\_entro\\_24\\_ore'\n",
       "\\item 'morti\\_entro\\_30\\_giorni'\n",
       "\\item 'feriti'\n",
       "\\item 'descrizione\\_strada'\n",
       "\\item 'Ora'\n",
       "\\item 'chilometri'\n",
       "\\item 'ettometrica'\n",
       "\\item 'trimestre'\n",
       "\\end{enumerate*}\n"
      ],
      "text/markdown": [
       "1. 'anno'\n",
       "2. 'provincia'\n",
       "3. 'comune'\n",
       "4. 'giorno'\n",
       "5. 'organo_di_rilevazione'\n",
       "6. 'localizzazione_incidente'\n",
       "7. 'denominazione_della_strada'\n",
       "8. 'tronco_di_strada_o_autostrada'\n",
       "9. 'tipo_di_strada'\n",
       "10. 'pavimentazione'\n",
       "11. 'intersezione_o_non_interse3'\n",
       "12. 'fondo_stradale'\n",
       "13. 'segnaletica'\n",
       "14. 'condizioni_meteorologiche'\n",
       "15. 'natura_incidente'\n",
       "16. 'tipo_veicolo_a'\n",
       "17. 'tipo_veicoli__b_'\n",
       "18. 'tipo_veicolo__c_'\n",
       "19. 'veicolo__a____circostanze_10'\n",
       "20. 'veicolo__a____circostanze_11'\n",
       "21. 'veicolo__b____circostanze_13'\n",
       "22. 'veicolo__b____circostanze_14'\n",
       "23. 'veicolo__a___anno_immatric18'\n",
       "24. 'immatricolazione_veicolo__b_'\n",
       "25. 'immatricolazione_veicolo__c_'\n",
       "26. 'veicolo__a___et__conducente'\n",
       "27. 'veicolo__a___sesso_conducente'\n",
       "28. 'veicolo__a___esito_conducente'\n",
       "29. 'veicolo__a___patente_condu29'\n",
       "30. 'veicolo__a___anno_rilascio30'\n",
       "31. 'veicolo__a___passeggeri_an35'\n",
       "32. 'veicolo__a___et__passegger36'\n",
       "33. 'veicolo__a___sesso_passegg37'\n",
       "34. 'veicolo__a___esito_passegg38'\n",
       "35. 'veicolo__a___et__passegger39'\n",
       "36. 'veicolo__a___sesso_passegg40'\n",
       "37. 'veicolo__a___esito_passegg41'\n",
       "38. 'veicolo__a___et__passegger42'\n",
       "39. 'veicolo__a___sesso_passegg43'\n",
       "40. 'veicolo__a___esito_passegg44'\n",
       "41. 'veicolo__a___et__passegger45'\n",
       "42. 'veicolo__a___sesso_passegg46'\n",
       "43. 'veicolo__a___altri_passegg47'\n",
       "44. 'veicolo__a___altri_passegg48'\n",
       "45. 'veicolo__a___altri_passegg49'\n",
       "46. 'veicolo__a___altri_passegg50'\n",
       "47. 'veicolo__b___et__conducente'\n",
       "48. 'veicolo__b___sesso_conducente'\n",
       "49. 'veicolo__b___esito_conducente'\n",
       "50. 'veicolo__b___patente_condu51'\n",
       "51. 'veicolo__b___anno_rilascio52'\n",
       "52. 'veicolo__b___passeggeri_an57'\n",
       "53. 'veicolo__b___et__passegger58'\n",
       "54. 'veicolo__b___sesso_passegg59'\n",
       "55. 'veicolo__b___esito_passegg60'\n",
       "56. 'veicolo__b___et__passegger61'\n",
       "57. 'veicolo__b___sesso_passegg62'\n",
       "58. 'veicolo__b___esito_passegg63'\n",
       "59. 'veicolo__b___et__passegger64'\n",
       "60. 'veicolo__b___sesso_passegg65'\n",
       "61. 'veicolo__b___esito_passegg66'\n",
       "62. 'veicolo__b___et__passegger67'\n",
       "63. 'veicolo__b___sesso_passegg68'\n",
       "64. 'veicolo__b___altri_passegg69'\n",
       "65. 'veicolo__b___altri_passegg70'\n",
       "66. 'veicolo__b___altri_passegg71'\n",
       "67. 'veicolo__b___altri_passegg72'\n",
       "68. 'veicolo__c___et__conducente'\n",
       "69. 'veicolo__c___sesso_conducente'\n",
       "70. 'veicolo__c___esito_conducente'\n",
       "71. 'veicolo__c___patente_condu73'\n",
       "72. 'veicolo__c___anno_rilascio74'\n",
       "73. 'veicolo__c___passeggeri_an79'\n",
       "74. 'veicolo__c___et__passegger80'\n",
       "75. 'veicolo__c___sesso_passegg81'\n",
       "76. 'veicolo__c___esito_passegg82'\n",
       "77. 'veicolo__c___et__passegger83'\n",
       "78. 'veicolo__c___sesso_passegg84'\n",
       "79. 'veicolo__c___esito_passegg85'\n",
       "80. 'veicolo__c___et__passegger86'\n",
       "81. 'veicolo__c___sesso_passegg87'\n",
       "82. 'veicolo__c___esito_passegg88'\n",
       "83. 'veicolo__c___et__passegger89'\n",
       "84. 'veicolo__c___sesso_passegg90'\n",
       "85. 'veicolo__c___altri_passegg91'\n",
       "86. 'veicolo__c___altri_passegg92'\n",
       "87. 'veicolo__c___altri_passegg93'\n",
       "88. 'veicolo__c___altri_passegg94'\n",
       "89. 'pedone_morto_1__sesso'\n",
       "90. 'pedone_morto_1__et_'\n",
       "91. 'pedone_ferito_1__sesso'\n",
       "92. 'pedone_ferito_1__et_'\n",
       "93. 'pedone_morto_2__sesso'\n",
       "94. 'pedone_morto_2__et_'\n",
       "95. 'pedone_ferito_2__sesso'\n",
       "96. 'pedone_ferito_2__et_'\n",
       "97. 'pedone_morto_3__sesso'\n",
       "98. 'pedone_morto_3__et_'\n",
       "99. 'pedone_ferito_3__sesso'\n",
       "100. 'pedone_ferito_3__et_'\n",
       "101. 'pedone_morto_4__sesso'\n",
       "102. 'pedone_morto_4__et_'\n",
       "103. 'pedone_ferito_4__sesso'\n",
       "104. 'pedone_ferito_4__et_'\n",
       "105. 'altri_veicoli_coinvolti'\n",
       "106. 'morti_maschi_coinvolti_su_95'\n",
       "107. 'morti_femmine_coinvolti_su96'\n",
       "108. 'feriti_maschi_coinvolti_su97'\n",
       "109. 'feriti_femmine_coinvolti_s98'\n",
       "110. 'morti_entro_24_ore'\n",
       "111. 'morti_entro_30_giorni'\n",
       "112. 'feriti'\n",
       "113. 'descrizione_strada'\n",
       "114. 'Ora'\n",
       "115. 'chilometri'\n",
       "116. 'ettometrica'\n",
       "117. 'trimestre'\n",
       "\n",
       "\n"
      ],
      "text/plain": [
       "  [1] \"anno\"                          \"provincia\"                    \n",
       "  [3] \"comune\"                        \"giorno\"                       \n",
       "  [5] \"organo_di_rilevazione\"         \"localizzazione_incidente\"     \n",
       "  [7] \"denominazione_della_strada\"    \"tronco_di_strada_o_autostrada\"\n",
       "  [9] \"tipo_di_strada\"                \"pavimentazione\"               \n",
       " [11] \"intersezione_o_non_interse3\"   \"fondo_stradale\"               \n",
       " [13] \"segnaletica\"                   \"condizioni_meteorologiche\"    \n",
       " [15] \"natura_incidente\"              \"tipo_veicolo_a\"               \n",
       " [17] \"tipo_veicoli__b_\"              \"tipo_veicolo__c_\"             \n",
       " [19] \"veicolo__a____circostanze_10\"  \"veicolo__a____circostanze_11\" \n",
       " [21] \"veicolo__b____circostanze_13\"  \"veicolo__b____circostanze_14\" \n",
       " [23] \"veicolo__a___anno_immatric18\"  \"immatricolazione_veicolo__b_\" \n",
       " [25] \"immatricolazione_veicolo__c_\"  \"veicolo__a___et__conducente\"  \n",
       " [27] \"veicolo__a___sesso_conducente\" \"veicolo__a___esito_conducente\"\n",
       " [29] \"veicolo__a___patente_condu29\"  \"veicolo__a___anno_rilascio30\" \n",
       " [31] \"veicolo__a___passeggeri_an35\"  \"veicolo__a___et__passegger36\" \n",
       " [33] \"veicolo__a___sesso_passegg37\"  \"veicolo__a___esito_passegg38\" \n",
       " [35] \"veicolo__a___et__passegger39\"  \"veicolo__a___sesso_passegg40\" \n",
       " [37] \"veicolo__a___esito_passegg41\"  \"veicolo__a___et__passegger42\" \n",
       " [39] \"veicolo__a___sesso_passegg43\"  \"veicolo__a___esito_passegg44\" \n",
       " [41] \"veicolo__a___et__passegger45\"  \"veicolo__a___sesso_passegg46\" \n",
       " [43] \"veicolo__a___altri_passegg47\"  \"veicolo__a___altri_passegg48\" \n",
       " [45] \"veicolo__a___altri_passegg49\"  \"veicolo__a___altri_passegg50\" \n",
       " [47] \"veicolo__b___et__conducente\"   \"veicolo__b___sesso_conducente\"\n",
       " [49] \"veicolo__b___esito_conducente\" \"veicolo__b___patente_condu51\" \n",
       " [51] \"veicolo__b___anno_rilascio52\"  \"veicolo__b___passeggeri_an57\" \n",
       " [53] \"veicolo__b___et__passegger58\"  \"veicolo__b___sesso_passegg59\" \n",
       " [55] \"veicolo__b___esito_passegg60\"  \"veicolo__b___et__passegger61\" \n",
       " [57] \"veicolo__b___sesso_passegg62\"  \"veicolo__b___esito_passegg63\" \n",
       " [59] \"veicolo__b___et__passegger64\"  \"veicolo__b___sesso_passegg65\" \n",
       " [61] \"veicolo__b___esito_passegg66\"  \"veicolo__b___et__passegger67\" \n",
       " [63] \"veicolo__b___sesso_passegg68\"  \"veicolo__b___altri_passegg69\" \n",
       " [65] \"veicolo__b___altri_passegg70\"  \"veicolo__b___altri_passegg71\" \n",
       " [67] \"veicolo__b___altri_passegg72\"  \"veicolo__c___et__conducente\"  \n",
       " [69] \"veicolo__c___sesso_conducente\" \"veicolo__c___esito_conducente\"\n",
       " [71] \"veicolo__c___patente_condu73\"  \"veicolo__c___anno_rilascio74\" \n",
       " [73] \"veicolo__c___passeggeri_an79\"  \"veicolo__c___et__passegger80\" \n",
       " [75] \"veicolo__c___sesso_passegg81\"  \"veicolo__c___esito_passegg82\" \n",
       " [77] \"veicolo__c___et__passegger83\"  \"veicolo__c___sesso_passegg84\" \n",
       " [79] \"veicolo__c___esito_passegg85\"  \"veicolo__c___et__passegger86\" \n",
       " [81] \"veicolo__c___sesso_passegg87\"  \"veicolo__c___esito_passegg88\" \n",
       " [83] \"veicolo__c___et__passegger89\"  \"veicolo__c___sesso_passegg90\" \n",
       " [85] \"veicolo__c___altri_passegg91\"  \"veicolo__c___altri_passegg92\" \n",
       " [87] \"veicolo__c___altri_passegg93\"  \"veicolo__c___altri_passegg94\" \n",
       " [89] \"pedone_morto_1__sesso\"         \"pedone_morto_1__et_\"          \n",
       " [91] \"pedone_ferito_1__sesso\"        \"pedone_ferito_1__et_\"         \n",
       " [93] \"pedone_morto_2__sesso\"         \"pedone_morto_2__et_\"          \n",
       " [95] \"pedone_ferito_2__sesso\"        \"pedone_ferito_2__et_\"         \n",
       " [97] \"pedone_morto_3__sesso\"         \"pedone_morto_3__et_\"          \n",
       " [99] \"pedone_ferito_3__sesso\"        \"pedone_ferito_3__et_\"         \n",
       "[101] \"pedone_morto_4__sesso\"         \"pedone_morto_4__et_\"          \n",
       "[103] \"pedone_ferito_4__sesso\"        \"pedone_ferito_4__et_\"         \n",
       "[105] \"altri_veicoli_coinvolti\"       \"morti_maschi_coinvolti_su_95\" \n",
       "[107] \"morti_femmine_coinvolti_su96\"  \"feriti_maschi_coinvolti_su97\" \n",
       "[109] \"feriti_femmine_coinvolti_s98\"  \"morti_entro_24_ore\"           \n",
       "[111] \"morti_entro_30_giorni\"         \"feriti\"                       \n",
       "[113] \"descrizione_strada\"            \"Ora\"                          \n",
       "[115] \"chilometri\"                    \"ettometrica\"                  \n",
       "[117] \"trimestre\"                    "
      ]
     },
     "metadata": {},
     "output_type": "display_data"
    }
   ],
   "source": [
    "names(sample_data)"
   ]
  },
  {
   "cell_type": "code",
   "execution_count": 8,
   "metadata": {},
   "outputs": [],
   "source": [
    "attach(sample_data)"
   ]
  },
  {
   "cell_type": "code",
   "execution_count": 9,
   "metadata": {},
   "outputs": [],
   "source": [
    "giorno <- factor(giorno)\n",
    "levels(giorno) <- c(\"Lun\", \"Mar\", \"Mer\", \"Gio\", \"Ven\", \"Sab\", \"Dom\")\n",
    "incidenti_per_giorni = table(giorno)"
   ]
  },
  {
   "cell_type": "code",
   "execution_count": 10,
   "metadata": {},
   "outputs": [
    {
     "data": {
      "text/html": [
       "<ol class=list-inline>\n",
       "\t<li>'Lun'</li>\n",
       "\t<li>'Mar'</li>\n",
       "\t<li>'Mer'</li>\n",
       "\t<li>'Gio'</li>\n",
       "\t<li>'Ven'</li>\n",
       "\t<li>'Sab'</li>\n",
       "\t<li>'Dom'</li>\n",
       "</ol>\n"
      ],
      "text/latex": [
       "\\begin{enumerate*}\n",
       "\\item 'Lun'\n",
       "\\item 'Mar'\n",
       "\\item 'Mer'\n",
       "\\item 'Gio'\n",
       "\\item 'Ven'\n",
       "\\item 'Sab'\n",
       "\\item 'Dom'\n",
       "\\end{enumerate*}\n"
      ],
      "text/markdown": [
       "1. 'Lun'\n",
       "2. 'Mar'\n",
       "3. 'Mer'\n",
       "4. 'Gio'\n",
       "5. 'Ven'\n",
       "6. 'Sab'\n",
       "7. 'Dom'\n",
       "\n",
       "\n"
      ],
      "text/plain": [
       "[1] \"Lun\" \"Mar\" \"Mer\" \"Gio\" \"Ven\" \"Sab\" \"Dom\""
      ]
     },
     "metadata": {},
     "output_type": "display_data"
    }
   ],
   "source": [
    "levels(giorno)"
   ]
  },
  {
   "cell_type": "code",
   "execution_count": 11,
   "metadata": {},
   "outputs": [
    {
     "data": {
      "image/png": "[encoded data removed]",
      "text/plain": [
       "plot without title"
      ]
     },
     "metadata": {},
     "output_type": "display_data"
    }
   ],
   "source": [
    "barplot(incidenti_per_giorni)"
   ]
  },
  {
   "cell_type": "code",
   "execution_count": 12,
   "metadata": {
    "scrolled": false
   },
   "outputs": [
    {
     "data": {
      "image/png": "[encoded data removed]",
      "text/plain": [
       "plot without title"
      ]
     },
     "metadata": {},
     "output_type": "display_data"
    }
   ],
   "source": [
    "barplot(table(trimestre))"
   ]
  },
  {
   "cell_type": "markdown",
   "metadata": {},
   "source": [
    "-----\n",
    "\n",
    "Provo a creare una qualche tabella bivariata."
   ]
  },
  {
   "cell_type": "code",
   "execution_count": 13,
   "metadata": {},
   "outputs": [],
   "source": [
    "pavimentazione <- factor(pavimentazione)\n",
    "levels(pavimentazione) <- c(\"good\", \"bad\", \"non-pav\")"
   ]
  },
  {
   "cell_type": "markdown",
   "metadata": {},
   "source": [
    "Provo a fare una nuova variabile per la localizzazione degli incidenti, nella quale distinguo solamente tra _urbana_, _extraurbana_ e _autostrada_. In questo modo si dovrebbe vedere meglio dove si ha una maggiore incidenza del fondo stradale messo male."
   ]
  },
  {
   "cell_type": "code",
   "execution_count": 14,
   "metadata": {},
   "outputs": [],
   "source": [
    "new_localizzazione_incidente = array(10, length(localizzazione_incidente))"
   ]
  },
  {
   "cell_type": "code",
   "execution_count": 15,
   "metadata": {},
   "outputs": [],
   "source": [
    "for(i in 1:length(localizzazione_incidente))\n",
    "{\n",
    "\n",
    "    if(localizzazione_incidente[i] == 0 || localizzazione_incidente[i] == 1 || localizzazione_incidente[i] == 2 || localizzazione_incidente[i] == 3)    \n",
    "    {\n",
    "        new_localizzazione_incidente[i] = 0\n",
    "\n",
    "    }\n",
    "    if(localizzazione_incidente[i] == 4 || localizzazione_incidente[i] == 5 || localizzazione_incidente[i] == 6 || localizzazione_incidente[i] == 9)    \n",
    "    {\n",
    "        new_localizzazione_incidente[i] = 1\n",
    "    }\n",
    "    if(localizzazione_incidente[i] == 7)\n",
    "    {\n",
    "        new_localizzazione_incidente[i] = 2\n",
    "    }\n",
    "    \n",
    "}"
   ]
  },
  {
   "cell_type": "markdown",
   "metadata": {},
   "source": [
    "Controllo che effettivamente il numero di strade scartate coincida con quelle non considerate (ovvero `altro`)."
   ]
  },
  {
   "cell_type": "code",
   "execution_count": 16,
   "metadata": {},
   "outputs": [
    {
     "data": {
      "text/html": [
       "TRUE"
      ],
      "text/latex": [
       "TRUE"
      ],
      "text/markdown": [
       "TRUE"
      ],
      "text/plain": [
       "[1] TRUE"
      ]
     },
     "metadata": {},
     "output_type": "display_data"
    }
   ],
   "source": [
    "length(which(new_localizzazione_incidente == 10)) == length(which(localizzazione_incidente==8))"
   ]
  },
  {
   "cell_type": "code",
   "execution_count": 17,
   "metadata": {},
   "outputs": [
    {
     "data": {
      "image/png": "[encoded data removed]",
      "text/plain": [
       "plot without title"
      ]
     },
     "metadata": {},
     "output_type": "display_data"
    }
   ],
   "source": [
    "barplot(table(new_localizzazione_incidente))"
   ]
  },
  {
   "cell_type": "code",
   "execution_count": 18,
   "metadata": {},
   "outputs": [
    {
     "data": {
      "text/plain": [
       "              new_localizzazione_incidente\n",
       "pavimentazione     0     1     2    10\n",
       "       good    14908  3853  1024    85\n",
       "       bad        54    30     1     2\n",
       "       non-pav    20    15     0     8"
      ]
     },
     "metadata": {},
     "output_type": "display_data"
    }
   ],
   "source": [
    "tabella_pav_tipo_strada <- table(pavimentazione, new_localizzazione_incidente)\n",
    "tabella_pav_tipo_strada"
   ]
  },
  {
   "cell_type": "code",
   "execution_count": 19,
   "metadata": {
    "scrolled": true
   },
   "outputs": [
    {
     "data": {
      "text/plain": [
       "pavimentazione\n",
       "   good     bad non-pav \n",
       "  19870      87      43 "
      ]
     },
     "metadata": {},
     "output_type": "display_data"
    }
   ],
   "source": [
    "table(pavimentazione)"
   ]
  },
  {
   "cell_type": "markdown",
   "metadata": {},
   "source": [
    "**Considerazioni**: il numero di strade segnate come sdrucciolevoli è talmente basso da non rendere possibile un'analisi. Mi sembra comunque strano che sia così basso - bisognerebbe guardare esattamente alla definizione."
   ]
  },
  {
   "cell_type": "code",
   "execution_count": 20,
   "metadata": {},
   "outputs": [],
   "source": [
    "new_localizzazione_incidente <- factor(new_localizzazione_incidente)\n",
    "levels(new_localizzazione_incidente) <- c(\"urbana\", \"extraurbana\", \"autostrada\", \"altro\")"
   ]
  },
  {
   "cell_type": "code",
   "execution_count": 21,
   "metadata": {},
   "outputs": [],
   "source": [
    "fondo_stradale <- factor(fondo_stradale)\n",
    "levels(fondo_stradale) <- c(\"asciutto\", \"bagnato\", \"sdrucciolevole\", \"ghiacciato\", \"innevato\")"
   ]
  },
  {
   "cell_type": "code",
   "execution_count": 22,
   "metadata": {},
   "outputs": [
    {
     "data": {
      "text/plain": [
       "                new_localizzazione_incidente\n",
       "fondo_stradale   urbana extraurbana autostrada altro\n",
       "  asciutto        13169        3202        868    78\n",
       "  bagnato          1639         588        144    12\n",
       "  sdrucciolevole    116          46          5     3\n",
       "  ghiacciato         41          47          8     2\n",
       "  innevato           17          15          0     0"
      ]
     },
     "metadata": {},
     "output_type": "display_data"
    }
   ],
   "source": [
    "tabella_fondo_tipo_strada <- table(fondo_stradale, new_localizzazione_incidente)\n",
    "tabella_fondo_tipo_strada"
   ]
  },
  {
   "cell_type": "code",
   "execution_count": 23,
   "metadata": {},
   "outputs": [],
   "source": [
    "tot_incidenti_urbani = sum(tabella_fondo_tipo_strada[,1])\n",
    "tot_incidenti_extra_urbani = sum(tabella_fondo_tipo_strada[,2])\n",
    "tot_incidenti_autostrada = sum(tabella_fondo_tipo_strada[,3])"
   ]
  },
  {
   "cell_type": "code",
   "execution_count": 24,
   "metadata": {},
   "outputs": [],
   "source": [
    "prob_incidente = array(666, dim=c(nrow(tabella_fondo_tipo_strada), ncol(tabella_fondo_tipo_strada),3))"
   ]
  },
  {
   "cell_type": "raw",
   "metadata": {},
   "source": [
    "prob_incidente[1,,1] = \"urbana\"\n",
    "prob_incidente[2,,1] = \"extraurbana\"\n",
    "prob_incidente[3,,1] = \"autostrada\"\n",
    "prob_incidente[4,,1] = \"altro\"\n",
    "\n",
    "prob_incidente[,1,2] = \"asciutto\"\n",
    "prob_incidente[,2,2] = \"bagnato\"\n",
    "prob_incidente[,3,2] = \"sdrucciolevole\"\n",
    "prob_incidente[,4,2] = \"ghiacciato\"\n",
    "prob_incidente[,5,2] = \"innevato\""
   ]
  },
  {
   "cell_type": "code",
   "execution_count": 25,
   "metadata": {},
   "outputs": [
    {
     "name": "stdout",
     "output_type": "stream",
     "text": [
      "Probabilità incidente per fondo bagnato in strada urbana 10.93 %\n",
      "Probabilità incidente per fondo ghiacciato in strada urbana 0.27 %"
     ]
    }
   ],
   "source": [
    "prob_incidente_per_acqua_urbano = tabella_fondo_tipo_strada[2]/tot_incidenti_urbani\n",
    "cat(\"Probabilità incidente per fondo bagnato in strada urbana\", as.integer(prob_incidente_per_acqua_urbano*10000)/100, \"%\\n\")\n",
    "\n",
    "prob_incidente_per_ghiacciato_urbano = tabella_fondo_tipo_strada[4]/tot_incidenti_urbani\n",
    "cat(\"Probabilità incidente per fondo ghiacciato in strada urbana\", as.integer(prob_incidente_per_ghiacciato_urbano*10000)/100, \"%\")"
   ]
  },
  {
   "cell_type": "code",
   "execution_count": 26,
   "metadata": {},
   "outputs": [
    {
     "name": "stdout",
     "output_type": "stream",
     "text": [
      "Probabilità incidente per fondo bagnato in strada extra urbana 15.08 %\n",
      "Probabilità incidente per fondo ghiacciato in strada extra urbana 1.2 %"
     ]
    }
   ],
   "source": [
    "prob_incidente_per_acqua_extra_urbano = tabella_fondo_tipo_strada[2,2]/tot_incidenti_extra_urbani\n",
    "cat(\"Probabilità incidente per fondo bagnato in strada extra urbana\", as.integer(prob_incidente_per_acqua_extra_urbano*10000)/100, \"%\\n\")\n",
    "\n",
    "prob_incidente_per_ghiacciato_extra_urbano = tabella_fondo_tipo_strada[4,2]/tot_incidenti_extra_urbani\n",
    "cat(\"Probabilità incidente per fondo ghiacciato in strada extra urbana\", as.integer(prob_incidente_per_ghiacciato_extra_urbano*10000)/100, \"%\")"
   ]
  },
  {
   "cell_type": "markdown",
   "metadata": {},
   "source": [
    "Quello che si dovrebbe ora calcolare è di andare a vedere se effettivamente questi due fenomeno sono dovuti abbastanza diversi. Ovvero devo fare un qualche test di confronto, e.g. chi-quadro. \n",
    "\n",
    "Ci ritorno quando sarò in grado di farlo.\n",
    "\n",
    "Sarebbe carino mettere un plot in 3 dimensioni per mostrare le tabelle bivariate che sono state prodotte sopra.\n",
    "\n",
    "Calcolo gli intervalli di confidenza per le probabilità calcolate sopra."
   ]
  },
  {
   "cell_type": "markdown",
   "metadata": {},
   "source": [
    "---- \n",
    "### Confidence Intervals\n",
    "\n",
    "Con un confidence level del 95%, l'intervallo di probabilità per i vari tipi di incidente è"
   ]
  },
  {
   "cell_type": "code",
   "execution_count": 27,
   "metadata": {},
   "outputs": [],
   "source": [
    "confidence_level = 0.99"
   ]
  },
  {
   "cell_type": "code",
   "execution_count": 28,
   "metadata": {},
   "outputs": [
    {
     "name": "stdout",
     "output_type": "stream",
     "text": [
      "Intervallo di confidenza al 99 % per incidenti su fondo bagnato in strada urbana:( 10.93 ± 0.56 )%"
     ]
    }
   ],
   "source": [
    "confidence_interval_acqua_urbano =  qnorm(confidence_level+(1-confidence_level)/2) * sqrt(prob_incidente_per_acqua_urbano*(1-prob_incidente_per_acqua_urbano)/SAMPLE_SIZE)\n",
    "\n",
    "cat(\"Intervallo di confidenza al\", confidence_level*100,\"% per incidenti su fondo bagnato in strada urbana:(\", \n",
    "      as.integer(prob_incidente_per_acqua_urbano*10000)/100,\"±\",\n",
    "        as.integer(confidence_interval_acqua_urbano*10000)/100,\")%\")"
   ]
  },
  {
   "cell_type": "markdown",
   "metadata": {},
   "source": [
    "**Nota importante** La funzione `qnorm` rimanda solamente l'inverso dell'integrale sotto la Gaussiana (ovvero il valore $Z$ associato a un certo quantile) per una coda. Ovvero, per avere uno $Z$ associato a un calcolo di intervallo, come quello che dobbiamo fare, dobbiamo fare considerazioni algebriche.\n",
    "\n",
    "In particolare, se noi vogliamo il 95% su due cose, su una coda questo corrisponde a richiedere il 97.5% (infatti, le due code sono entrambe del 2.5%; ovvero aggiungo questo valore per vedere dove arrivo a \"destra\")."
   ]
  },
  {
   "cell_type": "markdown",
   "metadata": {},
   "source": [
    "-----\n",
    "### Analisi autostradale\n",
    "\n",
    "Per prima cosa vado a selezionare, all'interno del mio campione, solamente i dati relativi ad autostrada.\n",
    "\n",
    "**nota**: Tra le autostrade, configurano anche delle denominazioni tipo `R03`: sono riferiti a dei pezzi di raccordo. Cercando velocemente online si chiarisce facilmente.\n",
    "\n",
    "La funzione `droplevels` serve per escludere tutti i livelli non utilizzati, i.e. i nomi delle strade normali."
   ]
  },
  {
   "cell_type": "code",
   "execution_count": 29,
   "metadata": {},
   "outputs": [],
   "source": [
    "incidenti_in_autostrada = sample_data[which(new_localizzazione_incidente==\"autostrada\"),]"
   ]
  },
  {
   "cell_type": "code",
   "execution_count": 30,
   "metadata": {},
   "outputs": [],
   "source": [
    "tabella_incidenti_in_autostrada = table(droplevels(incidenti_in_autostrada$denominazione_della_strada))"
   ]
  },
  {
   "cell_type": "code",
   "execution_count": 31,
   "metadata": {
    "scrolled": false
   },
   "outputs": [
    {
     "data": {
      "image/png": "[encoded data removed]",
      "text/plain": [
       "Plot with title “Incidenti nelle autostrade in Italia”"
      ]
     },
     "metadata": {},
     "output_type": "display_data"
    }
   ],
   "source": [
    "barplot(tabella_incidenti_in_autostrada/nrow(incidenti_in_autostrada)*100, ylab='Frequenza percentuale', xlab='Denominazione autostrada', \n",
    "        main='Incidenti nelle autostrade in Italia')"
   ]
  },
  {
   "cell_type": "markdown",
   "metadata": {},
   "source": [
    "**Moda** degli incidenti in autostrada."
   ]
  },
  {
   "cell_type": "code",
   "execution_count": 32,
   "metadata": {},
   "outputs": [],
   "source": [
    "tabella_incidenti_in_autostrada.percfreq = tabella_incidenti_in_autostrada/nrow(incidenti_in_autostrada)*100\n",
    "tabella_incidenti_in_autostrada.mode = which(tabella_incidenti_in_autostrada.percfreq==max(tabella_incidenti_in_autostrada.percfreq))"
   ]
  },
  {
   "cell_type": "code",
   "execution_count": 33,
   "metadata": {},
   "outputs": [
    {
     "name": "stdout",
     "output_type": "stream",
     "text": [
      "L'autostrada con più incidenti in Italia nel 2017 è la A01"
     ]
    }
   ],
   "source": [
    "cat(\"L'autostrada con più incidenti in Italia nel 2017 è la\", names(tabella_incidenti_in_autostrada.mode))"
   ]
  },
  {
   "cell_type": "markdown",
   "metadata": {},
   "source": [
    "Sono riuscito a trovare come poter collegare il nome dell'autostrada. Online sono inoltre presenti i dati geografici (si chiamano _shapefile_) relativi alle autostrade. Penso che, una volta capito quello che si deve fare, non sia difficile riportare questi dati su una mappa geografica.\n",
    "\n",
    "Servono ovviamente le apposite mappe."
   ]
  },
  {
   "cell_type": "markdown",
   "metadata": {},
   "source": [
    "### Sesso nel numero di incidenti.\n",
    "\n",
    "Provo a fare una veloce analisi per vedere se ci sono più incidenti quando sono presenti donne o meno."
   ]
  },
  {
   "cell_type": "code",
   "execution_count": null,
   "metadata": {},
   "outputs": [],
   "source": []
  },
  {
   "cell_type": "code",
   "execution_count": 34,
   "metadata": {},
   "outputs": [],
   "source": [
    "# Sostituisco i Nan con dei 3\n",
    "veicolo__a___sesso_conducente[is.na(veicolo__a___sesso_conducente)] <- 3"
   ]
  },
  {
   "cell_type": "code",
   "execution_count": 35,
   "metadata": {},
   "outputs": [],
   "source": [
    "veicolo__a___sesso_conducente <- factor(veicolo__a___sesso_conducente)\n",
    "levels(veicolo__a___sesso_conducente) <- c(\"Maschio\", \"Femmina\",\"Sconosciuto\")"
   ]
  },
  {
   "cell_type": "code",
   "execution_count": 36,
   "metadata": {},
   "outputs": [
    {
     "data": {
      "text/plain": [
       "veicolo__a___sesso_conducente\n",
       "    Maschio     Femmina Sconosciuto \n",
       "      14596        5284         120 "
      ]
     },
     "metadata": {},
     "output_type": "display_data"
    }
   ],
   "source": [
    "tabella_veicolo__a__sesso_conducente = table(veicolo__a___sesso_conducente)\n",
    "tabella_veicolo__a__sesso_conducente"
   ]
  },
  {
   "cell_type": "code",
   "execution_count": 37,
   "metadata": {},
   "outputs": [],
   "source": [
    "# Calcolo frequenze\n",
    "tabella_veicolo__a__sesso_conducente.relfreq <- tabella_veicolo__a__sesso_conducente/length(veicolo__a___sesso_conducente)\n",
    "tabella_veicolo__a__sesso_conducente.percfreq <- tabella_veicolo__a__sesso_conducente.relfreq*100"
   ]
  },
  {
   "cell_type": "code",
   "execution_count": 38,
   "metadata": {
    "scrolled": false
   },
   "outputs": [
    {
     "data": {
      "image/png": "[encoded data removed]",
      "text/plain": [
       "Plot with title “Sesso del primo conducente negli incidenti in Italia nel 2017”"
      ]
     },
     "metadata": {},
     "output_type": "display_data"
    }
   ],
   "source": [
    "barplot(tabella_veicolo__a__sesso_conducente.percfreq, xlab='Sesso', ylab='Frequenza percentuale', main='Sesso del primo conducente negli incidenti in Italia nel 2017')"
   ]
  },
  {
   "cell_type": "code",
   "execution_count": 39,
   "metadata": {},
   "outputs": [],
   "source": [
    "# Sostituisco i Nan con dei 3\n",
    "veicolo__b___sesso_conducente[is.na(veicolo__b___sesso_conducente)] <- 3"
   ]
  },
  {
   "cell_type": "code",
   "execution_count": 40,
   "metadata": {},
   "outputs": [],
   "source": [
    "veicolo__b___sesso_conducente <- factor(veicolo__b___sesso_conducente)\n",
    "levels(veicolo__b___sesso_conducente) <- c(\"Maschio\", \"Femmina\", \"Sconosciuto\")"
   ]
  },
  {
   "cell_type": "code",
   "execution_count": 41,
   "metadata": {},
   "outputs": [
    {
     "data": {
      "text/plain": [
       "veicolo__b___sesso_conducente\n",
       "    Maschio     Femmina Sconosciuto \n",
       "      10614        3657        5729 "
      ]
     },
     "metadata": {},
     "output_type": "display_data"
    }
   ],
   "source": [
    "tabella_veicolo__b__sesso_conducente = table(veicolo__b___sesso_conducente)\n",
    "tabella_veicolo__b__sesso_conducente"
   ]
  },
  {
   "cell_type": "code",
   "execution_count": 42,
   "metadata": {},
   "outputs": [],
   "source": [
    "# Calcolo frequenze\n",
    "tabella_veicolo__b__sesso_conducente.relfreq <- tabella_veicolo__b__sesso_conducente/length(veicolo__b___sesso_conducente)\n",
    "tabella_veicolo__b__sesso_conducente.percfreq <- tabella_veicolo__b__sesso_conducente.relfreq*100"
   ]
  },
  {
   "cell_type": "code",
   "execution_count": 43,
   "metadata": {
    "scrolled": false
   },
   "outputs": [
    {
     "data": {
      "image/png": "[encoded data removed]",
      "text/plain": [
       "Plot with title “Sesso del secondo conducente negli incidenti in Italia nel 2017”"
      ]
     },
     "metadata": {},
     "output_type": "display_data"
    }
   ],
   "source": [
    "barplot(tabella_veicolo__b__sesso_conducente.percfreq, xlab='Sesso', ylab='Frequenza percentuale',\n",
    "        main='Sesso del secondo conducente negli incidenti in Italia nel 2017')"
   ]
  },
  {
   "cell_type": "markdown",
   "metadata": {},
   "source": [
    "Vado a prendere tutti quegli incidenti in cui si ha che è presente una donna come conducente, o sul primo o sul secondo veicolo."
   ]
  },
  {
   "cell_type": "code",
   "execution_count": 44,
   "metadata": {},
   "outputs": [],
   "source": [
    "incidenti_con_almeno_una_donna = sample_data[which(veicolo__a___sesso_conducente==\"Femmina\" | veicolo__b___sesso_conducente==\"Femmina\"),]"
   ]
  },
  {
   "cell_type": "code",
   "execution_count": 45,
   "metadata": {},
   "outputs": [
    {
     "data": {
      "text/html": [
       "7806"
      ],
      "text/latex": [
       "7806"
      ],
      "text/markdown": [
       "7806"
      ],
      "text/plain": [
       "[1] 7806"
      ]
     },
     "metadata": {},
     "output_type": "display_data"
    }
   ],
   "source": [
    "nrow(incidenti_con_almeno_una_donna)"
   ]
  },
  {
   "cell_type": "code",
   "execution_count": 46,
   "metadata": {},
   "outputs": [],
   "source": [
    "incidenti_con_almeno_un_uomo = sample_data[which(veicolo__a___sesso_conducente==\"Maschio\" |  veicolo__b___sesso_conducente==\"Maschio\"),]"
   ]
  },
  {
   "cell_type": "code",
   "execution_count": 47,
   "metadata": {},
   "outputs": [],
   "source": [
    "incidenti_con_solo_uomo = sample_data[which(veicolo__a___sesso_conducente==\"Maschio\" & veicolo__b___sesso_conducente==\"Maschio\"),]"
   ]
  },
  {
   "cell_type": "code",
   "execution_count": 48,
   "metadata": {},
   "outputs": [
    {
     "data": {
      "text/html": [
       "7886"
      ],
      "text/latex": [
       "7886"
      ],
      "text/markdown": [
       "7886"
      ],
      "text/plain": [
       "[1] 7886"
      ]
     },
     "metadata": {},
     "output_type": "display_data"
    }
   ],
   "source": [
    "nrow(incidenti_con_solo_uomo)"
   ]
  },
  {
   "cell_type": "code",
   "execution_count": 49,
   "metadata": {},
   "outputs": [],
   "source": [
    "incidenti_uomo_donna_confronto = as.table(c(nrow(incidenti_con_almeno_una_donna),nrow(incidenti_con_solo_uomo)))"
   ]
  },
  {
   "cell_type": "code",
   "execution_count": 50,
   "metadata": {},
   "outputs": [],
   "source": [
    "rownames(incidenti_uomo_donna_confronto) = c(\"Almeno una donna\", \"Solo uomini\")"
   ]
  },
  {
   "cell_type": "code",
   "execution_count": 51,
   "metadata": {},
   "outputs": [
    {
     "data": {
      "image/png": "[encoded data removed]",
      "text/plain": [
       "Plot with title “Incidenti con e senza presenza di donne”"
      ]
     },
     "metadata": {},
     "output_type": "display_data"
    }
   ],
   "source": [
    "incidenti_uomo_donna_confronto.percfreq <- as.numeric(as.character(as.integer(incidenti_uomo_donna_confronto/(incidenti_uomo_donna_confronto[1]+incidenti_uomo_donna_confronto[2])*10000)/100))\n",
    "ylim <- c(0, 1.1*max(incidenti_uomo_donna_confronto.percfreq))\n",
    "xx <- barplot(incidenti_uomo_donna_confronto.percfreq, xaxt = 'n', xlab = '', width = 0.85, ylim = ylim,\n",
    "              main = \"Incidenti con e senza presenza di donne\", \n",
    "              ylab = \"Frequenza percentuale\")\n",
    "text(x = xx, y = incidenti_uomo_donna_confronto.percfreq,\n",
    "     label = incidenti_uomo_donna_confronto.percfreq,\n",
    "     pos = 3, cex = 0.8, col = \"red\")\n",
    "axis(1, at=xx, labels=c(\"Almeno una donna\", \"Solo uomini\"), tick=FALSE, las=1, line=-0.5, cex.axis=0.8)"
   ]
  },
  {
   "cell_type": "markdown",
   "metadata": {},
   "source": [
    "Provo a fare un rapporto tra le frequenze di queste tabelle e il numero di patentati per sesso.\n",
    "\n",
    "Carico qua sotto le informazioni su tutte le patenti presenti in Italia, divise per regioni.\n",
    "\n",
    "**Info** Ci mette l'eternità ad aprire tutti questi file."
   ]
  },
  {
   "cell_type": "code",
   "execution_count": 52,
   "metadata": {},
   "outputs": [],
   "source": [
    "patenti_Abruzzo <- read.csv(\"dataset/informazioni_patenti_per_regione/patenti_Abruzzo.csv\", sep=',')"
   ]
  },
  {
   "cell_type": "code",
   "execution_count": 53,
   "metadata": {},
   "outputs": [],
   "source": [
    "patenti_Basilicata <- read.csv(\"dataset/informazioni_patenti_per_regione/patenti_Basilicata.csv\", sep=',')"
   ]
  },
  {
   "cell_type": "code",
   "execution_count": 54,
   "metadata": {},
   "outputs": [],
   "source": [
    "patenti_Calabria <- read.csv(\"dataset/informazioni_patenti_per_regione/patenti_Calabria.csv\", sep=',')"
   ]
  },
  {
   "cell_type": "code",
   "execution_count": 55,
   "metadata": {},
   "outputs": [],
   "source": [
    "patenti_Campania <- read.csv(\"dataset/informazioni_patenti_per_regione/patenti_Campania.csv\", sep=',')"
   ]
  },
  {
   "cell_type": "code",
   "execution_count": 56,
   "metadata": {},
   "outputs": [],
   "source": [
    "patenti_EmiliaRomagna <- read.csv(\"dataset/informazioni_patenti_per_regione/patenti_EmiliaRomagna.csv\", sep=',')"
   ]
  },
  {
   "cell_type": "code",
   "execution_count": 57,
   "metadata": {},
   "outputs": [],
   "source": [
    "patenti_FriuliVeneziaGiulia <- read.csv(\"dataset/informazioni_patenti_per_regione/patenti_FriuliVeneziaGiulia.csv\", sep=',')"
   ]
  },
  {
   "cell_type": "code",
   "execution_count": 58,
   "metadata": {},
   "outputs": [],
   "source": [
    "patenti_Lazio <- read.csv(\"dataset/informazioni_patenti_per_regione/patenti_Lazio.csv\", sep=',')"
   ]
  },
  {
   "cell_type": "code",
   "execution_count": 60,
   "metadata": {},
   "outputs": [],
   "source": [
    "patenti_Liguria <- read.csv(\"dataset/informazioni_patenti_per_regione/patenti_Liguria.csv\", sep=',')"
   ]
  },
  {
   "cell_type": "code",
   "execution_count": 61,
   "metadata": {},
   "outputs": [],
   "source": [
    "patenti_Liguria <- read.csv(\"dataset/informazioni_patenti_per_regione/patenti_Liguria.csv\", sep=',')"
   ]
  },
  {
   "cell_type": "code",
   "execution_count": 62,
   "metadata": {},
   "outputs": [],
   "source": [
    "patenti_Lombardia <- read.csv(\"dataset/informazioni_patenti_per_regione/patenti_Lombardia.csv\", sep=',')"
   ]
  },
  {
   "cell_type": "code",
   "execution_count": 63,
   "metadata": {},
   "outputs": [],
   "source": [
    "patenti_Marche <- read.csv(\"dataset/informazioni_patenti_per_regione/patenti_Marche.csv\", sep=',')"
   ]
  },
  {
   "cell_type": "code",
   "execution_count": 64,
   "metadata": {},
   "outputs": [],
   "source": [
    "patenti_Molise <- read.csv(\"dataset/informazioni_patenti_per_regione/patenti_Molise.csv\", sep=',')"
   ]
  },
  {
   "cell_type": "code",
   "execution_count": 65,
   "metadata": {},
   "outputs": [],
   "source": [
    "patenti_Piemonte <- read.csv(\"dataset/informazioni_patenti_per_regione/patenti_Piemonte.csv\", sep=',')"
   ]
  },
  {
   "cell_type": "code",
   "execution_count": 66,
   "metadata": {},
   "outputs": [],
   "source": [
    "patenti_Puglia <- read.csv(\"dataset/informazioni_patenti_per_regione/patenti_Puglia.csv\", sep=',') "
   ]
  },
  {
   "cell_type": "code",
   "execution_count": 67,
   "metadata": {},
   "outputs": [],
   "source": [
    "patenti_Sardegna <- read.csv(\"dataset/informazioni_patenti_per_regione/patenti_Sardegna.csv\", sep=',') "
   ]
  },
  {
   "cell_type": "code",
   "execution_count": 68,
   "metadata": {},
   "outputs": [],
   "source": [
    "patenti_Sicilia <- read.csv(\"dataset/informazioni_patenti_per_regione/patenti_Sicilia.csv\", sep=',') "
   ]
  },
  {
   "cell_type": "code",
   "execution_count": 69,
   "metadata": {},
   "outputs": [],
   "source": [
    "patenti_Toscana <- read.csv(\"dataset/informazioni_patenti_per_regione/patenti_Toscana.csv\", sep=',') "
   ]
  },
  {
   "cell_type": "code",
   "execution_count": 70,
   "metadata": {},
   "outputs": [],
   "source": [
    "patenti_TrentinoAltoAdige <- read.csv(\"dataset/informazioni_patenti_per_regione/patenti_TrentinoAltoAdige.csv\", sep=',') "
   ]
  },
  {
   "cell_type": "code",
   "execution_count": 71,
   "metadata": {},
   "outputs": [],
   "source": [
    "patenti_Umbria <- read.csv(\"dataset/informazioni_patenti_per_regione/patenti_Umbria.csv\", sep=',') "
   ]
  },
  {
   "cell_type": "code",
   "execution_count": 72,
   "metadata": {},
   "outputs": [],
   "source": [
    "patenti_ValleAosta <- read.csv(\"dataset/informazioni_patenti_per_regione/patenti_ValleAosta.csv\", sep=',') "
   ]
  },
  {
   "cell_type": "code",
   "execution_count": 73,
   "metadata": {},
   "outputs": [],
   "source": [
    "patenti_Veneto <- read.csv(\"dataset/informazioni_patenti_per_regione/patenti_Veneto.csv\", sep=',') "
   ]
  },
  {
   "cell_type": "code",
   "execution_count": 87,
   "metadata": {},
   "outputs": [
    {
     "data": {
      "text/html": [
       "17157632"
      ],
      "text/latex": [
       "17157632"
      ],
      "text/markdown": [
       "17157632"
      ],
      "text/plain": [
       "[1] 17157632"
      ]
     },
     "metadata": {},
     "output_type": "display_data"
    }
   ],
   "source": [
    "patenti_femmine = length(which(patenti_Abruzzo$sesso==\"F\")) + length(which(patenti_Basilicata$sesso==\"F\")) + length(which(patenti_Calabria$sesso==\"F\")) + length(which(patenti_Campania$sesso==\"F\")) + length(which(patenti_EmiliaRomagna$sesso==\"F\")) + length(which(patenti_FriuliVeneziaGiulia$sesso==\"F\")) + length(which(patenti_Lazio$sesso==\"F\")) + length(which(patenti_Liguria$sesso==\"F\")) + length(which(patenti_Lombardia$sesso==\"F\")) + length(which(patenti_Marche$sesso==\"F\")) + length(which(patenti_Molise$sesso==\"F\")) + length(which(patenti_Piemonte$sesso==\"F\")) + length(which(patenti_Puglia$sesso==\"F\")) + length(which(patenti_Sardegna$sesso==\"F\")) + length(which(patenti_Sicilia$sesso==\"F\")) + length(which(patenti_Toscana$sesso==\"F\")) + length(which(patenti_TrentinoAltoAdige$sesso==\"F\")) + length(which(patenti_Umbria$sesso==\"F\")) + length(which(patenti_ValleAosta$sesso==\"F\")) + length(which(patenti_Veneto$sesso==\"F\"))\n",
    "patenti_femmine "
   ]
  },
  {
   "cell_type": "code",
   "execution_count": 91,
   "metadata": {},
   "outputs": [
    {
     "data": {
      "text/html": [
       "21536167"
      ],
      "text/latex": [
       "21536167"
      ],
      "text/markdown": [
       "21536167"
      ],
      "text/plain": [
       "[1] 21536167"
      ]
     },
     "metadata": {},
     "output_type": "display_data"
    }
   ],
   "source": [
    "patenti_maschi = length(which(patenti_Abruzzo$sesso==\"M\")) + length(which(patenti_Basilicata$sesso==\"M\")) + length(which(patenti_Calabria$sesso==\"M\")) + length(which(patenti_Campania$sesso==\"M\")) + length(which(patenti_EmiliaRomagna$sesso==\"M\")) + length(which(patenti_FriuliVeneziaGiulia$sesso==\"M\")) + length(which(patenti_Lazio$sesso==\"M\")) + length(which(patenti_Liguria$sesso==\"M\")) + length(which(patenti_Lombardia$sesso==\"M\")) + length(which(patenti_Marche$sesso==\"M\")) + length(which(patenti_Molise$sesso==\"M\")) + length(which(patenti_Piemonte$sesso==\"M\")) + length(which(patenti_Puglia$sesso==\"M\")) + length(which(patenti_Sardegna$sesso==\"M\")) + length(which(patenti_Sicilia$sesso==\"M\")) + length(which(patenti_Toscana$sesso==\"M\")) + length(which(patenti_TrentinoAltoAdige$sesso==\"M\")) + length(which(patenti_Umbria$sesso==\"M\")) + length(which(patenti_ValleAosta$sesso==\"M\")) + length(which(patenti_Veneto$sesso==\"M\"))\n",
    "patenti_maschi"
   ]
  },
  {
   "cell_type": "code",
   "execution_count": 92,
   "metadata": {},
   "outputs": [],
   "source": [
    "tabella_patenti = as.table(c(patenti_maschi,patenti_femmine))"
   ]
  },
  {
   "cell_type": "code",
   "execution_count": 93,
   "metadata": {},
   "outputs": [],
   "source": [
    "rownames(tabella_patenti) = c(\"Maschi\", \"Femmine\")"
   ]
  },
  {
   "cell_type": "code",
   "execution_count": 94,
   "metadata": {},
   "outputs": [
    {
     "data": {
      "image/png": "[encoded data removed]",
      "text/plain": [
       "Plot with title “Patenti in Italia per sesso”"
      ]
     },
     "metadata": {},
     "output_type": "display_data"
    }
   ],
   "source": [
    "tabella_patenti.percfreq <- as.numeric(as.character(as.integer(tabella_patenti/(tabella_patenti[1]+tabella_patenti[2])*10000)/100))\n",
    "ylim <- c(0, 1.1*max(tabella_patenti.percfreq))\n",
    "xx <- barplot(tabella_patenti.percfreq, xaxt = 'n', xlab = '', width = 0.85, ylim = ylim,\n",
    "              main = \"Patenti in Italia per sesso\", \n",
    "              ylab = \"Frequenza percentuale\")\n",
    "text(x = xx, y = tabella_patenti.percfreq,\n",
    "     label = tabella_patenti.percfreq,\n",
    "     pos = 3, cex = 0.8, col = \"red\")\n",
    "axis(1, at=xx, labels=c(\"Maschi\", \"Femmine\"), tick=FALSE, las=1, line=-0.5, cex.axis=0.8)"
   ]
  },
  {
   "cell_type": "markdown",
   "metadata": {},
   "source": [
    "Non sono sicuro che l'analisi sia giusta, ma qua sotto metto il risultato del mio obiettivo, ovvero il rapporto tra gli incidenti con donne e uomini e il numero di guidatori in Italia."
   ]
  },
  {
   "cell_type": "code",
   "execution_count": 96,
   "metadata": {},
   "outputs": [
    {
     "data": {
      "text/html": [
       "4.5495788696249"
      ],
      "text/latex": [
       "4.5495788696249"
      ],
      "text/markdown": [
       "4.5495788696249"
      ],
      "text/plain": [
       "[1] 4.549579"
      ]
     },
     "metadata": {},
     "output_type": "display_data"
    }
   ],
   "source": [
    "rapporto_incidenti_patenti_femmine = nrow(incidenti_con_almeno_una_donna) / patenti_femmine * 10000\n",
    "rapporto_incidenti_patenti_femmine"
   ]
  },
  {
   "cell_type": "code",
   "execution_count": 97,
   "metadata": {},
   "outputs": [
    {
     "data": {
      "text/html": [
       "3.66174723663686"
      ],
      "text/latex": [
       "3.66174723663686"
      ],
      "text/markdown": [
       "3.66174723663686"
      ],
      "text/plain": [
       "[1] 3.661747"
      ]
     },
     "metadata": {},
     "output_type": "display_data"
    }
   ],
   "source": [
    "rapporto_incidenti_patenti_solo_maschi = nrow(incidenti_con_solo_uomo) / patenti_maschi * 10000\n",
    "rapporto_incidenti_patenti_solo_maschi"
   ]
  },
  {
   "cell_type": "code",
   "execution_count": 98,
   "metadata": {},
   "outputs": [
    {
     "data": {
      "text/html": [
       "8.04414267404223"
      ],
      "text/latex": [
       "8.04414267404223"
      ],
      "text/markdown": [
       "8.04414267404223"
      ],
      "text/plain": [
       "[1] 8.044143"
      ]
     },
     "metadata": {},
     "output_type": "display_data"
    }
   ],
   "source": [
    "rapporto_incidenti_patenti_almeno_maschi = nrow(incidenti_con_almeno_un_uomo) / patenti_maschi * 10000\n",
    "rapporto_incidenti_patenti_almeno_maschi"
   ]
  },
  {
   "cell_type": "code",
   "execution_count": null,
   "metadata": {},
   "outputs": [],
   "source": []
  }
 ],
 "metadata": {
  "kernelspec": {
   "display_name": "R",
   "language": "R",
   "name": "ir"
  },
  "language_info": {
   "codemirror_mode": "r",
   "file_extension": ".r",
   "mimetype": "text/x-r-source",
   "name": "R",
   "pygments_lexer": "r",
   "version": "3.6.1"
  }
 },
 "nbformat": 4,
 "nbformat_minor": 2
}
